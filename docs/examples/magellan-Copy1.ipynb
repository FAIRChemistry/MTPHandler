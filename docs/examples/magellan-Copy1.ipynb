{
 "cells": [
  {
   "cell_type": "code",
   "execution_count": 1,
   "metadata": {},
   "outputs": [],
   "source": [
    "%reload_ext autoreload\n",
    "%autoreload 2\n",
    "\n",
    "from MTPHandler import PlateManager\n",
    "from MTPHandler.units import mM\n",
    "from MTPHandler.ioutils.calipytion import _get_standard_wells, map_to_standard"
   ]
  },
  {
   "cell_type": "code",
   "execution_count": 4,
   "metadata": {},
   "outputs": [],
   "source": [
    "# Define measurement conditions\n",
    "ph = 3\n",
    "wavelength = 420\n",
    "path = \"../../tests/data/magellan.xlsx\"\n",
    "\n",
    "# Create a Plate object\n",
    "pm = PlateManager.read_magellan(path=path, ph=ph, wavelength=wavelength)"
   ]
  },
  {
   "cell_type": "code",
   "execution_count": 7,
   "metadata": {},
   "outputs": [
    {
     "data": {
      "application/vnd.plotly.v1+json": {
       "config": {
        "plotlyServerURL": "https://plot.ly"
       },
       "data": [
        {
         "hovertemplate": "%{y:.2f}<br>",
         "line": {
          "color": "#636EFA"
         },
         "mode": "lines",
         "name": "420.0 nm",
         "showlegend": false,
         "type": "scatter",
         "x": [
          0,
          900,
          1802,
          2700,
          3600,
          4502,
          5400
         ],
         "xaxis": "x4",
         "y": [
          2.7409,
          2.7371,
          2.7344,
          2.727,
          2.7222,
          2.7144,
          2.7063
         ],
         "yaxis": "y4"
        },
        {
         "hovertemplate": "%{y:.2f}<br>",
         "line": {
          "color": "#636EFA"
         },
         "mode": "lines",
         "name": "420.0 nm",
         "showlegend": false,
         "type": "scatter",
         "x": [
          0,
          900,
          1802,
          2700,
          3600,
          4502,
          5400
         ],
         "xaxis": "x5",
         "y": [
          -0.0645,
          -0.0622,
          -0.0618,
          -0.0642,
          -0.0658,
          -0.0646,
          -0.065
         ],
         "yaxis": "y5"
        },
        {
         "hovertemplate": "%{y:.2f}<br>",
         "line": {
          "color": "#636EFA"
         },
         "mode": "lines",
         "name": "420.0 nm",
         "showlegend": false,
         "type": "scatter",
         "x": [
          0,
          900,
          1802,
          2700,
          3600,
          4502,
          5400
         ],
         "xaxis": "x6",
         "y": [
          0.23,
          0.2294,
          0.2275,
          0.225,
          0.2211,
          0.2178,
          0.2165
         ],
         "yaxis": "y6"
        },
        {
         "hovertemplate": "%{y:.2f}<br>",
         "line": {
          "color": "#636EFA"
         },
         "mode": "lines",
         "name": "420.0 nm",
         "showlegend": false,
         "type": "scatter",
         "x": [
          0,
          900,
          1802,
          2700,
          3600,
          4502,
          5400
         ],
         "xaxis": "x7",
         "y": [
          1.2477,
          1.2472,
          1.2422,
          1.2361,
          1.232,
          1.2267,
          1.221
         ],
         "yaxis": "y7"
        },
        {
         "hovertemplate": "%{y:.2f}<br>",
         "line": {
          "color": "#636EFA"
         },
         "mode": "lines",
         "name": "420.0 nm",
         "showlegend": false,
         "type": "scatter",
         "x": [
          0,
          900,
          1802,
          2700,
          3600,
          4502,
          5400
         ],
         "xaxis": "x8",
         "y": [
          2.2356,
          2.2346,
          2.2302,
          2.2236,
          2.2176,
          2.2109,
          2.2048
         ],
         "yaxis": "y8"
        },
        {
         "hovertemplate": "%{y:.2f}<br>",
         "line": {
          "color": "#636EFA"
         },
         "mode": "lines",
         "name": "420.0 nm",
         "showlegend": false,
         "type": "scatter",
         "x": [
          0,
          900,
          1802,
          2700,
          3600,
          4502,
          5400
         ],
         "xaxis": "x9",
         "y": [
          3.1345,
          3.1269,
          3.1375,
          3.1251,
          3.1376,
          3.1238,
          3.1441
         ],
         "yaxis": "y9"
        },
        {
         "hovertemplate": "%{y:.2f}<br>",
         "line": {
          "color": "#636EFA"
         },
         "mode": "lines",
         "name": "420.0 nm",
         "showlegend": false,
         "type": "scatter",
         "x": [
          0,
          900,
          1802,
          2700,
          3600,
          4502,
          5400
         ],
         "xaxis": "x10",
         "y": [
          3.1628,
          3.1554,
          3.1636,
          3.1568,
          3.1663,
          3.1486,
          3.1577
         ],
         "yaxis": "y10"
        },
        {
         "hovertemplate": "%{y:.2f}<br>",
         "line": {
          "color": "#636EFA"
         },
         "mode": "lines",
         "name": "420.0 nm",
         "showlegend": false,
         "type": "scatter",
         "x": [
          0,
          900,
          1802,
          2700,
          3600,
          4502,
          5400
         ],
         "xaxis": "x11",
         "y": [
          3.1308,
          3.1247,
          3.1323,
          3.1239,
          3.1333,
          3.1221,
          3.1255
         ],
         "yaxis": "y11"
        },
        {
         "hovertemplate": "%{y:.2f}<br>",
         "line": {
          "color": "#636EFA"
         },
         "mode": "lines",
         "name": "420.0 nm",
         "showlegend": false,
         "type": "scatter",
         "x": [
          0,
          900,
          1802,
          2700,
          3600,
          4502,
          5400
         ],
         "xaxis": "x12",
         "y": [
          3.2064,
          3.1956,
          3.2051,
          3.2074,
          3.2031,
          3.1899,
          3.1997
         ],
         "yaxis": "y12"
        },
        {
         "hovertemplate": "%{y:.2f}<br>",
         "line": {
          "color": "#636EFA"
         },
         "mode": "lines",
         "name": "420.0 nm",
         "showlegend": false,
         "type": "scatter",
         "x": [
          0,
          900,
          1802,
          2700,
          3600,
          4502,
          5400
         ],
         "xaxis": "x16",
         "y": [
          2.6706,
          2.6689,
          2.6671,
          2.662,
          2.6579,
          2.6482,
          2.6428
         ],
         "yaxis": "y16"
        },
        {
         "hovertemplate": "%{y:.2f}<br>",
         "line": {
          "color": "#636EFA"
         },
         "mode": "lines",
         "name": "420.0 nm",
         "showlegend": false,
         "type": "scatter",
         "x": [
          0,
          900,
          1802,
          2700,
          3600,
          4502,
          5400
         ],
         "xaxis": "x17",
         "y": [
          -0.052,
          -0.0503,
          -0.0499,
          -0.0508,
          -0.0509,
          -0.0519,
          -0.0516
         ],
         "yaxis": "y17"
        },
        {
         "hovertemplate": "%{y:.2f}<br>",
         "line": {
          "color": "#636EFA"
         },
         "mode": "lines",
         "name": "420.0 nm",
         "showlegend": false,
         "type": "scatter",
         "x": [
          0,
          900,
          1802,
          2700,
          3600,
          4502,
          5400
         ],
         "xaxis": "x18",
         "y": [
          0.2307,
          0.2318,
          0.228,
          0.2251,
          0.2237,
          0.221,
          0.2202
         ],
         "yaxis": "y18"
        },
        {
         "hovertemplate": "%{y:.2f}<br>",
         "line": {
          "color": "#636EFA"
         },
         "mode": "lines",
         "name": "420.0 nm",
         "showlegend": false,
         "type": "scatter",
         "x": [
          0,
          900,
          1802,
          2700,
          3600,
          4502,
          5400
         ],
         "xaxis": "x19",
         "y": [
          1.2522,
          1.2518,
          1.249,
          1.2439,
          1.24,
          1.2348,
          1.2311
         ],
         "yaxis": "y19"
        },
        {
         "hovertemplate": "%{y:.2f}<br>",
         "line": {
          "color": "#636EFA"
         },
         "mode": "lines",
         "name": "420.0 nm",
         "showlegend": false,
         "type": "scatter",
         "x": [
          0,
          900,
          1802,
          2700,
          3600,
          4502,
          5400
         ],
         "xaxis": "x20",
         "y": [
          2.2376,
          2.2357,
          2.2322,
          2.226,
          2.2192,
          2.2118,
          2.2081
         ],
         "yaxis": "y20"
        },
        {
         "hovertemplate": "%{y:.2f}<br>",
         "line": {
          "color": "#636EFA"
         },
         "mode": "lines",
         "name": "420.0 nm",
         "showlegend": false,
         "type": "scatter",
         "x": [
          0,
          900,
          1802,
          2700,
          3600,
          4502,
          5400
         ],
         "xaxis": "x21",
         "y": [
          2.9437,
          2.9352,
          2.9449,
          2.9431,
          2.9398,
          2.9344,
          2.9416
         ],
         "yaxis": "y21"
        },
        {
         "hovertemplate": "%{y:.2f}<br>",
         "line": {
          "color": "#636EFA"
         },
         "mode": "lines",
         "name": "420.0 nm",
         "showlegend": false,
         "type": "scatter",
         "x": [
          0,
          900,
          1802,
          2700,
          3600,
          4502,
          5400
         ],
         "xaxis": "x22",
         "y": [
          2.9484,
          2.9436,
          2.9541,
          2.9459,
          2.9616,
          2.9514,
          2.9461
         ],
         "yaxis": "y22"
        },
        {
         "hovertemplate": "%{y:.2f}<br>",
         "line": {
          "color": "#636EFA"
         },
         "mode": "lines",
         "name": "420.0 nm",
         "showlegend": false,
         "type": "scatter",
         "x": [
          0,
          900,
          1802,
          2700,
          3600,
          4502,
          5400
         ],
         "xaxis": "x23",
         "y": [
          2.9348,
          2.9221,
          2.9331,
          2.9435,
          2.9345,
          2.9297,
          2.9385
         ],
         "yaxis": "y23"
        },
        {
         "hovertemplate": "%{y:.2f}<br>",
         "line": {
          "color": "#636EFA"
         },
         "mode": "lines",
         "name": "420.0 nm",
         "showlegend": false,
         "type": "scatter",
         "x": [
          0,
          900,
          1802,
          2700,
          3600,
          4502,
          5400
         ],
         "xaxis": "x24",
         "y": [
          3.1541,
          3.1371,
          3.1454,
          3.1578,
          3.1512,
          3.1575,
          3.1425
         ],
         "yaxis": "y24"
        },
        {
         "hovertemplate": "%{y:.2f}<br>",
         "line": {
          "color": "#636EFA"
         },
         "mode": "lines",
         "name": "420.0 nm",
         "showlegend": false,
         "type": "scatter",
         "x": [
          0,
          900,
          1802,
          2700,
          3600,
          4502,
          5400
         ],
         "xaxis": "x56",
         "y": [
          2.6871,
          2.6848,
          2.6816,
          2.6793,
          2.6681,
          2.6676,
          2.6673
         ],
         "yaxis": "y56"
        },
        {
         "hovertemplate": "%{y:.2f}<br>",
         "line": {
          "color": "#636EFA"
         },
         "mode": "lines",
         "name": "420.0 nm",
         "showlegend": false,
         "type": "scatter",
         "x": [
          0,
          900,
          1802,
          2700,
          3600,
          4502,
          5400
         ],
         "xaxis": "x29",
         "y": [
          -0.0576,
          -0.0569,
          -0.0574,
          -0.0584,
          -0.0581,
          -0.0589,
          -0.0581
         ],
         "yaxis": "y29"
        },
        {
         "hovertemplate": "%{y:.2f}<br>",
         "line": {
          "color": "#636EFA"
         },
         "mode": "lines",
         "name": "420.0 nm",
         "showlegend": false,
         "type": "scatter",
         "x": [
          0,
          900,
          1802,
          2700,
          3600,
          4502,
          5400
         ],
         "xaxis": "x30",
         "y": [
          0.2291,
          0.2311,
          0.2278,
          0.2243,
          0.2222,
          0.2194,
          0.2184
         ],
         "yaxis": "y30"
        },
        {
         "hovertemplate": "%{y:.2f}<br>",
         "line": {
          "color": "#636EFA"
         },
         "mode": "lines",
         "name": "420.0 nm",
         "showlegend": false,
         "type": "scatter",
         "x": [
          0,
          900,
          1802,
          2700,
          3600,
          4502,
          5400
         ],
         "xaxis": "x31",
         "y": [
          1.2501,
          1.2499,
          1.2466,
          1.2406,
          1.2373,
          1.232,
          1.2269
         ],
         "yaxis": "y31"
        },
        {
         "hovertemplate": "%{y:.2f}<br>",
         "line": {
          "color": "#636EFA"
         },
         "mode": "lines",
         "name": "420.0 nm",
         "showlegend": false,
         "type": "scatter",
         "x": [
          0,
          900,
          1802,
          2700,
          3600,
          4502,
          5400
         ],
         "xaxis": "x32",
         "y": [
          2.3136,
          2.3141,
          2.3097,
          2.303,
          2.2946,
          2.2904,
          2.2809
         ],
         "yaxis": "y32"
        },
        {
         "hovertemplate": "%{y:.2f}<br>",
         "line": {
          "color": "#636EFA"
         },
         "mode": "lines",
         "name": "420.0 nm",
         "showlegend": false,
         "type": "scatter",
         "x": [
          0,
          900,
          1802,
          2700,
          3600,
          4502,
          5400
         ],
         "xaxis": "x33",
         "y": [
          2.9273,
          2.9377,
          2.9374,
          2.9266,
          2.9347,
          2.9219,
          2.9224
         ],
         "yaxis": "y33"
        },
        {
         "hovertemplate": "%{y:.2f}<br>",
         "line": {
          "color": "#636EFA"
         },
         "mode": "lines",
         "name": "420.0 nm",
         "showlegend": false,
         "type": "scatter",
         "x": [
          0,
          900,
          1802,
          2700,
          3600,
          4502,
          5400
         ],
         "xaxis": "x34",
         "y": [
          2.929,
          2.9243,
          2.929,
          2.9274,
          2.9381,
          2.9282,
          2.9268
         ],
         "yaxis": "y34"
        },
        {
         "hovertemplate": "%{y:.2f}<br>",
         "line": {
          "color": "#636EFA"
         },
         "mode": "lines",
         "name": "420.0 nm",
         "showlegend": false,
         "type": "scatter",
         "x": [
          0,
          900,
          1802,
          2700,
          3600,
          4502,
          5400
         ],
         "xaxis": "x35",
         "y": [
          2.9311,
          2.9236,
          2.9293,
          2.9294,
          2.9318,
          2.9268,
          2.9282
         ],
         "yaxis": "y35"
        },
        {
         "hovertemplate": "%{y:.2f}<br>",
         "line": {
          "color": "#636EFA"
         },
         "mode": "lines",
         "name": "420.0 nm",
         "showlegend": false,
         "type": "scatter",
         "x": [
          0,
          900,
          1802,
          2700,
          3600,
          4502,
          5400
         ],
         "xaxis": "x36",
         "y": [
          3.1041,
          3.0966,
          3.1153,
          3.1024,
          3.1144,
          3.1043,
          3.1043
         ],
         "yaxis": "y36"
        },
        {
         "hovertemplate": "%{y:.2f}<br>",
         "line": {
          "color": "#636EFA"
         },
         "mode": "lines",
         "name": "420.0 nm",
         "showlegend": false,
         "type": "scatter",
         "x": [
          0,
          900,
          1802,
          2700,
          3600,
          4502,
          5400
         ],
         "xaxis": "x68",
         "y": [
          2.6902,
          2.6869,
          2.6862,
          2.6823,
          2.6732,
          2.6675,
          2.6611
         ],
         "yaxis": "y68"
        },
        {
         "hovertemplate": "%{y:.2f}<br>",
         "line": {
          "color": "#636EFA"
         },
         "mode": "lines",
         "name": "420.0 nm",
         "showlegend": false,
         "type": "scatter",
         "x": [
          0,
          900,
          1802,
          2700,
          3600,
          4502,
          5400
         ],
         "xaxis": "x41",
         "y": [
          -0.0567,
          -0.0538,
          -0.0543,
          -0.0549,
          -0.0552,
          -0.0546,
          -0.0538
         ],
         "yaxis": "y41"
        },
        {
         "hovertemplate": "%{y:.2f}<br>",
         "line": {
          "color": "#636EFA"
         },
         "mode": "lines",
         "name": "420.0 nm",
         "showlegend": false,
         "type": "scatter",
         "x": [
          0,
          900,
          1802,
          2700,
          3600,
          4502,
          5400
         ],
         "xaxis": "x42",
         "y": [
          0.2319,
          0.2334,
          0.2306,
          0.2282,
          0.2267,
          0.2244,
          0.2229
         ],
         "yaxis": "y42"
        },
        {
         "hovertemplate": "%{y:.2f}<br>",
         "line": {
          "color": "#636EFA"
         },
         "mode": "lines",
         "name": "420.0 nm",
         "showlegend": false,
         "type": "scatter",
         "x": [
          0,
          900,
          1802,
          2700,
          3600,
          4502,
          5400
         ],
         "xaxis": "x43",
         "y": [
          1.2068,
          1.2088,
          1.2039,
          1.1984,
          1.1945,
          1.1877,
          1.1843
         ],
         "yaxis": "y43"
        },
        {
         "hovertemplate": "%{y:.2f}<br>",
         "line": {
          "color": "#636EFA"
         },
         "mode": "lines",
         "name": "420.0 nm",
         "showlegend": false,
         "type": "scatter",
         "x": [
          0,
          900,
          1802,
          2700,
          3600,
          4502,
          5400
         ],
         "xaxis": "x44",
         "y": [
          2.2821,
          2.2808,
          2.2791,
          2.2713,
          2.2658,
          2.2568,
          2.2504
         ],
         "yaxis": "y44"
        },
        {
         "hovertemplate": "%{y:.2f}<br>",
         "line": {
          "color": "#636EFA"
         },
         "mode": "lines",
         "name": "420.0 nm",
         "showlegend": false,
         "type": "scatter",
         "x": [
          0,
          900,
          1802,
          2700,
          3600,
          4502,
          5400
         ],
         "xaxis": "x45",
         "y": [
          2.9351,
          2.9375,
          2.9455,
          2.9402,
          2.9382,
          2.9384,
          2.9388
         ],
         "yaxis": "y45"
        },
        {
         "hovertemplate": "%{y:.2f}<br>",
         "line": {
          "color": "#636EFA"
         },
         "mode": "lines",
         "name": "420.0 nm",
         "showlegend": false,
         "type": "scatter",
         "x": [
          0,
          900,
          1802,
          2700,
          3600,
          4502,
          5400
         ],
         "xaxis": "x46",
         "y": [
          2.9514,
          2.9405,
          2.9493,
          2.9484,
          2.9485,
          2.9409,
          2.9451
         ],
         "yaxis": "y46"
        },
        {
         "hovertemplate": "%{y:.2f}<br>",
         "line": {
          "color": "#636EFA"
         },
         "mode": "lines",
         "name": "420.0 nm",
         "showlegend": false,
         "type": "scatter",
         "x": [
          0,
          900,
          1802,
          2700,
          3600,
          4502,
          5400
         ],
         "xaxis": "x47",
         "y": [
          2.9395,
          2.9224,
          2.9388,
          2.9412,
          2.9417,
          2.9357,
          2.9404
         ],
         "yaxis": "y47"
        },
        {
         "hovertemplate": "%{y:.2f}<br>",
         "line": {
          "color": "#636EFA"
         },
         "mode": "lines",
         "name": "420.0 nm",
         "showlegend": false,
         "type": "scatter",
         "x": [
          0,
          900,
          1802,
          2700,
          3600,
          4502,
          5400
         ],
         "xaxis": "x48",
         "y": [
          3.0946,
          3.0809,
          3.0938,
          3.0941,
          3.0991,
          3.088,
          3.0872
         ],
         "yaxis": "y48"
        },
        {
         "hovertemplate": "%{y:.2f}<br>",
         "line": {
          "color": "#636EFA"
         },
         "mode": "lines",
         "name": "420.0 nm",
         "showlegend": false,
         "type": "scatter",
         "x": [
          0,
          900,
          1802,
          2700,
          3600,
          4502,
          5400
         ],
         "xaxis": "x52",
         "y": [
          -0.0431,
          -0.0407,
          -0.0407,
          -0.0397,
          -0.039,
          -0.0404,
          -0.0386
         ],
         "yaxis": "y52"
        },
        {
         "hovertemplate": "%{y:.2f}<br>",
         "line": {
          "color": "#636EFA"
         },
         "mode": "lines",
         "name": "420.0 nm",
         "showlegend": false,
         "type": "scatter",
         "x": [
          0,
          900,
          1802,
          2700,
          3600,
          4502,
          5400
         ],
         "xaxis": "x53",
         "y": [
          -0.0262,
          -0.0245,
          -0.025,
          -0.0271,
          -0.0274,
          -0.0285,
          -0.0293
         ],
         "yaxis": "y53"
        },
        {
         "hovertemplate": "%{y:.2f}<br>",
         "line": {
          "color": "#636EFA"
         },
         "mode": "lines",
         "name": "420.0 nm",
         "showlegend": false,
         "type": "scatter",
         "x": [
          0,
          900,
          1802,
          2700,
          3600,
          4502,
          5400
         ],
         "xaxis": "x54",
         "y": [
          0.579,
          0.5806,
          0.5777,
          0.5727,
          0.5697,
          0.565,
          0.5601
         ],
         "yaxis": "y54"
        },
        {
         "hovertemplate": "%{y:.2f}<br>",
         "line": {
          "color": "#636EFA"
         },
         "mode": "lines",
         "name": "420.0 nm",
         "showlegend": false,
         "type": "scatter",
         "x": [
          0,
          900,
          1802,
          2700,
          3600,
          4502,
          5400
         ],
         "xaxis": "x55",
         "y": [
          1.7883,
          1.7865,
          1.7828,
          1.7752,
          1.7693,
          1.7628,
          1.7568
         ],
         "yaxis": "y55"
        },
        {
         "hovertemplate": "%{y:.2f}<br>",
         "line": {
          "color": "#636EFA"
         },
         "mode": "lines",
         "name": "420.0 nm",
         "showlegend": false,
         "type": "scatter",
         "x": [
          0,
          900,
          1802,
          2700,
          3600,
          4502,
          5400
         ],
         "xaxis": "x57",
         "y": [
          2.9347,
          2.9302,
          2.9384,
          2.9355,
          2.9506,
          2.9346,
          2.9328
         ],
         "yaxis": "y57"
        },
        {
         "hovertemplate": "%{y:.2f}<br>",
         "line": {
          "color": "#636EFA"
         },
         "mode": "lines",
         "name": "420.0 nm",
         "showlegend": false,
         "type": "scatter",
         "x": [
          0,
          900,
          1802,
          2700,
          3600,
          4502,
          5400
         ],
         "xaxis": "x58",
         "y": [
          2.9395,
          2.922,
          2.9295,
          2.9322,
          2.9316,
          2.9285,
          2.9271
         ],
         "yaxis": "y58"
        },
        {
         "hovertemplate": "%{y:.2f}<br>",
         "line": {
          "color": "#636EFA"
         },
         "mode": "lines",
         "name": "420.0 nm",
         "showlegend": false,
         "type": "scatter",
         "x": [
          0,
          900,
          1802,
          2700,
          3600,
          4502,
          5400
         ],
         "xaxis": "x60",
         "y": [
          -0.0423,
          -0.0384,
          -0.0366,
          -0.0364,
          -0.0337,
          -0.0326,
          -0.0307
         ],
         "yaxis": "y60"
        },
        {
         "hovertemplate": "%{y:.2f}<br>",
         "line": {
          "color": "#636EFA"
         },
         "mode": "lines",
         "name": "420.0 nm",
         "showlegend": false,
         "type": "scatter",
         "x": [
          0,
          900,
          1802,
          2700,
          3600,
          4502,
          5400
         ],
         "xaxis": "x64",
         "y": [
          -0.0556,
          -0.053,
          -0.0549,
          -0.0547,
          -0.0534,
          -0.0535,
          -0.0483
         ],
         "yaxis": "y64"
        },
        {
         "hovertemplate": "%{y:.2f}<br>",
         "line": {
          "color": "#636EFA"
         },
         "mode": "lines",
         "name": "420.0 nm",
         "showlegend": false,
         "type": "scatter",
         "x": [
          0,
          900,
          1802,
          2700,
          3600,
          4502,
          5400
         ],
         "xaxis": "x65",
         "y": [
          -0.0265,
          -0.026,
          -0.0276,
          -0.029,
          -0.0286,
          -0.0295,
          -0.0304
         ],
         "yaxis": "y65"
        },
        {
         "hovertemplate": "%{y:.2f}<br>",
         "line": {
          "color": "#636EFA"
         },
         "mode": "lines",
         "name": "420.0 nm",
         "showlegend": false,
         "type": "scatter",
         "x": [
          0,
          900,
          1802,
          2700,
          3600,
          4502,
          5400
         ],
         "xaxis": "x66",
         "y": [
          0.5764,
          0.5757,
          0.5733,
          0.5688,
          0.5673,
          0.5636,
          0.5605
         ],
         "yaxis": "y66"
        },
        {
         "hovertemplate": "%{y:.2f}<br>",
         "line": {
          "color": "#636EFA"
         },
         "mode": "lines",
         "name": "420.0 nm",
         "showlegend": false,
         "type": "scatter",
         "x": [
          0,
          900,
          1802,
          2700,
          3600,
          4502,
          5400
         ],
         "xaxis": "x67",
         "y": [
          1.8005,
          1.7958,
          1.7904,
          1.7829,
          1.7776,
          1.7712,
          1.765
         ],
         "yaxis": "y67"
        },
        {
         "hovertemplate": "%{y:.2f}<br>",
         "line": {
          "color": "#636EFA"
         },
         "mode": "lines",
         "name": "420.0 nm",
         "showlegend": false,
         "type": "scatter",
         "x": [
          0,
          900,
          1802,
          2700,
          3600,
          4502,
          5400
         ],
         "xaxis": "x93",
         "y": [
          3.0639,
          3.044,
          3.0576,
          3.0625,
          3.0678,
          3.0572,
          3.0519
         ],
         "yaxis": "y93"
        },
        {
         "hovertemplate": "%{y:.2f}<br>",
         "line": {
          "color": "#636EFA"
         },
         "mode": "lines",
         "name": "420.0 nm",
         "showlegend": false,
         "type": "scatter",
         "x": [
          0,
          900,
          1802,
          2700,
          3600,
          4502,
          5400
         ],
         "xaxis": "x70",
         "y": [
          2.91,
          2.8975,
          2.9074,
          2.9117,
          2.9156,
          2.9062,
          2.9082
         ],
         "yaxis": "y70"
        },
        {
         "hovertemplate": "%{y:.2f}<br>",
         "line": {
          "color": "#636EFA"
         },
         "mode": "lines",
         "name": "420.0 nm",
         "showlegend": false,
         "type": "scatter",
         "x": [
          0,
          900,
          1802,
          2700,
          3600,
          4502,
          5400
         ],
         "xaxis": "x72",
         "y": [
          -0.0515,
          -0.0484,
          -0.0475,
          -0.0481,
          -0.0479,
          -0.0469,
          -0.0445
         ],
         "yaxis": "y72"
        },
        {
         "hovertemplate": "%{y:.2f}<br>",
         "line": {
          "color": "#636EFA"
         },
         "mode": "lines",
         "name": "420.0 nm",
         "showlegend": false,
         "type": "scatter",
         "x": [
          0,
          900,
          1802,
          2700,
          3600,
          4502,
          5400
         ],
         "xaxis": "x76",
         "y": [
          -0.0524,
          -0.0506,
          -0.0509,
          -0.0503,
          -0.0497,
          -0.0494,
          -0.0463
         ],
         "yaxis": "y76"
        },
        {
         "hovertemplate": "%{y:.2f}<br>",
         "line": {
          "color": "#636EFA"
         },
         "mode": "lines",
         "name": "420.0 nm",
         "showlegend": false,
         "type": "scatter",
         "x": [
          0,
          900,
          1802,
          2700,
          3600,
          4502,
          5400
         ],
         "xaxis": "x77",
         "y": [
          -0.0322,
          -0.0319,
          -0.0318,
          -0.0355,
          -0.0353,
          -0.0362,
          -0.037
         ],
         "yaxis": "y77"
        },
        {
         "hovertemplate": "%{y:.2f}<br>",
         "line": {
          "color": "#636EFA"
         },
         "mode": "lines",
         "name": "420.0 nm",
         "showlegend": false,
         "type": "scatter",
         "x": [
          0,
          900,
          1802,
          2700,
          3600,
          4502,
          5400
         ],
         "xaxis": "x78",
         "y": [
          0.5653,
          0.5621,
          0.5584,
          0.5542,
          0.5517,
          0.5457,
          0.5442
         ],
         "yaxis": "y78"
        },
        {
         "hovertemplate": "%{y:.2f}<br>",
         "line": {
          "color": "#636EFA"
         },
         "mode": "lines",
         "name": "420.0 nm",
         "showlegend": false,
         "type": "scatter",
         "x": [
          0,
          900,
          1802,
          2700,
          3600,
          4502,
          5400
         ],
         "xaxis": "x79",
         "y": [
          1.8494,
          1.8439,
          1.8352,
          1.8284,
          1.8206,
          1.8129,
          1.8052
         ],
         "yaxis": "y79"
        },
        {
         "hovertemplate": "%{y:.2f}<br>",
         "line": {
          "color": "#636EFA"
         },
         "mode": "lines",
         "name": "420.0 nm",
         "showlegend": false,
         "type": "scatter",
         "x": [
          0,
          900,
          1802,
          2700,
          3600,
          4502,
          5400
         ],
         "xaxis": "x82",
         "y": [
          2.9616,
          2.9549,
          2.9625,
          2.953,
          2.9618,
          2.9588,
          2.9573
         ],
         "yaxis": "y82"
        },
        {
         "hovertemplate": "%{y:.2f}<br>",
         "line": {
          "color": "#636EFA"
         },
         "mode": "lines",
         "name": "420.0 nm",
         "showlegend": false,
         "type": "scatter",
         "x": [
          0,
          900,
          1802,
          2700,
          3600,
          4502,
          5400
         ],
         "xaxis": "x84",
         "y": [
          -0.0484,
          -0.0434,
          -0.0413,
          -0.0396,
          -0.0384,
          -0.036,
          -0.0356
         ],
         "yaxis": "y84"
        },
        {
         "hovertemplate": "%{y:.2f}<br>",
         "line": {
          "color": "#636EFA"
         },
         "mode": "lines",
         "name": "420.0 nm",
         "showlegend": false,
         "type": "scatter",
         "x": [
          0,
          900,
          1802,
          2700,
          3600,
          4502,
          5400
         ],
         "xaxis": "x88",
         "y": [
          -0.052,
          -0.051,
          -0.0502,
          -0.0507,
          -0.0513,
          -0.0476,
          -0.0479
         ],
         "yaxis": "y88"
        },
        {
         "hovertemplate": "%{y:.2f}<br>",
         "line": {
          "color": "#636EFA"
         },
         "mode": "lines",
         "name": "420.0 nm",
         "showlegend": false,
         "type": "scatter",
         "x": [
          0,
          900,
          1802,
          2700,
          3600,
          4502,
          5400
         ],
         "xaxis": "x89",
         "y": [
          -0.0374,
          -0.0372,
          -0.0381,
          -0.0399,
          -0.0397,
          -0.0402,
          -0.0407
         ],
         "yaxis": "y89"
        },
        {
         "hovertemplate": "%{y:.2f}<br>",
         "line": {
          "color": "#636EFA"
         },
         "mode": "lines",
         "name": "420.0 nm",
         "showlegend": false,
         "type": "scatter",
         "x": [
          0,
          900,
          1802,
          2700,
          3600,
          4502,
          5400
         ],
         "xaxis": "x90",
         "y": [
          0.5552,
          0.5537,
          0.5511,
          0.5456,
          0.5429,
          0.5395,
          0.5369
         ],
         "yaxis": "y90"
        },
        {
         "hovertemplate": "%{y:.2f}<br>",
         "line": {
          "color": "#636EFA"
         },
         "mode": "lines",
         "name": "420.0 nm",
         "showlegend": false,
         "type": "scatter",
         "x": [
          0,
          900,
          1802,
          2700,
          3600,
          4502,
          5400
         ],
         "xaxis": "x91",
         "y": [
          1.7858,
          1.783,
          1.7756,
          1.7658,
          1.7582,
          1.751,
          1.7419
         ],
         "yaxis": "y91"
        },
        {
         "hovertemplate": "%{y:.2f}<br>",
         "line": {
          "color": "#636EFA"
         },
         "mode": "lines",
         "name": "420.0 nm",
         "showlegend": false,
         "type": "scatter",
         "x": [
          0,
          900,
          1802,
          2700,
          3600,
          4502,
          5400
         ],
         "xaxis": "x94",
         "y": [
          3.0814,
          3.0656,
          3.0821,
          3.0776,
          3.086,
          3.0779,
          3.0809
         ],
         "yaxis": "y94"
        },
        {
         "hovertemplate": "%{y:.2f}<br>",
         "line": {
          "color": "#636EFA"
         },
         "mode": "lines",
         "name": "420.0 nm",
         "showlegend": false,
         "type": "scatter",
         "x": [
          0,
          900,
          1802,
          2700,
          3600,
          4502,
          5400
         ],
         "xaxis": "x96",
         "y": [
          -0.053,
          -0.0519,
          -0.0515,
          -0.0506,
          -0.0505,
          -0.0502,
          -0.0462
         ],
         "yaxis": "y96"
        }
       ],
       "layout": {
        "annotations": [
         {
          "font": {
           "size": 16
          },
          "showarrow": false,
          "text": "A1",
          "x": 0.034027777777777775,
          "xanchor": "center",
          "xref": "paper",
          "y": 1,
          "yanchor": "bottom",
          "yref": "paper"
         },
         {
          "font": {
           "size": 16
          },
          "showarrow": false,
          "text": "A2",
          "x": 0.11875,
          "xanchor": "center",
          "xref": "paper",
          "y": 1,
          "yanchor": "bottom",
          "yref": "paper"
         },
         {
          "font": {
           "size": 16
          },
          "showarrow": false,
          "text": "A3",
          "x": 0.20347222222222222,
          "xanchor": "center",
          "xref": "paper",
          "y": 1,
          "yanchor": "bottom",
          "yref": "paper"
         },
         {
          "font": {
           "size": 16
          },
          "showarrow": false,
          "text": "A4",
          "x": 0.2881944444444444,
          "xanchor": "center",
          "xref": "paper",
          "y": 1,
          "yanchor": "bottom",
          "yref": "paper"
         },
         {
          "font": {
           "size": 16
          },
          "showarrow": false,
          "text": "A5",
          "x": 0.3729166666666666,
          "xanchor": "center",
          "xref": "paper",
          "y": 1,
          "yanchor": "bottom",
          "yref": "paper"
         },
         {
          "font": {
           "size": 16
          },
          "showarrow": false,
          "text": "A6",
          "x": 0.4576388888888888,
          "xanchor": "center",
          "xref": "paper",
          "y": 1,
          "yanchor": "bottom",
          "yref": "paper"
         },
         {
          "font": {
           "size": 16
          },
          "showarrow": false,
          "text": "A7",
          "x": 0.5423611111111111,
          "xanchor": "center",
          "xref": "paper",
          "y": 1,
          "yanchor": "bottom",
          "yref": "paper"
         },
         {
          "font": {
           "size": 16
          },
          "showarrow": false,
          "text": "A8",
          "x": 0.6270833333333332,
          "xanchor": "center",
          "xref": "paper",
          "y": 1,
          "yanchor": "bottom",
          "yref": "paper"
         },
         {
          "font": {
           "size": 16
          },
          "showarrow": false,
          "text": "A9",
          "x": 0.7118055555555555,
          "xanchor": "center",
          "xref": "paper",
          "y": 1,
          "yanchor": "bottom",
          "yref": "paper"
         },
         {
          "font": {
           "size": 16
          },
          "showarrow": false,
          "text": "A10",
          "x": 0.7965277777777777,
          "xanchor": "center",
          "xref": "paper",
          "y": 1,
          "yanchor": "bottom",
          "yref": "paper"
         },
         {
          "font": {
           "size": 16
          },
          "showarrow": false,
          "text": "A11",
          "x": 0.8812499999999999,
          "xanchor": "center",
          "xref": "paper",
          "y": 1,
          "yanchor": "bottom",
          "yref": "paper"
         },
         {
          "font": {
           "size": 16
          },
          "showarrow": false,
          "text": "A12",
          "x": 0.9659722222222221,
          "xanchor": "center",
          "xref": "paper",
          "y": 1,
          "yanchor": "bottom",
          "yref": "paper"
         },
         {
          "font": {
           "size": 16
          },
          "showarrow": false,
          "text": "B1",
          "x": 0.034027777777777775,
          "xanchor": "center",
          "xref": "paper",
          "y": 0.8671875,
          "yanchor": "bottom",
          "yref": "paper"
         },
         {
          "font": {
           "size": 16
          },
          "showarrow": false,
          "text": "B2",
          "x": 0.11875,
          "xanchor": "center",
          "xref": "paper",
          "y": 0.8671875,
          "yanchor": "bottom",
          "yref": "paper"
         },
         {
          "font": {
           "size": 16
          },
          "showarrow": false,
          "text": "B3",
          "x": 0.20347222222222222,
          "xanchor": "center",
          "xref": "paper",
          "y": 0.8671875,
          "yanchor": "bottom",
          "yref": "paper"
         },
         {
          "font": {
           "size": 16
          },
          "showarrow": false,
          "text": "B4",
          "x": 0.2881944444444444,
          "xanchor": "center",
          "xref": "paper",
          "y": 0.8671875,
          "yanchor": "bottom",
          "yref": "paper"
         },
         {
          "font": {
           "size": 16
          },
          "showarrow": false,
          "text": "B5",
          "x": 0.3729166666666666,
          "xanchor": "center",
          "xref": "paper",
          "y": 0.8671875,
          "yanchor": "bottom",
          "yref": "paper"
         },
         {
          "font": {
           "size": 16
          },
          "showarrow": false,
          "text": "B6",
          "x": 0.4576388888888888,
          "xanchor": "center",
          "xref": "paper",
          "y": 0.8671875,
          "yanchor": "bottom",
          "yref": "paper"
         },
         {
          "font": {
           "size": 16
          },
          "showarrow": false,
          "text": "B7",
          "x": 0.5423611111111111,
          "xanchor": "center",
          "xref": "paper",
          "y": 0.8671875,
          "yanchor": "bottom",
          "yref": "paper"
         },
         {
          "font": {
           "size": 16
          },
          "showarrow": false,
          "text": "B8",
          "x": 0.6270833333333332,
          "xanchor": "center",
          "xref": "paper",
          "y": 0.8671875,
          "yanchor": "bottom",
          "yref": "paper"
         },
         {
          "font": {
           "size": 16
          },
          "showarrow": false,
          "text": "B9",
          "x": 0.7118055555555555,
          "xanchor": "center",
          "xref": "paper",
          "y": 0.8671875,
          "yanchor": "bottom",
          "yref": "paper"
         },
         {
          "font": {
           "size": 16
          },
          "showarrow": false,
          "text": "B10",
          "x": 0.7965277777777777,
          "xanchor": "center",
          "xref": "paper",
          "y": 0.8671875,
          "yanchor": "bottom",
          "yref": "paper"
         },
         {
          "font": {
           "size": 16
          },
          "showarrow": false,
          "text": "B11",
          "x": 0.8812499999999999,
          "xanchor": "center",
          "xref": "paper",
          "y": 0.8671875,
          "yanchor": "bottom",
          "yref": "paper"
         },
         {
          "font": {
           "size": 16
          },
          "showarrow": false,
          "text": "B12",
          "x": 0.9659722222222221,
          "xanchor": "center",
          "xref": "paper",
          "y": 0.8671875,
          "yanchor": "bottom",
          "yref": "paper"
         },
         {
          "font": {
           "size": 16
          },
          "showarrow": false,
          "text": "C1",
          "x": 0.034027777777777775,
          "xanchor": "center",
          "xref": "paper",
          "y": 0.734375,
          "yanchor": "bottom",
          "yref": "paper"
         },
         {
          "font": {
           "size": 16
          },
          "showarrow": false,
          "text": "C2",
          "x": 0.11875,
          "xanchor": "center",
          "xref": "paper",
          "y": 0.734375,
          "yanchor": "bottom",
          "yref": "paper"
         },
         {
          "font": {
           "size": 16
          },
          "showarrow": false,
          "text": "C3",
          "x": 0.20347222222222222,
          "xanchor": "center",
          "xref": "paper",
          "y": 0.734375,
          "yanchor": "bottom",
          "yref": "paper"
         },
         {
          "font": {
           "size": 16
          },
          "showarrow": false,
          "text": "C4",
          "x": 0.2881944444444444,
          "xanchor": "center",
          "xref": "paper",
          "y": 0.734375,
          "yanchor": "bottom",
          "yref": "paper"
         },
         {
          "font": {
           "size": 16
          },
          "showarrow": false,
          "text": "C5",
          "x": 0.3729166666666666,
          "xanchor": "center",
          "xref": "paper",
          "y": 0.734375,
          "yanchor": "bottom",
          "yref": "paper"
         },
         {
          "font": {
           "size": 16
          },
          "showarrow": false,
          "text": "C6",
          "x": 0.4576388888888888,
          "xanchor": "center",
          "xref": "paper",
          "y": 0.734375,
          "yanchor": "bottom",
          "yref": "paper"
         },
         {
          "font": {
           "size": 16
          },
          "showarrow": false,
          "text": "C7",
          "x": 0.5423611111111111,
          "xanchor": "center",
          "xref": "paper",
          "y": 0.734375,
          "yanchor": "bottom",
          "yref": "paper"
         },
         {
          "font": {
           "size": 16
          },
          "showarrow": false,
          "text": "C8",
          "x": 0.6270833333333332,
          "xanchor": "center",
          "xref": "paper",
          "y": 0.734375,
          "yanchor": "bottom",
          "yref": "paper"
         },
         {
          "font": {
           "size": 16
          },
          "showarrow": false,
          "text": "C9",
          "x": 0.7118055555555555,
          "xanchor": "center",
          "xref": "paper",
          "y": 0.734375,
          "yanchor": "bottom",
          "yref": "paper"
         },
         {
          "font": {
           "size": 16
          },
          "showarrow": false,
          "text": "C10",
          "x": 0.7965277777777777,
          "xanchor": "center",
          "xref": "paper",
          "y": 0.734375,
          "yanchor": "bottom",
          "yref": "paper"
         },
         {
          "font": {
           "size": 16
          },
          "showarrow": false,
          "text": "C11",
          "x": 0.8812499999999999,
          "xanchor": "center",
          "xref": "paper",
          "y": 0.734375,
          "yanchor": "bottom",
          "yref": "paper"
         },
         {
          "font": {
           "size": 16
          },
          "showarrow": false,
          "text": "C12",
          "x": 0.9659722222222221,
          "xanchor": "center",
          "xref": "paper",
          "y": 0.734375,
          "yanchor": "bottom",
          "yref": "paper"
         },
         {
          "font": {
           "size": 16
          },
          "showarrow": false,
          "text": "D1",
          "x": 0.034027777777777775,
          "xanchor": "center",
          "xref": "paper",
          "y": 0.6015625,
          "yanchor": "bottom",
          "yref": "paper"
         },
         {
          "font": {
           "size": 16
          },
          "showarrow": false,
          "text": "D2",
          "x": 0.11875,
          "xanchor": "center",
          "xref": "paper",
          "y": 0.6015625,
          "yanchor": "bottom",
          "yref": "paper"
         },
         {
          "font": {
           "size": 16
          },
          "showarrow": false,
          "text": "D3",
          "x": 0.20347222222222222,
          "xanchor": "center",
          "xref": "paper",
          "y": 0.6015625,
          "yanchor": "bottom",
          "yref": "paper"
         },
         {
          "font": {
           "size": 16
          },
          "showarrow": false,
          "text": "D4",
          "x": 0.2881944444444444,
          "xanchor": "center",
          "xref": "paper",
          "y": 0.6015625,
          "yanchor": "bottom",
          "yref": "paper"
         },
         {
          "font": {
           "size": 16
          },
          "showarrow": false,
          "text": "D5",
          "x": 0.3729166666666666,
          "xanchor": "center",
          "xref": "paper",
          "y": 0.6015625,
          "yanchor": "bottom",
          "yref": "paper"
         },
         {
          "font": {
           "size": 16
          },
          "showarrow": false,
          "text": "D6",
          "x": 0.4576388888888888,
          "xanchor": "center",
          "xref": "paper",
          "y": 0.6015625,
          "yanchor": "bottom",
          "yref": "paper"
         },
         {
          "font": {
           "size": 16
          },
          "showarrow": false,
          "text": "D7",
          "x": 0.5423611111111111,
          "xanchor": "center",
          "xref": "paper",
          "y": 0.6015625,
          "yanchor": "bottom",
          "yref": "paper"
         },
         {
          "font": {
           "size": 16
          },
          "showarrow": false,
          "text": "D8",
          "x": 0.6270833333333332,
          "xanchor": "center",
          "xref": "paper",
          "y": 0.6015625,
          "yanchor": "bottom",
          "yref": "paper"
         },
         {
          "font": {
           "size": 16
          },
          "showarrow": false,
          "text": "D9",
          "x": 0.7118055555555555,
          "xanchor": "center",
          "xref": "paper",
          "y": 0.6015625,
          "yanchor": "bottom",
          "yref": "paper"
         },
         {
          "font": {
           "size": 16
          },
          "showarrow": false,
          "text": "D10",
          "x": 0.7965277777777777,
          "xanchor": "center",
          "xref": "paper",
          "y": 0.6015625,
          "yanchor": "bottom",
          "yref": "paper"
         },
         {
          "font": {
           "size": 16
          },
          "showarrow": false,
          "text": "D11",
          "x": 0.8812499999999999,
          "xanchor": "center",
          "xref": "paper",
          "y": 0.6015625,
          "yanchor": "bottom",
          "yref": "paper"
         },
         {
          "font": {
           "size": 16
          },
          "showarrow": false,
          "text": "D12",
          "x": 0.9659722222222221,
          "xanchor": "center",
          "xref": "paper",
          "y": 0.6015625,
          "yanchor": "bottom",
          "yref": "paper"
         },
         {
          "font": {
           "size": 16
          },
          "showarrow": false,
          "text": "E1",
          "x": 0.034027777777777775,
          "xanchor": "center",
          "xref": "paper",
          "y": 0.46875,
          "yanchor": "bottom",
          "yref": "paper"
         },
         {
          "font": {
           "size": 16
          },
          "showarrow": false,
          "text": "E2",
          "x": 0.11875,
          "xanchor": "center",
          "xref": "paper",
          "y": 0.46875,
          "yanchor": "bottom",
          "yref": "paper"
         },
         {
          "font": {
           "size": 16
          },
          "showarrow": false,
          "text": "E3",
          "x": 0.20347222222222222,
          "xanchor": "center",
          "xref": "paper",
          "y": 0.46875,
          "yanchor": "bottom",
          "yref": "paper"
         },
         {
          "font": {
           "size": 16
          },
          "showarrow": false,
          "text": "E4",
          "x": 0.2881944444444444,
          "xanchor": "center",
          "xref": "paper",
          "y": 0.46875,
          "yanchor": "bottom",
          "yref": "paper"
         },
         {
          "font": {
           "size": 16
          },
          "showarrow": false,
          "text": "E5",
          "x": 0.3729166666666666,
          "xanchor": "center",
          "xref": "paper",
          "y": 0.46875,
          "yanchor": "bottom",
          "yref": "paper"
         },
         {
          "font": {
           "size": 16
          },
          "showarrow": false,
          "text": "E6",
          "x": 0.4576388888888888,
          "xanchor": "center",
          "xref": "paper",
          "y": 0.46875,
          "yanchor": "bottom",
          "yref": "paper"
         },
         {
          "font": {
           "size": 16
          },
          "showarrow": false,
          "text": "E7",
          "x": 0.5423611111111111,
          "xanchor": "center",
          "xref": "paper",
          "y": 0.46875,
          "yanchor": "bottom",
          "yref": "paper"
         },
         {
          "font": {
           "size": 16
          },
          "showarrow": false,
          "text": "E8",
          "x": 0.6270833333333332,
          "xanchor": "center",
          "xref": "paper",
          "y": 0.46875,
          "yanchor": "bottom",
          "yref": "paper"
         },
         {
          "font": {
           "size": 16
          },
          "showarrow": false,
          "text": "E9",
          "x": 0.7118055555555555,
          "xanchor": "center",
          "xref": "paper",
          "y": 0.46875,
          "yanchor": "bottom",
          "yref": "paper"
         },
         {
          "font": {
           "size": 16
          },
          "showarrow": false,
          "text": "E10",
          "x": 0.7965277777777777,
          "xanchor": "center",
          "xref": "paper",
          "y": 0.46875,
          "yanchor": "bottom",
          "yref": "paper"
         },
         {
          "font": {
           "size": 16
          },
          "showarrow": false,
          "text": "E11",
          "x": 0.8812499999999999,
          "xanchor": "center",
          "xref": "paper",
          "y": 0.46875,
          "yanchor": "bottom",
          "yref": "paper"
         },
         {
          "font": {
           "size": 16
          },
          "showarrow": false,
          "text": "E12",
          "x": 0.9659722222222221,
          "xanchor": "center",
          "xref": "paper",
          "y": 0.46875,
          "yanchor": "bottom",
          "yref": "paper"
         },
         {
          "font": {
           "size": 16
          },
          "showarrow": false,
          "text": "F1",
          "x": 0.034027777777777775,
          "xanchor": "center",
          "xref": "paper",
          "y": 0.3359375,
          "yanchor": "bottom",
          "yref": "paper"
         },
         {
          "font": {
           "size": 16
          },
          "showarrow": false,
          "text": "F2",
          "x": 0.11875,
          "xanchor": "center",
          "xref": "paper",
          "y": 0.3359375,
          "yanchor": "bottom",
          "yref": "paper"
         },
         {
          "font": {
           "size": 16
          },
          "showarrow": false,
          "text": "F3",
          "x": 0.20347222222222222,
          "xanchor": "center",
          "xref": "paper",
          "y": 0.3359375,
          "yanchor": "bottom",
          "yref": "paper"
         },
         {
          "font": {
           "size": 16
          },
          "showarrow": false,
          "text": "F4",
          "x": 0.2881944444444444,
          "xanchor": "center",
          "xref": "paper",
          "y": 0.3359375,
          "yanchor": "bottom",
          "yref": "paper"
         },
         {
          "font": {
           "size": 16
          },
          "showarrow": false,
          "text": "F5",
          "x": 0.3729166666666666,
          "xanchor": "center",
          "xref": "paper",
          "y": 0.3359375,
          "yanchor": "bottom",
          "yref": "paper"
         },
         {
          "font": {
           "size": 16
          },
          "showarrow": false,
          "text": "F6",
          "x": 0.4576388888888888,
          "xanchor": "center",
          "xref": "paper",
          "y": 0.3359375,
          "yanchor": "bottom",
          "yref": "paper"
         },
         {
          "font": {
           "size": 16
          },
          "showarrow": false,
          "text": "F7",
          "x": 0.5423611111111111,
          "xanchor": "center",
          "xref": "paper",
          "y": 0.3359375,
          "yanchor": "bottom",
          "yref": "paper"
         },
         {
          "font": {
           "size": 16
          },
          "showarrow": false,
          "text": "F8",
          "x": 0.6270833333333332,
          "xanchor": "center",
          "xref": "paper",
          "y": 0.3359375,
          "yanchor": "bottom",
          "yref": "paper"
         },
         {
          "font": {
           "size": 16
          },
          "showarrow": false,
          "text": "F9",
          "x": 0.7118055555555555,
          "xanchor": "center",
          "xref": "paper",
          "y": 0.3359375,
          "yanchor": "bottom",
          "yref": "paper"
         },
         {
          "font": {
           "size": 16
          },
          "showarrow": false,
          "text": "F10",
          "x": 0.7965277777777777,
          "xanchor": "center",
          "xref": "paper",
          "y": 0.3359375,
          "yanchor": "bottom",
          "yref": "paper"
         },
         {
          "font": {
           "size": 16
          },
          "showarrow": false,
          "text": "F11",
          "x": 0.8812499999999999,
          "xanchor": "center",
          "xref": "paper",
          "y": 0.3359375,
          "yanchor": "bottom",
          "yref": "paper"
         },
         {
          "font": {
           "size": 16
          },
          "showarrow": false,
          "text": "F12",
          "x": 0.9659722222222221,
          "xanchor": "center",
          "xref": "paper",
          "y": 0.3359375,
          "yanchor": "bottom",
          "yref": "paper"
         },
         {
          "font": {
           "size": 16
          },
          "showarrow": false,
          "text": "G1",
          "x": 0.034027777777777775,
          "xanchor": "center",
          "xref": "paper",
          "y": 0.203125,
          "yanchor": "bottom",
          "yref": "paper"
         },
         {
          "font": {
           "size": 16
          },
          "showarrow": false,
          "text": "G2",
          "x": 0.11875,
          "xanchor": "center",
          "xref": "paper",
          "y": 0.203125,
          "yanchor": "bottom",
          "yref": "paper"
         },
         {
          "font": {
           "size": 16
          },
          "showarrow": false,
          "text": "G3",
          "x": 0.20347222222222222,
          "xanchor": "center",
          "xref": "paper",
          "y": 0.203125,
          "yanchor": "bottom",
          "yref": "paper"
         },
         {
          "font": {
           "size": 16
          },
          "showarrow": false,
          "text": "G4",
          "x": 0.2881944444444444,
          "xanchor": "center",
          "xref": "paper",
          "y": 0.203125,
          "yanchor": "bottom",
          "yref": "paper"
         },
         {
          "font": {
           "size": 16
          },
          "showarrow": false,
          "text": "G5",
          "x": 0.3729166666666666,
          "xanchor": "center",
          "xref": "paper",
          "y": 0.203125,
          "yanchor": "bottom",
          "yref": "paper"
         },
         {
          "font": {
           "size": 16
          },
          "showarrow": false,
          "text": "G6",
          "x": 0.4576388888888888,
          "xanchor": "center",
          "xref": "paper",
          "y": 0.203125,
          "yanchor": "bottom",
          "yref": "paper"
         },
         {
          "font": {
           "size": 16
          },
          "showarrow": false,
          "text": "G7",
          "x": 0.5423611111111111,
          "xanchor": "center",
          "xref": "paper",
          "y": 0.203125,
          "yanchor": "bottom",
          "yref": "paper"
         },
         {
          "font": {
           "size": 16
          },
          "showarrow": false,
          "text": "G8",
          "x": 0.6270833333333332,
          "xanchor": "center",
          "xref": "paper",
          "y": 0.203125,
          "yanchor": "bottom",
          "yref": "paper"
         },
         {
          "font": {
           "size": 16
          },
          "showarrow": false,
          "text": "G9",
          "x": 0.7118055555555555,
          "xanchor": "center",
          "xref": "paper",
          "y": 0.203125,
          "yanchor": "bottom",
          "yref": "paper"
         },
         {
          "font": {
           "size": 16
          },
          "showarrow": false,
          "text": "G10",
          "x": 0.7965277777777777,
          "xanchor": "center",
          "xref": "paper",
          "y": 0.203125,
          "yanchor": "bottom",
          "yref": "paper"
         },
         {
          "font": {
           "size": 16
          },
          "showarrow": false,
          "text": "G11",
          "x": 0.8812499999999999,
          "xanchor": "center",
          "xref": "paper",
          "y": 0.203125,
          "yanchor": "bottom",
          "yref": "paper"
         },
         {
          "font": {
           "size": 16
          },
          "showarrow": false,
          "text": "G12",
          "x": 0.9659722222222221,
          "xanchor": "center",
          "xref": "paper",
          "y": 0.203125,
          "yanchor": "bottom",
          "yref": "paper"
         },
         {
          "font": {
           "size": 16
          },
          "showarrow": false,
          "text": "H1",
          "x": 0.034027777777777775,
          "xanchor": "center",
          "xref": "paper",
          "y": 0.0703125,
          "yanchor": "bottom",
          "yref": "paper"
         },
         {
          "font": {
           "size": 16
          },
          "showarrow": false,
          "text": "H2",
          "x": 0.11875,
          "xanchor": "center",
          "xref": "paper",
          "y": 0.0703125,
          "yanchor": "bottom",
          "yref": "paper"
         },
         {
          "font": {
           "size": 16
          },
          "showarrow": false,
          "text": "H3",
          "x": 0.20347222222222222,
          "xanchor": "center",
          "xref": "paper",
          "y": 0.0703125,
          "yanchor": "bottom",
          "yref": "paper"
         },
         {
          "font": {
           "size": 16
          },
          "showarrow": false,
          "text": "H4",
          "x": 0.2881944444444444,
          "xanchor": "center",
          "xref": "paper",
          "y": 0.0703125,
          "yanchor": "bottom",
          "yref": "paper"
         },
         {
          "font": {
           "size": 16
          },
          "showarrow": false,
          "text": "H5",
          "x": 0.3729166666666666,
          "xanchor": "center",
          "xref": "paper",
          "y": 0.0703125,
          "yanchor": "bottom",
          "yref": "paper"
         },
         {
          "font": {
           "size": 16
          },
          "showarrow": false,
          "text": "H6",
          "x": 0.4576388888888888,
          "xanchor": "center",
          "xref": "paper",
          "y": 0.0703125,
          "yanchor": "bottom",
          "yref": "paper"
         },
         {
          "font": {
           "size": 16
          },
          "showarrow": false,
          "text": "H7",
          "x": 0.5423611111111111,
          "xanchor": "center",
          "xref": "paper",
          "y": 0.0703125,
          "yanchor": "bottom",
          "yref": "paper"
         },
         {
          "font": {
           "size": 16
          },
          "showarrow": false,
          "text": "H8",
          "x": 0.6270833333333332,
          "xanchor": "center",
          "xref": "paper",
          "y": 0.0703125,
          "yanchor": "bottom",
          "yref": "paper"
         },
         {
          "font": {
           "size": 16
          },
          "showarrow": false,
          "text": "H9",
          "x": 0.7118055555555555,
          "xanchor": "center",
          "xref": "paper",
          "y": 0.0703125,
          "yanchor": "bottom",
          "yref": "paper"
         },
         {
          "font": {
           "size": 16
          },
          "showarrow": false,
          "text": "H10",
          "x": 0.7965277777777777,
          "xanchor": "center",
          "xref": "paper",
          "y": 0.0703125,
          "yanchor": "bottom",
          "yref": "paper"
         },
         {
          "font": {
           "size": 16
          },
          "showarrow": false,
          "text": "H11",
          "x": 0.8812499999999999,
          "xanchor": "center",
          "xref": "paper",
          "y": 0.0703125,
          "yanchor": "bottom",
          "yref": "paper"
         },
         {
          "font": {
           "size": 16
          },
          "showarrow": false,
          "text": "H12",
          "x": 0.9659722222222221,
          "xanchor": "center",
          "xref": "paper",
          "y": 0.0703125,
          "yanchor": "bottom",
          "yref": "paper"
         }
        ],
        "hovermode": "x",
        "margin": {
         "b": 20,
         "l": 20,
         "r": 20,
         "t": 100
        },
        "plot_bgcolor": "white",
        "template": {
         "data": {
          "bar": [
           {
            "error_x": {
             "color": "#2a3f5f"
            },
            "error_y": {
             "color": "#2a3f5f"
            },
            "marker": {
             "line": {
              "color": "#E5ECF6",
              "width": 0.5
             },
             "pattern": {
              "fillmode": "overlay",
              "size": 10,
              "solidity": 0.2
             }
            },
            "type": "bar"
           }
          ],
          "barpolar": [
           {
            "marker": {
             "line": {
              "color": "#E5ECF6",
              "width": 0.5
             },
             "pattern": {
              "fillmode": "overlay",
              "size": 10,
              "solidity": 0.2
             }
            },
            "type": "barpolar"
           }
          ],
          "carpet": [
           {
            "aaxis": {
             "endlinecolor": "#2a3f5f",
             "gridcolor": "white",
             "linecolor": "white",
             "minorgridcolor": "white",
             "startlinecolor": "#2a3f5f"
            },
            "baxis": {
             "endlinecolor": "#2a3f5f",
             "gridcolor": "white",
             "linecolor": "white",
             "minorgridcolor": "white",
             "startlinecolor": "#2a3f5f"
            },
            "type": "carpet"
           }
          ],
          "choropleth": [
           {
            "colorbar": {
             "outlinewidth": 0,
             "ticks": ""
            },
            "type": "choropleth"
           }
          ],
          "contour": [
           {
            "colorbar": {
             "outlinewidth": 0,
             "ticks": ""
            },
            "colorscale": [
             [
              0,
              "#0d0887"
             ],
             [
              0.1111111111111111,
              "#46039f"
             ],
             [
              0.2222222222222222,
              "#7201a8"
             ],
             [
              0.3333333333333333,
              "#9c179e"
             ],
             [
              0.4444444444444444,
              "#bd3786"
             ],
             [
              0.5555555555555556,
              "#d8576b"
             ],
             [
              0.6666666666666666,
              "#ed7953"
             ],
             [
              0.7777777777777778,
              "#fb9f3a"
             ],
             [
              0.8888888888888888,
              "#fdca26"
             ],
             [
              1,
              "#f0f921"
             ]
            ],
            "type": "contour"
           }
          ],
          "contourcarpet": [
           {
            "colorbar": {
             "outlinewidth": 0,
             "ticks": ""
            },
            "type": "contourcarpet"
           }
          ],
          "heatmap": [
           {
            "colorbar": {
             "outlinewidth": 0,
             "ticks": ""
            },
            "colorscale": [
             [
              0,
              "#0d0887"
             ],
             [
              0.1111111111111111,
              "#46039f"
             ],
             [
              0.2222222222222222,
              "#7201a8"
             ],
             [
              0.3333333333333333,
              "#9c179e"
             ],
             [
              0.4444444444444444,
              "#bd3786"
             ],
             [
              0.5555555555555556,
              "#d8576b"
             ],
             [
              0.6666666666666666,
              "#ed7953"
             ],
             [
              0.7777777777777778,
              "#fb9f3a"
             ],
             [
              0.8888888888888888,
              "#fdca26"
             ],
             [
              1,
              "#f0f921"
             ]
            ],
            "type": "heatmap"
           }
          ],
          "heatmapgl": [
           {
            "colorbar": {
             "outlinewidth": 0,
             "ticks": ""
            },
            "colorscale": [
             [
              0,
              "#0d0887"
             ],
             [
              0.1111111111111111,
              "#46039f"
             ],
             [
              0.2222222222222222,
              "#7201a8"
             ],
             [
              0.3333333333333333,
              "#9c179e"
             ],
             [
              0.4444444444444444,
              "#bd3786"
             ],
             [
              0.5555555555555556,
              "#d8576b"
             ],
             [
              0.6666666666666666,
              "#ed7953"
             ],
             [
              0.7777777777777778,
              "#fb9f3a"
             ],
             [
              0.8888888888888888,
              "#fdca26"
             ],
             [
              1,
              "#f0f921"
             ]
            ],
            "type": "heatmapgl"
           }
          ],
          "histogram": [
           {
            "marker": {
             "pattern": {
              "fillmode": "overlay",
              "size": 10,
              "solidity": 0.2
             }
            },
            "type": "histogram"
           }
          ],
          "histogram2d": [
           {
            "colorbar": {
             "outlinewidth": 0,
             "ticks": ""
            },
            "colorscale": [
             [
              0,
              "#0d0887"
             ],
             [
              0.1111111111111111,
              "#46039f"
             ],
             [
              0.2222222222222222,
              "#7201a8"
             ],
             [
              0.3333333333333333,
              "#9c179e"
             ],
             [
              0.4444444444444444,
              "#bd3786"
             ],
             [
              0.5555555555555556,
              "#d8576b"
             ],
             [
              0.6666666666666666,
              "#ed7953"
             ],
             [
              0.7777777777777778,
              "#fb9f3a"
             ],
             [
              0.8888888888888888,
              "#fdca26"
             ],
             [
              1,
              "#f0f921"
             ]
            ],
            "type": "histogram2d"
           }
          ],
          "histogram2dcontour": [
           {
            "colorbar": {
             "outlinewidth": 0,
             "ticks": ""
            },
            "colorscale": [
             [
              0,
              "#0d0887"
             ],
             [
              0.1111111111111111,
              "#46039f"
             ],
             [
              0.2222222222222222,
              "#7201a8"
             ],
             [
              0.3333333333333333,
              "#9c179e"
             ],
             [
              0.4444444444444444,
              "#bd3786"
             ],
             [
              0.5555555555555556,
              "#d8576b"
             ],
             [
              0.6666666666666666,
              "#ed7953"
             ],
             [
              0.7777777777777778,
              "#fb9f3a"
             ],
             [
              0.8888888888888888,
              "#fdca26"
             ],
             [
              1,
              "#f0f921"
             ]
            ],
            "type": "histogram2dcontour"
           }
          ],
          "mesh3d": [
           {
            "colorbar": {
             "outlinewidth": 0,
             "ticks": ""
            },
            "type": "mesh3d"
           }
          ],
          "parcoords": [
           {
            "line": {
             "colorbar": {
              "outlinewidth": 0,
              "ticks": ""
             }
            },
            "type": "parcoords"
           }
          ],
          "pie": [
           {
            "automargin": true,
            "type": "pie"
           }
          ],
          "scatter": [
           {
            "fillpattern": {
             "fillmode": "overlay",
             "size": 10,
             "solidity": 0.2
            },
            "type": "scatter"
           }
          ],
          "scatter3d": [
           {
            "line": {
             "colorbar": {
              "outlinewidth": 0,
              "ticks": ""
             }
            },
            "marker": {
             "colorbar": {
              "outlinewidth": 0,
              "ticks": ""
             }
            },
            "type": "scatter3d"
           }
          ],
          "scattercarpet": [
           {
            "marker": {
             "colorbar": {
              "outlinewidth": 0,
              "ticks": ""
             }
            },
            "type": "scattercarpet"
           }
          ],
          "scattergeo": [
           {
            "marker": {
             "colorbar": {
              "outlinewidth": 0,
              "ticks": ""
             }
            },
            "type": "scattergeo"
           }
          ],
          "scattergl": [
           {
            "marker": {
             "colorbar": {
              "outlinewidth": 0,
              "ticks": ""
             }
            },
            "type": "scattergl"
           }
          ],
          "scattermapbox": [
           {
            "marker": {
             "colorbar": {
              "outlinewidth": 0,
              "ticks": ""
             }
            },
            "type": "scattermapbox"
           }
          ],
          "scatterpolar": [
           {
            "marker": {
             "colorbar": {
              "outlinewidth": 0,
              "ticks": ""
             }
            },
            "type": "scatterpolar"
           }
          ],
          "scatterpolargl": [
           {
            "marker": {
             "colorbar": {
              "outlinewidth": 0,
              "ticks": ""
             }
            },
            "type": "scatterpolargl"
           }
          ],
          "scatterternary": [
           {
            "marker": {
             "colorbar": {
              "outlinewidth": 0,
              "ticks": ""
             }
            },
            "type": "scatterternary"
           }
          ],
          "surface": [
           {
            "colorbar": {
             "outlinewidth": 0,
             "ticks": ""
            },
            "colorscale": [
             [
              0,
              "#0d0887"
             ],
             [
              0.1111111111111111,
              "#46039f"
             ],
             [
              0.2222222222222222,
              "#7201a8"
             ],
             [
              0.3333333333333333,
              "#9c179e"
             ],
             [
              0.4444444444444444,
              "#bd3786"
             ],
             [
              0.5555555555555556,
              "#d8576b"
             ],
             [
              0.6666666666666666,
              "#ed7953"
             ],
             [
              0.7777777777777778,
              "#fb9f3a"
             ],
             [
              0.8888888888888888,
              "#fdca26"
             ],
             [
              1,
              "#f0f921"
             ]
            ],
            "type": "surface"
           }
          ],
          "table": [
           {
            "cells": {
             "fill": {
              "color": "#EBF0F8"
             },
             "line": {
              "color": "white"
             }
            },
            "header": {
             "fill": {
              "color": "#C8D4E3"
             },
             "line": {
              "color": "white"
             }
            },
            "type": "table"
           }
          ]
         },
         "layout": {
          "annotationdefaults": {
           "arrowcolor": "#2a3f5f",
           "arrowhead": 0,
           "arrowwidth": 1
          },
          "autotypenumbers": "strict",
          "coloraxis": {
           "colorbar": {
            "outlinewidth": 0,
            "ticks": ""
           }
          },
          "colorscale": {
           "diverging": [
            [
             0,
             "#8e0152"
            ],
            [
             0.1,
             "#c51b7d"
            ],
            [
             0.2,
             "#de77ae"
            ],
            [
             0.3,
             "#f1b6da"
            ],
            [
             0.4,
             "#fde0ef"
            ],
            [
             0.5,
             "#f7f7f7"
            ],
            [
             0.6,
             "#e6f5d0"
            ],
            [
             0.7,
             "#b8e186"
            ],
            [
             0.8,
             "#7fbc41"
            ],
            [
             0.9,
             "#4d9221"
            ],
            [
             1,
             "#276419"
            ]
           ],
           "sequential": [
            [
             0,
             "#0d0887"
            ],
            [
             0.1111111111111111,
             "#46039f"
            ],
            [
             0.2222222222222222,
             "#7201a8"
            ],
            [
             0.3333333333333333,
             "#9c179e"
            ],
            [
             0.4444444444444444,
             "#bd3786"
            ],
            [
             0.5555555555555556,
             "#d8576b"
            ],
            [
             0.6666666666666666,
             "#ed7953"
            ],
            [
             0.7777777777777778,
             "#fb9f3a"
            ],
            [
             0.8888888888888888,
             "#fdca26"
            ],
            [
             1,
             "#f0f921"
            ]
           ],
           "sequentialminus": [
            [
             0,
             "#0d0887"
            ],
            [
             0.1111111111111111,
             "#46039f"
            ],
            [
             0.2222222222222222,
             "#7201a8"
            ],
            [
             0.3333333333333333,
             "#9c179e"
            ],
            [
             0.4444444444444444,
             "#bd3786"
            ],
            [
             0.5555555555555556,
             "#d8576b"
            ],
            [
             0.6666666666666666,
             "#ed7953"
            ],
            [
             0.7777777777777778,
             "#fb9f3a"
            ],
            [
             0.8888888888888888,
             "#fdca26"
            ],
            [
             1,
             "#f0f921"
            ]
           ]
          },
          "colorway": [
           "#636efa",
           "#EF553B",
           "#00cc96",
           "#ab63fa",
           "#FFA15A",
           "#19d3f3",
           "#FF6692",
           "#B6E880",
           "#FF97FF",
           "#FECB52"
          ],
          "font": {
           "color": "#2a3f5f"
          },
          "geo": {
           "bgcolor": "white",
           "lakecolor": "white",
           "landcolor": "#E5ECF6",
           "showlakes": true,
           "showland": true,
           "subunitcolor": "white"
          },
          "hoverlabel": {
           "align": "left"
          },
          "hovermode": "closest",
          "mapbox": {
           "style": "light"
          },
          "paper_bgcolor": "white",
          "plot_bgcolor": "#E5ECF6",
          "polar": {
           "angularaxis": {
            "gridcolor": "white",
            "linecolor": "white",
            "ticks": ""
           },
           "bgcolor": "#E5ECF6",
           "radialaxis": {
            "gridcolor": "white",
            "linecolor": "white",
            "ticks": ""
           }
          },
          "scene": {
           "xaxis": {
            "backgroundcolor": "#E5ECF6",
            "gridcolor": "white",
            "gridwidth": 2,
            "linecolor": "white",
            "showbackground": true,
            "ticks": "",
            "zerolinecolor": "white"
           },
           "yaxis": {
            "backgroundcolor": "#E5ECF6",
            "gridcolor": "white",
            "gridwidth": 2,
            "linecolor": "white",
            "showbackground": true,
            "ticks": "",
            "zerolinecolor": "white"
           },
           "zaxis": {
            "backgroundcolor": "#E5ECF6",
            "gridcolor": "white",
            "gridwidth": 2,
            "linecolor": "white",
            "showbackground": true,
            "ticks": "",
            "zerolinecolor": "white"
           }
          },
          "shapedefaults": {
           "line": {
            "color": "#2a3f5f"
           }
          },
          "ternary": {
           "aaxis": {
            "gridcolor": "white",
            "linecolor": "white",
            "ticks": ""
           },
           "baxis": {
            "gridcolor": "white",
            "linecolor": "white",
            "ticks": ""
           },
           "bgcolor": "#E5ECF6",
           "caxis": {
            "gridcolor": "white",
            "linecolor": "white",
            "ticks": ""
           }
          },
          "title": {
           "x": 0.05
          },
          "xaxis": {
           "automargin": true,
           "gridcolor": "white",
           "linecolor": "white",
           "ticks": "",
           "title": {
            "standoff": 15
           },
           "zerolinecolor": "white",
           "zerolinewidth": 2
          },
          "yaxis": {
           "automargin": true,
           "gridcolor": "white",
           "linecolor": "white",
           "ticks": "",
           "title": {
            "standoff": 15
           },
           "zerolinecolor": "white",
           "zerolinewidth": 2
          }
         }
        },
        "title": {
         "text": "37.1 Celsius"
        },
        "xaxis": {
         "anchor": "y",
         "domain": [
          0,
          0.06805555555555555
         ],
         "matches": "x85",
         "showticklabels": false
        },
        "xaxis10": {
         "anchor": "y10",
         "domain": [
          0.7625,
          0.8305555555555555
         ],
         "matches": "x94",
         "showticklabels": false
        },
        "xaxis11": {
         "anchor": "y11",
         "domain": [
          0.8472222222222221,
          0.9152777777777776
         ],
         "matches": "x95",
         "showticklabels": false
        },
        "xaxis12": {
         "anchor": "y12",
         "domain": [
          0.9319444444444444,
          0.9999999999999999
         ],
         "matches": "x96",
         "showticklabels": false
        },
        "xaxis13": {
         "anchor": "y13",
         "domain": [
          0,
          0.06805555555555555
         ],
         "matches": "x85",
         "showticklabels": false
        },
        "xaxis14": {
         "anchor": "y14",
         "domain": [
          0.08472222222222221,
          0.15277777777777776
         ],
         "matches": "x86",
         "showticklabels": false
        },
        "xaxis15": {
         "anchor": "y15",
         "domain": [
          0.16944444444444443,
          0.2375
         ],
         "matches": "x87",
         "showticklabels": false
        },
        "xaxis16": {
         "anchor": "y16",
         "domain": [
          0.25416666666666665,
          0.3222222222222222
         ],
         "matches": "x88",
         "showticklabels": false
        },
        "xaxis17": {
         "anchor": "y17",
         "domain": [
          0.33888888888888885,
          0.4069444444444444
         ],
         "matches": "x89",
         "showticklabels": false
        },
        "xaxis18": {
         "anchor": "y18",
         "domain": [
          0.42361111111111105,
          0.4916666666666666
         ],
         "matches": "x90",
         "showticklabels": false
        },
        "xaxis19": {
         "anchor": "y19",
         "domain": [
          0.5083333333333333,
          0.5763888888888888
         ],
         "matches": "x91",
         "showticklabels": false
        },
        "xaxis2": {
         "anchor": "y2",
         "domain": [
          0.08472222222222221,
          0.15277777777777776
         ],
         "matches": "x86",
         "showticklabels": false
        },
        "xaxis20": {
         "anchor": "y20",
         "domain": [
          0.5930555555555554,
          0.661111111111111
         ],
         "matches": "x92",
         "showticklabels": false
        },
        "xaxis21": {
         "anchor": "y21",
         "domain": [
          0.6777777777777777,
          0.7458333333333332
         ],
         "matches": "x93",
         "showticklabels": false
        },
        "xaxis22": {
         "anchor": "y22",
         "domain": [
          0.7625,
          0.8305555555555555
         ],
         "matches": "x94",
         "showticklabels": false
        },
        "xaxis23": {
         "anchor": "y23",
         "domain": [
          0.8472222222222221,
          0.9152777777777776
         ],
         "matches": "x95",
         "showticklabels": false
        },
        "xaxis24": {
         "anchor": "y24",
         "domain": [
          0.9319444444444444,
          0.9999999999999999
         ],
         "matches": "x96",
         "showticklabels": false
        },
        "xaxis25": {
         "anchor": "y25",
         "domain": [
          0,
          0.06805555555555555
         ],
         "matches": "x85",
         "showticklabels": false
        },
        "xaxis26": {
         "anchor": "y26",
         "domain": [
          0.08472222222222221,
          0.15277777777777776
         ],
         "matches": "x86",
         "showticklabels": false
        },
        "xaxis27": {
         "anchor": "y27",
         "domain": [
          0.16944444444444443,
          0.2375
         ],
         "matches": "x87",
         "showticklabels": false
        },
        "xaxis28": {
         "anchor": "y28",
         "domain": [
          0.25416666666666665,
          0.3222222222222222
         ],
         "matches": "x88",
         "showticklabels": false
        },
        "xaxis29": {
         "anchor": "y29",
         "domain": [
          0.33888888888888885,
          0.4069444444444444
         ],
         "matches": "x89",
         "showticklabels": false
        },
        "xaxis3": {
         "anchor": "y3",
         "domain": [
          0.16944444444444443,
          0.2375
         ],
         "matches": "x87",
         "showticklabels": false
        },
        "xaxis30": {
         "anchor": "y30",
         "domain": [
          0.42361111111111105,
          0.4916666666666666
         ],
         "matches": "x90",
         "showticklabels": false
        },
        "xaxis31": {
         "anchor": "y31",
         "domain": [
          0.5083333333333333,
          0.5763888888888888
         ],
         "matches": "x91",
         "showticklabels": false
        },
        "xaxis32": {
         "anchor": "y32",
         "domain": [
          0.5930555555555554,
          0.661111111111111
         ],
         "matches": "x92",
         "showticklabels": false
        },
        "xaxis33": {
         "anchor": "y33",
         "domain": [
          0.6777777777777777,
          0.7458333333333332
         ],
         "matches": "x93",
         "showticklabels": false
        },
        "xaxis34": {
         "anchor": "y34",
         "domain": [
          0.7625,
          0.8305555555555555
         ],
         "matches": "x94",
         "showticklabels": false
        },
        "xaxis35": {
         "anchor": "y35",
         "domain": [
          0.8472222222222221,
          0.9152777777777776
         ],
         "matches": "x95",
         "showticklabels": false
        },
        "xaxis36": {
         "anchor": "y36",
         "domain": [
          0.9319444444444444,
          0.9999999999999999
         ],
         "matches": "x96",
         "showticklabels": false
        },
        "xaxis37": {
         "anchor": "y37",
         "domain": [
          0,
          0.06805555555555555
         ],
         "matches": "x85",
         "showticklabels": false
        },
        "xaxis38": {
         "anchor": "y38",
         "domain": [
          0.08472222222222221,
          0.15277777777777776
         ],
         "matches": "x86",
         "showticklabels": false
        },
        "xaxis39": {
         "anchor": "y39",
         "domain": [
          0.16944444444444443,
          0.2375
         ],
         "matches": "x87",
         "showticklabels": false
        },
        "xaxis4": {
         "anchor": "y4",
         "domain": [
          0.25416666666666665,
          0.3222222222222222
         ],
         "matches": "x88",
         "showticklabels": false
        },
        "xaxis40": {
         "anchor": "y40",
         "domain": [
          0.25416666666666665,
          0.3222222222222222
         ],
         "matches": "x88",
         "showticklabels": false
        },
        "xaxis41": {
         "anchor": "y41",
         "domain": [
          0.33888888888888885,
          0.4069444444444444
         ],
         "matches": "x89",
         "showticklabels": false
        },
        "xaxis42": {
         "anchor": "y42",
         "domain": [
          0.42361111111111105,
          0.4916666666666666
         ],
         "matches": "x90",
         "showticklabels": false
        },
        "xaxis43": {
         "anchor": "y43",
         "domain": [
          0.5083333333333333,
          0.5763888888888888
         ],
         "matches": "x91",
         "showticklabels": false
        },
        "xaxis44": {
         "anchor": "y44",
         "domain": [
          0.5930555555555554,
          0.661111111111111
         ],
         "matches": "x92",
         "showticklabels": false
        },
        "xaxis45": {
         "anchor": "y45",
         "domain": [
          0.6777777777777777,
          0.7458333333333332
         ],
         "matches": "x93",
         "showticklabels": false
        },
        "xaxis46": {
         "anchor": "y46",
         "domain": [
          0.7625,
          0.8305555555555555
         ],
         "matches": "x94",
         "showticklabels": false
        },
        "xaxis47": {
         "anchor": "y47",
         "domain": [
          0.8472222222222221,
          0.9152777777777776
         ],
         "matches": "x95",
         "showticklabels": false
        },
        "xaxis48": {
         "anchor": "y48",
         "domain": [
          0.9319444444444444,
          0.9999999999999999
         ],
         "matches": "x96",
         "showticklabels": false
        },
        "xaxis49": {
         "anchor": "y49",
         "domain": [
          0,
          0.06805555555555555
         ],
         "matches": "x85",
         "showticklabels": false
        },
        "xaxis5": {
         "anchor": "y5",
         "domain": [
          0.33888888888888885,
          0.4069444444444444
         ],
         "matches": "x89",
         "showticklabels": false
        },
        "xaxis50": {
         "anchor": "y50",
         "domain": [
          0.08472222222222221,
          0.15277777777777776
         ],
         "matches": "x86",
         "showticklabels": false
        },
        "xaxis51": {
         "anchor": "y51",
         "domain": [
          0.16944444444444443,
          0.2375
         ],
         "matches": "x87",
         "showticklabels": false
        },
        "xaxis52": {
         "anchor": "y52",
         "domain": [
          0.25416666666666665,
          0.3222222222222222
         ],
         "matches": "x88",
         "showticklabels": false
        },
        "xaxis53": {
         "anchor": "y53",
         "domain": [
          0.33888888888888885,
          0.4069444444444444
         ],
         "matches": "x89",
         "showticklabels": false
        },
        "xaxis54": {
         "anchor": "y54",
         "domain": [
          0.42361111111111105,
          0.4916666666666666
         ],
         "matches": "x90",
         "showticklabels": false
        },
        "xaxis55": {
         "anchor": "y55",
         "domain": [
          0.5083333333333333,
          0.5763888888888888
         ],
         "matches": "x91",
         "showticklabels": false
        },
        "xaxis56": {
         "anchor": "y56",
         "domain": [
          0.5930555555555554,
          0.661111111111111
         ],
         "matches": "x92",
         "showticklabels": false
        },
        "xaxis57": {
         "anchor": "y57",
         "domain": [
          0.6777777777777777,
          0.7458333333333332
         ],
         "matches": "x93",
         "showticklabels": false
        },
        "xaxis58": {
         "anchor": "y58",
         "domain": [
          0.7625,
          0.8305555555555555
         ],
         "matches": "x94",
         "showticklabels": false
        },
        "xaxis59": {
         "anchor": "y59",
         "domain": [
          0.8472222222222221,
          0.9152777777777776
         ],
         "matches": "x95",
         "showticklabels": false
        },
        "xaxis6": {
         "anchor": "y6",
         "domain": [
          0.42361111111111105,
          0.4916666666666666
         ],
         "matches": "x90",
         "showticklabels": false
        },
        "xaxis60": {
         "anchor": "y60",
         "domain": [
          0.9319444444444444,
          0.9999999999999999
         ],
         "matches": "x96",
         "showticklabels": false
        },
        "xaxis61": {
         "anchor": "y61",
         "domain": [
          0,
          0.06805555555555555
         ],
         "matches": "x85",
         "showticklabels": false
        },
        "xaxis62": {
         "anchor": "y62",
         "domain": [
          0.08472222222222221,
          0.15277777777777776
         ],
         "matches": "x86",
         "showticklabels": false
        },
        "xaxis63": {
         "anchor": "y63",
         "domain": [
          0.16944444444444443,
          0.2375
         ],
         "matches": "x87",
         "showticklabels": false
        },
        "xaxis64": {
         "anchor": "y64",
         "domain": [
          0.25416666666666665,
          0.3222222222222222
         ],
         "matches": "x88",
         "showticklabels": false
        },
        "xaxis65": {
         "anchor": "y65",
         "domain": [
          0.33888888888888885,
          0.4069444444444444
         ],
         "matches": "x89",
         "showticklabels": false
        },
        "xaxis66": {
         "anchor": "y66",
         "domain": [
          0.42361111111111105,
          0.4916666666666666
         ],
         "matches": "x90",
         "showticklabels": false
        },
        "xaxis67": {
         "anchor": "y67",
         "domain": [
          0.5083333333333333,
          0.5763888888888888
         ],
         "matches": "x91",
         "showticklabels": false
        },
        "xaxis68": {
         "anchor": "y68",
         "domain": [
          0.5930555555555554,
          0.661111111111111
         ],
         "matches": "x92",
         "showticklabels": false
        },
        "xaxis69": {
         "anchor": "y69",
         "domain": [
          0.6777777777777777,
          0.7458333333333332
         ],
         "matches": "x93",
         "showticklabels": false
        },
        "xaxis7": {
         "anchor": "y7",
         "domain": [
          0.5083333333333333,
          0.5763888888888888
         ],
         "matches": "x91",
         "showticklabels": false
        },
        "xaxis70": {
         "anchor": "y70",
         "domain": [
          0.7625,
          0.8305555555555555
         ],
         "matches": "x94",
         "showticklabels": false
        },
        "xaxis71": {
         "anchor": "y71",
         "domain": [
          0.8472222222222221,
          0.9152777777777776
         ],
         "matches": "x95",
         "showticklabels": false
        },
        "xaxis72": {
         "anchor": "y72",
         "domain": [
          0.9319444444444444,
          0.9999999999999999
         ],
         "matches": "x96",
         "showticklabels": false
        },
        "xaxis73": {
         "anchor": "y73",
         "domain": [
          0,
          0.06805555555555555
         ],
         "matches": "x85",
         "showticklabels": false
        },
        "xaxis74": {
         "anchor": "y74",
         "domain": [
          0.08472222222222221,
          0.15277777777777776
         ],
         "matches": "x86",
         "showticklabels": false
        },
        "xaxis75": {
         "anchor": "y75",
         "domain": [
          0.16944444444444443,
          0.2375
         ],
         "matches": "x87",
         "showticklabels": false
        },
        "xaxis76": {
         "anchor": "y76",
         "domain": [
          0.25416666666666665,
          0.3222222222222222
         ],
         "matches": "x88",
         "showticklabels": false
        },
        "xaxis77": {
         "anchor": "y77",
         "domain": [
          0.33888888888888885,
          0.4069444444444444
         ],
         "matches": "x89",
         "showticklabels": false
        },
        "xaxis78": {
         "anchor": "y78",
         "domain": [
          0.42361111111111105,
          0.4916666666666666
         ],
         "matches": "x90",
         "showticklabels": false
        },
        "xaxis79": {
         "anchor": "y79",
         "domain": [
          0.5083333333333333,
          0.5763888888888888
         ],
         "matches": "x91",
         "showticklabels": false
        },
        "xaxis8": {
         "anchor": "y8",
         "domain": [
          0.5930555555555554,
          0.661111111111111
         ],
         "matches": "x92",
         "showticklabels": false
        },
        "xaxis80": {
         "anchor": "y80",
         "domain": [
          0.5930555555555554,
          0.661111111111111
         ],
         "matches": "x92",
         "showticklabels": false
        },
        "xaxis81": {
         "anchor": "y81",
         "domain": [
          0.6777777777777777,
          0.7458333333333332
         ],
         "matches": "x93",
         "showticklabels": false
        },
        "xaxis82": {
         "anchor": "y82",
         "domain": [
          0.7625,
          0.8305555555555555
         ],
         "matches": "x94",
         "showticklabels": false
        },
        "xaxis83": {
         "anchor": "y83",
         "domain": [
          0.8472222222222221,
          0.9152777777777776
         ],
         "matches": "x95",
         "showticklabels": false
        },
        "xaxis84": {
         "anchor": "y84",
         "domain": [
          0.9319444444444444,
          0.9999999999999999
         ],
         "matches": "x96",
         "showticklabels": false
        },
        "xaxis85": {
         "anchor": "y85",
         "domain": [
          0,
          0.06805555555555555
         ],
         "showticklabels": false
        },
        "xaxis86": {
         "anchor": "y86",
         "domain": [
          0.08472222222222221,
          0.15277777777777776
         ],
         "showticklabels": false
        },
        "xaxis87": {
         "anchor": "y87",
         "domain": [
          0.16944444444444443,
          0.2375
         ],
         "showticklabels": false
        },
        "xaxis88": {
         "anchor": "y88",
         "domain": [
          0.25416666666666665,
          0.3222222222222222
         ],
         "showticklabels": false
        },
        "xaxis89": {
         "anchor": "y89",
         "domain": [
          0.33888888888888885,
          0.4069444444444444
         ],
         "showticklabels": false
        },
        "xaxis9": {
         "anchor": "y9",
         "domain": [
          0.6777777777777777,
          0.7458333333333332
         ],
         "matches": "x93",
         "showticklabels": false
        },
        "xaxis90": {
         "anchor": "y90",
         "domain": [
          0.42361111111111105,
          0.4916666666666666
         ],
         "showticklabels": false
        },
        "xaxis91": {
         "anchor": "y91",
         "domain": [
          0.5083333333333333,
          0.5763888888888888
         ],
         "showticklabels": false
        },
        "xaxis92": {
         "anchor": "y92",
         "domain": [
          0.5930555555555554,
          0.661111111111111
         ],
         "showticklabels": false
        },
        "xaxis93": {
         "anchor": "y93",
         "domain": [
          0.6777777777777777,
          0.7458333333333332
         ],
         "showticklabels": false
        },
        "xaxis94": {
         "anchor": "y94",
         "domain": [
          0.7625,
          0.8305555555555555
         ],
         "showticklabels": false
        },
        "xaxis95": {
         "anchor": "y95",
         "domain": [
          0.8472222222222221,
          0.9152777777777776
         ],
         "showticklabels": false
        },
        "xaxis96": {
         "anchor": "y96",
         "domain": [
          0.9319444444444444,
          0.9999999999999999
         ],
         "showticklabels": false
        },
        "yaxis": {
         "anchor": "x",
         "domain": [
          0.9296875,
          1
         ],
         "showticklabels": false
        },
        "yaxis10": {
         "anchor": "x10",
         "domain": [
          0.9296875,
          1
         ],
         "showticklabels": false
        },
        "yaxis11": {
         "anchor": "x11",
         "domain": [
          0.9296875,
          1
         ],
         "showticklabels": false
        },
        "yaxis12": {
         "anchor": "x12",
         "domain": [
          0.9296875,
          1
         ],
         "showticklabels": false
        },
        "yaxis13": {
         "anchor": "x13",
         "domain": [
          0.796875,
          0.8671875
         ],
         "showticklabels": false
        },
        "yaxis14": {
         "anchor": "x14",
         "domain": [
          0.796875,
          0.8671875
         ],
         "showticklabels": false
        },
        "yaxis15": {
         "anchor": "x15",
         "domain": [
          0.796875,
          0.8671875
         ],
         "showticklabels": false
        },
        "yaxis16": {
         "anchor": "x16",
         "domain": [
          0.796875,
          0.8671875
         ],
         "showticklabels": false
        },
        "yaxis17": {
         "anchor": "x17",
         "domain": [
          0.796875,
          0.8671875
         ],
         "showticklabels": false
        },
        "yaxis18": {
         "anchor": "x18",
         "domain": [
          0.796875,
          0.8671875
         ],
         "showticklabels": false
        },
        "yaxis19": {
         "anchor": "x19",
         "domain": [
          0.796875,
          0.8671875
         ],
         "showticklabels": false
        },
        "yaxis2": {
         "anchor": "x2",
         "domain": [
          0.9296875,
          1
         ],
         "showticklabels": false
        },
        "yaxis20": {
         "anchor": "x20",
         "domain": [
          0.796875,
          0.8671875
         ],
         "showticklabels": false
        },
        "yaxis21": {
         "anchor": "x21",
         "domain": [
          0.796875,
          0.8671875
         ],
         "showticklabels": false
        },
        "yaxis22": {
         "anchor": "x22",
         "domain": [
          0.796875,
          0.8671875
         ],
         "showticklabels": false
        },
        "yaxis23": {
         "anchor": "x23",
         "domain": [
          0.796875,
          0.8671875
         ],
         "showticklabels": false
        },
        "yaxis24": {
         "anchor": "x24",
         "domain": [
          0.796875,
          0.8671875
         ],
         "showticklabels": false
        },
        "yaxis25": {
         "anchor": "x25",
         "domain": [
          0.6640625,
          0.734375
         ],
         "showticklabels": false
        },
        "yaxis26": {
         "anchor": "x26",
         "domain": [
          0.6640625,
          0.734375
         ],
         "showticklabels": false
        },
        "yaxis27": {
         "anchor": "x27",
         "domain": [
          0.6640625,
          0.734375
         ],
         "showticklabels": false
        },
        "yaxis28": {
         "anchor": "x28",
         "domain": [
          0.6640625,
          0.734375
         ],
         "showticklabels": false
        },
        "yaxis29": {
         "anchor": "x29",
         "domain": [
          0.6640625,
          0.734375
         ],
         "showticklabels": false
        },
        "yaxis3": {
         "anchor": "x3",
         "domain": [
          0.9296875,
          1
         ],
         "showticklabels": false
        },
        "yaxis30": {
         "anchor": "x30",
         "domain": [
          0.6640625,
          0.734375
         ],
         "showticklabels": false
        },
        "yaxis31": {
         "anchor": "x31",
         "domain": [
          0.6640625,
          0.734375
         ],
         "showticklabels": false
        },
        "yaxis32": {
         "anchor": "x32",
         "domain": [
          0.6640625,
          0.734375
         ],
         "showticklabels": false
        },
        "yaxis33": {
         "anchor": "x33",
         "domain": [
          0.6640625,
          0.734375
         ],
         "showticklabels": false
        },
        "yaxis34": {
         "anchor": "x34",
         "domain": [
          0.6640625,
          0.734375
         ],
         "showticklabels": false
        },
        "yaxis35": {
         "anchor": "x35",
         "domain": [
          0.6640625,
          0.734375
         ],
         "showticklabels": false
        },
        "yaxis36": {
         "anchor": "x36",
         "domain": [
          0.6640625,
          0.734375
         ],
         "showticklabels": false
        },
        "yaxis37": {
         "anchor": "x37",
         "domain": [
          0.53125,
          0.6015625
         ],
         "showticklabels": false
        },
        "yaxis38": {
         "anchor": "x38",
         "domain": [
          0.53125,
          0.6015625
         ],
         "showticklabels": false
        },
        "yaxis39": {
         "anchor": "x39",
         "domain": [
          0.53125,
          0.6015625
         ],
         "showticklabels": false
        },
        "yaxis4": {
         "anchor": "x4",
         "domain": [
          0.9296875,
          1
         ],
         "showticklabels": false
        },
        "yaxis40": {
         "anchor": "x40",
         "domain": [
          0.53125,
          0.6015625
         ],
         "showticklabels": false
        },
        "yaxis41": {
         "anchor": "x41",
         "domain": [
          0.53125,
          0.6015625
         ],
         "showticklabels": false
        },
        "yaxis42": {
         "anchor": "x42",
         "domain": [
          0.53125,
          0.6015625
         ],
         "showticklabels": false
        },
        "yaxis43": {
         "anchor": "x43",
         "domain": [
          0.53125,
          0.6015625
         ],
         "showticklabels": false
        },
        "yaxis44": {
         "anchor": "x44",
         "domain": [
          0.53125,
          0.6015625
         ],
         "showticklabels": false
        },
        "yaxis45": {
         "anchor": "x45",
         "domain": [
          0.53125,
          0.6015625
         ],
         "showticklabels": false
        },
        "yaxis46": {
         "anchor": "x46",
         "domain": [
          0.53125,
          0.6015625
         ],
         "showticklabels": false
        },
        "yaxis47": {
         "anchor": "x47",
         "domain": [
          0.53125,
          0.6015625
         ],
         "showticklabels": false
        },
        "yaxis48": {
         "anchor": "x48",
         "domain": [
          0.53125,
          0.6015625
         ],
         "showticklabels": false
        },
        "yaxis49": {
         "anchor": "x49",
         "domain": [
          0.3984375,
          0.46875
         ],
         "showticklabels": false
        },
        "yaxis5": {
         "anchor": "x5",
         "domain": [
          0.9296875,
          1
         ],
         "showticklabels": false
        },
        "yaxis50": {
         "anchor": "x50",
         "domain": [
          0.3984375,
          0.46875
         ],
         "showticklabels": false
        },
        "yaxis51": {
         "anchor": "x51",
         "domain": [
          0.3984375,
          0.46875
         ],
         "showticklabels": false
        },
        "yaxis52": {
         "anchor": "x52",
         "domain": [
          0.3984375,
          0.46875
         ],
         "showticklabels": false
        },
        "yaxis53": {
         "anchor": "x53",
         "domain": [
          0.3984375,
          0.46875
         ],
         "showticklabels": false
        },
        "yaxis54": {
         "anchor": "x54",
         "domain": [
          0.3984375,
          0.46875
         ],
         "showticklabels": false
        },
        "yaxis55": {
         "anchor": "x55",
         "domain": [
          0.3984375,
          0.46875
         ],
         "showticklabels": false
        },
        "yaxis56": {
         "anchor": "x56",
         "domain": [
          0.3984375,
          0.46875
         ],
         "showticklabels": false
        },
        "yaxis57": {
         "anchor": "x57",
         "domain": [
          0.3984375,
          0.46875
         ],
         "showticklabels": false
        },
        "yaxis58": {
         "anchor": "x58",
         "domain": [
          0.3984375,
          0.46875
         ],
         "showticklabels": false
        },
        "yaxis59": {
         "anchor": "x59",
         "domain": [
          0.3984375,
          0.46875
         ],
         "showticklabels": false
        },
        "yaxis6": {
         "anchor": "x6",
         "domain": [
          0.9296875,
          1
         ],
         "showticklabels": false
        },
        "yaxis60": {
         "anchor": "x60",
         "domain": [
          0.3984375,
          0.46875
         ],
         "showticklabels": false
        },
        "yaxis61": {
         "anchor": "x61",
         "domain": [
          0.265625,
          0.3359375
         ],
         "showticklabels": false
        },
        "yaxis62": {
         "anchor": "x62",
         "domain": [
          0.265625,
          0.3359375
         ],
         "showticklabels": false
        },
        "yaxis63": {
         "anchor": "x63",
         "domain": [
          0.265625,
          0.3359375
         ],
         "showticklabels": false
        },
        "yaxis64": {
         "anchor": "x64",
         "domain": [
          0.265625,
          0.3359375
         ],
         "showticklabels": false
        },
        "yaxis65": {
         "anchor": "x65",
         "domain": [
          0.265625,
          0.3359375
         ],
         "showticklabels": false
        },
        "yaxis66": {
         "anchor": "x66",
         "domain": [
          0.265625,
          0.3359375
         ],
         "showticklabels": false
        },
        "yaxis67": {
         "anchor": "x67",
         "domain": [
          0.265625,
          0.3359375
         ],
         "showticklabels": false
        },
        "yaxis68": {
         "anchor": "x68",
         "domain": [
          0.265625,
          0.3359375
         ],
         "showticklabels": false
        },
        "yaxis69": {
         "anchor": "x69",
         "domain": [
          0.265625,
          0.3359375
         ],
         "showticklabels": false
        },
        "yaxis7": {
         "anchor": "x7",
         "domain": [
          0.9296875,
          1
         ],
         "showticklabels": false
        },
        "yaxis70": {
         "anchor": "x70",
         "domain": [
          0.265625,
          0.3359375
         ],
         "showticklabels": false
        },
        "yaxis71": {
         "anchor": "x71",
         "domain": [
          0.265625,
          0.3359375
         ],
         "showticklabels": false
        },
        "yaxis72": {
         "anchor": "x72",
         "domain": [
          0.265625,
          0.3359375
         ],
         "showticklabels": false
        },
        "yaxis73": {
         "anchor": "x73",
         "domain": [
          0.1328125,
          0.203125
         ],
         "showticklabels": false
        },
        "yaxis74": {
         "anchor": "x74",
         "domain": [
          0.1328125,
          0.203125
         ],
         "showticklabels": false
        },
        "yaxis75": {
         "anchor": "x75",
         "domain": [
          0.1328125,
          0.203125
         ],
         "showticklabels": false
        },
        "yaxis76": {
         "anchor": "x76",
         "domain": [
          0.1328125,
          0.203125
         ],
         "showticklabels": false
        },
        "yaxis77": {
         "anchor": "x77",
         "domain": [
          0.1328125,
          0.203125
         ],
         "showticklabels": false
        },
        "yaxis78": {
         "anchor": "x78",
         "domain": [
          0.1328125,
          0.203125
         ],
         "showticklabels": false
        },
        "yaxis79": {
         "anchor": "x79",
         "domain": [
          0.1328125,
          0.203125
         ],
         "showticklabels": false
        },
        "yaxis8": {
         "anchor": "x8",
         "domain": [
          0.9296875,
          1
         ],
         "showticklabels": false
        },
        "yaxis80": {
         "anchor": "x80",
         "domain": [
          0.1328125,
          0.203125
         ],
         "showticklabels": false
        },
        "yaxis81": {
         "anchor": "x81",
         "domain": [
          0.1328125,
          0.203125
         ],
         "showticklabels": false
        },
        "yaxis82": {
         "anchor": "x82",
         "domain": [
          0.1328125,
          0.203125
         ],
         "showticklabels": false
        },
        "yaxis83": {
         "anchor": "x83",
         "domain": [
          0.1328125,
          0.203125
         ],
         "showticklabels": false
        },
        "yaxis84": {
         "anchor": "x84",
         "domain": [
          0.1328125,
          0.203125
         ],
         "showticklabels": false
        },
        "yaxis85": {
         "anchor": "x85",
         "domain": [
          0,
          0.0703125
         ],
         "showticklabels": false
        },
        "yaxis86": {
         "anchor": "x86",
         "domain": [
          0,
          0.0703125
         ],
         "showticklabels": false
        },
        "yaxis87": {
         "anchor": "x87",
         "domain": [
          0,
          0.0703125
         ],
         "showticklabels": false
        },
        "yaxis88": {
         "anchor": "x88",
         "domain": [
          0,
          0.0703125
         ],
         "showticklabels": false
        },
        "yaxis89": {
         "anchor": "x89",
         "domain": [
          0,
          0.0703125
         ],
         "showticklabels": false
        },
        "yaxis9": {
         "anchor": "x9",
         "domain": [
          0.9296875,
          1
         ],
         "showticklabels": false
        },
        "yaxis90": {
         "anchor": "x90",
         "domain": [
          0,
          0.0703125
         ],
         "showticklabels": false
        },
        "yaxis91": {
         "anchor": "x91",
         "domain": [
          0,
          0.0703125
         ],
         "showticklabels": false
        },
        "yaxis92": {
         "anchor": "x92",
         "domain": [
          0,
          0.0703125
         ],
         "showticklabels": false
        },
        "yaxis93": {
         "anchor": "x93",
         "domain": [
          0,
          0.0703125
         ],
         "showticklabels": false
        },
        "yaxis94": {
         "anchor": "x94",
         "domain": [
          0,
          0.0703125
         ],
         "showticklabels": false
        },
        "yaxis95": {
         "anchor": "x95",
         "domain": [
          0,
          0.0703125
         ],
         "showticklabels": false
        },
        "yaxis96": {
         "anchor": "x96",
         "domain": [
          0,
          0.0703125
         ],
         "showticklabels": false
        }
       }
      }
     },
     "metadata": {},
     "output_type": "display_data"
    }
   ],
   "source": [
    "pm.visualize(zoom=True)"
   ]
  },
  {
   "cell_type": "code",
   "execution_count": 3,
   "metadata": {},
   "outputs": [
    {
     "data": {
      "text/html": [
       "<pre style=\"white-space:pre;overflow-x:auto;line-height:normal;font-family:Menlo,'DejaVu Sans Mono',consolas,'Courier New',monospace\"><span style=\"font-weight: bold\">{</span><span style=\"color: #008000; text-decoration-color: #008000\">'ld_id'</span>: <span style=\"color: #008000; text-decoration-color: #008000\">'sdfsdf'</span>, <span style=\"color: #008000; text-decoration-color: #008000\">'id'</span>: <span style=\"color: #008000; text-decoration-color: #008000\">'p0'</span>, <span style=\"color: #008000; text-decoration-color: #008000\">'name'</span>: <span style=\"color: #008000; text-decoration-color: #008000\">'laccase'</span>, <span style=\"color: #008000; text-decoration-color: #008000\">'sequence'</span>: <span style=\"color: #800080; text-decoration-color: #800080; font-style: italic\">None</span>, <span style=\"color: #008000; text-decoration-color: #008000\">'organism'</span>: <span style=\"color: #800080; text-decoration-color: #800080; font-style: italic\">None</span>, <span style=\"color: #008000; text-decoration-color: #008000\">'organism_tax_id'</span>: <span style=\"color: #800080; text-decoration-color: #800080; font-style: italic\">None</span><span style=\"font-weight: bold\">}</span>\n",
       "</pre>\n"
      ],
      "text/plain": [
       "\u001b[1m{\u001b[0m\u001b[32m'ld_id'\u001b[0m: \u001b[32m'sdfsdf'\u001b[0m, \u001b[32m'id'\u001b[0m: \u001b[32m'p0'\u001b[0m, \u001b[32m'name'\u001b[0m: \u001b[32m'laccase'\u001b[0m, \u001b[32m'sequence'\u001b[0m: \u001b[3;35mNone\u001b[0m, \u001b[32m'organism'\u001b[0m: \u001b[3;35mNone\u001b[0m, \u001b[32m'organism_tax_id'\u001b[0m: \u001b[3;35mNone\u001b[0m\u001b[1m}\u001b[0m\n"
      ]
     },
     "metadata": {},
     "output_type": "display_data"
    },
    {
     "name": "stderr",
     "output_type": "stream",
     "text": [
      "/Users/max/Documents/GitHub/MTPHandler/MTPHandler/plate_manager.py:52: UserWarning: \n",
      "            No linked-data ID provided. Use UniProt, ChEBI or PubChem URL to uniquely identify the species.\n",
      "            \n",
      "  warnings.warn(\"\"\"\n"
     ]
    }
   ],
   "source": [
    "# Define species present in the plate\n",
    "laccase = pm.add_protein(\n",
    "    ld_id=\"https://www.uniprot.org/uniprotkb/Q12718/entry\",\n",
    "    name=\"laccase\",\n",
    "    id=\"p0\",\n",
    ")\n",
    "abts = pm.add_species(\n",
    "    ld_id=\"https://pubchem.ncbi.nlm.nih.gov/compound/Abts\",\n",
    "    name=\"ABTS\",\n",
    "    id=\"s0\",\n",
    ")\n",
    "o2 = pm.add_species(\n",
    "    ld_id=\"https://pubchem.ncbi.nlm.nih.gov/compound/Oxygen\",\n",
    "    name=\"O2\",\n",
    "    id=\"s1\",\n",
    ")\n",
    "buffer = pm.add_species(\n",
    "    name=\"buffer\",\n",
    "    id=\"b0\",\n",
    ")"
   ]
  },
  {
   "cell_type": "code",
   "execution_count": 4,
   "metadata": {},
   "outputs": [
    {
     "data": {
      "application/vnd.plotly.v1+json": {
       "config": {
        "plotlyServerURL": "https://plot.ly"
       },
       "data": [
        {
         "hovertemplate": "%{y:.2f}<br>",
         "line": {
          "color": "#636EFA"
         },
         "mode": "lines",
         "name": "420.0 nm",
         "showlegend": false,
         "type": "scatter",
         "x": [
          0,
          900,
          1802,
          2700,
          3600,
          4502,
          5400
         ],
         "xaxis": "x4",
         "y": [
          2.7409,
          2.7371,
          2.7344,
          2.727,
          2.7222,
          2.7144,
          2.7063
         ],
         "yaxis": "y4"
        },
        {
         "hovertemplate": "%{y:.2f}<br>",
         "line": {
          "color": "#636EFA"
         },
         "mode": "lines",
         "name": "420.0 nm",
         "showlegend": false,
         "type": "scatter",
         "x": [
          0,
          900,
          1802,
          2700,
          3600,
          4502,
          5400
         ],
         "xaxis": "x5",
         "y": [
          -0.0645,
          -0.0622,
          -0.0618,
          -0.0642,
          -0.0658,
          -0.0646,
          -0.065
         ],
         "yaxis": "y5"
        },
        {
         "hovertemplate": "%{y:.2f}<br>",
         "line": {
          "color": "#636EFA"
         },
         "mode": "lines",
         "name": "420.0 nm",
         "showlegend": false,
         "type": "scatter",
         "x": [
          0,
          900,
          1802,
          2700,
          3600,
          4502,
          5400
         ],
         "xaxis": "x6",
         "y": [
          0.23,
          0.2294,
          0.2275,
          0.225,
          0.2211,
          0.2178,
          0.2165
         ],
         "yaxis": "y6"
        },
        {
         "hovertemplate": "%{y:.2f}<br>",
         "line": {
          "color": "#636EFA"
         },
         "mode": "lines",
         "name": "420.0 nm",
         "showlegend": false,
         "type": "scatter",
         "x": [
          0,
          900,
          1802,
          2700,
          3600,
          4502,
          5400
         ],
         "xaxis": "x7",
         "y": [
          1.2477,
          1.2472,
          1.2422,
          1.2361,
          1.232,
          1.2267,
          1.221
         ],
         "yaxis": "y7"
        },
        {
         "hovertemplate": "%{y:.2f}<br>",
         "line": {
          "color": "#636EFA"
         },
         "mode": "lines",
         "name": "420.0 nm",
         "showlegend": false,
         "type": "scatter",
         "x": [
          0,
          900,
          1802,
          2700,
          3600,
          4502,
          5400
         ],
         "xaxis": "x8",
         "y": [
          2.2356,
          2.2346,
          2.2302,
          2.2236,
          2.2176,
          2.2109,
          2.2048
         ],
         "yaxis": "y8"
        },
        {
         "hovertemplate": "%{y:.2f}<br>",
         "line": {
          "color": "#636EFA"
         },
         "mode": "lines",
         "name": "420.0 nm",
         "showlegend": false,
         "type": "scatter",
         "x": [
          0,
          900,
          1802,
          2700,
          3600,
          4502,
          5400
         ],
         "xaxis": "x9",
         "y": [
          3.1345,
          3.1269,
          3.1375,
          3.1251,
          3.1376,
          3.1238,
          3.1441
         ],
         "yaxis": "y9"
        },
        {
         "hovertemplate": "%{y:.2f}<br>",
         "line": {
          "color": "#636EFA"
         },
         "mode": "lines",
         "name": "420.0 nm",
         "showlegend": false,
         "type": "scatter",
         "x": [
          0,
          900,
          1802,
          2700,
          3600,
          4502,
          5400
         ],
         "xaxis": "x10",
         "y": [
          3.1628,
          3.1554,
          3.1636,
          3.1568,
          3.1663,
          3.1486,
          3.1577
         ],
         "yaxis": "y10"
        },
        {
         "hovertemplate": "%{y:.2f}<br>",
         "line": {
          "color": "#636EFA"
         },
         "mode": "lines",
         "name": "420.0 nm",
         "showlegend": false,
         "type": "scatter",
         "x": [
          0,
          900,
          1802,
          2700,
          3600,
          4502,
          5400
         ],
         "xaxis": "x11",
         "y": [
          3.1308,
          3.1247,
          3.1323,
          3.1239,
          3.1333,
          3.1221,
          3.1255
         ],
         "yaxis": "y11"
        },
        {
         "hovertemplate": "%{y:.2f}<br>",
         "line": {
          "color": "#636EFA"
         },
         "mode": "lines",
         "name": "420.0 nm",
         "showlegend": false,
         "type": "scatter",
         "x": [
          0,
          900,
          1802,
          2700,
          3600,
          4502,
          5400
         ],
         "xaxis": "x12",
         "y": [
          3.2064,
          3.1956,
          3.2051,
          3.2074,
          3.2031,
          3.1899,
          3.1997
         ],
         "yaxis": "y12"
        },
        {
         "hovertemplate": "%{y:.2f}<br>",
         "line": {
          "color": "#636EFA"
         },
         "mode": "lines",
         "name": "420.0 nm",
         "showlegend": false,
         "type": "scatter",
         "x": [
          0,
          900,
          1802,
          2700,
          3600,
          4502,
          5400
         ],
         "xaxis": "x16",
         "y": [
          2.6706,
          2.6689,
          2.6671,
          2.662,
          2.6579,
          2.6482,
          2.6428
         ],
         "yaxis": "y16"
        },
        {
         "hovertemplate": "%{y:.2f}<br>",
         "line": {
          "color": "#636EFA"
         },
         "mode": "lines",
         "name": "420.0 nm",
         "showlegend": false,
         "type": "scatter",
         "x": [
          0,
          900,
          1802,
          2700,
          3600,
          4502,
          5400
         ],
         "xaxis": "x17",
         "y": [
          -0.052,
          -0.0503,
          -0.0499,
          -0.0508,
          -0.0509,
          -0.0519,
          -0.0516
         ],
         "yaxis": "y17"
        },
        {
         "hovertemplate": "%{y:.2f}<br>",
         "line": {
          "color": "#636EFA"
         },
         "mode": "lines",
         "name": "420.0 nm",
         "showlegend": false,
         "type": "scatter",
         "x": [
          0,
          900,
          1802,
          2700,
          3600,
          4502,
          5400
         ],
         "xaxis": "x18",
         "y": [
          0.2307,
          0.2318,
          0.228,
          0.2251,
          0.2237,
          0.221,
          0.2202
         ],
         "yaxis": "y18"
        },
        {
         "hovertemplate": "%{y:.2f}<br>",
         "line": {
          "color": "#636EFA"
         },
         "mode": "lines",
         "name": "420.0 nm",
         "showlegend": false,
         "type": "scatter",
         "x": [
          0,
          900,
          1802,
          2700,
          3600,
          4502,
          5400
         ],
         "xaxis": "x19",
         "y": [
          1.2522,
          1.2518,
          1.249,
          1.2439,
          1.24,
          1.2348,
          1.2311
         ],
         "yaxis": "y19"
        },
        {
         "hovertemplate": "%{y:.2f}<br>",
         "line": {
          "color": "#636EFA"
         },
         "mode": "lines",
         "name": "420.0 nm",
         "showlegend": false,
         "type": "scatter",
         "x": [
          0,
          900,
          1802,
          2700,
          3600,
          4502,
          5400
         ],
         "xaxis": "x20",
         "y": [
          2.2376,
          2.2357,
          2.2322,
          2.226,
          2.2192,
          2.2118,
          2.2081
         ],
         "yaxis": "y20"
        },
        {
         "hovertemplate": "%{y:.2f}<br>",
         "line": {
          "color": "#636EFA"
         },
         "mode": "lines",
         "name": "420.0 nm",
         "showlegend": false,
         "type": "scatter",
         "x": [
          0,
          900,
          1802,
          2700,
          3600,
          4502,
          5400
         ],
         "xaxis": "x21",
         "y": [
          2.9437,
          2.9352,
          2.9449,
          2.9431,
          2.9398,
          2.9344,
          2.9416
         ],
         "yaxis": "y21"
        },
        {
         "hovertemplate": "%{y:.2f}<br>",
         "line": {
          "color": "#636EFA"
         },
         "mode": "lines",
         "name": "420.0 nm",
         "showlegend": false,
         "type": "scatter",
         "x": [
          0,
          900,
          1802,
          2700,
          3600,
          4502,
          5400
         ],
         "xaxis": "x22",
         "y": [
          2.9484,
          2.9436,
          2.9541,
          2.9459,
          2.9616,
          2.9514,
          2.9461
         ],
         "yaxis": "y22"
        },
        {
         "hovertemplate": "%{y:.2f}<br>",
         "line": {
          "color": "#636EFA"
         },
         "mode": "lines",
         "name": "420.0 nm",
         "showlegend": false,
         "type": "scatter",
         "x": [
          0,
          900,
          1802,
          2700,
          3600,
          4502,
          5400
         ],
         "xaxis": "x23",
         "y": [
          2.9348,
          2.9221,
          2.9331,
          2.9435,
          2.9345,
          2.9297,
          2.9385
         ],
         "yaxis": "y23"
        },
        {
         "hovertemplate": "%{y:.2f}<br>",
         "line": {
          "color": "#636EFA"
         },
         "mode": "lines",
         "name": "420.0 nm",
         "showlegend": false,
         "type": "scatter",
         "x": [
          0,
          900,
          1802,
          2700,
          3600,
          4502,
          5400
         ],
         "xaxis": "x24",
         "y": [
          3.1541,
          3.1371,
          3.1454,
          3.1578,
          3.1512,
          3.1575,
          3.1425
         ],
         "yaxis": "y24"
        },
        {
         "hovertemplate": "%{y:.2f}<br>",
         "line": {
          "color": "#636EFA"
         },
         "mode": "lines",
         "name": "420.0 nm",
         "showlegend": false,
         "type": "scatter",
         "x": [
          0,
          900,
          1802,
          2700,
          3600,
          4502,
          5400
         ],
         "xaxis": "x56",
         "y": [
          2.6871,
          2.6848,
          2.6816,
          2.6793,
          2.6681,
          2.6676,
          2.6673
         ],
         "yaxis": "y56"
        },
        {
         "hovertemplate": "%{y:.2f}<br>",
         "line": {
          "color": "#636EFA"
         },
         "mode": "lines",
         "name": "420.0 nm",
         "showlegend": false,
         "type": "scatter",
         "x": [
          0,
          900,
          1802,
          2700,
          3600,
          4502,
          5400
         ],
         "xaxis": "x29",
         "y": [
          -0.0576,
          -0.0569,
          -0.0574,
          -0.0584,
          -0.0581,
          -0.0589,
          -0.0581
         ],
         "yaxis": "y29"
        },
        {
         "hovertemplate": "%{y:.2f}<br>",
         "line": {
          "color": "#636EFA"
         },
         "mode": "lines",
         "name": "420.0 nm",
         "showlegend": false,
         "type": "scatter",
         "x": [
          0,
          900,
          1802,
          2700,
          3600,
          4502,
          5400
         ],
         "xaxis": "x30",
         "y": [
          0.2291,
          0.2311,
          0.2278,
          0.2243,
          0.2222,
          0.2194,
          0.2184
         ],
         "yaxis": "y30"
        },
        {
         "hovertemplate": "%{y:.2f}<br>",
         "line": {
          "color": "#636EFA"
         },
         "mode": "lines",
         "name": "420.0 nm",
         "showlegend": false,
         "type": "scatter",
         "x": [
          0,
          900,
          1802,
          2700,
          3600,
          4502,
          5400
         ],
         "xaxis": "x31",
         "y": [
          1.2501,
          1.2499,
          1.2466,
          1.2406,
          1.2373,
          1.232,
          1.2269
         ],
         "yaxis": "y31"
        },
        {
         "hovertemplate": "%{y:.2f}<br>",
         "line": {
          "color": "#636EFA"
         },
         "mode": "lines",
         "name": "420.0 nm",
         "showlegend": false,
         "type": "scatter",
         "x": [
          0,
          900,
          1802,
          2700,
          3600,
          4502,
          5400
         ],
         "xaxis": "x32",
         "y": [
          2.3136,
          2.3141,
          2.3097,
          2.303,
          2.2946,
          2.2904,
          2.2809
         ],
         "yaxis": "y32"
        },
        {
         "hovertemplate": "%{y:.2f}<br>",
         "line": {
          "color": "#636EFA"
         },
         "mode": "lines",
         "name": "420.0 nm",
         "showlegend": false,
         "type": "scatter",
         "x": [
          0,
          900,
          1802,
          2700,
          3600,
          4502,
          5400
         ],
         "xaxis": "x33",
         "y": [
          2.9273,
          2.9377,
          2.9374,
          2.9266,
          2.9347,
          2.9219,
          2.9224
         ],
         "yaxis": "y33"
        },
        {
         "hovertemplate": "%{y:.2f}<br>",
         "line": {
          "color": "#636EFA"
         },
         "mode": "lines",
         "name": "420.0 nm",
         "showlegend": false,
         "type": "scatter",
         "x": [
          0,
          900,
          1802,
          2700,
          3600,
          4502,
          5400
         ],
         "xaxis": "x34",
         "y": [
          2.929,
          2.9243,
          2.929,
          2.9274,
          2.9381,
          2.9282,
          2.9268
         ],
         "yaxis": "y34"
        },
        {
         "hovertemplate": "%{y:.2f}<br>",
         "line": {
          "color": "#636EFA"
         },
         "mode": "lines",
         "name": "420.0 nm",
         "showlegend": false,
         "type": "scatter",
         "x": [
          0,
          900,
          1802,
          2700,
          3600,
          4502,
          5400
         ],
         "xaxis": "x35",
         "y": [
          2.9311,
          2.9236,
          2.9293,
          2.9294,
          2.9318,
          2.9268,
          2.9282
         ],
         "yaxis": "y35"
        },
        {
         "hovertemplate": "%{y:.2f}<br>",
         "line": {
          "color": "#636EFA"
         },
         "mode": "lines",
         "name": "420.0 nm",
         "showlegend": false,
         "type": "scatter",
         "x": [
          0,
          900,
          1802,
          2700,
          3600,
          4502,
          5400
         ],
         "xaxis": "x36",
         "y": [
          3.1041,
          3.0966,
          3.1153,
          3.1024,
          3.1144,
          3.1043,
          3.1043
         ],
         "yaxis": "y36"
        },
        {
         "hovertemplate": "%{y:.2f}<br>",
         "line": {
          "color": "#636EFA"
         },
         "mode": "lines",
         "name": "420.0 nm",
         "showlegend": false,
         "type": "scatter",
         "x": [
          0,
          900,
          1802,
          2700,
          3600,
          4502,
          5400
         ],
         "xaxis": "x68",
         "y": [
          2.6902,
          2.6869,
          2.6862,
          2.6823,
          2.6732,
          2.6675,
          2.6611
         ],
         "yaxis": "y68"
        },
        {
         "hovertemplate": "%{y:.2f}<br>",
         "line": {
          "color": "#636EFA"
         },
         "mode": "lines",
         "name": "420.0 nm",
         "showlegend": false,
         "type": "scatter",
         "x": [
          0,
          900,
          1802,
          2700,
          3600,
          4502,
          5400
         ],
         "xaxis": "x41",
         "y": [
          -0.0567,
          -0.0538,
          -0.0543,
          -0.0549,
          -0.0552,
          -0.0546,
          -0.0538
         ],
         "yaxis": "y41"
        },
        {
         "hovertemplate": "%{y:.2f}<br>",
         "line": {
          "color": "#636EFA"
         },
         "mode": "lines",
         "name": "420.0 nm",
         "showlegend": false,
         "type": "scatter",
         "x": [
          0,
          900,
          1802,
          2700,
          3600,
          4502,
          5400
         ],
         "xaxis": "x42",
         "y": [
          0.2319,
          0.2334,
          0.2306,
          0.2282,
          0.2267,
          0.2244,
          0.2229
         ],
         "yaxis": "y42"
        },
        {
         "hovertemplate": "%{y:.2f}<br>",
         "line": {
          "color": "#636EFA"
         },
         "mode": "lines",
         "name": "420.0 nm",
         "showlegend": false,
         "type": "scatter",
         "x": [
          0,
          900,
          1802,
          2700,
          3600,
          4502,
          5400
         ],
         "xaxis": "x43",
         "y": [
          1.2068,
          1.2088,
          1.2039,
          1.1984,
          1.1945,
          1.1877,
          1.1843
         ],
         "yaxis": "y43"
        },
        {
         "hovertemplate": "%{y:.2f}<br>",
         "line": {
          "color": "#636EFA"
         },
         "mode": "lines",
         "name": "420.0 nm",
         "showlegend": false,
         "type": "scatter",
         "x": [
          0,
          900,
          1802,
          2700,
          3600,
          4502,
          5400
         ],
         "xaxis": "x44",
         "y": [
          2.2821,
          2.2808,
          2.2791,
          2.2713,
          2.2658,
          2.2568,
          2.2504
         ],
         "yaxis": "y44"
        },
        {
         "hovertemplate": "%{y:.2f}<br>",
         "line": {
          "color": "#636EFA"
         },
         "mode": "lines",
         "name": "420.0 nm",
         "showlegend": false,
         "type": "scatter",
         "x": [
          0,
          900,
          1802,
          2700,
          3600,
          4502,
          5400
         ],
         "xaxis": "x45",
         "y": [
          2.9351,
          2.9375,
          2.9455,
          2.9402,
          2.9382,
          2.9384,
          2.9388
         ],
         "yaxis": "y45"
        },
        {
         "hovertemplate": "%{y:.2f}<br>",
         "line": {
          "color": "#636EFA"
         },
         "mode": "lines",
         "name": "420.0 nm",
         "showlegend": false,
         "type": "scatter",
         "x": [
          0,
          900,
          1802,
          2700,
          3600,
          4502,
          5400
         ],
         "xaxis": "x46",
         "y": [
          2.9514,
          2.9405,
          2.9493,
          2.9484,
          2.9485,
          2.9409,
          2.9451
         ],
         "yaxis": "y46"
        },
        {
         "hovertemplate": "%{y:.2f}<br>",
         "line": {
          "color": "#636EFA"
         },
         "mode": "lines",
         "name": "420.0 nm",
         "showlegend": false,
         "type": "scatter",
         "x": [
          0,
          900,
          1802,
          2700,
          3600,
          4502,
          5400
         ],
         "xaxis": "x47",
         "y": [
          2.9395,
          2.9224,
          2.9388,
          2.9412,
          2.9417,
          2.9357,
          2.9404
         ],
         "yaxis": "y47"
        },
        {
         "hovertemplate": "%{y:.2f}<br>",
         "line": {
          "color": "#636EFA"
         },
         "mode": "lines",
         "name": "420.0 nm",
         "showlegend": false,
         "type": "scatter",
         "x": [
          0,
          900,
          1802,
          2700,
          3600,
          4502,
          5400
         ],
         "xaxis": "x48",
         "y": [
          3.0946,
          3.0809,
          3.0938,
          3.0941,
          3.0991,
          3.088,
          3.0872
         ],
         "yaxis": "y48"
        },
        {
         "hovertemplate": "%{y:.2f}<br>",
         "line": {
          "color": "#636EFA"
         },
         "mode": "lines",
         "name": "420.0 nm",
         "showlegend": false,
         "type": "scatter",
         "x": [
          0,
          900,
          1802,
          2700,
          3600,
          4502,
          5400
         ],
         "xaxis": "x52",
         "y": [
          -0.0431,
          -0.0407,
          -0.0407,
          -0.0397,
          -0.039,
          -0.0404,
          -0.0386
         ],
         "yaxis": "y52"
        },
        {
         "hovertemplate": "%{y:.2f}<br>",
         "line": {
          "color": "#636EFA"
         },
         "mode": "lines",
         "name": "420.0 nm",
         "showlegend": false,
         "type": "scatter",
         "x": [
          0,
          900,
          1802,
          2700,
          3600,
          4502,
          5400
         ],
         "xaxis": "x53",
         "y": [
          -0.0262,
          -0.0245,
          -0.025,
          -0.0271,
          -0.0274,
          -0.0285,
          -0.0293
         ],
         "yaxis": "y53"
        },
        {
         "hovertemplate": "%{y:.2f}<br>",
         "line": {
          "color": "#636EFA"
         },
         "mode": "lines",
         "name": "420.0 nm",
         "showlegend": false,
         "type": "scatter",
         "x": [
          0,
          900,
          1802,
          2700,
          3600,
          4502,
          5400
         ],
         "xaxis": "x54",
         "y": [
          0.579,
          0.5806,
          0.5777,
          0.5727,
          0.5697,
          0.565,
          0.5601
         ],
         "yaxis": "y54"
        },
        {
         "hovertemplate": "%{y:.2f}<br>",
         "line": {
          "color": "#636EFA"
         },
         "mode": "lines",
         "name": "420.0 nm",
         "showlegend": false,
         "type": "scatter",
         "x": [
          0,
          900,
          1802,
          2700,
          3600,
          4502,
          5400
         ],
         "xaxis": "x55",
         "y": [
          1.7883,
          1.7865,
          1.7828,
          1.7752,
          1.7693,
          1.7628,
          1.7568
         ],
         "yaxis": "y55"
        },
        {
         "hovertemplate": "%{y:.2f}<br>",
         "line": {
          "color": "#636EFA"
         },
         "mode": "lines",
         "name": "420.0 nm",
         "showlegend": false,
         "type": "scatter",
         "x": [
          0,
          900,
          1802,
          2700,
          3600,
          4502,
          5400
         ],
         "xaxis": "x57",
         "y": [
          2.9347,
          2.9302,
          2.9384,
          2.9355,
          2.9506,
          2.9346,
          2.9328
         ],
         "yaxis": "y57"
        },
        {
         "hovertemplate": "%{y:.2f}<br>",
         "line": {
          "color": "#636EFA"
         },
         "mode": "lines",
         "name": "420.0 nm",
         "showlegend": false,
         "type": "scatter",
         "x": [
          0,
          900,
          1802,
          2700,
          3600,
          4502,
          5400
         ],
         "xaxis": "x58",
         "y": [
          2.9395,
          2.922,
          2.9295,
          2.9322,
          2.9316,
          2.9285,
          2.9271
         ],
         "yaxis": "y58"
        },
        {
         "hovertemplate": "%{y:.2f}<br>",
         "line": {
          "color": "#636EFA"
         },
         "mode": "lines",
         "name": "420.0 nm",
         "showlegend": false,
         "type": "scatter",
         "x": [
          0,
          900,
          1802,
          2700,
          3600,
          4502,
          5400
         ],
         "xaxis": "x60",
         "y": [
          -0.0423,
          -0.0384,
          -0.0366,
          -0.0364,
          -0.0337,
          -0.0326,
          -0.0307
         ],
         "yaxis": "y60"
        },
        {
         "hovertemplate": "%{y:.2f}<br>",
         "line": {
          "color": "#636EFA"
         },
         "mode": "lines",
         "name": "420.0 nm",
         "showlegend": false,
         "type": "scatter",
         "x": [
          0,
          900,
          1802,
          2700,
          3600,
          4502,
          5400
         ],
         "xaxis": "x64",
         "y": [
          -0.0556,
          -0.053,
          -0.0549,
          -0.0547,
          -0.0534,
          -0.0535,
          -0.0483
         ],
         "yaxis": "y64"
        },
        {
         "hovertemplate": "%{y:.2f}<br>",
         "line": {
          "color": "#636EFA"
         },
         "mode": "lines",
         "name": "420.0 nm",
         "showlegend": false,
         "type": "scatter",
         "x": [
          0,
          900,
          1802,
          2700,
          3600,
          4502,
          5400
         ],
         "xaxis": "x65",
         "y": [
          -0.0265,
          -0.026,
          -0.0276,
          -0.029,
          -0.0286,
          -0.0295,
          -0.0304
         ],
         "yaxis": "y65"
        },
        {
         "hovertemplate": "%{y:.2f}<br>",
         "line": {
          "color": "#636EFA"
         },
         "mode": "lines",
         "name": "420.0 nm",
         "showlegend": false,
         "type": "scatter",
         "x": [
          0,
          900,
          1802,
          2700,
          3600,
          4502,
          5400
         ],
         "xaxis": "x66",
         "y": [
          0.5764,
          0.5757,
          0.5733,
          0.5688,
          0.5673,
          0.5636,
          0.5605
         ],
         "yaxis": "y66"
        },
        {
         "hovertemplate": "%{y:.2f}<br>",
         "line": {
          "color": "#636EFA"
         },
         "mode": "lines",
         "name": "420.0 nm",
         "showlegend": false,
         "type": "scatter",
         "x": [
          0,
          900,
          1802,
          2700,
          3600,
          4502,
          5400
         ],
         "xaxis": "x67",
         "y": [
          1.8005,
          1.7958,
          1.7904,
          1.7829,
          1.7776,
          1.7712,
          1.765
         ],
         "yaxis": "y67"
        },
        {
         "hovertemplate": "%{y:.2f}<br>",
         "line": {
          "color": "#636EFA"
         },
         "mode": "lines",
         "name": "420.0 nm",
         "showlegend": false,
         "type": "scatter",
         "x": [
          0,
          900,
          1802,
          2700,
          3600,
          4502,
          5400
         ],
         "xaxis": "x93",
         "y": [
          3.0639,
          3.044,
          3.0576,
          3.0625,
          3.0678,
          3.0572,
          3.0519
         ],
         "yaxis": "y93"
        },
        {
         "hovertemplate": "%{y:.2f}<br>",
         "line": {
          "color": "#636EFA"
         },
         "mode": "lines",
         "name": "420.0 nm",
         "showlegend": false,
         "type": "scatter",
         "x": [
          0,
          900,
          1802,
          2700,
          3600,
          4502,
          5400
         ],
         "xaxis": "x70",
         "y": [
          2.91,
          2.8975,
          2.9074,
          2.9117,
          2.9156,
          2.9062,
          2.9082
         ],
         "yaxis": "y70"
        },
        {
         "hovertemplate": "%{y:.2f}<br>",
         "line": {
          "color": "#636EFA"
         },
         "mode": "lines",
         "name": "420.0 nm",
         "showlegend": false,
         "type": "scatter",
         "x": [
          0,
          900,
          1802,
          2700,
          3600,
          4502,
          5400
         ],
         "xaxis": "x72",
         "y": [
          -0.0515,
          -0.0484,
          -0.0475,
          -0.0481,
          -0.0479,
          -0.0469,
          -0.0445
         ],
         "yaxis": "y72"
        },
        {
         "hovertemplate": "%{y:.2f}<br>",
         "line": {
          "color": "#636EFA"
         },
         "mode": "lines",
         "name": "420.0 nm",
         "showlegend": false,
         "type": "scatter",
         "x": [
          0,
          900,
          1802,
          2700,
          3600,
          4502,
          5400
         ],
         "xaxis": "x76",
         "y": [
          -0.0524,
          -0.0506,
          -0.0509,
          -0.0503,
          -0.0497,
          -0.0494,
          -0.0463
         ],
         "yaxis": "y76"
        },
        {
         "hovertemplate": "%{y:.2f}<br>",
         "line": {
          "color": "#636EFA"
         },
         "mode": "lines",
         "name": "420.0 nm",
         "showlegend": false,
         "type": "scatter",
         "x": [
          0,
          900,
          1802,
          2700,
          3600,
          4502,
          5400
         ],
         "xaxis": "x77",
         "y": [
          -0.0322,
          -0.0319,
          -0.0318,
          -0.0355,
          -0.0353,
          -0.0362,
          -0.037
         ],
         "yaxis": "y77"
        },
        {
         "hovertemplate": "%{y:.2f}<br>",
         "line": {
          "color": "#636EFA"
         },
         "mode": "lines",
         "name": "420.0 nm",
         "showlegend": false,
         "type": "scatter",
         "x": [
          0,
          900,
          1802,
          2700,
          3600,
          4502,
          5400
         ],
         "xaxis": "x78",
         "y": [
          0.5653,
          0.5621,
          0.5584,
          0.5542,
          0.5517,
          0.5457,
          0.5442
         ],
         "yaxis": "y78"
        },
        {
         "hovertemplate": "%{y:.2f}<br>",
         "line": {
          "color": "#636EFA"
         },
         "mode": "lines",
         "name": "420.0 nm",
         "showlegend": false,
         "type": "scatter",
         "x": [
          0,
          900,
          1802,
          2700,
          3600,
          4502,
          5400
         ],
         "xaxis": "x79",
         "y": [
          1.8494,
          1.8439,
          1.8352,
          1.8284,
          1.8206,
          1.8129,
          1.8052
         ],
         "yaxis": "y79"
        },
        {
         "hovertemplate": "%{y:.2f}<br>",
         "line": {
          "color": "#636EFA"
         },
         "mode": "lines",
         "name": "420.0 nm",
         "showlegend": false,
         "type": "scatter",
         "x": [
          0,
          900,
          1802,
          2700,
          3600,
          4502,
          5400
         ],
         "xaxis": "x82",
         "y": [
          2.9616,
          2.9549,
          2.9625,
          2.953,
          2.9618,
          2.9588,
          2.9573
         ],
         "yaxis": "y82"
        },
        {
         "hovertemplate": "%{y:.2f}<br>",
         "line": {
          "color": "#636EFA"
         },
         "mode": "lines",
         "name": "420.0 nm",
         "showlegend": false,
         "type": "scatter",
         "x": [
          0,
          900,
          1802,
          2700,
          3600,
          4502,
          5400
         ],
         "xaxis": "x84",
         "y": [
          -0.0484,
          -0.0434,
          -0.0413,
          -0.0396,
          -0.0384,
          -0.036,
          -0.0356
         ],
         "yaxis": "y84"
        },
        {
         "hovertemplate": "%{y:.2f}<br>",
         "line": {
          "color": "#636EFA"
         },
         "mode": "lines",
         "name": "420.0 nm",
         "showlegend": false,
         "type": "scatter",
         "x": [
          0,
          900,
          1802,
          2700,
          3600,
          4502,
          5400
         ],
         "xaxis": "x88",
         "y": [
          -0.052,
          -0.051,
          -0.0502,
          -0.0507,
          -0.0513,
          -0.0476,
          -0.0479
         ],
         "yaxis": "y88"
        },
        {
         "hovertemplate": "%{y:.2f}<br>",
         "line": {
          "color": "#636EFA"
         },
         "mode": "lines",
         "name": "420.0 nm",
         "showlegend": false,
         "type": "scatter",
         "x": [
          0,
          900,
          1802,
          2700,
          3600,
          4502,
          5400
         ],
         "xaxis": "x89",
         "y": [
          -0.0374,
          -0.0372,
          -0.0381,
          -0.0399,
          -0.0397,
          -0.0402,
          -0.0407
         ],
         "yaxis": "y89"
        },
        {
         "hovertemplate": "%{y:.2f}<br>",
         "line": {
          "color": "#636EFA"
         },
         "mode": "lines",
         "name": "420.0 nm",
         "showlegend": false,
         "type": "scatter",
         "x": [
          0,
          900,
          1802,
          2700,
          3600,
          4502,
          5400
         ],
         "xaxis": "x90",
         "y": [
          0.5552,
          0.5537,
          0.5511,
          0.5456,
          0.5429,
          0.5395,
          0.5369
         ],
         "yaxis": "y90"
        },
        {
         "hovertemplate": "%{y:.2f}<br>",
         "line": {
          "color": "#636EFA"
         },
         "mode": "lines",
         "name": "420.0 nm",
         "showlegend": false,
         "type": "scatter",
         "x": [
          0,
          900,
          1802,
          2700,
          3600,
          4502,
          5400
         ],
         "xaxis": "x91",
         "y": [
          1.7858,
          1.783,
          1.7756,
          1.7658,
          1.7582,
          1.751,
          1.7419
         ],
         "yaxis": "y91"
        },
        {
         "hovertemplate": "%{y:.2f}<br>",
         "line": {
          "color": "#636EFA"
         },
         "mode": "lines",
         "name": "420.0 nm",
         "showlegend": false,
         "type": "scatter",
         "x": [
          0,
          900,
          1802,
          2700,
          3600,
          4502,
          5400
         ],
         "xaxis": "x94",
         "y": [
          3.0814,
          3.0656,
          3.0821,
          3.0776,
          3.086,
          3.0779,
          3.0809
         ],
         "yaxis": "y94"
        },
        {
         "hovertemplate": "%{y:.2f}<br>",
         "line": {
          "color": "#636EFA"
         },
         "mode": "lines",
         "name": "420.0 nm",
         "showlegend": false,
         "type": "scatter",
         "x": [
          0,
          900,
          1802,
          2700,
          3600,
          4502,
          5400
         ],
         "xaxis": "x96",
         "y": [
          -0.053,
          -0.0519,
          -0.0515,
          -0.0506,
          -0.0505,
          -0.0502,
          -0.0462
         ],
         "yaxis": "y96"
        }
       ],
       "layout": {
        "annotations": [
         {
          "font": {
           "size": 16
          },
          "showarrow": false,
          "text": "A1",
          "x": 0.034027777777777775,
          "xanchor": "center",
          "xref": "paper",
          "y": 1,
          "yanchor": "bottom",
          "yref": "paper"
         },
         {
          "font": {
           "size": 16
          },
          "showarrow": false,
          "text": "A2",
          "x": 0.11875,
          "xanchor": "center",
          "xref": "paper",
          "y": 1,
          "yanchor": "bottom",
          "yref": "paper"
         },
         {
          "font": {
           "size": 16
          },
          "showarrow": false,
          "text": "A3",
          "x": 0.20347222222222222,
          "xanchor": "center",
          "xref": "paper",
          "y": 1,
          "yanchor": "bottom",
          "yref": "paper"
         },
         {
          "font": {
           "size": 16
          },
          "showarrow": false,
          "text": "A4",
          "x": 0.2881944444444444,
          "xanchor": "center",
          "xref": "paper",
          "y": 1,
          "yanchor": "bottom",
          "yref": "paper"
         },
         {
          "font": {
           "size": 16
          },
          "showarrow": false,
          "text": "A5",
          "x": 0.3729166666666666,
          "xanchor": "center",
          "xref": "paper",
          "y": 1,
          "yanchor": "bottom",
          "yref": "paper"
         },
         {
          "font": {
           "size": 16
          },
          "showarrow": false,
          "text": "A6",
          "x": 0.4576388888888888,
          "xanchor": "center",
          "xref": "paper",
          "y": 1,
          "yanchor": "bottom",
          "yref": "paper"
         },
         {
          "font": {
           "size": 16
          },
          "showarrow": false,
          "text": "A7",
          "x": 0.5423611111111111,
          "xanchor": "center",
          "xref": "paper",
          "y": 1,
          "yanchor": "bottom",
          "yref": "paper"
         },
         {
          "font": {
           "size": 16
          },
          "showarrow": false,
          "text": "A8",
          "x": 0.6270833333333332,
          "xanchor": "center",
          "xref": "paper",
          "y": 1,
          "yanchor": "bottom",
          "yref": "paper"
         },
         {
          "font": {
           "size": 16
          },
          "showarrow": false,
          "text": "A9",
          "x": 0.7118055555555555,
          "xanchor": "center",
          "xref": "paper",
          "y": 1,
          "yanchor": "bottom",
          "yref": "paper"
         },
         {
          "font": {
           "size": 16
          },
          "showarrow": false,
          "text": "A10",
          "x": 0.7965277777777777,
          "xanchor": "center",
          "xref": "paper",
          "y": 1,
          "yanchor": "bottom",
          "yref": "paper"
         },
         {
          "font": {
           "size": 16
          },
          "showarrow": false,
          "text": "A11",
          "x": 0.8812499999999999,
          "xanchor": "center",
          "xref": "paper",
          "y": 1,
          "yanchor": "bottom",
          "yref": "paper"
         },
         {
          "font": {
           "size": 16
          },
          "showarrow": false,
          "text": "A12",
          "x": 0.9659722222222221,
          "xanchor": "center",
          "xref": "paper",
          "y": 1,
          "yanchor": "bottom",
          "yref": "paper"
         },
         {
          "font": {
           "size": 16
          },
          "showarrow": false,
          "text": "B1",
          "x": 0.034027777777777775,
          "xanchor": "center",
          "xref": "paper",
          "y": 0.8671875,
          "yanchor": "bottom",
          "yref": "paper"
         },
         {
          "font": {
           "size": 16
          },
          "showarrow": false,
          "text": "B2",
          "x": 0.11875,
          "xanchor": "center",
          "xref": "paper",
          "y": 0.8671875,
          "yanchor": "bottom",
          "yref": "paper"
         },
         {
          "font": {
           "size": 16
          },
          "showarrow": false,
          "text": "B3",
          "x": 0.20347222222222222,
          "xanchor": "center",
          "xref": "paper",
          "y": 0.8671875,
          "yanchor": "bottom",
          "yref": "paper"
         },
         {
          "font": {
           "size": 16
          },
          "showarrow": false,
          "text": "B4",
          "x": 0.2881944444444444,
          "xanchor": "center",
          "xref": "paper",
          "y": 0.8671875,
          "yanchor": "bottom",
          "yref": "paper"
         },
         {
          "font": {
           "size": 16
          },
          "showarrow": false,
          "text": "B5",
          "x": 0.3729166666666666,
          "xanchor": "center",
          "xref": "paper",
          "y": 0.8671875,
          "yanchor": "bottom",
          "yref": "paper"
         },
         {
          "font": {
           "size": 16
          },
          "showarrow": false,
          "text": "B6",
          "x": 0.4576388888888888,
          "xanchor": "center",
          "xref": "paper",
          "y": 0.8671875,
          "yanchor": "bottom",
          "yref": "paper"
         },
         {
          "font": {
           "size": 16
          },
          "showarrow": false,
          "text": "B7",
          "x": 0.5423611111111111,
          "xanchor": "center",
          "xref": "paper",
          "y": 0.8671875,
          "yanchor": "bottom",
          "yref": "paper"
         },
         {
          "font": {
           "size": 16
          },
          "showarrow": false,
          "text": "B8",
          "x": 0.6270833333333332,
          "xanchor": "center",
          "xref": "paper",
          "y": 0.8671875,
          "yanchor": "bottom",
          "yref": "paper"
         },
         {
          "font": {
           "size": 16
          },
          "showarrow": false,
          "text": "B9",
          "x": 0.7118055555555555,
          "xanchor": "center",
          "xref": "paper",
          "y": 0.8671875,
          "yanchor": "bottom",
          "yref": "paper"
         },
         {
          "font": {
           "size": 16
          },
          "showarrow": false,
          "text": "B10",
          "x": 0.7965277777777777,
          "xanchor": "center",
          "xref": "paper",
          "y": 0.8671875,
          "yanchor": "bottom",
          "yref": "paper"
         },
         {
          "font": {
           "size": 16
          },
          "showarrow": false,
          "text": "B11",
          "x": 0.8812499999999999,
          "xanchor": "center",
          "xref": "paper",
          "y": 0.8671875,
          "yanchor": "bottom",
          "yref": "paper"
         },
         {
          "font": {
           "size": 16
          },
          "showarrow": false,
          "text": "B12",
          "x": 0.9659722222222221,
          "xanchor": "center",
          "xref": "paper",
          "y": 0.8671875,
          "yanchor": "bottom",
          "yref": "paper"
         },
         {
          "font": {
           "size": 16
          },
          "showarrow": false,
          "text": "C1",
          "x": 0.034027777777777775,
          "xanchor": "center",
          "xref": "paper",
          "y": 0.734375,
          "yanchor": "bottom",
          "yref": "paper"
         },
         {
          "font": {
           "size": 16
          },
          "showarrow": false,
          "text": "C2",
          "x": 0.11875,
          "xanchor": "center",
          "xref": "paper",
          "y": 0.734375,
          "yanchor": "bottom",
          "yref": "paper"
         },
         {
          "font": {
           "size": 16
          },
          "showarrow": false,
          "text": "C3",
          "x": 0.20347222222222222,
          "xanchor": "center",
          "xref": "paper",
          "y": 0.734375,
          "yanchor": "bottom",
          "yref": "paper"
         },
         {
          "font": {
           "size": 16
          },
          "showarrow": false,
          "text": "C4",
          "x": 0.2881944444444444,
          "xanchor": "center",
          "xref": "paper",
          "y": 0.734375,
          "yanchor": "bottom",
          "yref": "paper"
         },
         {
          "font": {
           "size": 16
          },
          "showarrow": false,
          "text": "C5",
          "x": 0.3729166666666666,
          "xanchor": "center",
          "xref": "paper",
          "y": 0.734375,
          "yanchor": "bottom",
          "yref": "paper"
         },
         {
          "font": {
           "size": 16
          },
          "showarrow": false,
          "text": "C6",
          "x": 0.4576388888888888,
          "xanchor": "center",
          "xref": "paper",
          "y": 0.734375,
          "yanchor": "bottom",
          "yref": "paper"
         },
         {
          "font": {
           "size": 16
          },
          "showarrow": false,
          "text": "C7",
          "x": 0.5423611111111111,
          "xanchor": "center",
          "xref": "paper",
          "y": 0.734375,
          "yanchor": "bottom",
          "yref": "paper"
         },
         {
          "font": {
           "size": 16
          },
          "showarrow": false,
          "text": "C8",
          "x": 0.6270833333333332,
          "xanchor": "center",
          "xref": "paper",
          "y": 0.734375,
          "yanchor": "bottom",
          "yref": "paper"
         },
         {
          "font": {
           "size": 16
          },
          "showarrow": false,
          "text": "C9",
          "x": 0.7118055555555555,
          "xanchor": "center",
          "xref": "paper",
          "y": 0.734375,
          "yanchor": "bottom",
          "yref": "paper"
         },
         {
          "font": {
           "size": 16
          },
          "showarrow": false,
          "text": "C10",
          "x": 0.7965277777777777,
          "xanchor": "center",
          "xref": "paper",
          "y": 0.734375,
          "yanchor": "bottom",
          "yref": "paper"
         },
         {
          "font": {
           "size": 16
          },
          "showarrow": false,
          "text": "C11",
          "x": 0.8812499999999999,
          "xanchor": "center",
          "xref": "paper",
          "y": 0.734375,
          "yanchor": "bottom",
          "yref": "paper"
         },
         {
          "font": {
           "size": 16
          },
          "showarrow": false,
          "text": "C12",
          "x": 0.9659722222222221,
          "xanchor": "center",
          "xref": "paper",
          "y": 0.734375,
          "yanchor": "bottom",
          "yref": "paper"
         },
         {
          "font": {
           "size": 16
          },
          "showarrow": false,
          "text": "D1",
          "x": 0.034027777777777775,
          "xanchor": "center",
          "xref": "paper",
          "y": 0.6015625,
          "yanchor": "bottom",
          "yref": "paper"
         },
         {
          "font": {
           "size": 16
          },
          "showarrow": false,
          "text": "D2",
          "x": 0.11875,
          "xanchor": "center",
          "xref": "paper",
          "y": 0.6015625,
          "yanchor": "bottom",
          "yref": "paper"
         },
         {
          "font": {
           "size": 16
          },
          "showarrow": false,
          "text": "D3",
          "x": 0.20347222222222222,
          "xanchor": "center",
          "xref": "paper",
          "y": 0.6015625,
          "yanchor": "bottom",
          "yref": "paper"
         },
         {
          "font": {
           "size": 16
          },
          "showarrow": false,
          "text": "D4",
          "x": 0.2881944444444444,
          "xanchor": "center",
          "xref": "paper",
          "y": 0.6015625,
          "yanchor": "bottom",
          "yref": "paper"
         },
         {
          "font": {
           "size": 16
          },
          "showarrow": false,
          "text": "D5",
          "x": 0.3729166666666666,
          "xanchor": "center",
          "xref": "paper",
          "y": 0.6015625,
          "yanchor": "bottom",
          "yref": "paper"
         },
         {
          "font": {
           "size": 16
          },
          "showarrow": false,
          "text": "D6",
          "x": 0.4576388888888888,
          "xanchor": "center",
          "xref": "paper",
          "y": 0.6015625,
          "yanchor": "bottom",
          "yref": "paper"
         },
         {
          "font": {
           "size": 16
          },
          "showarrow": false,
          "text": "D7",
          "x": 0.5423611111111111,
          "xanchor": "center",
          "xref": "paper",
          "y": 0.6015625,
          "yanchor": "bottom",
          "yref": "paper"
         },
         {
          "font": {
           "size": 16
          },
          "showarrow": false,
          "text": "D8",
          "x": 0.6270833333333332,
          "xanchor": "center",
          "xref": "paper",
          "y": 0.6015625,
          "yanchor": "bottom",
          "yref": "paper"
         },
         {
          "font": {
           "size": 16
          },
          "showarrow": false,
          "text": "D9",
          "x": 0.7118055555555555,
          "xanchor": "center",
          "xref": "paper",
          "y": 0.6015625,
          "yanchor": "bottom",
          "yref": "paper"
         },
         {
          "font": {
           "size": 16
          },
          "showarrow": false,
          "text": "D10",
          "x": 0.7965277777777777,
          "xanchor": "center",
          "xref": "paper",
          "y": 0.6015625,
          "yanchor": "bottom",
          "yref": "paper"
         },
         {
          "font": {
           "size": 16
          },
          "showarrow": false,
          "text": "D11",
          "x": 0.8812499999999999,
          "xanchor": "center",
          "xref": "paper",
          "y": 0.6015625,
          "yanchor": "bottom",
          "yref": "paper"
         },
         {
          "font": {
           "size": 16
          },
          "showarrow": false,
          "text": "D12",
          "x": 0.9659722222222221,
          "xanchor": "center",
          "xref": "paper",
          "y": 0.6015625,
          "yanchor": "bottom",
          "yref": "paper"
         },
         {
          "font": {
           "size": 16
          },
          "showarrow": false,
          "text": "E1",
          "x": 0.034027777777777775,
          "xanchor": "center",
          "xref": "paper",
          "y": 0.46875,
          "yanchor": "bottom",
          "yref": "paper"
         },
         {
          "font": {
           "size": 16
          },
          "showarrow": false,
          "text": "E2",
          "x": 0.11875,
          "xanchor": "center",
          "xref": "paper",
          "y": 0.46875,
          "yanchor": "bottom",
          "yref": "paper"
         },
         {
          "font": {
           "size": 16
          },
          "showarrow": false,
          "text": "E3",
          "x": 0.20347222222222222,
          "xanchor": "center",
          "xref": "paper",
          "y": 0.46875,
          "yanchor": "bottom",
          "yref": "paper"
         },
         {
          "font": {
           "size": 16
          },
          "showarrow": false,
          "text": "E4",
          "x": 0.2881944444444444,
          "xanchor": "center",
          "xref": "paper",
          "y": 0.46875,
          "yanchor": "bottom",
          "yref": "paper"
         },
         {
          "font": {
           "size": 16
          },
          "showarrow": false,
          "text": "E5",
          "x": 0.3729166666666666,
          "xanchor": "center",
          "xref": "paper",
          "y": 0.46875,
          "yanchor": "bottom",
          "yref": "paper"
         },
         {
          "font": {
           "size": 16
          },
          "showarrow": false,
          "text": "E6",
          "x": 0.4576388888888888,
          "xanchor": "center",
          "xref": "paper",
          "y": 0.46875,
          "yanchor": "bottom",
          "yref": "paper"
         },
         {
          "font": {
           "size": 16
          },
          "showarrow": false,
          "text": "E7",
          "x": 0.5423611111111111,
          "xanchor": "center",
          "xref": "paper",
          "y": 0.46875,
          "yanchor": "bottom",
          "yref": "paper"
         },
         {
          "font": {
           "size": 16
          },
          "showarrow": false,
          "text": "E8",
          "x": 0.6270833333333332,
          "xanchor": "center",
          "xref": "paper",
          "y": 0.46875,
          "yanchor": "bottom",
          "yref": "paper"
         },
         {
          "font": {
           "size": 16
          },
          "showarrow": false,
          "text": "E9",
          "x": 0.7118055555555555,
          "xanchor": "center",
          "xref": "paper",
          "y": 0.46875,
          "yanchor": "bottom",
          "yref": "paper"
         },
         {
          "font": {
           "size": 16
          },
          "showarrow": false,
          "text": "E10",
          "x": 0.7965277777777777,
          "xanchor": "center",
          "xref": "paper",
          "y": 0.46875,
          "yanchor": "bottom",
          "yref": "paper"
         },
         {
          "font": {
           "size": 16
          },
          "showarrow": false,
          "text": "E11",
          "x": 0.8812499999999999,
          "xanchor": "center",
          "xref": "paper",
          "y": 0.46875,
          "yanchor": "bottom",
          "yref": "paper"
         },
         {
          "font": {
           "size": 16
          },
          "showarrow": false,
          "text": "E12",
          "x": 0.9659722222222221,
          "xanchor": "center",
          "xref": "paper",
          "y": 0.46875,
          "yanchor": "bottom",
          "yref": "paper"
         },
         {
          "font": {
           "size": 16
          },
          "showarrow": false,
          "text": "F1",
          "x": 0.034027777777777775,
          "xanchor": "center",
          "xref": "paper",
          "y": 0.3359375,
          "yanchor": "bottom",
          "yref": "paper"
         },
         {
          "font": {
           "size": 16
          },
          "showarrow": false,
          "text": "F2",
          "x": 0.11875,
          "xanchor": "center",
          "xref": "paper",
          "y": 0.3359375,
          "yanchor": "bottom",
          "yref": "paper"
         },
         {
          "font": {
           "size": 16
          },
          "showarrow": false,
          "text": "F3",
          "x": 0.20347222222222222,
          "xanchor": "center",
          "xref": "paper",
          "y": 0.3359375,
          "yanchor": "bottom",
          "yref": "paper"
         },
         {
          "font": {
           "size": 16
          },
          "showarrow": false,
          "text": "F4",
          "x": 0.2881944444444444,
          "xanchor": "center",
          "xref": "paper",
          "y": 0.3359375,
          "yanchor": "bottom",
          "yref": "paper"
         },
         {
          "font": {
           "size": 16
          },
          "showarrow": false,
          "text": "F5",
          "x": 0.3729166666666666,
          "xanchor": "center",
          "xref": "paper",
          "y": 0.3359375,
          "yanchor": "bottom",
          "yref": "paper"
         },
         {
          "font": {
           "size": 16
          },
          "showarrow": false,
          "text": "F6",
          "x": 0.4576388888888888,
          "xanchor": "center",
          "xref": "paper",
          "y": 0.3359375,
          "yanchor": "bottom",
          "yref": "paper"
         },
         {
          "font": {
           "size": 16
          },
          "showarrow": false,
          "text": "F7",
          "x": 0.5423611111111111,
          "xanchor": "center",
          "xref": "paper",
          "y": 0.3359375,
          "yanchor": "bottom",
          "yref": "paper"
         },
         {
          "font": {
           "size": 16
          },
          "showarrow": false,
          "text": "F8",
          "x": 0.6270833333333332,
          "xanchor": "center",
          "xref": "paper",
          "y": 0.3359375,
          "yanchor": "bottom",
          "yref": "paper"
         },
         {
          "font": {
           "size": 16
          },
          "showarrow": false,
          "text": "F9",
          "x": 0.7118055555555555,
          "xanchor": "center",
          "xref": "paper",
          "y": 0.3359375,
          "yanchor": "bottom",
          "yref": "paper"
         },
         {
          "font": {
           "size": 16
          },
          "showarrow": false,
          "text": "F10",
          "x": 0.7965277777777777,
          "xanchor": "center",
          "xref": "paper",
          "y": 0.3359375,
          "yanchor": "bottom",
          "yref": "paper"
         },
         {
          "font": {
           "size": 16
          },
          "showarrow": false,
          "text": "F11",
          "x": 0.8812499999999999,
          "xanchor": "center",
          "xref": "paper",
          "y": 0.3359375,
          "yanchor": "bottom",
          "yref": "paper"
         },
         {
          "font": {
           "size": 16
          },
          "showarrow": false,
          "text": "F12",
          "x": 0.9659722222222221,
          "xanchor": "center",
          "xref": "paper",
          "y": 0.3359375,
          "yanchor": "bottom",
          "yref": "paper"
         },
         {
          "font": {
           "size": 16
          },
          "showarrow": false,
          "text": "G1",
          "x": 0.034027777777777775,
          "xanchor": "center",
          "xref": "paper",
          "y": 0.203125,
          "yanchor": "bottom",
          "yref": "paper"
         },
         {
          "font": {
           "size": 16
          },
          "showarrow": false,
          "text": "G2",
          "x": 0.11875,
          "xanchor": "center",
          "xref": "paper",
          "y": 0.203125,
          "yanchor": "bottom",
          "yref": "paper"
         },
         {
          "font": {
           "size": 16
          },
          "showarrow": false,
          "text": "G3",
          "x": 0.20347222222222222,
          "xanchor": "center",
          "xref": "paper",
          "y": 0.203125,
          "yanchor": "bottom",
          "yref": "paper"
         },
         {
          "font": {
           "size": 16
          },
          "showarrow": false,
          "text": "G4",
          "x": 0.2881944444444444,
          "xanchor": "center",
          "xref": "paper",
          "y": 0.203125,
          "yanchor": "bottom",
          "yref": "paper"
         },
         {
          "font": {
           "size": 16
          },
          "showarrow": false,
          "text": "G5",
          "x": 0.3729166666666666,
          "xanchor": "center",
          "xref": "paper",
          "y": 0.203125,
          "yanchor": "bottom",
          "yref": "paper"
         },
         {
          "font": {
           "size": 16
          },
          "showarrow": false,
          "text": "G6",
          "x": 0.4576388888888888,
          "xanchor": "center",
          "xref": "paper",
          "y": 0.203125,
          "yanchor": "bottom",
          "yref": "paper"
         },
         {
          "font": {
           "size": 16
          },
          "showarrow": false,
          "text": "G7",
          "x": 0.5423611111111111,
          "xanchor": "center",
          "xref": "paper",
          "y": 0.203125,
          "yanchor": "bottom",
          "yref": "paper"
         },
         {
          "font": {
           "size": 16
          },
          "showarrow": false,
          "text": "G8",
          "x": 0.6270833333333332,
          "xanchor": "center",
          "xref": "paper",
          "y": 0.203125,
          "yanchor": "bottom",
          "yref": "paper"
         },
         {
          "font": {
           "size": 16
          },
          "showarrow": false,
          "text": "G9",
          "x": 0.7118055555555555,
          "xanchor": "center",
          "xref": "paper",
          "y": 0.203125,
          "yanchor": "bottom",
          "yref": "paper"
         },
         {
          "font": {
           "size": 16
          },
          "showarrow": false,
          "text": "G10",
          "x": 0.7965277777777777,
          "xanchor": "center",
          "xref": "paper",
          "y": 0.203125,
          "yanchor": "bottom",
          "yref": "paper"
         },
         {
          "font": {
           "size": 16
          },
          "showarrow": false,
          "text": "G11",
          "x": 0.8812499999999999,
          "xanchor": "center",
          "xref": "paper",
          "y": 0.203125,
          "yanchor": "bottom",
          "yref": "paper"
         },
         {
          "font": {
           "size": 16
          },
          "showarrow": false,
          "text": "G12",
          "x": 0.9659722222222221,
          "xanchor": "center",
          "xref": "paper",
          "y": 0.203125,
          "yanchor": "bottom",
          "yref": "paper"
         },
         {
          "font": {
           "size": 16
          },
          "showarrow": false,
          "text": "H1",
          "x": 0.034027777777777775,
          "xanchor": "center",
          "xref": "paper",
          "y": 0.0703125,
          "yanchor": "bottom",
          "yref": "paper"
         },
         {
          "font": {
           "size": 16
          },
          "showarrow": false,
          "text": "H2",
          "x": 0.11875,
          "xanchor": "center",
          "xref": "paper",
          "y": 0.0703125,
          "yanchor": "bottom",
          "yref": "paper"
         },
         {
          "font": {
           "size": 16
          },
          "showarrow": false,
          "text": "H3",
          "x": 0.20347222222222222,
          "xanchor": "center",
          "xref": "paper",
          "y": 0.0703125,
          "yanchor": "bottom",
          "yref": "paper"
         },
         {
          "font": {
           "size": 16
          },
          "showarrow": false,
          "text": "H4",
          "x": 0.2881944444444444,
          "xanchor": "center",
          "xref": "paper",
          "y": 0.0703125,
          "yanchor": "bottom",
          "yref": "paper"
         },
         {
          "font": {
           "size": 16
          },
          "showarrow": false,
          "text": "H5",
          "x": 0.3729166666666666,
          "xanchor": "center",
          "xref": "paper",
          "y": 0.0703125,
          "yanchor": "bottom",
          "yref": "paper"
         },
         {
          "font": {
           "size": 16
          },
          "showarrow": false,
          "text": "H6",
          "x": 0.4576388888888888,
          "xanchor": "center",
          "xref": "paper",
          "y": 0.0703125,
          "yanchor": "bottom",
          "yref": "paper"
         },
         {
          "font": {
           "size": 16
          },
          "showarrow": false,
          "text": "H7",
          "x": 0.5423611111111111,
          "xanchor": "center",
          "xref": "paper",
          "y": 0.0703125,
          "yanchor": "bottom",
          "yref": "paper"
         },
         {
          "font": {
           "size": 16
          },
          "showarrow": false,
          "text": "H8",
          "x": 0.6270833333333332,
          "xanchor": "center",
          "xref": "paper",
          "y": 0.0703125,
          "yanchor": "bottom",
          "yref": "paper"
         },
         {
          "font": {
           "size": 16
          },
          "showarrow": false,
          "text": "H9",
          "x": 0.7118055555555555,
          "xanchor": "center",
          "xref": "paper",
          "y": 0.0703125,
          "yanchor": "bottom",
          "yref": "paper"
         },
         {
          "font": {
           "size": 16
          },
          "showarrow": false,
          "text": "H10",
          "x": 0.7965277777777777,
          "xanchor": "center",
          "xref": "paper",
          "y": 0.0703125,
          "yanchor": "bottom",
          "yref": "paper"
         },
         {
          "font": {
           "size": 16
          },
          "showarrow": false,
          "text": "H11",
          "x": 0.8812499999999999,
          "xanchor": "center",
          "xref": "paper",
          "y": 0.0703125,
          "yanchor": "bottom",
          "yref": "paper"
         },
         {
          "font": {
           "size": 16
          },
          "showarrow": false,
          "text": "H12",
          "x": 0.9659722222222221,
          "xanchor": "center",
          "xref": "paper",
          "y": 0.0703125,
          "yanchor": "bottom",
          "yref": "paper"
         }
        ],
        "hovermode": "x",
        "margin": {
         "b": 20,
         "l": 20,
         "r": 20,
         "t": 100
        },
        "plot_bgcolor": "white",
        "template": {
         "data": {
          "bar": [
           {
            "error_x": {
             "color": "#2a3f5f"
            },
            "error_y": {
             "color": "#2a3f5f"
            },
            "marker": {
             "line": {
              "color": "#E5ECF6",
              "width": 0.5
             },
             "pattern": {
              "fillmode": "overlay",
              "size": 10,
              "solidity": 0.2
             }
            },
            "type": "bar"
           }
          ],
          "barpolar": [
           {
            "marker": {
             "line": {
              "color": "#E5ECF6",
              "width": 0.5
             },
             "pattern": {
              "fillmode": "overlay",
              "size": 10,
              "solidity": 0.2
             }
            },
            "type": "barpolar"
           }
          ],
          "carpet": [
           {
            "aaxis": {
             "endlinecolor": "#2a3f5f",
             "gridcolor": "white",
             "linecolor": "white",
             "minorgridcolor": "white",
             "startlinecolor": "#2a3f5f"
            },
            "baxis": {
             "endlinecolor": "#2a3f5f",
             "gridcolor": "white",
             "linecolor": "white",
             "minorgridcolor": "white",
             "startlinecolor": "#2a3f5f"
            },
            "type": "carpet"
           }
          ],
          "choropleth": [
           {
            "colorbar": {
             "outlinewidth": 0,
             "ticks": ""
            },
            "type": "choropleth"
           }
          ],
          "contour": [
           {
            "colorbar": {
             "outlinewidth": 0,
             "ticks": ""
            },
            "colorscale": [
             [
              0,
              "#0d0887"
             ],
             [
              0.1111111111111111,
              "#46039f"
             ],
             [
              0.2222222222222222,
              "#7201a8"
             ],
             [
              0.3333333333333333,
              "#9c179e"
             ],
             [
              0.4444444444444444,
              "#bd3786"
             ],
             [
              0.5555555555555556,
              "#d8576b"
             ],
             [
              0.6666666666666666,
              "#ed7953"
             ],
             [
              0.7777777777777778,
              "#fb9f3a"
             ],
             [
              0.8888888888888888,
              "#fdca26"
             ],
             [
              1,
              "#f0f921"
             ]
            ],
            "type": "contour"
           }
          ],
          "contourcarpet": [
           {
            "colorbar": {
             "outlinewidth": 0,
             "ticks": ""
            },
            "type": "contourcarpet"
           }
          ],
          "heatmap": [
           {
            "colorbar": {
             "outlinewidth": 0,
             "ticks": ""
            },
            "colorscale": [
             [
              0,
              "#0d0887"
             ],
             [
              0.1111111111111111,
              "#46039f"
             ],
             [
              0.2222222222222222,
              "#7201a8"
             ],
             [
              0.3333333333333333,
              "#9c179e"
             ],
             [
              0.4444444444444444,
              "#bd3786"
             ],
             [
              0.5555555555555556,
              "#d8576b"
             ],
             [
              0.6666666666666666,
              "#ed7953"
             ],
             [
              0.7777777777777778,
              "#fb9f3a"
             ],
             [
              0.8888888888888888,
              "#fdca26"
             ],
             [
              1,
              "#f0f921"
             ]
            ],
            "type": "heatmap"
           }
          ],
          "heatmapgl": [
           {
            "colorbar": {
             "outlinewidth": 0,
             "ticks": ""
            },
            "colorscale": [
             [
              0,
              "#0d0887"
             ],
             [
              0.1111111111111111,
              "#46039f"
             ],
             [
              0.2222222222222222,
              "#7201a8"
             ],
             [
              0.3333333333333333,
              "#9c179e"
             ],
             [
              0.4444444444444444,
              "#bd3786"
             ],
             [
              0.5555555555555556,
              "#d8576b"
             ],
             [
              0.6666666666666666,
              "#ed7953"
             ],
             [
              0.7777777777777778,
              "#fb9f3a"
             ],
             [
              0.8888888888888888,
              "#fdca26"
             ],
             [
              1,
              "#f0f921"
             ]
            ],
            "type": "heatmapgl"
           }
          ],
          "histogram": [
           {
            "marker": {
             "pattern": {
              "fillmode": "overlay",
              "size": 10,
              "solidity": 0.2
             }
            },
            "type": "histogram"
           }
          ],
          "histogram2d": [
           {
            "colorbar": {
             "outlinewidth": 0,
             "ticks": ""
            },
            "colorscale": [
             [
              0,
              "#0d0887"
             ],
             [
              0.1111111111111111,
              "#46039f"
             ],
             [
              0.2222222222222222,
              "#7201a8"
             ],
             [
              0.3333333333333333,
              "#9c179e"
             ],
             [
              0.4444444444444444,
              "#bd3786"
             ],
             [
              0.5555555555555556,
              "#d8576b"
             ],
             [
              0.6666666666666666,
              "#ed7953"
             ],
             [
              0.7777777777777778,
              "#fb9f3a"
             ],
             [
              0.8888888888888888,
              "#fdca26"
             ],
             [
              1,
              "#f0f921"
             ]
            ],
            "type": "histogram2d"
           }
          ],
          "histogram2dcontour": [
           {
            "colorbar": {
             "outlinewidth": 0,
             "ticks": ""
            },
            "colorscale": [
             [
              0,
              "#0d0887"
             ],
             [
              0.1111111111111111,
              "#46039f"
             ],
             [
              0.2222222222222222,
              "#7201a8"
             ],
             [
              0.3333333333333333,
              "#9c179e"
             ],
             [
              0.4444444444444444,
              "#bd3786"
             ],
             [
              0.5555555555555556,
              "#d8576b"
             ],
             [
              0.6666666666666666,
              "#ed7953"
             ],
             [
              0.7777777777777778,
              "#fb9f3a"
             ],
             [
              0.8888888888888888,
              "#fdca26"
             ],
             [
              1,
              "#f0f921"
             ]
            ],
            "type": "histogram2dcontour"
           }
          ],
          "mesh3d": [
           {
            "colorbar": {
             "outlinewidth": 0,
             "ticks": ""
            },
            "type": "mesh3d"
           }
          ],
          "parcoords": [
           {
            "line": {
             "colorbar": {
              "outlinewidth": 0,
              "ticks": ""
             }
            },
            "type": "parcoords"
           }
          ],
          "pie": [
           {
            "automargin": true,
            "type": "pie"
           }
          ],
          "scatter": [
           {
            "fillpattern": {
             "fillmode": "overlay",
             "size": 10,
             "solidity": 0.2
            },
            "type": "scatter"
           }
          ],
          "scatter3d": [
           {
            "line": {
             "colorbar": {
              "outlinewidth": 0,
              "ticks": ""
             }
            },
            "marker": {
             "colorbar": {
              "outlinewidth": 0,
              "ticks": ""
             }
            },
            "type": "scatter3d"
           }
          ],
          "scattercarpet": [
           {
            "marker": {
             "colorbar": {
              "outlinewidth": 0,
              "ticks": ""
             }
            },
            "type": "scattercarpet"
           }
          ],
          "scattergeo": [
           {
            "marker": {
             "colorbar": {
              "outlinewidth": 0,
              "ticks": ""
             }
            },
            "type": "scattergeo"
           }
          ],
          "scattergl": [
           {
            "marker": {
             "colorbar": {
              "outlinewidth": 0,
              "ticks": ""
             }
            },
            "type": "scattergl"
           }
          ],
          "scattermapbox": [
           {
            "marker": {
             "colorbar": {
              "outlinewidth": 0,
              "ticks": ""
             }
            },
            "type": "scattermapbox"
           }
          ],
          "scatterpolar": [
           {
            "marker": {
             "colorbar": {
              "outlinewidth": 0,
              "ticks": ""
             }
            },
            "type": "scatterpolar"
           }
          ],
          "scatterpolargl": [
           {
            "marker": {
             "colorbar": {
              "outlinewidth": 0,
              "ticks": ""
             }
            },
            "type": "scatterpolargl"
           }
          ],
          "scatterternary": [
           {
            "marker": {
             "colorbar": {
              "outlinewidth": 0,
              "ticks": ""
             }
            },
            "type": "scatterternary"
           }
          ],
          "surface": [
           {
            "colorbar": {
             "outlinewidth": 0,
             "ticks": ""
            },
            "colorscale": [
             [
              0,
              "#0d0887"
             ],
             [
              0.1111111111111111,
              "#46039f"
             ],
             [
              0.2222222222222222,
              "#7201a8"
             ],
             [
              0.3333333333333333,
              "#9c179e"
             ],
             [
              0.4444444444444444,
              "#bd3786"
             ],
             [
              0.5555555555555556,
              "#d8576b"
             ],
             [
              0.6666666666666666,
              "#ed7953"
             ],
             [
              0.7777777777777778,
              "#fb9f3a"
             ],
             [
              0.8888888888888888,
              "#fdca26"
             ],
             [
              1,
              "#f0f921"
             ]
            ],
            "type": "surface"
           }
          ],
          "table": [
           {
            "cells": {
             "fill": {
              "color": "#EBF0F8"
             },
             "line": {
              "color": "white"
             }
            },
            "header": {
             "fill": {
              "color": "#C8D4E3"
             },
             "line": {
              "color": "white"
             }
            },
            "type": "table"
           }
          ]
         },
         "layout": {
          "annotationdefaults": {
           "arrowcolor": "#2a3f5f",
           "arrowhead": 0,
           "arrowwidth": 1
          },
          "autotypenumbers": "strict",
          "coloraxis": {
           "colorbar": {
            "outlinewidth": 0,
            "ticks": ""
           }
          },
          "colorscale": {
           "diverging": [
            [
             0,
             "#8e0152"
            ],
            [
             0.1,
             "#c51b7d"
            ],
            [
             0.2,
             "#de77ae"
            ],
            [
             0.3,
             "#f1b6da"
            ],
            [
             0.4,
             "#fde0ef"
            ],
            [
             0.5,
             "#f7f7f7"
            ],
            [
             0.6,
             "#e6f5d0"
            ],
            [
             0.7,
             "#b8e186"
            ],
            [
             0.8,
             "#7fbc41"
            ],
            [
             0.9,
             "#4d9221"
            ],
            [
             1,
             "#276419"
            ]
           ],
           "sequential": [
            [
             0,
             "#0d0887"
            ],
            [
             0.1111111111111111,
             "#46039f"
            ],
            [
             0.2222222222222222,
             "#7201a8"
            ],
            [
             0.3333333333333333,
             "#9c179e"
            ],
            [
             0.4444444444444444,
             "#bd3786"
            ],
            [
             0.5555555555555556,
             "#d8576b"
            ],
            [
             0.6666666666666666,
             "#ed7953"
            ],
            [
             0.7777777777777778,
             "#fb9f3a"
            ],
            [
             0.8888888888888888,
             "#fdca26"
            ],
            [
             1,
             "#f0f921"
            ]
           ],
           "sequentialminus": [
            [
             0,
             "#0d0887"
            ],
            [
             0.1111111111111111,
             "#46039f"
            ],
            [
             0.2222222222222222,
             "#7201a8"
            ],
            [
             0.3333333333333333,
             "#9c179e"
            ],
            [
             0.4444444444444444,
             "#bd3786"
            ],
            [
             0.5555555555555556,
             "#d8576b"
            ],
            [
             0.6666666666666666,
             "#ed7953"
            ],
            [
             0.7777777777777778,
             "#fb9f3a"
            ],
            [
             0.8888888888888888,
             "#fdca26"
            ],
            [
             1,
             "#f0f921"
            ]
           ]
          },
          "colorway": [
           "#636efa",
           "#EF553B",
           "#00cc96",
           "#ab63fa",
           "#FFA15A",
           "#19d3f3",
           "#FF6692",
           "#B6E880",
           "#FF97FF",
           "#FECB52"
          ],
          "font": {
           "color": "#2a3f5f"
          },
          "geo": {
           "bgcolor": "white",
           "lakecolor": "white",
           "landcolor": "#E5ECF6",
           "showlakes": true,
           "showland": true,
           "subunitcolor": "white"
          },
          "hoverlabel": {
           "align": "left"
          },
          "hovermode": "closest",
          "mapbox": {
           "style": "light"
          },
          "paper_bgcolor": "white",
          "plot_bgcolor": "#E5ECF6",
          "polar": {
           "angularaxis": {
            "gridcolor": "white",
            "linecolor": "white",
            "ticks": ""
           },
           "bgcolor": "#E5ECF6",
           "radialaxis": {
            "gridcolor": "white",
            "linecolor": "white",
            "ticks": ""
           }
          },
          "scene": {
           "xaxis": {
            "backgroundcolor": "#E5ECF6",
            "gridcolor": "white",
            "gridwidth": 2,
            "linecolor": "white",
            "showbackground": true,
            "ticks": "",
            "zerolinecolor": "white"
           },
           "yaxis": {
            "backgroundcolor": "#E5ECF6",
            "gridcolor": "white",
            "gridwidth": 2,
            "linecolor": "white",
            "showbackground": true,
            "ticks": "",
            "zerolinecolor": "white"
           },
           "zaxis": {
            "backgroundcolor": "#E5ECF6",
            "gridcolor": "white",
            "gridwidth": 2,
            "linecolor": "white",
            "showbackground": true,
            "ticks": "",
            "zerolinecolor": "white"
           }
          },
          "shapedefaults": {
           "line": {
            "color": "#2a3f5f"
           }
          },
          "ternary": {
           "aaxis": {
            "gridcolor": "white",
            "linecolor": "white",
            "ticks": ""
           },
           "baxis": {
            "gridcolor": "white",
            "linecolor": "white",
            "ticks": ""
           },
           "bgcolor": "#E5ECF6",
           "caxis": {
            "gridcolor": "white",
            "linecolor": "white",
            "ticks": ""
           }
          },
          "title": {
           "x": 0.05
          },
          "xaxis": {
           "automargin": true,
           "gridcolor": "white",
           "linecolor": "white",
           "ticks": "",
           "title": {
            "standoff": 15
           },
           "zerolinecolor": "white",
           "zerolinewidth": 2
          },
          "yaxis": {
           "automargin": true,
           "gridcolor": "white",
           "linecolor": "white",
           "ticks": "",
           "title": {
            "standoff": 15
           },
           "zerolinecolor": "white",
           "zerolinewidth": 2
          }
         }
        },
        "title": {
         "text": "37.1 Celsius"
        },
        "xaxis": {
         "anchor": "y",
         "domain": [
          0,
          0.06805555555555555
         ],
         "matches": "x85",
         "showticklabels": false
        },
        "xaxis10": {
         "anchor": "y10",
         "domain": [
          0.7625,
          0.8305555555555555
         ],
         "matches": "x94",
         "showticklabels": false
        },
        "xaxis11": {
         "anchor": "y11",
         "domain": [
          0.8472222222222221,
          0.9152777777777776
         ],
         "matches": "x95",
         "showticklabels": false
        },
        "xaxis12": {
         "anchor": "y12",
         "domain": [
          0.9319444444444444,
          0.9999999999999999
         ],
         "matches": "x96",
         "showticklabels": false
        },
        "xaxis13": {
         "anchor": "y13",
         "domain": [
          0,
          0.06805555555555555
         ],
         "matches": "x85",
         "showticklabels": false
        },
        "xaxis14": {
         "anchor": "y14",
         "domain": [
          0.08472222222222221,
          0.15277777777777776
         ],
         "matches": "x86",
         "showticklabels": false
        },
        "xaxis15": {
         "anchor": "y15",
         "domain": [
          0.16944444444444443,
          0.2375
         ],
         "matches": "x87",
         "showticklabels": false
        },
        "xaxis16": {
         "anchor": "y16",
         "domain": [
          0.25416666666666665,
          0.3222222222222222
         ],
         "matches": "x88",
         "showticklabels": false
        },
        "xaxis17": {
         "anchor": "y17",
         "domain": [
          0.33888888888888885,
          0.4069444444444444
         ],
         "matches": "x89",
         "showticklabels": false
        },
        "xaxis18": {
         "anchor": "y18",
         "domain": [
          0.42361111111111105,
          0.4916666666666666
         ],
         "matches": "x90",
         "showticklabels": false
        },
        "xaxis19": {
         "anchor": "y19",
         "domain": [
          0.5083333333333333,
          0.5763888888888888
         ],
         "matches": "x91",
         "showticklabels": false
        },
        "xaxis2": {
         "anchor": "y2",
         "domain": [
          0.08472222222222221,
          0.15277777777777776
         ],
         "matches": "x86",
         "showticklabels": false
        },
        "xaxis20": {
         "anchor": "y20",
         "domain": [
          0.5930555555555554,
          0.661111111111111
         ],
         "matches": "x92",
         "showticklabels": false
        },
        "xaxis21": {
         "anchor": "y21",
         "domain": [
          0.6777777777777777,
          0.7458333333333332
         ],
         "matches": "x93",
         "showticklabels": false
        },
        "xaxis22": {
         "anchor": "y22",
         "domain": [
          0.7625,
          0.8305555555555555
         ],
         "matches": "x94",
         "showticklabels": false
        },
        "xaxis23": {
         "anchor": "y23",
         "domain": [
          0.8472222222222221,
          0.9152777777777776
         ],
         "matches": "x95",
         "showticklabels": false
        },
        "xaxis24": {
         "anchor": "y24",
         "domain": [
          0.9319444444444444,
          0.9999999999999999
         ],
         "matches": "x96",
         "showticklabels": false
        },
        "xaxis25": {
         "anchor": "y25",
         "domain": [
          0,
          0.06805555555555555
         ],
         "matches": "x85",
         "showticklabels": false
        },
        "xaxis26": {
         "anchor": "y26",
         "domain": [
          0.08472222222222221,
          0.15277777777777776
         ],
         "matches": "x86",
         "showticklabels": false
        },
        "xaxis27": {
         "anchor": "y27",
         "domain": [
          0.16944444444444443,
          0.2375
         ],
         "matches": "x87",
         "showticklabels": false
        },
        "xaxis28": {
         "anchor": "y28",
         "domain": [
          0.25416666666666665,
          0.3222222222222222
         ],
         "matches": "x88",
         "showticklabels": false
        },
        "xaxis29": {
         "anchor": "y29",
         "domain": [
          0.33888888888888885,
          0.4069444444444444
         ],
         "matches": "x89",
         "showticklabels": false
        },
        "xaxis3": {
         "anchor": "y3",
         "domain": [
          0.16944444444444443,
          0.2375
         ],
         "matches": "x87",
         "showticklabels": false
        },
        "xaxis30": {
         "anchor": "y30",
         "domain": [
          0.42361111111111105,
          0.4916666666666666
         ],
         "matches": "x90",
         "showticklabels": false
        },
        "xaxis31": {
         "anchor": "y31",
         "domain": [
          0.5083333333333333,
          0.5763888888888888
         ],
         "matches": "x91",
         "showticklabels": false
        },
        "xaxis32": {
         "anchor": "y32",
         "domain": [
          0.5930555555555554,
          0.661111111111111
         ],
         "matches": "x92",
         "showticklabels": false
        },
        "xaxis33": {
         "anchor": "y33",
         "domain": [
          0.6777777777777777,
          0.7458333333333332
         ],
         "matches": "x93",
         "showticklabels": false
        },
        "xaxis34": {
         "anchor": "y34",
         "domain": [
          0.7625,
          0.8305555555555555
         ],
         "matches": "x94",
         "showticklabels": false
        },
        "xaxis35": {
         "anchor": "y35",
         "domain": [
          0.8472222222222221,
          0.9152777777777776
         ],
         "matches": "x95",
         "showticklabels": false
        },
        "xaxis36": {
         "anchor": "y36",
         "domain": [
          0.9319444444444444,
          0.9999999999999999
         ],
         "matches": "x96",
         "showticklabels": false
        },
        "xaxis37": {
         "anchor": "y37",
         "domain": [
          0,
          0.06805555555555555
         ],
         "matches": "x85",
         "showticklabels": false
        },
        "xaxis38": {
         "anchor": "y38",
         "domain": [
          0.08472222222222221,
          0.15277777777777776
         ],
         "matches": "x86",
         "showticklabels": false
        },
        "xaxis39": {
         "anchor": "y39",
         "domain": [
          0.16944444444444443,
          0.2375
         ],
         "matches": "x87",
         "showticklabels": false
        },
        "xaxis4": {
         "anchor": "y4",
         "domain": [
          0.25416666666666665,
          0.3222222222222222
         ],
         "matches": "x88",
         "showticklabels": false
        },
        "xaxis40": {
         "anchor": "y40",
         "domain": [
          0.25416666666666665,
          0.3222222222222222
         ],
         "matches": "x88",
         "showticklabels": false
        },
        "xaxis41": {
         "anchor": "y41",
         "domain": [
          0.33888888888888885,
          0.4069444444444444
         ],
         "matches": "x89",
         "showticklabels": false
        },
        "xaxis42": {
         "anchor": "y42",
         "domain": [
          0.42361111111111105,
          0.4916666666666666
         ],
         "matches": "x90",
         "showticklabels": false
        },
        "xaxis43": {
         "anchor": "y43",
         "domain": [
          0.5083333333333333,
          0.5763888888888888
         ],
         "matches": "x91",
         "showticklabels": false
        },
        "xaxis44": {
         "anchor": "y44",
         "domain": [
          0.5930555555555554,
          0.661111111111111
         ],
         "matches": "x92",
         "showticklabels": false
        },
        "xaxis45": {
         "anchor": "y45",
         "domain": [
          0.6777777777777777,
          0.7458333333333332
         ],
         "matches": "x93",
         "showticklabels": false
        },
        "xaxis46": {
         "anchor": "y46",
         "domain": [
          0.7625,
          0.8305555555555555
         ],
         "matches": "x94",
         "showticklabels": false
        },
        "xaxis47": {
         "anchor": "y47",
         "domain": [
          0.8472222222222221,
          0.9152777777777776
         ],
         "matches": "x95",
         "showticklabels": false
        },
        "xaxis48": {
         "anchor": "y48",
         "domain": [
          0.9319444444444444,
          0.9999999999999999
         ],
         "matches": "x96",
         "showticklabels": false
        },
        "xaxis49": {
         "anchor": "y49",
         "domain": [
          0,
          0.06805555555555555
         ],
         "matches": "x85",
         "showticklabels": false
        },
        "xaxis5": {
         "anchor": "y5",
         "domain": [
          0.33888888888888885,
          0.4069444444444444
         ],
         "matches": "x89",
         "showticklabels": false
        },
        "xaxis50": {
         "anchor": "y50",
         "domain": [
          0.08472222222222221,
          0.15277777777777776
         ],
         "matches": "x86",
         "showticklabels": false
        },
        "xaxis51": {
         "anchor": "y51",
         "domain": [
          0.16944444444444443,
          0.2375
         ],
         "matches": "x87",
         "showticklabels": false
        },
        "xaxis52": {
         "anchor": "y52",
         "domain": [
          0.25416666666666665,
          0.3222222222222222
         ],
         "matches": "x88",
         "showticklabels": false
        },
        "xaxis53": {
         "anchor": "y53",
         "domain": [
          0.33888888888888885,
          0.4069444444444444
         ],
         "matches": "x89",
         "showticklabels": false
        },
        "xaxis54": {
         "anchor": "y54",
         "domain": [
          0.42361111111111105,
          0.4916666666666666
         ],
         "matches": "x90",
         "showticklabels": false
        },
        "xaxis55": {
         "anchor": "y55",
         "domain": [
          0.5083333333333333,
          0.5763888888888888
         ],
         "matches": "x91",
         "showticklabels": false
        },
        "xaxis56": {
         "anchor": "y56",
         "domain": [
          0.5930555555555554,
          0.661111111111111
         ],
         "matches": "x92",
         "showticklabels": false
        },
        "xaxis57": {
         "anchor": "y57",
         "domain": [
          0.6777777777777777,
          0.7458333333333332
         ],
         "matches": "x93",
         "showticklabels": false
        },
        "xaxis58": {
         "anchor": "y58",
         "domain": [
          0.7625,
          0.8305555555555555
         ],
         "matches": "x94",
         "showticklabels": false
        },
        "xaxis59": {
         "anchor": "y59",
         "domain": [
          0.8472222222222221,
          0.9152777777777776
         ],
         "matches": "x95",
         "showticklabels": false
        },
        "xaxis6": {
         "anchor": "y6",
         "domain": [
          0.42361111111111105,
          0.4916666666666666
         ],
         "matches": "x90",
         "showticklabels": false
        },
        "xaxis60": {
         "anchor": "y60",
         "domain": [
          0.9319444444444444,
          0.9999999999999999
         ],
         "matches": "x96",
         "showticklabels": false
        },
        "xaxis61": {
         "anchor": "y61",
         "domain": [
          0,
          0.06805555555555555
         ],
         "matches": "x85",
         "showticklabels": false
        },
        "xaxis62": {
         "anchor": "y62",
         "domain": [
          0.08472222222222221,
          0.15277777777777776
         ],
         "matches": "x86",
         "showticklabels": false
        },
        "xaxis63": {
         "anchor": "y63",
         "domain": [
          0.16944444444444443,
          0.2375
         ],
         "matches": "x87",
         "showticklabels": false
        },
        "xaxis64": {
         "anchor": "y64",
         "domain": [
          0.25416666666666665,
          0.3222222222222222
         ],
         "matches": "x88",
         "showticklabels": false
        },
        "xaxis65": {
         "anchor": "y65",
         "domain": [
          0.33888888888888885,
          0.4069444444444444
         ],
         "matches": "x89",
         "showticklabels": false
        },
        "xaxis66": {
         "anchor": "y66",
         "domain": [
          0.42361111111111105,
          0.4916666666666666
         ],
         "matches": "x90",
         "showticklabels": false
        },
        "xaxis67": {
         "anchor": "y67",
         "domain": [
          0.5083333333333333,
          0.5763888888888888
         ],
         "matches": "x91",
         "showticklabels": false
        },
        "xaxis68": {
         "anchor": "y68",
         "domain": [
          0.5930555555555554,
          0.661111111111111
         ],
         "matches": "x92",
         "showticklabels": false
        },
        "xaxis69": {
         "anchor": "y69",
         "domain": [
          0.6777777777777777,
          0.7458333333333332
         ],
         "matches": "x93",
         "showticklabels": false
        },
        "xaxis7": {
         "anchor": "y7",
         "domain": [
          0.5083333333333333,
          0.5763888888888888
         ],
         "matches": "x91",
         "showticklabels": false
        },
        "xaxis70": {
         "anchor": "y70",
         "domain": [
          0.7625,
          0.8305555555555555
         ],
         "matches": "x94",
         "showticklabels": false
        },
        "xaxis71": {
         "anchor": "y71",
         "domain": [
          0.8472222222222221,
          0.9152777777777776
         ],
         "matches": "x95",
         "showticklabels": false
        },
        "xaxis72": {
         "anchor": "y72",
         "domain": [
          0.9319444444444444,
          0.9999999999999999
         ],
         "matches": "x96",
         "showticklabels": false
        },
        "xaxis73": {
         "anchor": "y73",
         "domain": [
          0,
          0.06805555555555555
         ],
         "matches": "x85",
         "showticklabels": false
        },
        "xaxis74": {
         "anchor": "y74",
         "domain": [
          0.08472222222222221,
          0.15277777777777776
         ],
         "matches": "x86",
         "showticklabels": false
        },
        "xaxis75": {
         "anchor": "y75",
         "domain": [
          0.16944444444444443,
          0.2375
         ],
         "matches": "x87",
         "showticklabels": false
        },
        "xaxis76": {
         "anchor": "y76",
         "domain": [
          0.25416666666666665,
          0.3222222222222222
         ],
         "matches": "x88",
         "showticklabels": false
        },
        "xaxis77": {
         "anchor": "y77",
         "domain": [
          0.33888888888888885,
          0.4069444444444444
         ],
         "matches": "x89",
         "showticklabels": false
        },
        "xaxis78": {
         "anchor": "y78",
         "domain": [
          0.42361111111111105,
          0.4916666666666666
         ],
         "matches": "x90",
         "showticklabels": false
        },
        "xaxis79": {
         "anchor": "y79",
         "domain": [
          0.5083333333333333,
          0.5763888888888888
         ],
         "matches": "x91",
         "showticklabels": false
        },
        "xaxis8": {
         "anchor": "y8",
         "domain": [
          0.5930555555555554,
          0.661111111111111
         ],
         "matches": "x92",
         "showticklabels": false
        },
        "xaxis80": {
         "anchor": "y80",
         "domain": [
          0.5930555555555554,
          0.661111111111111
         ],
         "matches": "x92",
         "showticklabels": false
        },
        "xaxis81": {
         "anchor": "y81",
         "domain": [
          0.6777777777777777,
          0.7458333333333332
         ],
         "matches": "x93",
         "showticklabels": false
        },
        "xaxis82": {
         "anchor": "y82",
         "domain": [
          0.7625,
          0.8305555555555555
         ],
         "matches": "x94",
         "showticklabels": false
        },
        "xaxis83": {
         "anchor": "y83",
         "domain": [
          0.8472222222222221,
          0.9152777777777776
         ],
         "matches": "x95",
         "showticklabels": false
        },
        "xaxis84": {
         "anchor": "y84",
         "domain": [
          0.9319444444444444,
          0.9999999999999999
         ],
         "matches": "x96",
         "showticklabels": false
        },
        "xaxis85": {
         "anchor": "y85",
         "domain": [
          0,
          0.06805555555555555
         ],
         "showticklabels": false
        },
        "xaxis86": {
         "anchor": "y86",
         "domain": [
          0.08472222222222221,
          0.15277777777777776
         ],
         "showticklabels": false
        },
        "xaxis87": {
         "anchor": "y87",
         "domain": [
          0.16944444444444443,
          0.2375
         ],
         "showticklabels": false
        },
        "xaxis88": {
         "anchor": "y88",
         "domain": [
          0.25416666666666665,
          0.3222222222222222
         ],
         "showticklabels": false
        },
        "xaxis89": {
         "anchor": "y89",
         "domain": [
          0.33888888888888885,
          0.4069444444444444
         ],
         "showticklabels": false
        },
        "xaxis9": {
         "anchor": "y9",
         "domain": [
          0.6777777777777777,
          0.7458333333333332
         ],
         "matches": "x93",
         "showticklabels": false
        },
        "xaxis90": {
         "anchor": "y90",
         "domain": [
          0.42361111111111105,
          0.4916666666666666
         ],
         "showticklabels": false
        },
        "xaxis91": {
         "anchor": "y91",
         "domain": [
          0.5083333333333333,
          0.5763888888888888
         ],
         "showticklabels": false
        },
        "xaxis92": {
         "anchor": "y92",
         "domain": [
          0.5930555555555554,
          0.661111111111111
         ],
         "showticklabels": false
        },
        "xaxis93": {
         "anchor": "y93",
         "domain": [
          0.6777777777777777,
          0.7458333333333332
         ],
         "showticklabels": false
        },
        "xaxis94": {
         "anchor": "y94",
         "domain": [
          0.7625,
          0.8305555555555555
         ],
         "showticklabels": false
        },
        "xaxis95": {
         "anchor": "y95",
         "domain": [
          0.8472222222222221,
          0.9152777777777776
         ],
         "showticklabels": false
        },
        "xaxis96": {
         "anchor": "y96",
         "domain": [
          0.9319444444444444,
          0.9999999999999999
         ],
         "showticklabels": false
        },
        "yaxis": {
         "anchor": "x",
         "domain": [
          0.9296875,
          1
         ],
         "showticklabels": false
        },
        "yaxis10": {
         "anchor": "x10",
         "domain": [
          0.9296875,
          1
         ],
         "matches": "y",
         "showticklabels": false
        },
        "yaxis11": {
         "anchor": "x11",
         "domain": [
          0.9296875,
          1
         ],
         "matches": "y",
         "showticklabels": false
        },
        "yaxis12": {
         "anchor": "x12",
         "domain": [
          0.9296875,
          1
         ],
         "matches": "y",
         "showticklabels": false
        },
        "yaxis13": {
         "anchor": "x13",
         "domain": [
          0.796875,
          0.8671875
         ],
         "showticklabels": false
        },
        "yaxis14": {
         "anchor": "x14",
         "domain": [
          0.796875,
          0.8671875
         ],
         "matches": "y13",
         "showticklabels": false
        },
        "yaxis15": {
         "anchor": "x15",
         "domain": [
          0.796875,
          0.8671875
         ],
         "matches": "y13",
         "showticklabels": false
        },
        "yaxis16": {
         "anchor": "x16",
         "domain": [
          0.796875,
          0.8671875
         ],
         "matches": "y13",
         "showticklabels": false
        },
        "yaxis17": {
         "anchor": "x17",
         "domain": [
          0.796875,
          0.8671875
         ],
         "matches": "y13",
         "showticklabels": false
        },
        "yaxis18": {
         "anchor": "x18",
         "domain": [
          0.796875,
          0.8671875
         ],
         "matches": "y13",
         "showticklabels": false
        },
        "yaxis19": {
         "anchor": "x19",
         "domain": [
          0.796875,
          0.8671875
         ],
         "matches": "y13",
         "showticklabels": false
        },
        "yaxis2": {
         "anchor": "x2",
         "domain": [
          0.9296875,
          1
         ],
         "matches": "y",
         "showticklabels": false
        },
        "yaxis20": {
         "anchor": "x20",
         "domain": [
          0.796875,
          0.8671875
         ],
         "matches": "y13",
         "showticklabels": false
        },
        "yaxis21": {
         "anchor": "x21",
         "domain": [
          0.796875,
          0.8671875
         ],
         "matches": "y13",
         "showticklabels": false
        },
        "yaxis22": {
         "anchor": "x22",
         "domain": [
          0.796875,
          0.8671875
         ],
         "matches": "y13",
         "showticklabels": false
        },
        "yaxis23": {
         "anchor": "x23",
         "domain": [
          0.796875,
          0.8671875
         ],
         "matches": "y13",
         "showticklabels": false
        },
        "yaxis24": {
         "anchor": "x24",
         "domain": [
          0.796875,
          0.8671875
         ],
         "matches": "y13",
         "showticklabels": false
        },
        "yaxis25": {
         "anchor": "x25",
         "domain": [
          0.6640625,
          0.734375
         ],
         "showticklabels": false
        },
        "yaxis26": {
         "anchor": "x26",
         "domain": [
          0.6640625,
          0.734375
         ],
         "matches": "y25",
         "showticklabels": false
        },
        "yaxis27": {
         "anchor": "x27",
         "domain": [
          0.6640625,
          0.734375
         ],
         "matches": "y25",
         "showticklabels": false
        },
        "yaxis28": {
         "anchor": "x28",
         "domain": [
          0.6640625,
          0.734375
         ],
         "matches": "y25",
         "showticklabels": false
        },
        "yaxis29": {
         "anchor": "x29",
         "domain": [
          0.6640625,
          0.734375
         ],
         "matches": "y25",
         "showticklabels": false
        },
        "yaxis3": {
         "anchor": "x3",
         "domain": [
          0.9296875,
          1
         ],
         "matches": "y",
         "showticklabels": false
        },
        "yaxis30": {
         "anchor": "x30",
         "domain": [
          0.6640625,
          0.734375
         ],
         "matches": "y25",
         "showticklabels": false
        },
        "yaxis31": {
         "anchor": "x31",
         "domain": [
          0.6640625,
          0.734375
         ],
         "matches": "y25",
         "showticklabels": false
        },
        "yaxis32": {
         "anchor": "x32",
         "domain": [
          0.6640625,
          0.734375
         ],
         "matches": "y25",
         "showticklabels": false
        },
        "yaxis33": {
         "anchor": "x33",
         "domain": [
          0.6640625,
          0.734375
         ],
         "matches": "y25",
         "showticklabels": false
        },
        "yaxis34": {
         "anchor": "x34",
         "domain": [
          0.6640625,
          0.734375
         ],
         "matches": "y25",
         "showticklabels": false
        },
        "yaxis35": {
         "anchor": "x35",
         "domain": [
          0.6640625,
          0.734375
         ],
         "matches": "y25",
         "showticklabels": false
        },
        "yaxis36": {
         "anchor": "x36",
         "domain": [
          0.6640625,
          0.734375
         ],
         "matches": "y25",
         "showticklabels": false
        },
        "yaxis37": {
         "anchor": "x37",
         "domain": [
          0.53125,
          0.6015625
         ],
         "showticklabels": false
        },
        "yaxis38": {
         "anchor": "x38",
         "domain": [
          0.53125,
          0.6015625
         ],
         "matches": "y37",
         "showticklabels": false
        },
        "yaxis39": {
         "anchor": "x39",
         "domain": [
          0.53125,
          0.6015625
         ],
         "matches": "y37",
         "showticklabels": false
        },
        "yaxis4": {
         "anchor": "x4",
         "domain": [
          0.9296875,
          1
         ],
         "matches": "y",
         "showticklabels": false
        },
        "yaxis40": {
         "anchor": "x40",
         "domain": [
          0.53125,
          0.6015625
         ],
         "matches": "y37",
         "showticklabels": false
        },
        "yaxis41": {
         "anchor": "x41",
         "domain": [
          0.53125,
          0.6015625
         ],
         "matches": "y37",
         "showticklabels": false
        },
        "yaxis42": {
         "anchor": "x42",
         "domain": [
          0.53125,
          0.6015625
         ],
         "matches": "y37",
         "showticklabels": false
        },
        "yaxis43": {
         "anchor": "x43",
         "domain": [
          0.53125,
          0.6015625
         ],
         "matches": "y37",
         "showticklabels": false
        },
        "yaxis44": {
         "anchor": "x44",
         "domain": [
          0.53125,
          0.6015625
         ],
         "matches": "y37",
         "showticklabels": false
        },
        "yaxis45": {
         "anchor": "x45",
         "domain": [
          0.53125,
          0.6015625
         ],
         "matches": "y37",
         "showticklabels": false
        },
        "yaxis46": {
         "anchor": "x46",
         "domain": [
          0.53125,
          0.6015625
         ],
         "matches": "y37",
         "showticklabels": false
        },
        "yaxis47": {
         "anchor": "x47",
         "domain": [
          0.53125,
          0.6015625
         ],
         "matches": "y37",
         "showticklabels": false
        },
        "yaxis48": {
         "anchor": "x48",
         "domain": [
          0.53125,
          0.6015625
         ],
         "matches": "y37",
         "showticklabels": false
        },
        "yaxis49": {
         "anchor": "x49",
         "domain": [
          0.3984375,
          0.46875
         ],
         "showticklabels": false
        },
        "yaxis5": {
         "anchor": "x5",
         "domain": [
          0.9296875,
          1
         ],
         "matches": "y",
         "showticklabels": false
        },
        "yaxis50": {
         "anchor": "x50",
         "domain": [
          0.3984375,
          0.46875
         ],
         "matches": "y49",
         "showticklabels": false
        },
        "yaxis51": {
         "anchor": "x51",
         "domain": [
          0.3984375,
          0.46875
         ],
         "matches": "y49",
         "showticklabels": false
        },
        "yaxis52": {
         "anchor": "x52",
         "domain": [
          0.3984375,
          0.46875
         ],
         "matches": "y49",
         "showticklabels": false
        },
        "yaxis53": {
         "anchor": "x53",
         "domain": [
          0.3984375,
          0.46875
         ],
         "matches": "y49",
         "showticklabels": false
        },
        "yaxis54": {
         "anchor": "x54",
         "domain": [
          0.3984375,
          0.46875
         ],
         "matches": "y49",
         "showticklabels": false
        },
        "yaxis55": {
         "anchor": "x55",
         "domain": [
          0.3984375,
          0.46875
         ],
         "matches": "y49",
         "showticklabels": false
        },
        "yaxis56": {
         "anchor": "x56",
         "domain": [
          0.3984375,
          0.46875
         ],
         "matches": "y49",
         "showticklabels": false
        },
        "yaxis57": {
         "anchor": "x57",
         "domain": [
          0.3984375,
          0.46875
         ],
         "matches": "y49",
         "showticklabels": false
        },
        "yaxis58": {
         "anchor": "x58",
         "domain": [
          0.3984375,
          0.46875
         ],
         "matches": "y49",
         "showticklabels": false
        },
        "yaxis59": {
         "anchor": "x59",
         "domain": [
          0.3984375,
          0.46875
         ],
         "matches": "y49",
         "showticklabels": false
        },
        "yaxis6": {
         "anchor": "x6",
         "domain": [
          0.9296875,
          1
         ],
         "matches": "y",
         "showticklabels": false
        },
        "yaxis60": {
         "anchor": "x60",
         "domain": [
          0.3984375,
          0.46875
         ],
         "matches": "y49",
         "showticklabels": false
        },
        "yaxis61": {
         "anchor": "x61",
         "domain": [
          0.265625,
          0.3359375
         ],
         "showticklabels": false
        },
        "yaxis62": {
         "anchor": "x62",
         "domain": [
          0.265625,
          0.3359375
         ],
         "matches": "y61",
         "showticklabels": false
        },
        "yaxis63": {
         "anchor": "x63",
         "domain": [
          0.265625,
          0.3359375
         ],
         "matches": "y61",
         "showticklabels": false
        },
        "yaxis64": {
         "anchor": "x64",
         "domain": [
          0.265625,
          0.3359375
         ],
         "matches": "y61",
         "showticklabels": false
        },
        "yaxis65": {
         "anchor": "x65",
         "domain": [
          0.265625,
          0.3359375
         ],
         "matches": "y61",
         "showticklabels": false
        },
        "yaxis66": {
         "anchor": "x66",
         "domain": [
          0.265625,
          0.3359375
         ],
         "matches": "y61",
         "showticklabels": false
        },
        "yaxis67": {
         "anchor": "x67",
         "domain": [
          0.265625,
          0.3359375
         ],
         "matches": "y61",
         "showticklabels": false
        },
        "yaxis68": {
         "anchor": "x68",
         "domain": [
          0.265625,
          0.3359375
         ],
         "matches": "y61",
         "showticklabels": false
        },
        "yaxis69": {
         "anchor": "x69",
         "domain": [
          0.265625,
          0.3359375
         ],
         "matches": "y61",
         "showticklabels": false
        },
        "yaxis7": {
         "anchor": "x7",
         "domain": [
          0.9296875,
          1
         ],
         "matches": "y",
         "showticklabels": false
        },
        "yaxis70": {
         "anchor": "x70",
         "domain": [
          0.265625,
          0.3359375
         ],
         "matches": "y61",
         "showticklabels": false
        },
        "yaxis71": {
         "anchor": "x71",
         "domain": [
          0.265625,
          0.3359375
         ],
         "matches": "y61",
         "showticklabels": false
        },
        "yaxis72": {
         "anchor": "x72",
         "domain": [
          0.265625,
          0.3359375
         ],
         "matches": "y61",
         "showticklabels": false
        },
        "yaxis73": {
         "anchor": "x73",
         "domain": [
          0.1328125,
          0.203125
         ],
         "showticklabels": false
        },
        "yaxis74": {
         "anchor": "x74",
         "domain": [
          0.1328125,
          0.203125
         ],
         "matches": "y73",
         "showticklabels": false
        },
        "yaxis75": {
         "anchor": "x75",
         "domain": [
          0.1328125,
          0.203125
         ],
         "matches": "y73",
         "showticklabels": false
        },
        "yaxis76": {
         "anchor": "x76",
         "domain": [
          0.1328125,
          0.203125
         ],
         "matches": "y73",
         "showticklabels": false
        },
        "yaxis77": {
         "anchor": "x77",
         "domain": [
          0.1328125,
          0.203125
         ],
         "matches": "y73",
         "showticklabels": false
        },
        "yaxis78": {
         "anchor": "x78",
         "domain": [
          0.1328125,
          0.203125
         ],
         "matches": "y73",
         "showticklabels": false
        },
        "yaxis79": {
         "anchor": "x79",
         "domain": [
          0.1328125,
          0.203125
         ],
         "matches": "y73",
         "showticklabels": false
        },
        "yaxis8": {
         "anchor": "x8",
         "domain": [
          0.9296875,
          1
         ],
         "matches": "y",
         "showticklabels": false
        },
        "yaxis80": {
         "anchor": "x80",
         "domain": [
          0.1328125,
          0.203125
         ],
         "matches": "y73",
         "showticklabels": false
        },
        "yaxis81": {
         "anchor": "x81",
         "domain": [
          0.1328125,
          0.203125
         ],
         "matches": "y73",
         "showticklabels": false
        },
        "yaxis82": {
         "anchor": "x82",
         "domain": [
          0.1328125,
          0.203125
         ],
         "matches": "y73",
         "showticklabels": false
        },
        "yaxis83": {
         "anchor": "x83",
         "domain": [
          0.1328125,
          0.203125
         ],
         "matches": "y73",
         "showticklabels": false
        },
        "yaxis84": {
         "anchor": "x84",
         "domain": [
          0.1328125,
          0.203125
         ],
         "matches": "y73",
         "showticklabels": false
        },
        "yaxis85": {
         "anchor": "x85",
         "domain": [
          0,
          0.0703125
         ],
         "showticklabels": false
        },
        "yaxis86": {
         "anchor": "x86",
         "domain": [
          0,
          0.0703125
         ],
         "matches": "y85",
         "showticklabels": false
        },
        "yaxis87": {
         "anchor": "x87",
         "domain": [
          0,
          0.0703125
         ],
         "matches": "y85",
         "showticklabels": false
        },
        "yaxis88": {
         "anchor": "x88",
         "domain": [
          0,
          0.0703125
         ],
         "matches": "y85",
         "showticklabels": false
        },
        "yaxis89": {
         "anchor": "x89",
         "domain": [
          0,
          0.0703125
         ],
         "matches": "y85",
         "showticklabels": false
        },
        "yaxis9": {
         "anchor": "x9",
         "domain": [
          0.9296875,
          1
         ],
         "matches": "y",
         "showticklabels": false
        },
        "yaxis90": {
         "anchor": "x90",
         "domain": [
          0,
          0.0703125
         ],
         "matches": "y85",
         "showticklabels": false
        },
        "yaxis91": {
         "anchor": "x91",
         "domain": [
          0,
          0.0703125
         ],
         "matches": "y85",
         "showticklabels": false
        },
        "yaxis92": {
         "anchor": "x92",
         "domain": [
          0,
          0.0703125
         ],
         "matches": "y85",
         "showticklabels": false
        },
        "yaxis93": {
         "anchor": "x93",
         "domain": [
          0,
          0.0703125
         ],
         "matches": "y85",
         "showticklabels": false
        },
        "yaxis94": {
         "anchor": "x94",
         "domain": [
          0,
          0.0703125
         ],
         "matches": "y85",
         "showticklabels": false
        },
        "yaxis95": {
         "anchor": "x95",
         "domain": [
          0,
          0.0703125
         ],
         "matches": "y85",
         "showticklabels": false
        },
        "yaxis96": {
         "anchor": "x96",
         "domain": [
          0,
          0.0703125
         ],
         "matches": "y85",
         "showticklabels": false
        }
       }
      }
     },
     "metadata": {},
     "output_type": "display_data"
    }
   ],
   "source": [
    "pm.visualize()"
   ]
  },
  {
   "cell_type": "code",
   "execution_count": 5,
   "metadata": {},
   "outputs": [
    {
     "data": {
      "text/html": [
       "<pre style=\"white-space:pre;overflow-x:auto;line-height:normal;font-family:Menlo,'DejaVu Sans Mono',consolas,'Courier New',monospace\">Assigned <span style=\"color: #800080; text-decoration-color: #800080; font-weight: bold\">buffer</span> <span style=\"font-weight: bold\">(</span>b0<span style=\"font-weight: bold\">)</span> with <span style=\"color: #008080; text-decoration-color: #008080; font-weight: bold\">0.123</span> mmol <span style=\"color: #800080; text-decoration-color: #800080\">/</span> l to all wells.\n",
       "</pre>\n"
      ],
      "text/plain": [
       "Assigned \u001b[1;35mbuffer\u001b[0m \u001b[1m(\u001b[0mb0\u001b[1m)\u001b[0m with \u001b[1;36m0.123\u001b[0m mmol \u001b[35m/\u001b[0m l to all wells.\n"
      ]
     },
     "metadata": {},
     "output_type": "display_data"
    },
    {
     "data": {
      "text/html": [
       "<pre style=\"white-space:pre;overflow-x:auto;line-height:normal;font-family:Menlo,'DejaVu Sans Mono',consolas,'Courier New',monospace\">Assigned <span style=\"color: #800080; text-decoration-color: #800080; font-weight: bold\">laccase</span> <span style=\"font-weight: bold\">(</span>p0<span style=\"font-weight: bold\">)</span> with <span style=\"color: #008080; text-decoration-color: #008080; font-weight: bold\">0.05</span> mmol <span style=\"color: #800080; text-decoration-color: #800080\">/</span> l to all wells except <span style=\"font-weight: bold\">[</span><span style=\"color: #008000; text-decoration-color: #008000\">'E12'</span>, <span style=\"color: #008000; text-decoration-color: #008000\">'F12'</span>, <span style=\"color: #008000; text-decoration-color: #008000\">'G12'</span>, <span style=\"color: #008000; text-decoration-color: #008000\">'H12'</span><span style=\"font-weight: bold\">]</span>.\n",
       "</pre>\n"
      ],
      "text/plain": [
       "Assigned \u001b[1;35mlaccase\u001b[0m \u001b[1m(\u001b[0mp0\u001b[1m)\u001b[0m with \u001b[1;36m0.05\u001b[0m mmol \u001b[35m/\u001b[0m l to all wells except \u001b[1m[\u001b[0m\u001b[32m'E12'\u001b[0m, \u001b[32m'F12'\u001b[0m, \u001b[32m'G12'\u001b[0m, \u001b[32m'H12'\u001b[0m\u001b[1m]\u001b[0m.\n"
      ]
     },
     "metadata": {},
     "output_type": "display_data"
    },
    {
     "data": {
      "text/html": [
       "<pre style=\"white-space:pre;overflow-x:auto;line-height:normal;font-family:Menlo,'DejaVu Sans Mono',consolas,'Courier New',monospace\">Assigned <span style=\"color: #800080; text-decoration-color: #800080; font-weight: bold\">O2</span> <span style=\"font-weight: bold\">(</span>s1<span style=\"font-weight: bold\">)</span> with <span style=\"color: #008080; text-decoration-color: #008080; font-weight: bold\">0</span> mmol <span style=\"color: #800080; text-decoration-color: #800080\">/</span> l to all wells.\n",
       "</pre>\n"
      ],
      "text/plain": [
       "Assigned \u001b[1;35mO2\u001b[0m \u001b[1m(\u001b[0ms1\u001b[1m)\u001b[0m with \u001b[1;36m0\u001b[0m mmol \u001b[35m/\u001b[0m l to all wells.\n"
      ]
     },
     "metadata": {},
     "output_type": "display_data"
    },
    {
     "data": {
      "text/html": [
       "<pre style=\"white-space:pre;overflow-x:auto;line-height:normal;font-family:Menlo,'DejaVu Sans Mono',consolas,'Courier New',monospace\">Assigned initial concentrations for <span style=\"color: #800080; text-decoration-color: #800080; font-weight: bold\">ABTS</span> <span style=\"font-weight: bold\">(</span>s0<span style=\"font-weight: bold\">)</span> from ..<span style=\"color: #800080; text-decoration-color: #800080\">/../tests/data/</span><span style=\"color: #ff00ff; text-decoration-color: #ff00ff\">magellan.xlsx.</span>\n",
       "</pre>\n"
      ],
      "text/plain": [
       "Assigned initial concentrations for \u001b[1;35mABTS\u001b[0m \u001b[1m(\u001b[0ms0\u001b[1m)\u001b[0m from ..\u001b[35m/../tests/data/\u001b[0m\u001b[95mmagellan.xlsx.\u001b[0m\n"
      ]
     },
     "metadata": {},
     "output_type": "display_data"
    }
   ],
   "source": [
    "# Assign initial concentrations to all wells, for each species respectively\n",
    "pm.assign_species(buffer, 0.123, mM, to=\"all\")\n",
    "\n",
    "pm.assign_species(laccase, 0.05, mM, to=\"all except\", ids=[\"E12\", \"F12\", \"G12\", \"H12\"])\n",
    "\n",
    "pm.assign_species(o2, 0, mM, to=\"all\")\n",
    "\n",
    "pm.assign_species_from_spreadsheet(abts, mM, path, \"Well assignment\", header=1)"
   ]
  },
  {
   "cell_type": "code",
   "execution_count": 6,
   "metadata": {},
   "outputs": [
    {
     "data": {
      "text/html": [
       "<pre style=\"white-space:pre;overflow-x:auto;line-height:normal;font-family:Menlo,'DejaVu Sans Mono',consolas,'Courier New',monospace\">Mean absorption of <span style=\"color: #800080; text-decoration-color: #800080; font-weight: bold\">buffer</span> <span style=\"font-weight: bold\">(</span>b0<span style=\"font-weight: bold\">)</span> at <span style=\"color: #008080; text-decoration-color: #008080; font-weight: bold\">0.123</span> mmol <span style=\"color: #800080; text-decoration-color: #800080\">/</span> l: <span style=\"color: #008080; text-decoration-color: #008080; font-weight: bold\">-0.0436</span> ± <span style=\"color: #008080; text-decoration-color: #008080; font-weight: bold\">15</span>%  calculated based on wells <span style=\"font-weight: bold\">[</span><span style=\"color: #008000; text-decoration-color: #008000\">'E12'</span>, <span style=\"color: #008000; text-decoration-color: #008000\">'F12'</span>, <span style=\"color: #008000; text-decoration-color: #008000\">'G12'</span>, \n",
       "<span style=\"color: #008000; text-decoration-color: #008000\">'H12'</span><span style=\"font-weight: bold\">]</span>.\n",
       "</pre>\n"
      ],
      "text/plain": [
       "Mean absorption of \u001b[1;35mbuffer\u001b[0m \u001b[1m(\u001b[0mb0\u001b[1m)\u001b[0m at \u001b[1;36m0.123\u001b[0m mmol \u001b[35m/\u001b[0m l: \u001b[1;36m-0.0436\u001b[0m ± \u001b[1;36m15\u001b[0m%  calculated based on wells \u001b[1m[\u001b[0m\u001b[32m'E12'\u001b[0m, \u001b[32m'F12'\u001b[0m, \u001b[32m'G12'\u001b[0m, \n",
       "\u001b[32m'H12'\u001b[0m\u001b[1m]\u001b[0m.\n"
      ]
     },
     "metadata": {},
     "output_type": "display_data"
    },
    {
     "data": {
      "text/html": [
       "<pre style=\"white-space:pre;overflow-x:auto;line-height:normal;font-family:Menlo,'DejaVu Sans Mono',consolas,'Courier New',monospace\">Blanked <span style=\"color: #008080; text-decoration-color: #008080; font-weight: bold\">62</span> wells containing buffer.\n",
       "\n",
       "</pre>\n"
      ],
      "text/plain": [
       "Blanked \u001b[1;36m62\u001b[0m wells containing buffer.\n",
       "\n"
      ]
     },
     "metadata": {},
     "output_type": "display_data"
    },
    {
     "data": {
      "text/html": [
       "<pre style=\"white-space:pre;overflow-x:auto;line-height:normal;font-family:Menlo,'DejaVu Sans Mono',consolas,'Courier New',monospace\">Mean absorption of <span style=\"color: #800080; text-decoration-color: #800080; font-weight: bold\">laccase</span> <span style=\"font-weight: bold\">(</span>p0<span style=\"font-weight: bold\">)</span> at <span style=\"color: #008080; text-decoration-color: #008080; font-weight: bold\">0.05</span> mmol <span style=\"color: #800080; text-decoration-color: #800080\">/</span> l: <span style=\"color: #008080; text-decoration-color: #008080; font-weight: bold\">-0.0048</span> ± <span style=\"color: #008080; text-decoration-color: #008080; font-weight: bold\">108</span>%  calculated based on wells <span style=\"font-weight: bold\">[</span><span style=\"color: #008000; text-decoration-color: #008000\">'E4'</span>, <span style=\"color: #008000; text-decoration-color: #008000\">'F4'</span>, <span style=\"color: #008000; text-decoration-color: #008000\">'G4'</span>, \n",
       "<span style=\"color: #008000; text-decoration-color: #008000\">'H4'</span><span style=\"font-weight: bold\">]</span>.\n",
       "</pre>\n"
      ],
      "text/plain": [
       "Mean absorption of \u001b[1;35mlaccase\u001b[0m \u001b[1m(\u001b[0mp0\u001b[1m)\u001b[0m at \u001b[1;36m0.05\u001b[0m mmol \u001b[35m/\u001b[0m l: \u001b[1;36m-0.0048\u001b[0m ± \u001b[1;36m108\u001b[0m%  calculated based on wells \u001b[1m[\u001b[0m\u001b[32m'E4'\u001b[0m, \u001b[32m'F4'\u001b[0m, \u001b[32m'G4'\u001b[0m, \n",
       "\u001b[32m'H4'\u001b[0m\u001b[1m]\u001b[0m.\n"
      ]
     },
     "metadata": {},
     "output_type": "display_data"
    },
    {
     "data": {
      "text/html": [
       "<pre style=\"white-space:pre;overflow-x:auto;line-height:normal;font-family:Menlo,'DejaVu Sans Mono',consolas,'Courier New',monospace\">Blanked <span style=\"color: #008080; text-decoration-color: #008080; font-weight: bold\">58</span> wells containing laccase.\n",
       "\n",
       "</pre>\n"
      ],
      "text/plain": [
       "Blanked \u001b[1;36m58\u001b[0m wells containing laccase.\n",
       "\n"
      ]
     },
     "metadata": {},
     "output_type": "display_data"
    }
   ],
   "source": [
    "# Blank the plate\n",
    "pm.blank_species(buffer, 420)\n",
    "pm.blank_species(laccase, 420)"
   ]
  },
  {
   "cell_type": "markdown",
   "metadata": {},
   "source": [
    "## Calibration form plate"
   ]
  },
  {
   "cell_type": "code",
   "execution_count": 7,
   "metadata": {},
   "outputs": [
    {
     "name": "stdout",
     "output_type": "stream",
     "text": [
      "Standard(\n",
      "    molecule_id='md:Species/f5cb5d1a-6e92-4029-8c90-536aab3c2b6d',\n",
      "    molecule_symbol='s0',\n",
      "    ph=3.0,\n",
      "    temperature=37.1,\n",
      "    temp_unit=UnitDefinition(\n",
      "        id=None,\n",
      "        name='Celsius',\n",
      "        base_units=[\n",
      "            BaseUnit(\n",
      "                kind='celsius',\n",
      "                exponent=1,\n",
      "                multiplier=None,\n",
      "                scale=1.0,\n",
      "                ld_id='md:BaseUnit/324ed314-8de0-4d1e-b564-9124b211fe60',\n",
      "                ld_type=[\n",
      "                    'md:BaseUnit',\n",
      "                ],\n",
      "                ld_context={\n",
      "                    'md': 'https://github.com/FAIRChemistry/MTPHandler',\n",
      "                },\n",
      "            ),\n",
      "        ],\n",
      "        ld_id='OBO:UO_0000027',\n",
      "        ld_type=[\n",
      "            'OBO:UO_0000000',\n",
      "        ],\n",
      "        ld_context={\n",
      "            'md': 'https://github.com/FAIRChemistry/MTPHandler',\n",
      "        },\n",
      "    ),\n",
      "    wavelength=420.0,\n",
      "    molecule_name='ABTS',\n",
      "    signal_type=<SignalType.ABSORBANCE: 'absorbance'>,\n",
      "    samples=[\n",
      "        Sample(\n",
      "            concentration=0.0,\n",
      "            conc_unit=UnitDefinition(\n",
      "                id=None,\n",
      "                name='mmol / l',\n",
      "                base_units=[\n",
      "                    BaseUnit(\n",
      "                        kind='mole',\n",
      "                        exponent=1,\n",
      "                        multiplier=None,\n",
      "                        scale=-3.0,\n",
      "                        ld_id='md:BaseUnit/79b15d66-cb78-4997-9c5b-08828b2ea49d',\n",
      "                        ld_type=[\n",
      "                            'md:BaseUnit',\n",
      "                        ],\n",
      "                        ld_context={\n",
      "                            'md': 'https://github.com/FAIRChemistry/MTPHandler',\n",
      "                        },\n",
      "                    ),\n",
      "                    BaseUnit(\n",
      "                        kind='litre',\n",
      "                        exponent=-1,\n",
      "                        multiplier=None,\n",
      "                        scale=1.0,\n",
      "                        ld_id='md:BaseUnit/6495a63d-4172-46e4-8f17-1aa42f86a0a1',\n",
      "                        ld_type=[\n",
      "                            'md:BaseUnit',\n",
      "                        ],\n",
      "                        ld_context={\n",
      "                            'md': 'https://github.com/FAIRChemistry/MTPHandler',\n",
      "                        },\n",
      "                    ),\n",
      "                ],\n",
      "                ld_id='OBO:UO_0000063',\n",
      "                ld_type=[\n",
      "                    'OBO:UO_0000000',\n",
      "                ],\n",
      "                ld_context={\n",
      "                    'md': 'https://github.com/FAIRChemistry/MTPHandler',\n",
      "                },\n",
      "            ),\n",
      "            signal=0.007832142857142859,\n",
      "            ld_id='calipy:Sample/65f4f213-f8b3-4105-8bb6-fc9ed1d8fee1',\n",
      "            ld_type=[\n",
      "                'calipy:Sample',\n",
      "            ],\n",
      "            ld_context={\n",
      "                'calipy': 'https://github.com/FAIRChemistry/CaliPytion',\n",
      "            },\n",
      "        ),\n",
      "        Sample(\n",
      "            concentration=0.0,\n",
      "            conc_unit=UnitDefinition(\n",
      "                id=None,\n",
      "                name='mmol / l',\n",
      "                base_units=[\n",
      "                    BaseUnit(\n",
      "                        kind='mole',\n",
      "                        exponent=1,\n",
      "                        multiplier=None,\n",
      "                        scale=-3.0,\n",
      "                        ld_id='md:BaseUnit/79b15d66-cb78-4997-9c5b-08828b2ea49d',\n",
      "                        ld_type=[\n",
      "                            'md:BaseUnit',\n",
      "                        ],\n",
      "                        ld_context={\n",
      "                            'md': 'https://github.com/FAIRChemistry/MTPHandler',\n",
      "                        },\n",
      "                    ),\n",
      "                    BaseUnit(\n",
      "                        kind='litre',\n",
      "                        exponent=-1,\n",
      "                        multiplier=None,\n",
      "                        scale=1.0,\n",
      "                        ld_id='md:BaseUnit/6495a63d-4172-46e4-8f17-1aa42f86a0a1',\n",
      "                        ld_type=[\n",
      "                            'md:BaseUnit',\n",
      "                        ],\n",
      "                        ld_context={\n",
      "                            'md': 'https://github.com/FAIRChemistry/MTPHandler',\n",
      "                        },\n",
      "                    ),\n",
      "                ],\n",
      "                ld_id='OBO:UO_0000063',\n",
      "                ld_type=[\n",
      "                    'OBO:UO_0000000',\n",
      "                ],\n",
      "                ld_context={\n",
      "                    'md': 'https://github.com/FAIRChemistry/MTPHandler',\n",
      "                },\n",
      "            ),\n",
      "            signal=-0.004182142857142855,\n",
      "            ld_id='calipy:Sample/6f423c5f-da82-4cef-bd50-8eb56876a274',\n",
      "            ld_type=[\n",
      "                'calipy:Sample',\n",
      "            ],\n",
      "            ld_context={\n",
      "                'calipy': 'https://github.com/FAIRChemistry/CaliPytion',\n",
      "            },\n",
      "        ),\n",
      "        Sample(\n",
      "            concentration=0.0,\n",
      "            conc_unit=UnitDefinition(\n",
      "                id=None,\n",
      "                name='mmol / l',\n",
      "                base_units=[\n",
      "                    BaseUnit(\n",
      "                        kind='mole',\n",
      "                        exponent=1,\n",
      "                        multiplier=None,\n",
      "                        scale=-3.0,\n",
      "                        ld_id='md:BaseUnit/79b15d66-cb78-4997-9c5b-08828b2ea49d',\n",
      "                        ld_type=[\n",
      "                            'md:BaseUnit',\n",
      "                        ],\n",
      "                        ld_context={\n",
      "                            'md': 'https://github.com/FAIRChemistry/MTPHandler',\n",
      "                        },\n",
      "                    ),\n",
      "                    BaseUnit(\n",
      "                        kind='litre',\n",
      "                        exponent=-1,\n",
      "                        multiplier=None,\n",
      "                        scale=1.0,\n",
      "                        ld_id='md:BaseUnit/6495a63d-4172-46e4-8f17-1aa42f86a0a1',\n",
      "                        ld_type=[\n",
      "                            'md:BaseUnit',\n",
      "                        ],\n",
      "                        ld_context={\n",
      "                            'md': 'https://github.com/FAIRChemistry/MTPHandler',\n",
      "                        },\n",
      "                    ),\n",
      "                ],\n",
      "                ld_id='OBO:UO_0000063',\n",
      "                ld_type=[\n",
      "                    'OBO:UO_0000000',\n",
      "                ],\n",
      "                ld_context={\n",
      "                    'md': 'https://github.com/FAIRChemistry/MTPHandler',\n",
      "                },\n",
      "            ),\n",
      "            signal=0.0032607142857142865,\n",
      "            ld_id='calipy:Sample/24230010-65df-4840-9299-c688eb4e7eda',\n",
      "            ld_type=[\n",
      "                'calipy:Sample',\n",
      "            ],\n",
      "            ld_context={\n",
      "                'calipy': 'https://github.com/FAIRChemistry/CaliPytion',\n",
      "            },\n",
      "        ),\n",
      "        Sample(\n",
      "            concentration=0.0,\n",
      "            conc_unit=UnitDefinition(\n",
      "                id=None,\n",
      "                name='mmol / l',\n",
      "                base_units=[\n",
      "                    BaseUnit(\n",
      "                        kind='mole',\n",
      "                        exponent=1,\n",
      "                        multiplier=None,\n",
      "                        scale=-3.0,\n",
      "                        ld_id='md:BaseUnit/79b15d66-cb78-4997-9c5b-08828b2ea49d',\n",
      "                        ld_type=[\n",
      "                            'md:BaseUnit',\n",
      "                        ],\n",
      "                        ld_context={\n",
      "                            'md': 'https://github.com/FAIRChemistry/MTPHandler',\n",
      "                        },\n",
      "                    ),\n",
      "                    BaseUnit(\n",
      "                        kind='litre',\n",
      "                        exponent=-1,\n",
      "                        multiplier=None,\n",
      "                        scale=1.0,\n",
      "                        ld_id='md:BaseUnit/6495a63d-4172-46e4-8f17-1aa42f86a0a1',\n",
      "                        ld_type=[\n",
      "                            'md:BaseUnit',\n",
      "                        ],\n",
      "                        ld_context={\n",
      "                            'md': 'https://github.com/FAIRChemistry/MTPHandler',\n",
      "                        },\n",
      "                    ),\n",
      "                ],\n",
      "                ld_id='OBO:UO_0000063',\n",
      "                ld_type=[\n",
      "                    'OBO:UO_0000000',\n",
      "                ],\n",
      "                ld_context={\n",
      "                    'md': 'https://github.com/FAIRChemistry/MTPHandler',\n",
      "                },\n",
      "            ),\n",
      "            signal=-0.006910714285714285,\n",
      "            ld_id='calipy:Sample/a50d7dd1-7e9d-42c7-a27a-884264be4d87',\n",
      "            ld_type=[\n",
      "                'calipy:Sample',\n",
      "            ],\n",
      "            ld_context={\n",
      "                'calipy': 'https://github.com/FAIRChemistry/CaliPytion',\n",
      "            },\n",
      "        ),\n",
      "    ],\n",
      "    created=None,\n",
      "    result=None,\n",
      "    ld_id='calipy:Standard/bebe4846-45ec-4707-942c-d155187cd04e',\n",
      "    ld_type=[\n",
      "        'calipy:Standard',\n",
      "    ],\n",
      "    ld_context={\n",
      "        'calipy': 'https://github.com/FAIRChemistry/CaliPytion',\n",
      "    },\n",
      ")\n"
     ]
    }
   ],
   "source": [
    "_get_standard_wells(pm.plate, abts, 420)\n",
    "from devtools import pprint\n",
    "\n",
    "pprint(map_to_standard(pm.plate, abts, 420))"
   ]
  }
 ],
 "metadata": {
  "kernelspec": {
   "display_name": "Python 3 (ipykernel)",
   "language": "python",
   "name": "python3"
  },
  "language_info": {
   "codemirror_mode": {
    "name": "ipython",
    "version": 3
   },
   "file_extension": ".py",
   "mimetype": "text/x-python",
   "name": "python",
   "nbconvert_exporter": "python",
   "pygments_lexer": "ipython3",
   "version": "3.11.9"
  }
 },
 "nbformat": 4,
 "nbformat_minor": 4
}
