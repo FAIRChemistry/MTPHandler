{
 "cells": [
  {
   "cell_type": "code",
   "execution_count": 7,
   "metadata": {},
   "outputs": [],
   "source": [
    "%reload_ext autoreload\n",
    "%autoreload 2\n",
    "\n",
    "from MTPHandler.core import Plate"
   ]
  },
  {
   "cell_type": "code",
   "execution_count": 8,
   "metadata": {},
   "outputs": [],
   "source": [
    "# Define measurement conditions\n",
    "ph = 7.4\n",
    "wavelength = 420\n",
    "path = \"../../tests/data/magellan.xlsx\"\n",
    "\n",
    "plate = Plate.from_file(path=path, ph=ph, wavelength=wavelength)"
   ]
  },
  {
   "cell_type": "code",
   "execution_count": 9,
   "metadata": {},
   "outputs": [],
   "source": [
    "laccase = plate.add_protein(name=\"laccase\", id=\"U02456\")\n",
    "abts = plate.add_species(name=\"ABTS\", id=\"ABTS_ID\")\n",
    "o2 = plate.add_species(name=\"O2\", id=\"O2_ID\")\n",
    "buffer = plate.add_species(name=\"buffer\", id=\"BUFFER_ID\")"
   ]
  },
  {
   "cell_type": "code",
   "execution_count": 15,
   "metadata": {},
   "outputs": [
    {
     "data": {
      "application/vnd.plotly.v1+json": {
       "config": {
        "plotlyServerURL": "https://plot.ly"
       },
       "data": [
        {
         "hovertemplate": "%{y:.2f}<br>",
         "line": {
          "color": "#636EFA"
         },
         "mode": "lines",
         "name": "450.0 nm",
         "showlegend": false,
         "type": "scatter",
         "x": [
          0,
          900,
          1802,
          2700,
          3600,
          4502,
          5400
         ],
         "xaxis": "x4",
         "y": [
          2.789325,
          2.785525,
          2.782825,
          2.775425,
          2.770625,
          2.762825,
          2.754725
         ],
         "yaxis": "y4"
        },
        {
         "hovertemplate": "%{y:.2f}<br>",
         "line": {
          "color": "#636EFA"
         },
         "mode": "lines",
         "name": "450.0 nm",
         "showlegend": false,
         "type": "scatter",
         "x": [
          0,
          900,
          1802,
          2700,
          3600,
          4502,
          5400
         ],
         "xaxis": "x5",
         "y": [
          -0.016075000000000002,
          -0.013774999999999999,
          -0.013375000000000001,
          -0.015774999999999994,
          -0.017374999999999998,
          -0.016175000000000005,
          -0.016575000000000003
         ],
         "yaxis": "y5"
        },
        {
         "hovertemplate": "%{y:.2f}<br>",
         "line": {
          "color": "#636EFA"
         },
         "mode": "lines",
         "name": "450.0 nm",
         "showlegend": false,
         "type": "scatter",
         "x": [
          0,
          900,
          1802,
          2700,
          3600,
          4502,
          5400
         ],
         "xaxis": "x6",
         "y": [
          0.278425,
          0.277825,
          0.275925,
          0.273425,
          0.26952499999999996,
          0.266225,
          0.26492499999999997
         ],
         "yaxis": "y6"
        },
        {
         "hovertemplate": "%{y:.2f}<br>",
         "line": {
          "color": "#636EFA"
         },
         "mode": "lines",
         "name": "450.0 nm",
         "showlegend": false,
         "type": "scatter",
         "x": [
          0,
          900,
          1802,
          2700,
          3600,
          4502,
          5400
         ],
         "xaxis": "x7",
         "y": [
          1.2961250000000002,
          1.2956250000000002,
          1.2906250000000001,
          1.2845250000000001,
          1.2804250000000001,
          1.275125,
          1.2694250000000002
         ],
         "yaxis": "y7"
        },
        {
         "hovertemplate": "%{y:.2f}<br>",
         "line": {
          "color": "#636EFA"
         },
         "mode": "lines",
         "name": "450.0 nm",
         "showlegend": false,
         "type": "scatter",
         "x": [
          0,
          900,
          1802,
          2700,
          3600,
          4502,
          5400
         ],
         "xaxis": "x8",
         "y": [
          2.2840249999999997,
          2.283025,
          2.278625,
          2.2720249999999997,
          2.266025,
          2.259325,
          2.253225
         ],
         "yaxis": "y8"
        },
        {
         "hovertemplate": "%{y:.2f}<br>",
         "line": {
          "color": "#636EFA"
         },
         "mode": "lines",
         "name": "450.0 nm",
         "showlegend": false,
         "type": "scatter",
         "x": [
          0,
          900,
          1802,
          2700,
          3600,
          4502,
          5400
         ],
         "xaxis": "x9",
         "y": [
          3.182925,
          3.175325,
          3.185925,
          3.173525,
          3.186025,
          3.172225,
          3.192525
         ],
         "yaxis": "y9"
        },
        {
         "hovertemplate": "%{y:.2f}<br>",
         "line": {
          "color": "#636EFA"
         },
         "mode": "lines",
         "name": "450.0 nm",
         "showlegend": false,
         "type": "scatter",
         "x": [
          0,
          900,
          1802,
          2700,
          3600,
          4502,
          5400
         ],
         "xaxis": "x10",
         "y": [
          3.2112249999999998,
          3.203825,
          3.212025,
          3.205225,
          3.214725,
          3.197025,
          3.206125
         ],
         "yaxis": "y10"
        },
        {
         "hovertemplate": "%{y:.2f}<br>",
         "line": {
          "color": "#636EFA"
         },
         "mode": "lines",
         "name": "450.0 nm",
         "showlegend": false,
         "type": "scatter",
         "x": [
          0,
          900,
          1802,
          2700,
          3600,
          4502,
          5400
         ],
         "xaxis": "x11",
         "y": [
          3.1792249999999997,
          3.1731249999999998,
          3.180725,
          3.172325,
          3.181725,
          3.170525,
          3.173925
         ],
         "yaxis": "y11"
        },
        {
         "hovertemplate": "%{y:.2f}<br>",
         "line": {
          "color": "#636EFA"
         },
         "mode": "lines",
         "name": "450.0 nm",
         "showlegend": false,
         "type": "scatter",
         "x": [
          0,
          900,
          1802,
          2700,
          3600,
          4502,
          5400
         ],
         "xaxis": "x12",
         "y": [
          3.254825,
          3.244025,
          3.253525,
          3.2558249999999997,
          3.251525,
          3.238325,
          3.248125
         ],
         "yaxis": "y12"
        },
        {
         "hovertemplate": "%{y:.2f}<br>",
         "line": {
          "color": "#636EFA"
         },
         "mode": "lines",
         "name": "450.0 nm",
         "showlegend": false,
         "type": "scatter",
         "x": [
          0,
          900,
          1802,
          2700,
          3600,
          4502,
          5400
         ],
         "xaxis": "x16",
         "y": [
          2.719025,
          2.7173249999999998,
          2.715525,
          2.710425,
          2.706325,
          2.696625,
          2.6912249999999998
         ],
         "yaxis": "y16"
        },
        {
         "hovertemplate": "%{y:.2f}<br>",
         "line": {
          "color": "#636EFA"
         },
         "mode": "lines",
         "name": "450.0 nm",
         "showlegend": false,
         "type": "scatter",
         "x": [
          0,
          900,
          1802,
          2700,
          3600,
          4502,
          5400
         ],
         "xaxis": "x17",
         "y": [
          -0.0035749999999999975,
          -0.0018749999999999973,
          -0.0014749999999999997,
          -0.0023749999999999978,
          -0.0024750000000000006,
          -0.0034750000000000015,
          -0.003175
         ],
         "yaxis": "y17"
        },
        {
         "hovertemplate": "%{y:.2f}<br>",
         "line": {
          "color": "#636EFA"
         },
         "mode": "lines",
         "name": "450.0 nm",
         "showlegend": false,
         "type": "scatter",
         "x": [
          0,
          900,
          1802,
          2700,
          3600,
          4502,
          5400
         ],
         "xaxis": "x18",
         "y": [
          0.27912499999999996,
          0.280225,
          0.276425,
          0.27352499999999996,
          0.272125,
          0.26942499999999997,
          0.268625
         ],
         "yaxis": "y18"
        },
        {
         "hovertemplate": "%{y:.2f}<br>",
         "line": {
          "color": "#636EFA"
         },
         "mode": "lines",
         "name": "450.0 nm",
         "showlegend": false,
         "type": "scatter",
         "x": [
          0,
          900,
          1802,
          2700,
          3600,
          4502,
          5400
         ],
         "xaxis": "x19",
         "y": [
          1.3006250000000001,
          1.3002250000000002,
          1.2974250000000003,
          1.2923250000000002,
          1.2884250000000002,
          1.283225,
          1.2795250000000002
         ],
         "yaxis": "y19"
        },
        {
         "hovertemplate": "%{y:.2f}<br>",
         "line": {
          "color": "#636EFA"
         },
         "mode": "lines",
         "name": "450.0 nm",
         "showlegend": false,
         "type": "scatter",
         "x": [
          0,
          900,
          1802,
          2700,
          3600,
          4502,
          5400
         ],
         "xaxis": "x20",
         "y": [
          2.286025,
          2.284125,
          2.280625,
          2.274425,
          2.267625,
          2.260225,
          2.256525
         ],
         "yaxis": "y20"
        },
        {
         "hovertemplate": "%{y:.2f}<br>",
         "line": {
          "color": "#636EFA"
         },
         "mode": "lines",
         "name": "450.0 nm",
         "showlegend": false,
         "type": "scatter",
         "x": [
          0,
          900,
          1802,
          2700,
          3600,
          4502,
          5400
         ],
         "xaxis": "x21",
         "y": [
          2.992125,
          2.983625,
          2.993325,
          2.9915249999999998,
          2.988225,
          2.982825,
          2.990025
         ],
         "yaxis": "y21"
        },
        {
         "hovertemplate": "%{y:.2f}<br>",
         "line": {
          "color": "#636EFA"
         },
         "mode": "lines",
         "name": "450.0 nm",
         "showlegend": false,
         "type": "scatter",
         "x": [
          0,
          900,
          1802,
          2700,
          3600,
          4502,
          5400
         ],
         "xaxis": "x22",
         "y": [
          2.996825,
          2.992025,
          3.002525,
          2.994325,
          3.0100249999999997,
          2.999825,
          2.994525
         ],
         "yaxis": "y22"
        },
        {
         "hovertemplate": "%{y:.2f}<br>",
         "line": {
          "color": "#636EFA"
         },
         "mode": "lines",
         "name": "450.0 nm",
         "showlegend": false,
         "type": "scatter",
         "x": [
          0,
          900,
          1802,
          2700,
          3600,
          4502,
          5400
         ],
         "xaxis": "x23",
         "y": [
          2.983225,
          2.970525,
          2.981525,
          2.9919249999999997,
          2.982925,
          2.978125,
          2.986925
         ],
         "yaxis": "y23"
        },
        {
         "hovertemplate": "%{y:.2f}<br>",
         "line": {
          "color": "#636EFA"
         },
         "mode": "lines",
         "name": "450.0 nm",
         "showlegend": false,
         "type": "scatter",
         "x": [
          0,
          900,
          1802,
          2700,
          3600,
          4502,
          5400
         ],
         "xaxis": "x24",
         "y": [
          3.202525,
          3.185525,
          3.193825,
          3.206225,
          3.1996249999999997,
          3.205925,
          3.190925
         ],
         "yaxis": "y24"
        },
        {
         "hovertemplate": "%{y:.2f}<br>",
         "line": {
          "color": "#636EFA"
         },
         "mode": "lines",
         "name": "450.0 nm",
         "showlegend": false,
         "type": "scatter",
         "x": [
          0,
          900,
          1802,
          2700,
          3600,
          4502,
          5400
         ],
         "xaxis": "x56",
         "y": [
          2.735525,
          2.733225,
          2.730025,
          2.727725,
          2.716525,
          2.716025,
          2.715725
         ],
         "yaxis": "y56"
        },
        {
         "hovertemplate": "%{y:.2f}<br>",
         "line": {
          "color": "#636EFA"
         },
         "mode": "lines",
         "name": "450.0 nm",
         "showlegend": false,
         "type": "scatter",
         "x": [
          0,
          900,
          1802,
          2700,
          3600,
          4502,
          5400
         ],
         "xaxis": "x29",
         "y": [
          -0.009174999999999999,
          -0.008475,
          -0.008975,
          -0.009975000000000001,
          -0.009675,
          -0.010475000000000002,
          -0.009675
         ],
         "yaxis": "y29"
        },
        {
         "hovertemplate": "%{y:.2f}<br>",
         "line": {
          "color": "#636EFA"
         },
         "mode": "lines",
         "name": "450.0 nm",
         "showlegend": false,
         "type": "scatter",
         "x": [
          0,
          900,
          1802,
          2700,
          3600,
          4502,
          5400
         ],
         "xaxis": "x30",
         "y": [
          0.27752499999999997,
          0.27952499999999997,
          0.276225,
          0.272725,
          0.270625,
          0.267825,
          0.266825
         ],
         "yaxis": "y30"
        },
        {
         "hovertemplate": "%{y:.2f}<br>",
         "line": {
          "color": "#636EFA"
         },
         "mode": "lines",
         "name": "450.0 nm",
         "showlegend": false,
         "type": "scatter",
         "x": [
          0,
          900,
          1802,
          2700,
          3600,
          4502,
          5400
         ],
         "xaxis": "x31",
         "y": [
          1.2985250000000002,
          1.2983250000000002,
          1.295025,
          1.289025,
          1.2857250000000002,
          1.2804250000000001,
          1.2753250000000003
         ],
         "yaxis": "y31"
        },
        {
         "hovertemplate": "%{y:.2f}<br>",
         "line": {
          "color": "#636EFA"
         },
         "mode": "lines",
         "name": "450.0 nm",
         "showlegend": false,
         "type": "scatter",
         "x": [
          0,
          900,
          1802,
          2700,
          3600,
          4502,
          5400
         ],
         "xaxis": "x32",
         "y": [
          2.362025,
          2.3625249999999998,
          2.358125,
          2.351425,
          2.343025,
          2.338825,
          2.329325
         ],
         "yaxis": "y32"
        },
        {
         "hovertemplate": "%{y:.2f}<br>",
         "line": {
          "color": "#636EFA"
         },
         "mode": "lines",
         "name": "450.0 nm",
         "showlegend": false,
         "type": "scatter",
         "x": [
          0,
          900,
          1802,
          2700,
          3600,
          4502,
          5400
         ],
         "xaxis": "x33",
         "y": [
          2.9757249999999997,
          2.986125,
          2.9858249999999997,
          2.975025,
          2.983125,
          2.970325,
          2.970825
         ],
         "yaxis": "y33"
        },
        {
         "hovertemplate": "%{y:.2f}<br>",
         "line": {
          "color": "#636EFA"
         },
         "mode": "lines",
         "name": "450.0 nm",
         "showlegend": false,
         "type": "scatter",
         "x": [
          0,
          900,
          1802,
          2700,
          3600,
          4502,
          5400
         ],
         "xaxis": "x34",
         "y": [
          2.9774249999999998,
          2.972725,
          2.9774249999999998,
          2.975825,
          2.986525,
          2.976625,
          2.975225
         ],
         "yaxis": "y34"
        },
        {
         "hovertemplate": "%{y:.2f}<br>",
         "line": {
          "color": "#636EFA"
         },
         "mode": "lines",
         "name": "450.0 nm",
         "showlegend": false,
         "type": "scatter",
         "x": [
          0,
          900,
          1802,
          2700,
          3600,
          4502,
          5400
         ],
         "xaxis": "x35",
         "y": [
          2.9795249999999998,
          2.972025,
          2.977725,
          2.9778249999999997,
          2.980225,
          2.975225,
          2.976625
         ],
         "yaxis": "y35"
        },
        {
         "hovertemplate": "%{y:.2f}<br>",
         "line": {
          "color": "#636EFA"
         },
         "mode": "lines",
         "name": "450.0 nm",
         "showlegend": false,
         "type": "scatter",
         "x": [
          0,
          900,
          1802,
          2700,
          3600,
          4502,
          5400
         ],
         "xaxis": "x36",
         "y": [
          3.152525,
          3.145025,
          3.163725,
          3.1508249999999998,
          3.1628249999999998,
          3.1527249999999998,
          3.1527249999999998
         ],
         "yaxis": "y36"
        },
        {
         "hovertemplate": "%{y:.2f}<br>",
         "line": {
          "color": "#636EFA"
         },
         "mode": "lines",
         "name": "450.0 nm",
         "showlegend": false,
         "type": "scatter",
         "x": [
          0,
          900,
          1802,
          2700,
          3600,
          4502,
          5400
         ],
         "xaxis": "x68",
         "y": [
          2.738625,
          2.735325,
          2.734625,
          2.730725,
          2.721625,
          2.715925,
          2.7095249999999997
         ],
         "yaxis": "y68"
        },
        {
         "hovertemplate": "%{y:.2f}<br>",
         "line": {
          "color": "#636EFA"
         },
         "mode": "lines",
         "name": "450.0 nm",
         "showlegend": false,
         "type": "scatter",
         "x": [
          0,
          900,
          1802,
          2700,
          3600,
          4502,
          5400
         ],
         "xaxis": "x41",
         "y": [
          -0.008275000000000001,
          -0.0053750000000000004,
          -0.005875000000000001,
          -0.006474999999999997,
          -0.006774999999999999,
          -0.0061750000000000025,
          -0.0053750000000000004
         ],
         "yaxis": "y41"
        },
        {
         "hovertemplate": "%{y:.2f}<br>",
         "line": {
          "color": "#636EFA"
         },
         "mode": "lines",
         "name": "450.0 nm",
         "showlegend": false,
         "type": "scatter",
         "x": [
          0,
          900,
          1802,
          2700,
          3600,
          4502,
          5400
         ],
         "xaxis": "x42",
         "y": [
          0.280325,
          0.281825,
          0.27902499999999997,
          0.27662499999999995,
          0.275125,
          0.272825,
          0.271325
         ],
         "yaxis": "y42"
        },
        {
         "hovertemplate": "%{y:.2f}<br>",
         "line": {
          "color": "#636EFA"
         },
         "mode": "lines",
         "name": "450.0 nm",
         "showlegend": false,
         "type": "scatter",
         "x": [
          0,
          900,
          1802,
          2700,
          3600,
          4502,
          5400
         ],
         "xaxis": "x43",
         "y": [
          1.2552250000000003,
          1.2572250000000003,
          1.2523250000000001,
          1.246825,
          1.242925,
          1.2361250000000001,
          1.232725
         ],
         "yaxis": "y43"
        },
        {
         "hovertemplate": "%{y:.2f}<br>",
         "line": {
          "color": "#636EFA"
         },
         "mode": "lines",
         "name": "450.0 nm",
         "showlegend": false,
         "type": "scatter",
         "x": [
          0,
          900,
          1802,
          2700,
          3600,
          4502,
          5400
         ],
         "xaxis": "x44",
         "y": [
          2.3305249999999997,
          2.329225,
          2.327525,
          2.319725,
          2.314225,
          2.305225,
          2.298825
         ],
         "yaxis": "y44"
        },
        {
         "hovertemplate": "%{y:.2f}<br>",
         "line": {
          "color": "#636EFA"
         },
         "mode": "lines",
         "name": "450.0 nm",
         "showlegend": false,
         "type": "scatter",
         "x": [
          0,
          900,
          1802,
          2700,
          3600,
          4502,
          5400
         ],
         "xaxis": "x45",
         "y": [
          2.9835249999999998,
          2.985925,
          2.993925,
          2.988625,
          2.986625,
          2.986825,
          2.987225
         ],
         "yaxis": "y45"
        },
        {
         "hovertemplate": "%{y:.2f}<br>",
         "line": {
          "color": "#636EFA"
         },
         "mode": "lines",
         "name": "450.0 nm",
         "showlegend": false,
         "type": "scatter",
         "x": [
          0,
          900,
          1802,
          2700,
          3600,
          4502,
          5400
         ],
         "xaxis": "x46",
         "y": [
          2.999825,
          2.988925,
          2.997725,
          2.996825,
          2.996925,
          2.989325,
          2.993525
         ],
         "yaxis": "y46"
        },
        {
         "hovertemplate": "%{y:.2f}<br>",
         "line": {
          "color": "#636EFA"
         },
         "mode": "lines",
         "name": "450.0 nm",
         "showlegend": false,
         "type": "scatter",
         "x": [
          0,
          900,
          1802,
          2700,
          3600,
          4502,
          5400
         ],
         "xaxis": "x47",
         "y": [
          2.9879249999999997,
          2.970825,
          2.987225,
          2.9896249999999998,
          2.990125,
          2.984125,
          2.988825
         ],
         "yaxis": "y47"
        },
        {
         "hovertemplate": "%{y:.2f}<br>",
         "line": {
          "color": "#636EFA"
         },
         "mode": "lines",
         "name": "450.0 nm",
         "showlegend": false,
         "type": "scatter",
         "x": [
          0,
          900,
          1802,
          2700,
          3600,
          4502,
          5400
         ],
         "xaxis": "x48",
         "y": [
          3.1430249999999997,
          3.129325,
          3.142225,
          3.142525,
          3.147525,
          3.136425,
          3.135625
         ],
         "yaxis": "y48"
        },
        {
         "hovertemplate": "%{y:.2f}<br>",
         "line": {
          "color": "#636EFA"
         },
         "mode": "lines",
         "name": "450.0 nm",
         "showlegend": false,
         "type": "scatter",
         "x": [
          0,
          900,
          1802,
          2700,
          3600,
          4502,
          5400
         ],
         "xaxis": "x52",
         "y": [
          0.005325000000000001,
          0.007725,
          0.007725,
          0.008725,
          0.009425,
          0.008025000000000001,
          0.009824999999999997
         ],
         "yaxis": "y52"
        },
        {
         "hovertemplate": "%{y:.2f}<br>",
         "line": {
          "color": "#636EFA"
         },
         "mode": "lines",
         "name": "450.0 nm",
         "showlegend": false,
         "type": "scatter",
         "x": [
          0,
          900,
          1802,
          2700,
          3600,
          4502,
          5400
         ],
         "xaxis": "x53",
         "y": [
          0.022224999999999998,
          0.023925,
          0.023424999999999998,
          0.021325,
          0.021025,
          0.019925,
          0.019125
         ],
         "yaxis": "y53"
        },
        {
         "hovertemplate": "%{y:.2f}<br>",
         "line": {
          "color": "#636EFA"
         },
         "mode": "lines",
         "name": "450.0 nm",
         "showlegend": false,
         "type": "scatter",
         "x": [
          0,
          900,
          1802,
          2700,
          3600,
          4502,
          5400
         ],
         "xaxis": "x54",
         "y": [
          0.6274249999999999,
          0.629025,
          0.6261249999999999,
          0.6211249999999999,
          0.6181249999999999,
          0.6134249999999999,
          0.608525
         ],
         "yaxis": "y54"
        },
        {
         "hovertemplate": "%{y:.2f}<br>",
         "line": {
          "color": "#636EFA"
         },
         "mode": "lines",
         "name": "450.0 nm",
         "showlegend": false,
         "type": "scatter",
         "x": [
          0,
          900,
          1802,
          2700,
          3600,
          4502,
          5400
         ],
         "xaxis": "x55",
         "y": [
          1.8367250000000002,
          1.8349250000000001,
          1.831225,
          1.823625,
          1.8177250000000003,
          1.811225,
          1.805225
         ],
         "yaxis": "y55"
        },
        {
         "hovertemplate": "%{y:.2f}<br>",
         "line": {
          "color": "#636EFA"
         },
         "mode": "lines",
         "name": "450.0 nm",
         "showlegend": false,
         "type": "scatter",
         "x": [
          0,
          900,
          1802,
          2700,
          3600,
          4502,
          5400
         ],
         "xaxis": "x57",
         "y": [
          2.983125,
          2.978625,
          2.986825,
          2.983925,
          2.999025,
          2.983025,
          2.981225
         ],
         "yaxis": "y57"
        },
        {
         "hovertemplate": "%{y:.2f}<br>",
         "line": {
          "color": "#636EFA"
         },
         "mode": "lines",
         "name": "450.0 nm",
         "showlegend": false,
         "type": "scatter",
         "x": [
          0,
          900,
          1802,
          2700,
          3600,
          4502,
          5400
         ],
         "xaxis": "x58",
         "y": [
          2.9879249999999997,
          2.970425,
          2.977925,
          2.980625,
          2.980025,
          2.976925,
          2.9755249999999998
         ],
         "yaxis": "y58"
        },
        {
         "hovertemplate": "%{y:.2f}<br>",
         "line": {
          "color": "#636EFA"
         },
         "mode": "lines",
         "name": "450.0 nm",
         "showlegend": false,
         "type": "scatter",
         "x": [
          0,
          900,
          1802,
          2700,
          3600,
          4502,
          5400
         ],
         "xaxis": "x60",
         "y": [
          0.0013464285714285748,
          0.0052464285714285755,
          0.0070464285714285715,
          0.00724642857142857,
          0.009946428571428571,
          0.011046428571428575,
          0.01294642857142857
         ],
         "yaxis": "y60"
        },
        {
         "hovertemplate": "%{y:.2f}<br>",
         "line": {
          "color": "#636EFA"
         },
         "mode": "lines",
         "name": "450.0 nm",
         "showlegend": false,
         "type": "scatter",
         "x": [
          0,
          900,
          1802,
          2700,
          3600,
          4502,
          5400
         ],
         "xaxis": "x64",
         "y": [
          -0.0071749999999999965,
          -0.004574999999999998,
          -0.006474999999999997,
          -0.0062749999999999985,
          -0.004975000000000003,
          -0.005074999999999999,
          0.0001249999999999975
         ],
         "yaxis": "y64"
        },
        {
         "hovertemplate": "%{y:.2f}<br>",
         "line": {
          "color": "#636EFA"
         },
         "mode": "lines",
         "name": "450.0 nm",
         "showlegend": false,
         "type": "scatter",
         "x": [
          0,
          900,
          1802,
          2700,
          3600,
          4502,
          5400
         ],
         "xaxis": "x65",
         "y": [
          0.021925,
          0.022425,
          0.020825,
          0.019424999999999998,
          0.019825,
          0.018925,
          0.018025
         ],
         "yaxis": "y65"
        },
        {
         "hovertemplate": "%{y:.2f}<br>",
         "line": {
          "color": "#636EFA"
         },
         "mode": "lines",
         "name": "450.0 nm",
         "showlegend": false,
         "type": "scatter",
         "x": [
          0,
          900,
          1802,
          2700,
          3600,
          4502,
          5400
         ],
         "xaxis": "x66",
         "y": [
          0.624825,
          0.6241249999999999,
          0.621725,
          0.6172249999999999,
          0.615725,
          0.6120249999999999,
          0.6089249999999999
         ],
         "yaxis": "y66"
        },
        {
         "hovertemplate": "%{y:.2f}<br>",
         "line": {
          "color": "#636EFA"
         },
         "mode": "lines",
         "name": "450.0 nm",
         "showlegend": false,
         "type": "scatter",
         "x": [
          0,
          900,
          1802,
          2700,
          3600,
          4502,
          5400
         ],
         "xaxis": "x67",
         "y": [
          1.8489250000000002,
          1.8442250000000002,
          1.8388250000000002,
          1.831325,
          1.8260250000000002,
          1.8196250000000003,
          1.813425
         ],
         "yaxis": "y67"
        },
        {
         "hovertemplate": "%{y:.2f}<br>",
         "line": {
          "color": "#636EFA"
         },
         "mode": "lines",
         "name": "450.0 nm",
         "showlegend": false,
         "type": "scatter",
         "x": [
          0,
          900,
          1802,
          2700,
          3600,
          4502,
          5400
         ],
         "xaxis": "x93",
         "y": [
          3.112325,
          3.092425,
          3.106025,
          3.110925,
          3.116225,
          3.105625,
          3.1003249999999998
         ],
         "yaxis": "y93"
        },
        {
         "hovertemplate": "%{y:.2f}<br>",
         "line": {
          "color": "#636EFA"
         },
         "mode": "lines",
         "name": "450.0 nm",
         "showlegend": false,
         "type": "scatter",
         "x": [
          0,
          900,
          1802,
          2700,
          3600,
          4502,
          5400
         ],
         "xaxis": "x70",
         "y": [
          2.958425,
          2.945925,
          2.955825,
          2.960125,
          2.964025,
          2.954625,
          2.956625
         ],
         "yaxis": "y70"
        },
        {
         "hovertemplate": "%{y:.2f}<br>",
         "line": {
          "color": "#636EFA"
         },
         "mode": "lines",
         "name": "450.0 nm",
         "showlegend": false,
         "type": "scatter",
         "x": [
          0,
          900,
          1802,
          2700,
          3600,
          4502,
          5400
         ],
         "xaxis": "x72",
         "y": [
          -0.007853571428571425,
          -0.0047535714285714264,
          -0.0038535714285714284,
          -0.004453571428571425,
          -0.004253571428571426,
          -0.003253571428571425,
          -0.0008535714285714258
         ],
         "yaxis": "y72"
        },
        {
         "hovertemplate": "%{y:.2f}<br>",
         "line": {
          "color": "#636EFA"
         },
         "mode": "lines",
         "name": "450.0 nm",
         "showlegend": false,
         "type": "scatter",
         "x": [
          0,
          900,
          1802,
          2700,
          3600,
          4502,
          5400
         ],
         "xaxis": "x76",
         "y": [
          -0.003975000000000002,
          -0.002174999999999999,
          -0.0024750000000000006,
          -0.0018749999999999973,
          -0.001275000000000001,
          -0.0009749999999999993,
          0.0021249999999999993
         ],
         "yaxis": "y76"
        },
        {
         "hovertemplate": "%{y:.2f}<br>",
         "line": {
          "color": "#636EFA"
         },
         "mode": "lines",
         "name": "450.0 nm",
         "showlegend": false,
         "type": "scatter",
         "x": [
          0,
          900,
          1802,
          2700,
          3600,
          4502,
          5400
         ],
         "xaxis": "x77",
         "y": [
          0.016225,
          0.016525,
          0.016624999999999997,
          0.012925000000000002,
          0.013125000000000001,
          0.012224999999999996,
          0.011425000000000001
         ],
         "yaxis": "y77"
        },
        {
         "hovertemplate": "%{y:.2f}<br>",
         "line": {
          "color": "#636EFA"
         },
         "mode": "lines",
         "name": "450.0 nm",
         "showlegend": false,
         "type": "scatter",
         "x": [
          0,
          900,
          1802,
          2700,
          3600,
          4502,
          5400
         ],
         "xaxis": "x78",
         "y": [
          0.613725,
          0.610525,
          0.606825,
          0.602625,
          0.6001249999999999,
          0.5941249999999999,
          0.592625
         ],
         "yaxis": "y78"
        },
        {
         "hovertemplate": "%{y:.2f}<br>",
         "line": {
          "color": "#636EFA"
         },
         "mode": "lines",
         "name": "450.0 nm",
         "showlegend": false,
         "type": "scatter",
         "x": [
          0,
          900,
          1802,
          2700,
          3600,
          4502,
          5400
         ],
         "xaxis": "x79",
         "y": [
          1.897825,
          1.8923250000000003,
          1.883625,
          1.8768250000000002,
          1.8690250000000002,
          1.8613250000000001,
          1.853625
         ],
         "yaxis": "y79"
        },
        {
         "hovertemplate": "%{y:.2f}<br>",
         "line": {
          "color": "#636EFA"
         },
         "mode": "lines",
         "name": "450.0 nm",
         "showlegend": false,
         "type": "scatter",
         "x": [
          0,
          900,
          1802,
          2700,
          3600,
          4502,
          5400
         ],
         "xaxis": "x82",
         "y": [
          3.0100249999999997,
          3.003325,
          3.010925,
          3.001425,
          3.010225,
          3.007225,
          3.005725
         ],
         "yaxis": "y82"
        },
        {
         "hovertemplate": "%{y:.2f}<br>",
         "line": {
          "color": "#636EFA"
         },
         "mode": "lines",
         "name": "450.0 nm",
         "showlegend": false,
         "type": "scatter",
         "x": [
          0,
          900,
          1802,
          2700,
          3600,
          4502,
          5400
         ],
         "xaxis": "x84",
         "y": [
          -0.0047535714285714264,
          0.00024642857142857105,
          0.0023464285714285688,
          0.004046428571428569,
          0.0052464285714285755,
          0.007646428571428575,
          0.008046428571428572
         ],
         "yaxis": "y84"
        },
        {
         "hovertemplate": "%{y:.2f}<br>",
         "line": {
          "color": "#636EFA"
         },
         "mode": "lines",
         "name": "450.0 nm",
         "showlegend": false,
         "type": "scatter",
         "x": [
          0,
          900,
          1802,
          2700,
          3600,
          4502,
          5400
         ],
         "xaxis": "x88",
         "y": [
          -0.0035749999999999975,
          -0.0025749999999999966,
          -0.0017750000000000014,
          -0.002275000000000002,
          -0.002874999999999998,
          0.0008249999999999967,
          0.000525000000000002
         ],
         "yaxis": "y88"
        },
        {
         "hovertemplate": "%{y:.2f}<br>",
         "line": {
          "color": "#636EFA"
         },
         "mode": "lines",
         "name": "450.0 nm",
         "showlegend": false,
         "type": "scatter",
         "x": [
          0,
          900,
          1802,
          2700,
          3600,
          4502,
          5400
         ],
         "xaxis": "x89",
         "y": [
          0.011024999999999997,
          0.011225000000000002,
          0.010324999999999997,
          0.008525000000000001,
          0.008725,
          0.008225,
          0.007725
         ],
         "yaxis": "y89"
        },
        {
         "hovertemplate": "%{y:.2f}<br>",
         "line": {
          "color": "#636EFA"
         },
         "mode": "lines",
         "name": "450.0 nm",
         "showlegend": false,
         "type": "scatter",
         "x": [
          0,
          900,
          1802,
          2700,
          3600,
          4502,
          5400
         ],
         "xaxis": "x90",
         "y": [
          0.603625,
          0.6021249999999999,
          0.599525,
          0.5940249999999999,
          0.591325,
          0.5879249999999999,
          0.585325
         ],
         "yaxis": "y90"
        },
        {
         "hovertemplate": "%{y:.2f}<br>",
         "line": {
          "color": "#636EFA"
         },
         "mode": "lines",
         "name": "450.0 nm",
         "showlegend": false,
         "type": "scatter",
         "x": [
          0,
          900,
          1802,
          2700,
          3600,
          4502,
          5400
         ],
         "xaxis": "x91",
         "y": [
          1.8342250000000002,
          1.831425,
          1.8240250000000002,
          1.8142250000000002,
          1.8066250000000001,
          1.799425,
          1.7903250000000002
         ],
         "yaxis": "y91"
        },
        {
         "hovertemplate": "%{y:.2f}<br>",
         "line": {
          "color": "#636EFA"
         },
         "mode": "lines",
         "name": "450.0 nm",
         "showlegend": false,
         "type": "scatter",
         "x": [
          0,
          900,
          1802,
          2700,
          3600,
          4502,
          5400
         ],
         "xaxis": "x94",
         "y": [
          3.129825,
          3.114025,
          3.130525,
          3.126025,
          3.134425,
          3.126325,
          3.129325
         ],
         "yaxis": "y94"
        },
        {
         "hovertemplate": "%{y:.2f}<br>",
         "line": {
          "color": "#636EFA"
         },
         "mode": "lines",
         "name": "450.0 nm",
         "showlegend": false,
         "type": "scatter",
         "x": [
          0,
          900,
          1802,
          2700,
          3600,
          4502,
          5400
         ],
         "xaxis": "x96",
         "y": [
          -0.009353571428571426,
          -0.00825357142857143,
          -0.007853571428571425,
          -0.006953571428571427,
          -0.006853571428571431,
          -0.0065535714285714294,
          -0.002553571428571426
         ],
         "yaxis": "y96"
        }
       ],
       "layout": {
        "annotations": [
         {
          "font": {
           "size": 16
          },
          "showarrow": false,
          "text": "A1",
          "x": 0.034027777777777775,
          "xanchor": "center",
          "xref": "paper",
          "y": 1,
          "yanchor": "bottom",
          "yref": "paper"
         },
         {
          "font": {
           "size": 16
          },
          "showarrow": false,
          "text": "A2",
          "x": 0.11875,
          "xanchor": "center",
          "xref": "paper",
          "y": 1,
          "yanchor": "bottom",
          "yref": "paper"
         },
         {
          "font": {
           "size": 16
          },
          "showarrow": false,
          "text": "A3",
          "x": 0.20347222222222222,
          "xanchor": "center",
          "xref": "paper",
          "y": 1,
          "yanchor": "bottom",
          "yref": "paper"
         },
         {
          "font": {
           "size": 16
          },
          "showarrow": false,
          "text": "A4",
          "x": 0.2881944444444444,
          "xanchor": "center",
          "xref": "paper",
          "y": 1,
          "yanchor": "bottom",
          "yref": "paper"
         },
         {
          "font": {
           "size": 16
          },
          "showarrow": false,
          "text": "A5",
          "x": 0.3729166666666666,
          "xanchor": "center",
          "xref": "paper",
          "y": 1,
          "yanchor": "bottom",
          "yref": "paper"
         },
         {
          "font": {
           "size": 16
          },
          "showarrow": false,
          "text": "A6",
          "x": 0.4576388888888888,
          "xanchor": "center",
          "xref": "paper",
          "y": 1,
          "yanchor": "bottom",
          "yref": "paper"
         },
         {
          "font": {
           "size": 16
          },
          "showarrow": false,
          "text": "A7",
          "x": 0.5423611111111111,
          "xanchor": "center",
          "xref": "paper",
          "y": 1,
          "yanchor": "bottom",
          "yref": "paper"
         },
         {
          "font": {
           "size": 16
          },
          "showarrow": false,
          "text": "A8",
          "x": 0.6270833333333332,
          "xanchor": "center",
          "xref": "paper",
          "y": 1,
          "yanchor": "bottom",
          "yref": "paper"
         },
         {
          "font": {
           "size": 16
          },
          "showarrow": false,
          "text": "A9",
          "x": 0.7118055555555555,
          "xanchor": "center",
          "xref": "paper",
          "y": 1,
          "yanchor": "bottom",
          "yref": "paper"
         },
         {
          "font": {
           "size": 16
          },
          "showarrow": false,
          "text": "A10",
          "x": 0.7965277777777777,
          "xanchor": "center",
          "xref": "paper",
          "y": 1,
          "yanchor": "bottom",
          "yref": "paper"
         },
         {
          "font": {
           "size": 16
          },
          "showarrow": false,
          "text": "A11",
          "x": 0.8812499999999999,
          "xanchor": "center",
          "xref": "paper",
          "y": 1,
          "yanchor": "bottom",
          "yref": "paper"
         },
         {
          "font": {
           "size": 16
          },
          "showarrow": false,
          "text": "A12",
          "x": 0.9659722222222221,
          "xanchor": "center",
          "xref": "paper",
          "y": 1,
          "yanchor": "bottom",
          "yref": "paper"
         },
         {
          "font": {
           "size": 16
          },
          "showarrow": false,
          "text": "B1",
          "x": 0.034027777777777775,
          "xanchor": "center",
          "xref": "paper",
          "y": 0.8671875,
          "yanchor": "bottom",
          "yref": "paper"
         },
         {
          "font": {
           "size": 16
          },
          "showarrow": false,
          "text": "B2",
          "x": 0.11875,
          "xanchor": "center",
          "xref": "paper",
          "y": 0.8671875,
          "yanchor": "bottom",
          "yref": "paper"
         },
         {
          "font": {
           "size": 16
          },
          "showarrow": false,
          "text": "B3",
          "x": 0.20347222222222222,
          "xanchor": "center",
          "xref": "paper",
          "y": 0.8671875,
          "yanchor": "bottom",
          "yref": "paper"
         },
         {
          "font": {
           "size": 16
          },
          "showarrow": false,
          "text": "B4",
          "x": 0.2881944444444444,
          "xanchor": "center",
          "xref": "paper",
          "y": 0.8671875,
          "yanchor": "bottom",
          "yref": "paper"
         },
         {
          "font": {
           "size": 16
          },
          "showarrow": false,
          "text": "B5",
          "x": 0.3729166666666666,
          "xanchor": "center",
          "xref": "paper",
          "y": 0.8671875,
          "yanchor": "bottom",
          "yref": "paper"
         },
         {
          "font": {
           "size": 16
          },
          "showarrow": false,
          "text": "B6",
          "x": 0.4576388888888888,
          "xanchor": "center",
          "xref": "paper",
          "y": 0.8671875,
          "yanchor": "bottom",
          "yref": "paper"
         },
         {
          "font": {
           "size": 16
          },
          "showarrow": false,
          "text": "B7",
          "x": 0.5423611111111111,
          "xanchor": "center",
          "xref": "paper",
          "y": 0.8671875,
          "yanchor": "bottom",
          "yref": "paper"
         },
         {
          "font": {
           "size": 16
          },
          "showarrow": false,
          "text": "B8",
          "x": 0.6270833333333332,
          "xanchor": "center",
          "xref": "paper",
          "y": 0.8671875,
          "yanchor": "bottom",
          "yref": "paper"
         },
         {
          "font": {
           "size": 16
          },
          "showarrow": false,
          "text": "B9",
          "x": 0.7118055555555555,
          "xanchor": "center",
          "xref": "paper",
          "y": 0.8671875,
          "yanchor": "bottom",
          "yref": "paper"
         },
         {
          "font": {
           "size": 16
          },
          "showarrow": false,
          "text": "B10",
          "x": 0.7965277777777777,
          "xanchor": "center",
          "xref": "paper",
          "y": 0.8671875,
          "yanchor": "bottom",
          "yref": "paper"
         },
         {
          "font": {
           "size": 16
          },
          "showarrow": false,
          "text": "B11",
          "x": 0.8812499999999999,
          "xanchor": "center",
          "xref": "paper",
          "y": 0.8671875,
          "yanchor": "bottom",
          "yref": "paper"
         },
         {
          "font": {
           "size": 16
          },
          "showarrow": false,
          "text": "B12",
          "x": 0.9659722222222221,
          "xanchor": "center",
          "xref": "paper",
          "y": 0.8671875,
          "yanchor": "bottom",
          "yref": "paper"
         },
         {
          "font": {
           "size": 16
          },
          "showarrow": false,
          "text": "C1",
          "x": 0.034027777777777775,
          "xanchor": "center",
          "xref": "paper",
          "y": 0.734375,
          "yanchor": "bottom",
          "yref": "paper"
         },
         {
          "font": {
           "size": 16
          },
          "showarrow": false,
          "text": "C2",
          "x": 0.11875,
          "xanchor": "center",
          "xref": "paper",
          "y": 0.734375,
          "yanchor": "bottom",
          "yref": "paper"
         },
         {
          "font": {
           "size": 16
          },
          "showarrow": false,
          "text": "C3",
          "x": 0.20347222222222222,
          "xanchor": "center",
          "xref": "paper",
          "y": 0.734375,
          "yanchor": "bottom",
          "yref": "paper"
         },
         {
          "font": {
           "size": 16
          },
          "showarrow": false,
          "text": "C4",
          "x": 0.2881944444444444,
          "xanchor": "center",
          "xref": "paper",
          "y": 0.734375,
          "yanchor": "bottom",
          "yref": "paper"
         },
         {
          "font": {
           "size": 16
          },
          "showarrow": false,
          "text": "C5",
          "x": 0.3729166666666666,
          "xanchor": "center",
          "xref": "paper",
          "y": 0.734375,
          "yanchor": "bottom",
          "yref": "paper"
         },
         {
          "font": {
           "size": 16
          },
          "showarrow": false,
          "text": "C6",
          "x": 0.4576388888888888,
          "xanchor": "center",
          "xref": "paper",
          "y": 0.734375,
          "yanchor": "bottom",
          "yref": "paper"
         },
         {
          "font": {
           "size": 16
          },
          "showarrow": false,
          "text": "C7",
          "x": 0.5423611111111111,
          "xanchor": "center",
          "xref": "paper",
          "y": 0.734375,
          "yanchor": "bottom",
          "yref": "paper"
         },
         {
          "font": {
           "size": 16
          },
          "showarrow": false,
          "text": "C8",
          "x": 0.6270833333333332,
          "xanchor": "center",
          "xref": "paper",
          "y": 0.734375,
          "yanchor": "bottom",
          "yref": "paper"
         },
         {
          "font": {
           "size": 16
          },
          "showarrow": false,
          "text": "C9",
          "x": 0.7118055555555555,
          "xanchor": "center",
          "xref": "paper",
          "y": 0.734375,
          "yanchor": "bottom",
          "yref": "paper"
         },
         {
          "font": {
           "size": 16
          },
          "showarrow": false,
          "text": "C10",
          "x": 0.7965277777777777,
          "xanchor": "center",
          "xref": "paper",
          "y": 0.734375,
          "yanchor": "bottom",
          "yref": "paper"
         },
         {
          "font": {
           "size": 16
          },
          "showarrow": false,
          "text": "C11",
          "x": 0.8812499999999999,
          "xanchor": "center",
          "xref": "paper",
          "y": 0.734375,
          "yanchor": "bottom",
          "yref": "paper"
         },
         {
          "font": {
           "size": 16
          },
          "showarrow": false,
          "text": "C12",
          "x": 0.9659722222222221,
          "xanchor": "center",
          "xref": "paper",
          "y": 0.734375,
          "yanchor": "bottom",
          "yref": "paper"
         },
         {
          "font": {
           "size": 16
          },
          "showarrow": false,
          "text": "D1",
          "x": 0.034027777777777775,
          "xanchor": "center",
          "xref": "paper",
          "y": 0.6015625,
          "yanchor": "bottom",
          "yref": "paper"
         },
         {
          "font": {
           "size": 16
          },
          "showarrow": false,
          "text": "D2",
          "x": 0.11875,
          "xanchor": "center",
          "xref": "paper",
          "y": 0.6015625,
          "yanchor": "bottom",
          "yref": "paper"
         },
         {
          "font": {
           "size": 16
          },
          "showarrow": false,
          "text": "D3",
          "x": 0.20347222222222222,
          "xanchor": "center",
          "xref": "paper",
          "y": 0.6015625,
          "yanchor": "bottom",
          "yref": "paper"
         },
         {
          "font": {
           "size": 16
          },
          "showarrow": false,
          "text": "D4",
          "x": 0.2881944444444444,
          "xanchor": "center",
          "xref": "paper",
          "y": 0.6015625,
          "yanchor": "bottom",
          "yref": "paper"
         },
         {
          "font": {
           "size": 16
          },
          "showarrow": false,
          "text": "D5",
          "x": 0.3729166666666666,
          "xanchor": "center",
          "xref": "paper",
          "y": 0.6015625,
          "yanchor": "bottom",
          "yref": "paper"
         },
         {
          "font": {
           "size": 16
          },
          "showarrow": false,
          "text": "D6",
          "x": 0.4576388888888888,
          "xanchor": "center",
          "xref": "paper",
          "y": 0.6015625,
          "yanchor": "bottom",
          "yref": "paper"
         },
         {
          "font": {
           "size": 16
          },
          "showarrow": false,
          "text": "D7",
          "x": 0.5423611111111111,
          "xanchor": "center",
          "xref": "paper",
          "y": 0.6015625,
          "yanchor": "bottom",
          "yref": "paper"
         },
         {
          "font": {
           "size": 16
          },
          "showarrow": false,
          "text": "D8",
          "x": 0.6270833333333332,
          "xanchor": "center",
          "xref": "paper",
          "y": 0.6015625,
          "yanchor": "bottom",
          "yref": "paper"
         },
         {
          "font": {
           "size": 16
          },
          "showarrow": false,
          "text": "D9",
          "x": 0.7118055555555555,
          "xanchor": "center",
          "xref": "paper",
          "y": 0.6015625,
          "yanchor": "bottom",
          "yref": "paper"
         },
         {
          "font": {
           "size": 16
          },
          "showarrow": false,
          "text": "D10",
          "x": 0.7965277777777777,
          "xanchor": "center",
          "xref": "paper",
          "y": 0.6015625,
          "yanchor": "bottom",
          "yref": "paper"
         },
         {
          "font": {
           "size": 16
          },
          "showarrow": false,
          "text": "D11",
          "x": 0.8812499999999999,
          "xanchor": "center",
          "xref": "paper",
          "y": 0.6015625,
          "yanchor": "bottom",
          "yref": "paper"
         },
         {
          "font": {
           "size": 16
          },
          "showarrow": false,
          "text": "D12",
          "x": 0.9659722222222221,
          "xanchor": "center",
          "xref": "paper",
          "y": 0.6015625,
          "yanchor": "bottom",
          "yref": "paper"
         },
         {
          "font": {
           "size": 16
          },
          "showarrow": false,
          "text": "E1",
          "x": 0.034027777777777775,
          "xanchor": "center",
          "xref": "paper",
          "y": 0.46875,
          "yanchor": "bottom",
          "yref": "paper"
         },
         {
          "font": {
           "size": 16
          },
          "showarrow": false,
          "text": "E2",
          "x": 0.11875,
          "xanchor": "center",
          "xref": "paper",
          "y": 0.46875,
          "yanchor": "bottom",
          "yref": "paper"
         },
         {
          "font": {
           "size": 16
          },
          "showarrow": false,
          "text": "E3",
          "x": 0.20347222222222222,
          "xanchor": "center",
          "xref": "paper",
          "y": 0.46875,
          "yanchor": "bottom",
          "yref": "paper"
         },
         {
          "font": {
           "size": 16
          },
          "showarrow": false,
          "text": "E4",
          "x": 0.2881944444444444,
          "xanchor": "center",
          "xref": "paper",
          "y": 0.46875,
          "yanchor": "bottom",
          "yref": "paper"
         },
         {
          "font": {
           "size": 16
          },
          "showarrow": false,
          "text": "E5",
          "x": 0.3729166666666666,
          "xanchor": "center",
          "xref": "paper",
          "y": 0.46875,
          "yanchor": "bottom",
          "yref": "paper"
         },
         {
          "font": {
           "size": 16
          },
          "showarrow": false,
          "text": "E6",
          "x": 0.4576388888888888,
          "xanchor": "center",
          "xref": "paper",
          "y": 0.46875,
          "yanchor": "bottom",
          "yref": "paper"
         },
         {
          "font": {
           "size": 16
          },
          "showarrow": false,
          "text": "E7",
          "x": 0.5423611111111111,
          "xanchor": "center",
          "xref": "paper",
          "y": 0.46875,
          "yanchor": "bottom",
          "yref": "paper"
         },
         {
          "font": {
           "size": 16
          },
          "showarrow": false,
          "text": "E8",
          "x": 0.6270833333333332,
          "xanchor": "center",
          "xref": "paper",
          "y": 0.46875,
          "yanchor": "bottom",
          "yref": "paper"
         },
         {
          "font": {
           "size": 16
          },
          "showarrow": false,
          "text": "E9",
          "x": 0.7118055555555555,
          "xanchor": "center",
          "xref": "paper",
          "y": 0.46875,
          "yanchor": "bottom",
          "yref": "paper"
         },
         {
          "font": {
           "size": 16
          },
          "showarrow": false,
          "text": "E10",
          "x": 0.7965277777777777,
          "xanchor": "center",
          "xref": "paper",
          "y": 0.46875,
          "yanchor": "bottom",
          "yref": "paper"
         },
         {
          "font": {
           "size": 16
          },
          "showarrow": false,
          "text": "E11",
          "x": 0.8812499999999999,
          "xanchor": "center",
          "xref": "paper",
          "y": 0.46875,
          "yanchor": "bottom",
          "yref": "paper"
         },
         {
          "font": {
           "size": 16
          },
          "showarrow": false,
          "text": "E12",
          "x": 0.9659722222222221,
          "xanchor": "center",
          "xref": "paper",
          "y": 0.46875,
          "yanchor": "bottom",
          "yref": "paper"
         },
         {
          "font": {
           "size": 16
          },
          "showarrow": false,
          "text": "F1",
          "x": 0.034027777777777775,
          "xanchor": "center",
          "xref": "paper",
          "y": 0.3359375,
          "yanchor": "bottom",
          "yref": "paper"
         },
         {
          "font": {
           "size": 16
          },
          "showarrow": false,
          "text": "F2",
          "x": 0.11875,
          "xanchor": "center",
          "xref": "paper",
          "y": 0.3359375,
          "yanchor": "bottom",
          "yref": "paper"
         },
         {
          "font": {
           "size": 16
          },
          "showarrow": false,
          "text": "F3",
          "x": 0.20347222222222222,
          "xanchor": "center",
          "xref": "paper",
          "y": 0.3359375,
          "yanchor": "bottom",
          "yref": "paper"
         },
         {
          "font": {
           "size": 16
          },
          "showarrow": false,
          "text": "F4",
          "x": 0.2881944444444444,
          "xanchor": "center",
          "xref": "paper",
          "y": 0.3359375,
          "yanchor": "bottom",
          "yref": "paper"
         },
         {
          "font": {
           "size": 16
          },
          "showarrow": false,
          "text": "F5",
          "x": 0.3729166666666666,
          "xanchor": "center",
          "xref": "paper",
          "y": 0.3359375,
          "yanchor": "bottom",
          "yref": "paper"
         },
         {
          "font": {
           "size": 16
          },
          "showarrow": false,
          "text": "F6",
          "x": 0.4576388888888888,
          "xanchor": "center",
          "xref": "paper",
          "y": 0.3359375,
          "yanchor": "bottom",
          "yref": "paper"
         },
         {
          "font": {
           "size": 16
          },
          "showarrow": false,
          "text": "F7",
          "x": 0.5423611111111111,
          "xanchor": "center",
          "xref": "paper",
          "y": 0.3359375,
          "yanchor": "bottom",
          "yref": "paper"
         },
         {
          "font": {
           "size": 16
          },
          "showarrow": false,
          "text": "F8",
          "x": 0.6270833333333332,
          "xanchor": "center",
          "xref": "paper",
          "y": 0.3359375,
          "yanchor": "bottom",
          "yref": "paper"
         },
         {
          "font": {
           "size": 16
          },
          "showarrow": false,
          "text": "F9",
          "x": 0.7118055555555555,
          "xanchor": "center",
          "xref": "paper",
          "y": 0.3359375,
          "yanchor": "bottom",
          "yref": "paper"
         },
         {
          "font": {
           "size": 16
          },
          "showarrow": false,
          "text": "F10",
          "x": 0.7965277777777777,
          "xanchor": "center",
          "xref": "paper",
          "y": 0.3359375,
          "yanchor": "bottom",
          "yref": "paper"
         },
         {
          "font": {
           "size": 16
          },
          "showarrow": false,
          "text": "F11",
          "x": 0.8812499999999999,
          "xanchor": "center",
          "xref": "paper",
          "y": 0.3359375,
          "yanchor": "bottom",
          "yref": "paper"
         },
         {
          "font": {
           "size": 16
          },
          "showarrow": false,
          "text": "F12",
          "x": 0.9659722222222221,
          "xanchor": "center",
          "xref": "paper",
          "y": 0.3359375,
          "yanchor": "bottom",
          "yref": "paper"
         },
         {
          "font": {
           "size": 16
          },
          "showarrow": false,
          "text": "G1",
          "x": 0.034027777777777775,
          "xanchor": "center",
          "xref": "paper",
          "y": 0.203125,
          "yanchor": "bottom",
          "yref": "paper"
         },
         {
          "font": {
           "size": 16
          },
          "showarrow": false,
          "text": "G2",
          "x": 0.11875,
          "xanchor": "center",
          "xref": "paper",
          "y": 0.203125,
          "yanchor": "bottom",
          "yref": "paper"
         },
         {
          "font": {
           "size": 16
          },
          "showarrow": false,
          "text": "G3",
          "x": 0.20347222222222222,
          "xanchor": "center",
          "xref": "paper",
          "y": 0.203125,
          "yanchor": "bottom",
          "yref": "paper"
         },
         {
          "font": {
           "size": 16
          },
          "showarrow": false,
          "text": "G4",
          "x": 0.2881944444444444,
          "xanchor": "center",
          "xref": "paper",
          "y": 0.203125,
          "yanchor": "bottom",
          "yref": "paper"
         },
         {
          "font": {
           "size": 16
          },
          "showarrow": false,
          "text": "G5",
          "x": 0.3729166666666666,
          "xanchor": "center",
          "xref": "paper",
          "y": 0.203125,
          "yanchor": "bottom",
          "yref": "paper"
         },
         {
          "font": {
           "size": 16
          },
          "showarrow": false,
          "text": "G6",
          "x": 0.4576388888888888,
          "xanchor": "center",
          "xref": "paper",
          "y": 0.203125,
          "yanchor": "bottom",
          "yref": "paper"
         },
         {
          "font": {
           "size": 16
          },
          "showarrow": false,
          "text": "G7",
          "x": 0.5423611111111111,
          "xanchor": "center",
          "xref": "paper",
          "y": 0.203125,
          "yanchor": "bottom",
          "yref": "paper"
         },
         {
          "font": {
           "size": 16
          },
          "showarrow": false,
          "text": "G8",
          "x": 0.6270833333333332,
          "xanchor": "center",
          "xref": "paper",
          "y": 0.203125,
          "yanchor": "bottom",
          "yref": "paper"
         },
         {
          "font": {
           "size": 16
          },
          "showarrow": false,
          "text": "G9",
          "x": 0.7118055555555555,
          "xanchor": "center",
          "xref": "paper",
          "y": 0.203125,
          "yanchor": "bottom",
          "yref": "paper"
         },
         {
          "font": {
           "size": 16
          },
          "showarrow": false,
          "text": "G10",
          "x": 0.7965277777777777,
          "xanchor": "center",
          "xref": "paper",
          "y": 0.203125,
          "yanchor": "bottom",
          "yref": "paper"
         },
         {
          "font": {
           "size": 16
          },
          "showarrow": false,
          "text": "G11",
          "x": 0.8812499999999999,
          "xanchor": "center",
          "xref": "paper",
          "y": 0.203125,
          "yanchor": "bottom",
          "yref": "paper"
         },
         {
          "font": {
           "size": 16
          },
          "showarrow": false,
          "text": "G12",
          "x": 0.9659722222222221,
          "xanchor": "center",
          "xref": "paper",
          "y": 0.203125,
          "yanchor": "bottom",
          "yref": "paper"
         },
         {
          "font": {
           "size": 16
          },
          "showarrow": false,
          "text": "H1",
          "x": 0.034027777777777775,
          "xanchor": "center",
          "xref": "paper",
          "y": 0.0703125,
          "yanchor": "bottom",
          "yref": "paper"
         },
         {
          "font": {
           "size": 16
          },
          "showarrow": false,
          "text": "H2",
          "x": 0.11875,
          "xanchor": "center",
          "xref": "paper",
          "y": 0.0703125,
          "yanchor": "bottom",
          "yref": "paper"
         },
         {
          "font": {
           "size": 16
          },
          "showarrow": false,
          "text": "H3",
          "x": 0.20347222222222222,
          "xanchor": "center",
          "xref": "paper",
          "y": 0.0703125,
          "yanchor": "bottom",
          "yref": "paper"
         },
         {
          "font": {
           "size": 16
          },
          "showarrow": false,
          "text": "H4",
          "x": 0.2881944444444444,
          "xanchor": "center",
          "xref": "paper",
          "y": 0.0703125,
          "yanchor": "bottom",
          "yref": "paper"
         },
         {
          "font": {
           "size": 16
          },
          "showarrow": false,
          "text": "H5",
          "x": 0.3729166666666666,
          "xanchor": "center",
          "xref": "paper",
          "y": 0.0703125,
          "yanchor": "bottom",
          "yref": "paper"
         },
         {
          "font": {
           "size": 16
          },
          "showarrow": false,
          "text": "H6",
          "x": 0.4576388888888888,
          "xanchor": "center",
          "xref": "paper",
          "y": 0.0703125,
          "yanchor": "bottom",
          "yref": "paper"
         },
         {
          "font": {
           "size": 16
          },
          "showarrow": false,
          "text": "H7",
          "x": 0.5423611111111111,
          "xanchor": "center",
          "xref": "paper",
          "y": 0.0703125,
          "yanchor": "bottom",
          "yref": "paper"
         },
         {
          "font": {
           "size": 16
          },
          "showarrow": false,
          "text": "H8",
          "x": 0.6270833333333332,
          "xanchor": "center",
          "xref": "paper",
          "y": 0.0703125,
          "yanchor": "bottom",
          "yref": "paper"
         },
         {
          "font": {
           "size": 16
          },
          "showarrow": false,
          "text": "H9",
          "x": 0.7118055555555555,
          "xanchor": "center",
          "xref": "paper",
          "y": 0.0703125,
          "yanchor": "bottom",
          "yref": "paper"
         },
         {
          "font": {
           "size": 16
          },
          "showarrow": false,
          "text": "H10",
          "x": 0.7965277777777777,
          "xanchor": "center",
          "xref": "paper",
          "y": 0.0703125,
          "yanchor": "bottom",
          "yref": "paper"
         },
         {
          "font": {
           "size": 16
          },
          "showarrow": false,
          "text": "H11",
          "x": 0.8812499999999999,
          "xanchor": "center",
          "xref": "paper",
          "y": 0.0703125,
          "yanchor": "bottom",
          "yref": "paper"
         },
         {
          "font": {
           "size": 16
          },
          "showarrow": false,
          "text": "H12",
          "x": 0.9659722222222221,
          "xanchor": "center",
          "xref": "paper",
          "y": 0.0703125,
          "yanchor": "bottom",
          "yref": "paper"
         }
        ],
        "hovermode": "x",
        "margin": {
         "b": 20,
         "l": 20,
         "r": 20,
         "t": 100
        },
        "plot_bgcolor": "white",
        "template": {
         "data": {
          "bar": [
           {
            "error_x": {
             "color": "#2a3f5f"
            },
            "error_y": {
             "color": "#2a3f5f"
            },
            "marker": {
             "line": {
              "color": "#E5ECF6",
              "width": 0.5
             },
             "pattern": {
              "fillmode": "overlay",
              "size": 10,
              "solidity": 0.2
             }
            },
            "type": "bar"
           }
          ],
          "barpolar": [
           {
            "marker": {
             "line": {
              "color": "#E5ECF6",
              "width": 0.5
             },
             "pattern": {
              "fillmode": "overlay",
              "size": 10,
              "solidity": 0.2
             }
            },
            "type": "barpolar"
           }
          ],
          "carpet": [
           {
            "aaxis": {
             "endlinecolor": "#2a3f5f",
             "gridcolor": "white",
             "linecolor": "white",
             "minorgridcolor": "white",
             "startlinecolor": "#2a3f5f"
            },
            "baxis": {
             "endlinecolor": "#2a3f5f",
             "gridcolor": "white",
             "linecolor": "white",
             "minorgridcolor": "white",
             "startlinecolor": "#2a3f5f"
            },
            "type": "carpet"
           }
          ],
          "choropleth": [
           {
            "colorbar": {
             "outlinewidth": 0,
             "ticks": ""
            },
            "type": "choropleth"
           }
          ],
          "contour": [
           {
            "colorbar": {
             "outlinewidth": 0,
             "ticks": ""
            },
            "colorscale": [
             [
              0,
              "#0d0887"
             ],
             [
              0.1111111111111111,
              "#46039f"
             ],
             [
              0.2222222222222222,
              "#7201a8"
             ],
             [
              0.3333333333333333,
              "#9c179e"
             ],
             [
              0.4444444444444444,
              "#bd3786"
             ],
             [
              0.5555555555555556,
              "#d8576b"
             ],
             [
              0.6666666666666666,
              "#ed7953"
             ],
             [
              0.7777777777777778,
              "#fb9f3a"
             ],
             [
              0.8888888888888888,
              "#fdca26"
             ],
             [
              1,
              "#f0f921"
             ]
            ],
            "type": "contour"
           }
          ],
          "contourcarpet": [
           {
            "colorbar": {
             "outlinewidth": 0,
             "ticks": ""
            },
            "type": "contourcarpet"
           }
          ],
          "heatmap": [
           {
            "colorbar": {
             "outlinewidth": 0,
             "ticks": ""
            },
            "colorscale": [
             [
              0,
              "#0d0887"
             ],
             [
              0.1111111111111111,
              "#46039f"
             ],
             [
              0.2222222222222222,
              "#7201a8"
             ],
             [
              0.3333333333333333,
              "#9c179e"
             ],
             [
              0.4444444444444444,
              "#bd3786"
             ],
             [
              0.5555555555555556,
              "#d8576b"
             ],
             [
              0.6666666666666666,
              "#ed7953"
             ],
             [
              0.7777777777777778,
              "#fb9f3a"
             ],
             [
              0.8888888888888888,
              "#fdca26"
             ],
             [
              1,
              "#f0f921"
             ]
            ],
            "type": "heatmap"
           }
          ],
          "heatmapgl": [
           {
            "colorbar": {
             "outlinewidth": 0,
             "ticks": ""
            },
            "colorscale": [
             [
              0,
              "#0d0887"
             ],
             [
              0.1111111111111111,
              "#46039f"
             ],
             [
              0.2222222222222222,
              "#7201a8"
             ],
             [
              0.3333333333333333,
              "#9c179e"
             ],
             [
              0.4444444444444444,
              "#bd3786"
             ],
             [
              0.5555555555555556,
              "#d8576b"
             ],
             [
              0.6666666666666666,
              "#ed7953"
             ],
             [
              0.7777777777777778,
              "#fb9f3a"
             ],
             [
              0.8888888888888888,
              "#fdca26"
             ],
             [
              1,
              "#f0f921"
             ]
            ],
            "type": "heatmapgl"
           }
          ],
          "histogram": [
           {
            "marker": {
             "pattern": {
              "fillmode": "overlay",
              "size": 10,
              "solidity": 0.2
             }
            },
            "type": "histogram"
           }
          ],
          "histogram2d": [
           {
            "colorbar": {
             "outlinewidth": 0,
             "ticks": ""
            },
            "colorscale": [
             [
              0,
              "#0d0887"
             ],
             [
              0.1111111111111111,
              "#46039f"
             ],
             [
              0.2222222222222222,
              "#7201a8"
             ],
             [
              0.3333333333333333,
              "#9c179e"
             ],
             [
              0.4444444444444444,
              "#bd3786"
             ],
             [
              0.5555555555555556,
              "#d8576b"
             ],
             [
              0.6666666666666666,
              "#ed7953"
             ],
             [
              0.7777777777777778,
              "#fb9f3a"
             ],
             [
              0.8888888888888888,
              "#fdca26"
             ],
             [
              1,
              "#f0f921"
             ]
            ],
            "type": "histogram2d"
           }
          ],
          "histogram2dcontour": [
           {
            "colorbar": {
             "outlinewidth": 0,
             "ticks": ""
            },
            "colorscale": [
             [
              0,
              "#0d0887"
             ],
             [
              0.1111111111111111,
              "#46039f"
             ],
             [
              0.2222222222222222,
              "#7201a8"
             ],
             [
              0.3333333333333333,
              "#9c179e"
             ],
             [
              0.4444444444444444,
              "#bd3786"
             ],
             [
              0.5555555555555556,
              "#d8576b"
             ],
             [
              0.6666666666666666,
              "#ed7953"
             ],
             [
              0.7777777777777778,
              "#fb9f3a"
             ],
             [
              0.8888888888888888,
              "#fdca26"
             ],
             [
              1,
              "#f0f921"
             ]
            ],
            "type": "histogram2dcontour"
           }
          ],
          "mesh3d": [
           {
            "colorbar": {
             "outlinewidth": 0,
             "ticks": ""
            },
            "type": "mesh3d"
           }
          ],
          "parcoords": [
           {
            "line": {
             "colorbar": {
              "outlinewidth": 0,
              "ticks": ""
             }
            },
            "type": "parcoords"
           }
          ],
          "pie": [
           {
            "automargin": true,
            "type": "pie"
           }
          ],
          "scatter": [
           {
            "fillpattern": {
             "fillmode": "overlay",
             "size": 10,
             "solidity": 0.2
            },
            "type": "scatter"
           }
          ],
          "scatter3d": [
           {
            "line": {
             "colorbar": {
              "outlinewidth": 0,
              "ticks": ""
             }
            },
            "marker": {
             "colorbar": {
              "outlinewidth": 0,
              "ticks": ""
             }
            },
            "type": "scatter3d"
           }
          ],
          "scattercarpet": [
           {
            "marker": {
             "colorbar": {
              "outlinewidth": 0,
              "ticks": ""
             }
            },
            "type": "scattercarpet"
           }
          ],
          "scattergeo": [
           {
            "marker": {
             "colorbar": {
              "outlinewidth": 0,
              "ticks": ""
             }
            },
            "type": "scattergeo"
           }
          ],
          "scattergl": [
           {
            "marker": {
             "colorbar": {
              "outlinewidth": 0,
              "ticks": ""
             }
            },
            "type": "scattergl"
           }
          ],
          "scattermapbox": [
           {
            "marker": {
             "colorbar": {
              "outlinewidth": 0,
              "ticks": ""
             }
            },
            "type": "scattermapbox"
           }
          ],
          "scatterpolar": [
           {
            "marker": {
             "colorbar": {
              "outlinewidth": 0,
              "ticks": ""
             }
            },
            "type": "scatterpolar"
           }
          ],
          "scatterpolargl": [
           {
            "marker": {
             "colorbar": {
              "outlinewidth": 0,
              "ticks": ""
             }
            },
            "type": "scatterpolargl"
           }
          ],
          "scatterternary": [
           {
            "marker": {
             "colorbar": {
              "outlinewidth": 0,
              "ticks": ""
             }
            },
            "type": "scatterternary"
           }
          ],
          "surface": [
           {
            "colorbar": {
             "outlinewidth": 0,
             "ticks": ""
            },
            "colorscale": [
             [
              0,
              "#0d0887"
             ],
             [
              0.1111111111111111,
              "#46039f"
             ],
             [
              0.2222222222222222,
              "#7201a8"
             ],
             [
              0.3333333333333333,
              "#9c179e"
             ],
             [
              0.4444444444444444,
              "#bd3786"
             ],
             [
              0.5555555555555556,
              "#d8576b"
             ],
             [
              0.6666666666666666,
              "#ed7953"
             ],
             [
              0.7777777777777778,
              "#fb9f3a"
             ],
             [
              0.8888888888888888,
              "#fdca26"
             ],
             [
              1,
              "#f0f921"
             ]
            ],
            "type": "surface"
           }
          ],
          "table": [
           {
            "cells": {
             "fill": {
              "color": "#EBF0F8"
             },
             "line": {
              "color": "white"
             }
            },
            "header": {
             "fill": {
              "color": "#C8D4E3"
             },
             "line": {
              "color": "white"
             }
            },
            "type": "table"
           }
          ]
         },
         "layout": {
          "annotationdefaults": {
           "arrowcolor": "#2a3f5f",
           "arrowhead": 0,
           "arrowwidth": 1
          },
          "autotypenumbers": "strict",
          "coloraxis": {
           "colorbar": {
            "outlinewidth": 0,
            "ticks": ""
           }
          },
          "colorscale": {
           "diverging": [
            [
             0,
             "#8e0152"
            ],
            [
             0.1,
             "#c51b7d"
            ],
            [
             0.2,
             "#de77ae"
            ],
            [
             0.3,
             "#f1b6da"
            ],
            [
             0.4,
             "#fde0ef"
            ],
            [
             0.5,
             "#f7f7f7"
            ],
            [
             0.6,
             "#e6f5d0"
            ],
            [
             0.7,
             "#b8e186"
            ],
            [
             0.8,
             "#7fbc41"
            ],
            [
             0.9,
             "#4d9221"
            ],
            [
             1,
             "#276419"
            ]
           ],
           "sequential": [
            [
             0,
             "#0d0887"
            ],
            [
             0.1111111111111111,
             "#46039f"
            ],
            [
             0.2222222222222222,
             "#7201a8"
            ],
            [
             0.3333333333333333,
             "#9c179e"
            ],
            [
             0.4444444444444444,
             "#bd3786"
            ],
            [
             0.5555555555555556,
             "#d8576b"
            ],
            [
             0.6666666666666666,
             "#ed7953"
            ],
            [
             0.7777777777777778,
             "#fb9f3a"
            ],
            [
             0.8888888888888888,
             "#fdca26"
            ],
            [
             1,
             "#f0f921"
            ]
           ],
           "sequentialminus": [
            [
             0,
             "#0d0887"
            ],
            [
             0.1111111111111111,
             "#46039f"
            ],
            [
             0.2222222222222222,
             "#7201a8"
            ],
            [
             0.3333333333333333,
             "#9c179e"
            ],
            [
             0.4444444444444444,
             "#bd3786"
            ],
            [
             0.5555555555555556,
             "#d8576b"
            ],
            [
             0.6666666666666666,
             "#ed7953"
            ],
            [
             0.7777777777777778,
             "#fb9f3a"
            ],
            [
             0.8888888888888888,
             "#fdca26"
            ],
            [
             1,
             "#f0f921"
            ]
           ]
          },
          "colorway": [
           "#636efa",
           "#EF553B",
           "#00cc96",
           "#ab63fa",
           "#FFA15A",
           "#19d3f3",
           "#FF6692",
           "#B6E880",
           "#FF97FF",
           "#FECB52"
          ],
          "font": {
           "color": "#2a3f5f"
          },
          "geo": {
           "bgcolor": "white",
           "lakecolor": "white",
           "landcolor": "#E5ECF6",
           "showlakes": true,
           "showland": true,
           "subunitcolor": "white"
          },
          "hoverlabel": {
           "align": "left"
          },
          "hovermode": "closest",
          "mapbox": {
           "style": "light"
          },
          "paper_bgcolor": "white",
          "plot_bgcolor": "#E5ECF6",
          "polar": {
           "angularaxis": {
            "gridcolor": "white",
            "linecolor": "white",
            "ticks": ""
           },
           "bgcolor": "#E5ECF6",
           "radialaxis": {
            "gridcolor": "white",
            "linecolor": "white",
            "ticks": ""
           }
          },
          "scene": {
           "xaxis": {
            "backgroundcolor": "#E5ECF6",
            "gridcolor": "white",
            "gridwidth": 2,
            "linecolor": "white",
            "showbackground": true,
            "ticks": "",
            "zerolinecolor": "white"
           },
           "yaxis": {
            "backgroundcolor": "#E5ECF6",
            "gridcolor": "white",
            "gridwidth": 2,
            "linecolor": "white",
            "showbackground": true,
            "ticks": "",
            "zerolinecolor": "white"
           },
           "zaxis": {
            "backgroundcolor": "#E5ECF6",
            "gridcolor": "white",
            "gridwidth": 2,
            "linecolor": "white",
            "showbackground": true,
            "ticks": "",
            "zerolinecolor": "white"
           }
          },
          "shapedefaults": {
           "line": {
            "color": "#2a3f5f"
           }
          },
          "ternary": {
           "aaxis": {
            "gridcolor": "white",
            "linecolor": "white",
            "ticks": ""
           },
           "baxis": {
            "gridcolor": "white",
            "linecolor": "white",
            "ticks": ""
           },
           "bgcolor": "#E5ECF6",
           "caxis": {
            "gridcolor": "white",
            "linecolor": "white",
            "ticks": ""
           }
          },
          "title": {
           "x": 0.05
          },
          "xaxis": {
           "automargin": true,
           "gridcolor": "white",
           "linecolor": "white",
           "ticks": "",
           "title": {
            "standoff": 15
           },
           "zerolinecolor": "white",
           "zerolinewidth": 2
          },
          "yaxis": {
           "automargin": true,
           "gridcolor": "white",
           "linecolor": "white",
           "ticks": "",
           "title": {
            "standoff": 15
           },
           "zerolinecolor": "white",
           "zerolinewidth": 2
          }
         }
        },
        "title": {
         "text": "37.1 °C"
        },
        "xaxis": {
         "anchor": "y",
         "domain": [
          0,
          0.06805555555555555
         ],
         "matches": "x85",
         "showticklabels": false
        },
        "xaxis10": {
         "anchor": "y10",
         "domain": [
          0.7625,
          0.8305555555555555
         ],
         "matches": "x94",
         "showticklabels": false
        },
        "xaxis11": {
         "anchor": "y11",
         "domain": [
          0.8472222222222221,
          0.9152777777777776
         ],
         "matches": "x95",
         "showticklabels": false
        },
        "xaxis12": {
         "anchor": "y12",
         "domain": [
          0.9319444444444444,
          0.9999999999999999
         ],
         "matches": "x96",
         "showticklabels": false
        },
        "xaxis13": {
         "anchor": "y13",
         "domain": [
          0,
          0.06805555555555555
         ],
         "matches": "x85",
         "showticklabels": false
        },
        "xaxis14": {
         "anchor": "y14",
         "domain": [
          0.08472222222222221,
          0.15277777777777776
         ],
         "matches": "x86",
         "showticklabels": false
        },
        "xaxis15": {
         "anchor": "y15",
         "domain": [
          0.16944444444444443,
          0.2375
         ],
         "matches": "x87",
         "showticklabels": false
        },
        "xaxis16": {
         "anchor": "y16",
         "domain": [
          0.25416666666666665,
          0.3222222222222222
         ],
         "matches": "x88",
         "showticklabels": false
        },
        "xaxis17": {
         "anchor": "y17",
         "domain": [
          0.33888888888888885,
          0.4069444444444444
         ],
         "matches": "x89",
         "showticklabels": false
        },
        "xaxis18": {
         "anchor": "y18",
         "domain": [
          0.42361111111111105,
          0.4916666666666666
         ],
         "matches": "x90",
         "showticklabels": false
        },
        "xaxis19": {
         "anchor": "y19",
         "domain": [
          0.5083333333333333,
          0.5763888888888888
         ],
         "matches": "x91",
         "showticklabels": false
        },
        "xaxis2": {
         "anchor": "y2",
         "domain": [
          0.08472222222222221,
          0.15277777777777776
         ],
         "matches": "x86",
         "showticklabels": false
        },
        "xaxis20": {
         "anchor": "y20",
         "domain": [
          0.5930555555555554,
          0.661111111111111
         ],
         "matches": "x92",
         "showticklabels": false
        },
        "xaxis21": {
         "anchor": "y21",
         "domain": [
          0.6777777777777777,
          0.7458333333333332
         ],
         "matches": "x93",
         "showticklabels": false
        },
        "xaxis22": {
         "anchor": "y22",
         "domain": [
          0.7625,
          0.8305555555555555
         ],
         "matches": "x94",
         "showticklabels": false
        },
        "xaxis23": {
         "anchor": "y23",
         "domain": [
          0.8472222222222221,
          0.9152777777777776
         ],
         "matches": "x95",
         "showticklabels": false
        },
        "xaxis24": {
         "anchor": "y24",
         "domain": [
          0.9319444444444444,
          0.9999999999999999
         ],
         "matches": "x96",
         "showticklabels": false
        },
        "xaxis25": {
         "anchor": "y25",
         "domain": [
          0,
          0.06805555555555555
         ],
         "matches": "x85",
         "showticklabels": false
        },
        "xaxis26": {
         "anchor": "y26",
         "domain": [
          0.08472222222222221,
          0.15277777777777776
         ],
         "matches": "x86",
         "showticklabels": false
        },
        "xaxis27": {
         "anchor": "y27",
         "domain": [
          0.16944444444444443,
          0.2375
         ],
         "matches": "x87",
         "showticklabels": false
        },
        "xaxis28": {
         "anchor": "y28",
         "domain": [
          0.25416666666666665,
          0.3222222222222222
         ],
         "matches": "x88",
         "showticklabels": false
        },
        "xaxis29": {
         "anchor": "y29",
         "domain": [
          0.33888888888888885,
          0.4069444444444444
         ],
         "matches": "x89",
         "showticklabels": false
        },
        "xaxis3": {
         "anchor": "y3",
         "domain": [
          0.16944444444444443,
          0.2375
         ],
         "matches": "x87",
         "showticklabels": false
        },
        "xaxis30": {
         "anchor": "y30",
         "domain": [
          0.42361111111111105,
          0.4916666666666666
         ],
         "matches": "x90",
         "showticklabels": false
        },
        "xaxis31": {
         "anchor": "y31",
         "domain": [
          0.5083333333333333,
          0.5763888888888888
         ],
         "matches": "x91",
         "showticklabels": false
        },
        "xaxis32": {
         "anchor": "y32",
         "domain": [
          0.5930555555555554,
          0.661111111111111
         ],
         "matches": "x92",
         "showticklabels": false
        },
        "xaxis33": {
         "anchor": "y33",
         "domain": [
          0.6777777777777777,
          0.7458333333333332
         ],
         "matches": "x93",
         "showticklabels": false
        },
        "xaxis34": {
         "anchor": "y34",
         "domain": [
          0.7625,
          0.8305555555555555
         ],
         "matches": "x94",
         "showticklabels": false
        },
        "xaxis35": {
         "anchor": "y35",
         "domain": [
          0.8472222222222221,
          0.9152777777777776
         ],
         "matches": "x95",
         "showticklabels": false
        },
        "xaxis36": {
         "anchor": "y36",
         "domain": [
          0.9319444444444444,
          0.9999999999999999
         ],
         "matches": "x96",
         "showticklabels": false
        },
        "xaxis37": {
         "anchor": "y37",
         "domain": [
          0,
          0.06805555555555555
         ],
         "matches": "x85",
         "showticklabels": false
        },
        "xaxis38": {
         "anchor": "y38",
         "domain": [
          0.08472222222222221,
          0.15277777777777776
         ],
         "matches": "x86",
         "showticklabels": false
        },
        "xaxis39": {
         "anchor": "y39",
         "domain": [
          0.16944444444444443,
          0.2375
         ],
         "matches": "x87",
         "showticklabels": false
        },
        "xaxis4": {
         "anchor": "y4",
         "domain": [
          0.25416666666666665,
          0.3222222222222222
         ],
         "matches": "x88",
         "showticklabels": false
        },
        "xaxis40": {
         "anchor": "y40",
         "domain": [
          0.25416666666666665,
          0.3222222222222222
         ],
         "matches": "x88",
         "showticklabels": false
        },
        "xaxis41": {
         "anchor": "y41",
         "domain": [
          0.33888888888888885,
          0.4069444444444444
         ],
         "matches": "x89",
         "showticklabels": false
        },
        "xaxis42": {
         "anchor": "y42",
         "domain": [
          0.42361111111111105,
          0.4916666666666666
         ],
         "matches": "x90",
         "showticklabels": false
        },
        "xaxis43": {
         "anchor": "y43",
         "domain": [
          0.5083333333333333,
          0.5763888888888888
         ],
         "matches": "x91",
         "showticklabels": false
        },
        "xaxis44": {
         "anchor": "y44",
         "domain": [
          0.5930555555555554,
          0.661111111111111
         ],
         "matches": "x92",
         "showticklabels": false
        },
        "xaxis45": {
         "anchor": "y45",
         "domain": [
          0.6777777777777777,
          0.7458333333333332
         ],
         "matches": "x93",
         "showticklabels": false
        },
        "xaxis46": {
         "anchor": "y46",
         "domain": [
          0.7625,
          0.8305555555555555
         ],
         "matches": "x94",
         "showticklabels": false
        },
        "xaxis47": {
         "anchor": "y47",
         "domain": [
          0.8472222222222221,
          0.9152777777777776
         ],
         "matches": "x95",
         "showticklabels": false
        },
        "xaxis48": {
         "anchor": "y48",
         "domain": [
          0.9319444444444444,
          0.9999999999999999
         ],
         "matches": "x96",
         "showticklabels": false
        },
        "xaxis49": {
         "anchor": "y49",
         "domain": [
          0,
          0.06805555555555555
         ],
         "matches": "x85",
         "showticklabels": false
        },
        "xaxis5": {
         "anchor": "y5",
         "domain": [
          0.33888888888888885,
          0.4069444444444444
         ],
         "matches": "x89",
         "showticklabels": false
        },
        "xaxis50": {
         "anchor": "y50",
         "domain": [
          0.08472222222222221,
          0.15277777777777776
         ],
         "matches": "x86",
         "showticklabels": false
        },
        "xaxis51": {
         "anchor": "y51",
         "domain": [
          0.16944444444444443,
          0.2375
         ],
         "matches": "x87",
         "showticklabels": false
        },
        "xaxis52": {
         "anchor": "y52",
         "domain": [
          0.25416666666666665,
          0.3222222222222222
         ],
         "matches": "x88",
         "showticklabels": false
        },
        "xaxis53": {
         "anchor": "y53",
         "domain": [
          0.33888888888888885,
          0.4069444444444444
         ],
         "matches": "x89",
         "showticklabels": false
        },
        "xaxis54": {
         "anchor": "y54",
         "domain": [
          0.42361111111111105,
          0.4916666666666666
         ],
         "matches": "x90",
         "showticklabels": false
        },
        "xaxis55": {
         "anchor": "y55",
         "domain": [
          0.5083333333333333,
          0.5763888888888888
         ],
         "matches": "x91",
         "showticklabels": false
        },
        "xaxis56": {
         "anchor": "y56",
         "domain": [
          0.5930555555555554,
          0.661111111111111
         ],
         "matches": "x92",
         "showticklabels": false
        },
        "xaxis57": {
         "anchor": "y57",
         "domain": [
          0.6777777777777777,
          0.7458333333333332
         ],
         "matches": "x93",
         "showticklabels": false
        },
        "xaxis58": {
         "anchor": "y58",
         "domain": [
          0.7625,
          0.8305555555555555
         ],
         "matches": "x94",
         "showticklabels": false
        },
        "xaxis59": {
         "anchor": "y59",
         "domain": [
          0.8472222222222221,
          0.9152777777777776
         ],
         "matches": "x95",
         "showticklabels": false
        },
        "xaxis6": {
         "anchor": "y6",
         "domain": [
          0.42361111111111105,
          0.4916666666666666
         ],
         "matches": "x90",
         "showticklabels": false
        },
        "xaxis60": {
         "anchor": "y60",
         "domain": [
          0.9319444444444444,
          0.9999999999999999
         ],
         "matches": "x96",
         "showticklabels": false
        },
        "xaxis61": {
         "anchor": "y61",
         "domain": [
          0,
          0.06805555555555555
         ],
         "matches": "x85",
         "showticklabels": false
        },
        "xaxis62": {
         "anchor": "y62",
         "domain": [
          0.08472222222222221,
          0.15277777777777776
         ],
         "matches": "x86",
         "showticklabels": false
        },
        "xaxis63": {
         "anchor": "y63",
         "domain": [
          0.16944444444444443,
          0.2375
         ],
         "matches": "x87",
         "showticklabels": false
        },
        "xaxis64": {
         "anchor": "y64",
         "domain": [
          0.25416666666666665,
          0.3222222222222222
         ],
         "matches": "x88",
         "showticklabels": false
        },
        "xaxis65": {
         "anchor": "y65",
         "domain": [
          0.33888888888888885,
          0.4069444444444444
         ],
         "matches": "x89",
         "showticklabels": false
        },
        "xaxis66": {
         "anchor": "y66",
         "domain": [
          0.42361111111111105,
          0.4916666666666666
         ],
         "matches": "x90",
         "showticklabels": false
        },
        "xaxis67": {
         "anchor": "y67",
         "domain": [
          0.5083333333333333,
          0.5763888888888888
         ],
         "matches": "x91",
         "showticklabels": false
        },
        "xaxis68": {
         "anchor": "y68",
         "domain": [
          0.5930555555555554,
          0.661111111111111
         ],
         "matches": "x92",
         "showticklabels": false
        },
        "xaxis69": {
         "anchor": "y69",
         "domain": [
          0.6777777777777777,
          0.7458333333333332
         ],
         "matches": "x93",
         "showticklabels": false
        },
        "xaxis7": {
         "anchor": "y7",
         "domain": [
          0.5083333333333333,
          0.5763888888888888
         ],
         "matches": "x91",
         "showticklabels": false
        },
        "xaxis70": {
         "anchor": "y70",
         "domain": [
          0.7625,
          0.8305555555555555
         ],
         "matches": "x94",
         "showticklabels": false
        },
        "xaxis71": {
         "anchor": "y71",
         "domain": [
          0.8472222222222221,
          0.9152777777777776
         ],
         "matches": "x95",
         "showticklabels": false
        },
        "xaxis72": {
         "anchor": "y72",
         "domain": [
          0.9319444444444444,
          0.9999999999999999
         ],
         "matches": "x96",
         "showticklabels": false
        },
        "xaxis73": {
         "anchor": "y73",
         "domain": [
          0,
          0.06805555555555555
         ],
         "matches": "x85",
         "showticklabels": false
        },
        "xaxis74": {
         "anchor": "y74",
         "domain": [
          0.08472222222222221,
          0.15277777777777776
         ],
         "matches": "x86",
         "showticklabels": false
        },
        "xaxis75": {
         "anchor": "y75",
         "domain": [
          0.16944444444444443,
          0.2375
         ],
         "matches": "x87",
         "showticklabels": false
        },
        "xaxis76": {
         "anchor": "y76",
         "domain": [
          0.25416666666666665,
          0.3222222222222222
         ],
         "matches": "x88",
         "showticklabels": false
        },
        "xaxis77": {
         "anchor": "y77",
         "domain": [
          0.33888888888888885,
          0.4069444444444444
         ],
         "matches": "x89",
         "showticklabels": false
        },
        "xaxis78": {
         "anchor": "y78",
         "domain": [
          0.42361111111111105,
          0.4916666666666666
         ],
         "matches": "x90",
         "showticklabels": false
        },
        "xaxis79": {
         "anchor": "y79",
         "domain": [
          0.5083333333333333,
          0.5763888888888888
         ],
         "matches": "x91",
         "showticklabels": false
        },
        "xaxis8": {
         "anchor": "y8",
         "domain": [
          0.5930555555555554,
          0.661111111111111
         ],
         "matches": "x92",
         "showticklabels": false
        },
        "xaxis80": {
         "anchor": "y80",
         "domain": [
          0.5930555555555554,
          0.661111111111111
         ],
         "matches": "x92",
         "showticklabels": false
        },
        "xaxis81": {
         "anchor": "y81",
         "domain": [
          0.6777777777777777,
          0.7458333333333332
         ],
         "matches": "x93",
         "showticklabels": false
        },
        "xaxis82": {
         "anchor": "y82",
         "domain": [
          0.7625,
          0.8305555555555555
         ],
         "matches": "x94",
         "showticklabels": false
        },
        "xaxis83": {
         "anchor": "y83",
         "domain": [
          0.8472222222222221,
          0.9152777777777776
         ],
         "matches": "x95",
         "showticklabels": false
        },
        "xaxis84": {
         "anchor": "y84",
         "domain": [
          0.9319444444444444,
          0.9999999999999999
         ],
         "matches": "x96",
         "showticklabels": false
        },
        "xaxis85": {
         "anchor": "y85",
         "domain": [
          0,
          0.06805555555555555
         ],
         "showticklabels": false
        },
        "xaxis86": {
         "anchor": "y86",
         "domain": [
          0.08472222222222221,
          0.15277777777777776
         ],
         "showticklabels": false
        },
        "xaxis87": {
         "anchor": "y87",
         "domain": [
          0.16944444444444443,
          0.2375
         ],
         "showticklabels": false
        },
        "xaxis88": {
         "anchor": "y88",
         "domain": [
          0.25416666666666665,
          0.3222222222222222
         ],
         "showticklabels": false
        },
        "xaxis89": {
         "anchor": "y89",
         "domain": [
          0.33888888888888885,
          0.4069444444444444
         ],
         "showticklabels": false
        },
        "xaxis9": {
         "anchor": "y9",
         "domain": [
          0.6777777777777777,
          0.7458333333333332
         ],
         "matches": "x93",
         "showticklabels": false
        },
        "xaxis90": {
         "anchor": "y90",
         "domain": [
          0.42361111111111105,
          0.4916666666666666
         ],
         "showticklabels": false
        },
        "xaxis91": {
         "anchor": "y91",
         "domain": [
          0.5083333333333333,
          0.5763888888888888
         ],
         "showticklabels": false
        },
        "xaxis92": {
         "anchor": "y92",
         "domain": [
          0.5930555555555554,
          0.661111111111111
         ],
         "showticklabels": false
        },
        "xaxis93": {
         "anchor": "y93",
         "domain": [
          0.6777777777777777,
          0.7458333333333332
         ],
         "showticklabels": false
        },
        "xaxis94": {
         "anchor": "y94",
         "domain": [
          0.7625,
          0.8305555555555555
         ],
         "showticklabels": false
        },
        "xaxis95": {
         "anchor": "y95",
         "domain": [
          0.8472222222222221,
          0.9152777777777776
         ],
         "showticklabels": false
        },
        "xaxis96": {
         "anchor": "y96",
         "domain": [
          0.9319444444444444,
          0.9999999999999999
         ],
         "showticklabels": false
        },
        "yaxis": {
         "anchor": "x",
         "domain": [
          0.9296875,
          1
         ],
         "showticklabels": false
        },
        "yaxis10": {
         "anchor": "x10",
         "domain": [
          0.9296875,
          1
         ],
         "matches": "y",
         "showticklabels": false
        },
        "yaxis11": {
         "anchor": "x11",
         "domain": [
          0.9296875,
          1
         ],
         "matches": "y",
         "showticklabels": false
        },
        "yaxis12": {
         "anchor": "x12",
         "domain": [
          0.9296875,
          1
         ],
         "matches": "y",
         "showticklabels": false
        },
        "yaxis13": {
         "anchor": "x13",
         "domain": [
          0.796875,
          0.8671875
         ],
         "showticklabels": false
        },
        "yaxis14": {
         "anchor": "x14",
         "domain": [
          0.796875,
          0.8671875
         ],
         "matches": "y13",
         "showticklabels": false
        },
        "yaxis15": {
         "anchor": "x15",
         "domain": [
          0.796875,
          0.8671875
         ],
         "matches": "y13",
         "showticklabels": false
        },
        "yaxis16": {
         "anchor": "x16",
         "domain": [
          0.796875,
          0.8671875
         ],
         "matches": "y13",
         "showticklabels": false
        },
        "yaxis17": {
         "anchor": "x17",
         "domain": [
          0.796875,
          0.8671875
         ],
         "matches": "y13",
         "showticklabels": false
        },
        "yaxis18": {
         "anchor": "x18",
         "domain": [
          0.796875,
          0.8671875
         ],
         "matches": "y13",
         "showticklabels": false
        },
        "yaxis19": {
         "anchor": "x19",
         "domain": [
          0.796875,
          0.8671875
         ],
         "matches": "y13",
         "showticklabels": false
        },
        "yaxis2": {
         "anchor": "x2",
         "domain": [
          0.9296875,
          1
         ],
         "matches": "y",
         "showticklabels": false
        },
        "yaxis20": {
         "anchor": "x20",
         "domain": [
          0.796875,
          0.8671875
         ],
         "matches": "y13",
         "showticklabels": false
        },
        "yaxis21": {
         "anchor": "x21",
         "domain": [
          0.796875,
          0.8671875
         ],
         "matches": "y13",
         "showticklabels": false
        },
        "yaxis22": {
         "anchor": "x22",
         "domain": [
          0.796875,
          0.8671875
         ],
         "matches": "y13",
         "showticklabels": false
        },
        "yaxis23": {
         "anchor": "x23",
         "domain": [
          0.796875,
          0.8671875
         ],
         "matches": "y13",
         "showticklabels": false
        },
        "yaxis24": {
         "anchor": "x24",
         "domain": [
          0.796875,
          0.8671875
         ],
         "matches": "y13",
         "showticklabels": false
        },
        "yaxis25": {
         "anchor": "x25",
         "domain": [
          0.6640625,
          0.734375
         ],
         "showticklabels": false
        },
        "yaxis26": {
         "anchor": "x26",
         "domain": [
          0.6640625,
          0.734375
         ],
         "matches": "y25",
         "showticklabels": false
        },
        "yaxis27": {
         "anchor": "x27",
         "domain": [
          0.6640625,
          0.734375
         ],
         "matches": "y25",
         "showticklabels": false
        },
        "yaxis28": {
         "anchor": "x28",
         "domain": [
          0.6640625,
          0.734375
         ],
         "matches": "y25",
         "showticklabels": false
        },
        "yaxis29": {
         "anchor": "x29",
         "domain": [
          0.6640625,
          0.734375
         ],
         "matches": "y25",
         "showticklabels": false
        },
        "yaxis3": {
         "anchor": "x3",
         "domain": [
          0.9296875,
          1
         ],
         "matches": "y",
         "showticklabels": false
        },
        "yaxis30": {
         "anchor": "x30",
         "domain": [
          0.6640625,
          0.734375
         ],
         "matches": "y25",
         "showticklabels": false
        },
        "yaxis31": {
         "anchor": "x31",
         "domain": [
          0.6640625,
          0.734375
         ],
         "matches": "y25",
         "showticklabels": false
        },
        "yaxis32": {
         "anchor": "x32",
         "domain": [
          0.6640625,
          0.734375
         ],
         "matches": "y25",
         "showticklabels": false
        },
        "yaxis33": {
         "anchor": "x33",
         "domain": [
          0.6640625,
          0.734375
         ],
         "matches": "y25",
         "showticklabels": false
        },
        "yaxis34": {
         "anchor": "x34",
         "domain": [
          0.6640625,
          0.734375
         ],
         "matches": "y25",
         "showticklabels": false
        },
        "yaxis35": {
         "anchor": "x35",
         "domain": [
          0.6640625,
          0.734375
         ],
         "matches": "y25",
         "showticklabels": false
        },
        "yaxis36": {
         "anchor": "x36",
         "domain": [
          0.6640625,
          0.734375
         ],
         "matches": "y25",
         "showticklabels": false
        },
        "yaxis37": {
         "anchor": "x37",
         "domain": [
          0.53125,
          0.6015625
         ],
         "showticklabels": false
        },
        "yaxis38": {
         "anchor": "x38",
         "domain": [
          0.53125,
          0.6015625
         ],
         "matches": "y37",
         "showticklabels": false
        },
        "yaxis39": {
         "anchor": "x39",
         "domain": [
          0.53125,
          0.6015625
         ],
         "matches": "y37",
         "showticklabels": false
        },
        "yaxis4": {
         "anchor": "x4",
         "domain": [
          0.9296875,
          1
         ],
         "matches": "y",
         "showticklabels": false
        },
        "yaxis40": {
         "anchor": "x40",
         "domain": [
          0.53125,
          0.6015625
         ],
         "matches": "y37",
         "showticklabels": false
        },
        "yaxis41": {
         "anchor": "x41",
         "domain": [
          0.53125,
          0.6015625
         ],
         "matches": "y37",
         "showticklabels": false
        },
        "yaxis42": {
         "anchor": "x42",
         "domain": [
          0.53125,
          0.6015625
         ],
         "matches": "y37",
         "showticklabels": false
        },
        "yaxis43": {
         "anchor": "x43",
         "domain": [
          0.53125,
          0.6015625
         ],
         "matches": "y37",
         "showticklabels": false
        },
        "yaxis44": {
         "anchor": "x44",
         "domain": [
          0.53125,
          0.6015625
         ],
         "matches": "y37",
         "showticklabels": false
        },
        "yaxis45": {
         "anchor": "x45",
         "domain": [
          0.53125,
          0.6015625
         ],
         "matches": "y37",
         "showticklabels": false
        },
        "yaxis46": {
         "anchor": "x46",
         "domain": [
          0.53125,
          0.6015625
         ],
         "matches": "y37",
         "showticklabels": false
        },
        "yaxis47": {
         "anchor": "x47",
         "domain": [
          0.53125,
          0.6015625
         ],
         "matches": "y37",
         "showticklabels": false
        },
        "yaxis48": {
         "anchor": "x48",
         "domain": [
          0.53125,
          0.6015625
         ],
         "matches": "y37",
         "showticklabels": false
        },
        "yaxis49": {
         "anchor": "x49",
         "domain": [
          0.3984375,
          0.46875
         ],
         "showticklabels": false
        },
        "yaxis5": {
         "anchor": "x5",
         "domain": [
          0.9296875,
          1
         ],
         "matches": "y",
         "showticklabels": false
        },
        "yaxis50": {
         "anchor": "x50",
         "domain": [
          0.3984375,
          0.46875
         ],
         "matches": "y49",
         "showticklabels": false
        },
        "yaxis51": {
         "anchor": "x51",
         "domain": [
          0.3984375,
          0.46875
         ],
         "matches": "y49",
         "showticklabels": false
        },
        "yaxis52": {
         "anchor": "x52",
         "domain": [
          0.3984375,
          0.46875
         ],
         "matches": "y49",
         "showticklabels": false
        },
        "yaxis53": {
         "anchor": "x53",
         "domain": [
          0.3984375,
          0.46875
         ],
         "matches": "y49",
         "showticklabels": false
        },
        "yaxis54": {
         "anchor": "x54",
         "domain": [
          0.3984375,
          0.46875
         ],
         "matches": "y49",
         "showticklabels": false
        },
        "yaxis55": {
         "anchor": "x55",
         "domain": [
          0.3984375,
          0.46875
         ],
         "matches": "y49",
         "showticklabels": false
        },
        "yaxis56": {
         "anchor": "x56",
         "domain": [
          0.3984375,
          0.46875
         ],
         "matches": "y49",
         "showticklabels": false
        },
        "yaxis57": {
         "anchor": "x57",
         "domain": [
          0.3984375,
          0.46875
         ],
         "matches": "y49",
         "showticklabels": false
        },
        "yaxis58": {
         "anchor": "x58",
         "domain": [
          0.3984375,
          0.46875
         ],
         "matches": "y49",
         "showticklabels": false
        },
        "yaxis59": {
         "anchor": "x59",
         "domain": [
          0.3984375,
          0.46875
         ],
         "matches": "y49",
         "showticklabels": false
        },
        "yaxis6": {
         "anchor": "x6",
         "domain": [
          0.9296875,
          1
         ],
         "matches": "y",
         "showticklabels": false
        },
        "yaxis60": {
         "anchor": "x60",
         "domain": [
          0.3984375,
          0.46875
         ],
         "matches": "y49",
         "showticklabels": false
        },
        "yaxis61": {
         "anchor": "x61",
         "domain": [
          0.265625,
          0.3359375
         ],
         "showticklabels": false
        },
        "yaxis62": {
         "anchor": "x62",
         "domain": [
          0.265625,
          0.3359375
         ],
         "matches": "y61",
         "showticklabels": false
        },
        "yaxis63": {
         "anchor": "x63",
         "domain": [
          0.265625,
          0.3359375
         ],
         "matches": "y61",
         "showticklabels": false
        },
        "yaxis64": {
         "anchor": "x64",
         "domain": [
          0.265625,
          0.3359375
         ],
         "matches": "y61",
         "showticklabels": false
        },
        "yaxis65": {
         "anchor": "x65",
         "domain": [
          0.265625,
          0.3359375
         ],
         "matches": "y61",
         "showticklabels": false
        },
        "yaxis66": {
         "anchor": "x66",
         "domain": [
          0.265625,
          0.3359375
         ],
         "matches": "y61",
         "showticklabels": false
        },
        "yaxis67": {
         "anchor": "x67",
         "domain": [
          0.265625,
          0.3359375
         ],
         "matches": "y61",
         "showticklabels": false
        },
        "yaxis68": {
         "anchor": "x68",
         "domain": [
          0.265625,
          0.3359375
         ],
         "matches": "y61",
         "showticklabels": false
        },
        "yaxis69": {
         "anchor": "x69",
         "domain": [
          0.265625,
          0.3359375
         ],
         "matches": "y61",
         "showticklabels": false
        },
        "yaxis7": {
         "anchor": "x7",
         "domain": [
          0.9296875,
          1
         ],
         "matches": "y",
         "showticklabels": false
        },
        "yaxis70": {
         "anchor": "x70",
         "domain": [
          0.265625,
          0.3359375
         ],
         "matches": "y61",
         "showticklabels": false
        },
        "yaxis71": {
         "anchor": "x71",
         "domain": [
          0.265625,
          0.3359375
         ],
         "matches": "y61",
         "showticklabels": false
        },
        "yaxis72": {
         "anchor": "x72",
         "domain": [
          0.265625,
          0.3359375
         ],
         "matches": "y61",
         "showticklabels": false
        },
        "yaxis73": {
         "anchor": "x73",
         "domain": [
          0.1328125,
          0.203125
         ],
         "showticklabels": false
        },
        "yaxis74": {
         "anchor": "x74",
         "domain": [
          0.1328125,
          0.203125
         ],
         "matches": "y73",
         "showticklabels": false
        },
        "yaxis75": {
         "anchor": "x75",
         "domain": [
          0.1328125,
          0.203125
         ],
         "matches": "y73",
         "showticklabels": false
        },
        "yaxis76": {
         "anchor": "x76",
         "domain": [
          0.1328125,
          0.203125
         ],
         "matches": "y73",
         "showticklabels": false
        },
        "yaxis77": {
         "anchor": "x77",
         "domain": [
          0.1328125,
          0.203125
         ],
         "matches": "y73",
         "showticklabels": false
        },
        "yaxis78": {
         "anchor": "x78",
         "domain": [
          0.1328125,
          0.203125
         ],
         "matches": "y73",
         "showticklabels": false
        },
        "yaxis79": {
         "anchor": "x79",
         "domain": [
          0.1328125,
          0.203125
         ],
         "matches": "y73",
         "showticklabels": false
        },
        "yaxis8": {
         "anchor": "x8",
         "domain": [
          0.9296875,
          1
         ],
         "matches": "y",
         "showticklabels": false
        },
        "yaxis80": {
         "anchor": "x80",
         "domain": [
          0.1328125,
          0.203125
         ],
         "matches": "y73",
         "showticklabels": false
        },
        "yaxis81": {
         "anchor": "x81",
         "domain": [
          0.1328125,
          0.203125
         ],
         "matches": "y73",
         "showticklabels": false
        },
        "yaxis82": {
         "anchor": "x82",
         "domain": [
          0.1328125,
          0.203125
         ],
         "matches": "y73",
         "showticklabels": false
        },
        "yaxis83": {
         "anchor": "x83",
         "domain": [
          0.1328125,
          0.203125
         ],
         "matches": "y73",
         "showticklabels": false
        },
        "yaxis84": {
         "anchor": "x84",
         "domain": [
          0.1328125,
          0.203125
         ],
         "matches": "y73",
         "showticklabels": false
        },
        "yaxis85": {
         "anchor": "x85",
         "domain": [
          0,
          0.0703125
         ],
         "showticklabels": false
        },
        "yaxis86": {
         "anchor": "x86",
         "domain": [
          0,
          0.0703125
         ],
         "matches": "y85",
         "showticklabels": false
        },
        "yaxis87": {
         "anchor": "x87",
         "domain": [
          0,
          0.0703125
         ],
         "matches": "y85",
         "showticklabels": false
        },
        "yaxis88": {
         "anchor": "x88",
         "domain": [
          0,
          0.0703125
         ],
         "matches": "y85",
         "showticklabels": false
        },
        "yaxis89": {
         "anchor": "x89",
         "domain": [
          0,
          0.0703125
         ],
         "matches": "y85",
         "showticklabels": false
        },
        "yaxis9": {
         "anchor": "x9",
         "domain": [
          0.9296875,
          1
         ],
         "matches": "y",
         "showticklabels": false
        },
        "yaxis90": {
         "anchor": "x90",
         "domain": [
          0,
          0.0703125
         ],
         "matches": "y85",
         "showticklabels": false
        },
        "yaxis91": {
         "anchor": "x91",
         "domain": [
          0,
          0.0703125
         ],
         "matches": "y85",
         "showticklabels": false
        },
        "yaxis92": {
         "anchor": "x92",
         "domain": [
          0,
          0.0703125
         ],
         "matches": "y85",
         "showticklabels": false
        },
        "yaxis93": {
         "anchor": "x93",
         "domain": [
          0,
          0.0703125
         ],
         "matches": "y85",
         "showticklabels": false
        },
        "yaxis94": {
         "anchor": "x94",
         "domain": [
          0,
          0.0703125
         ],
         "matches": "y85",
         "showticklabels": false
        },
        "yaxis95": {
         "anchor": "x95",
         "domain": [
          0,
          0.0703125
         ],
         "matches": "y85",
         "showticklabels": false
        },
        "yaxis96": {
         "anchor": "x96",
         "domain": [
          0,
          0.0703125
         ],
         "matches": "y85",
         "showticklabels": false
        }
       }
      }
     },
     "metadata": {},
     "output_type": "display_data"
    }
   ],
   "source": [
    "plate.visualize()"
   ]
  },
  {
   "cell_type": "code",
   "execution_count": 11,
   "metadata": {},
   "outputs": [
    {
     "name": "stdout",
     "output_type": "stream",
     "text": [
      "Assigned buffer (BUFFER_ID) with 0.123 mmol/l to all wells.\n",
      "Assigned laccase (U02456) with 0.05 mmol/l to all wells except ['E12', 'F12', 'G12', 'H12'].\n",
      "Assigned O2 (O2_ID) with 0 mmol/l to all wells.\n",
      "Assigned initial concentrations from ../../tests/data/magellan.xlsx to ABTS (ABTS_ID).\n"
     ]
    }
   ],
   "source": [
    "plate.assign_species(buffer, 0.123, \"mmol/l\", to=\"all\")\n",
    "\n",
    "plate.assign_species(\n",
    "    laccase, 0.05, \"mmol/l\", to=\"all except\", ids=[\"E12\", \"F12\", \"G12\", \"H12\"]\n",
    ")\n",
    "\n",
    "plate.assign_species(o2, 0, \"mmol/l\", to=\"all\")\n",
    "\n",
    "plate.assign_species_from_spreadsheet(\n",
    "    abts, \"mmol/l\", path, \"Well assignment\", header=1)"
   ]
  },
  {
   "cell_type": "code",
   "execution_count": 14,
   "metadata": {},
   "outputs": [
    {
     "name": "stdout",
     "output_type": "stream",
     "text": [
      "Mean absorption of buffer (BUFFER_ID) at 0.123 mmol / l: -0.0436 calculated based on wells ['E12', 'F12', 'G12', 'H12'].\n",
      "Blanked 62 wells containing buffer.\n",
      "\n",
      "Mean absorption of laccase (U02456) at 0.05 mmol / l: -0.0048 calculated based on wells ['E4', 'F4', 'G4', 'H4'].\n",
      "Blanked 58 wells containing laccase.\n",
      "\n"
     ]
    }
   ],
   "source": [
    "plate.blank_species(buffer, 450)\n",
    "plate.blank_species(laccase, 450)"
   ]
  }
 ],
 "metadata": {
  "kernelspec": {
   "display_name": "Python 3 (ipykernel)",
   "language": "python",
   "name": "python3"
  },
  "language_info": {
   "codemirror_mode": {
    "name": "ipython",
    "version": 3
   },
   "file_extension": ".py",
   "mimetype": "text/x-python",
   "name": "python",
   "nbconvert_exporter": "python",
   "pygments_lexer": "ipython3",
   "version": "3.11.6"
  }
 },
 "nbformat": 4,
 "nbformat_minor": 4
}
