{
 "cells": [
  {
   "cell_type": "code",
   "execution_count": 1,
   "metadata": {},
   "outputs": [],
   "source": [
    "from sdRDM.generator import generate_python_api\n",
    "import numpy as np"
   ]
  },
  {
   "cell_type": "code",
   "execution_count": 2,
   "metadata": {},
   "outputs": [],
   "source": [
    "# generate_python_api(\"specifications/photometry.md\", \"\", \"PlateHandler\")"
   ]
  },
  {
   "cell_type": "code",
   "execution_count": 3,
   "metadata": {},
   "outputs": [],
   "source": [
    "%reload_ext autoreload\n",
    "%autoreload 2\n",
    "\n",
    "from PlateHandler.core.plate import Plate"
   ]
  },
  {
   "cell_type": "markdown",
   "metadata": {},
   "source": [
    "# Load time-course data and create a ```Plate``` object\n"
   ]
  },
  {
   "cell_type": "code",
   "execution_count": 4,
   "metadata": {},
   "outputs": [],
   "source": [
    "path = \"/Users/max/Documents/enzymeml/alaric/EnzymeML_SLAC_5xConcentration_pH2.0-3.5/ABTS_EnzymeML_340nm_420nm_5x_35deg_pH3.5.txt\"\n",
    "\n",
    "time = np.linspace(0, 15, 31)\n",
    "\n",
    "plate = Plate.from_file(path, time, \"min\", ph=3.5, temperature=35)"
   ]
  },
  {
   "cell_type": "markdown",
   "metadata": {},
   "source": [
    "# Define Species, that are present across different wells\n",
    "\n",
    "Each time a ```Well``` is created, a ```Species``` of the type 'buffer' is added to it."
   ]
  },
  {
   "cell_type": "code",
   "execution_count": 5,
   "metadata": {},
   "outputs": [],
   "source": [
    "buffer = plate.add_to_species(type=\"buffer\", name=\"buffer\", id=\"b0\")\n",
    "enzyme = plate.add_to_species(type=\"enzyme\", name=\"SLAC\", id=\"p0\")\n",
    "substrate = plate.add_to_species(type=\"substrate\", name=\"ABTS\", id=\"s0\")"
   ]
  },
  {
   "cell_type": "markdown",
   "metadata": {},
   "source": [
    "### Assign initial concentrations to different wells\n",
    "\n",
    "In order to blank the data, we need to assign initial concentrations to the wells. Currently, initial conditions can be added per species, whereas different concentrations can be assigned to an entire row. If a s species is not present in the specified row, its concentration should be set to zero."
   ]
  },
  {
   "cell_type": "code",
   "execution_count": 6,
   "metadata": {},
   "outputs": [],
   "source": [
    "# Define buffer concentration\n",
    "plate.assign_species_conditions_to_rows(\n",
    "    row_ids=[\"A\", \"B\", \"C\", \"D\", \"E\", \"F\"],\n",
    "    species=buffer,\n",
    "    init_concs=100,\n",
    "    conc_unit=\"mM\"\n",
    ")\n",
    "\n",
    "# Define substrate concentrations\n",
    "plate.assign_species_conditions_to_rows(\n",
    "    row_ids=[\"A\", \"B\", \"C\", \"D\", \"E\", \"F\"],\n",
    "    species=substrate,\n",
    "    init_concs=[0, 5, 10, 15, 25, 50, 75, 100, 150, 200],\n",
    "    conc_unit=\"mM\"\n",
    ")\n",
    "\n",
    "# Define enzyme concentrations\n",
    "plate.assign_species_conditions_to_rows(\n",
    "    row_ids=[\"A\", \"B\", \"C\"],\n",
    "    species=enzyme,\n",
    "    init_concs=4,\n",
    "    conc_unit=\"nM\"\n",
    ")"
   ]
  },
  {
   "cell_type": "markdown",
   "metadata": {},
   "source": [
    "### Blank data\n",
    "\n",
    "Since we have assigned the initial concentrations for each species, blanking id carried out semi-automatically. By calling ```blank_species()```, the absorption contribution of the defined species is subtracted from all wells, in which the species is present.\n",
    "\n",
    "__How does it work?__  \n",
    "After specifying the concentration of each species present in each well for each well respectively, wells which were prepared for blanking are be implicitly identified.\n",
    "If we call the blank function and specify a species which should be blanked, the blanking function first identifies wells which solely contain the specified species. Thereafter, the mean value across all identified wells for blanking is calculated. Thereafter, all wells which contain the selected species are selected and the calculated blank is subtracted from all absorption values. Lastly, a flag (```was_blanked = True```) is set, that prevents the species from being used for blanking again"
   ]
  },
  {
   "cell_type": "code",
   "execution_count": 7,
   "metadata": {},
   "outputs": [
    {
     "name": "stdout",
     "output_type": "stream",
     "text": [
      "added D1, with condition length: 1 and [0] being b0\n",
      "added E1, with condition length: 1 and [0] being b0\n",
      "added F1, with condition length: 1 and [0] being b0\n",
      "added A1, with condition length: 2 and [0] being p0\n",
      "added B1, with condition length: 2 and [0] being p0\n",
      "added C1, with condition length: 2 and [0] being p0\n"
     ]
    }
   ],
   "source": [
    "plate.blank_species(buffer, 340)\n",
    "plate.blank_species(enzyme, 340)"
   ]
  },
  {
   "cell_type": "markdown",
   "metadata": {},
   "source": [
    "### Hand data to EnzymeML"
   ]
  },
  {
   "cell_type": "code",
   "execution_count": null,
   "metadata": {},
   "outputs": [
    {
     "data": {
      "text/plain": [
       "<matplotlib.legend.Legend at 0x16add3810>"
      ]
     },
     "execution_count": 13,
     "metadata": {},
     "output_type": "execute_result"
    },
    {
     "data": {
      "image/png": "[encoded data removed]",
      "text/plain": [
       "<Figure size 640x480 with 1 Axes>"
      ]
     },
     "metadata": {},
     "output_type": "display_data"
    }
   ],
   "source": [
    "# import matplotlib.pyplot as plt\n",
    "\n",
    "# ids = [\"A4\", \"B4\", \"C4\", \"D4\", \"E4\", \"F4\"]\n",
    "\n",
    "# wells = [well for well in plate.wells if well.id in ids and well.wavelength == 340]\n",
    "\n",
    "# for well in wells:\n",
    "#     plt.scatter(well.time, well.absorption, label=well.id)\n",
    "\n",
    "# plt.legend()"
   ]
  },
  {
   "cell_type": "code",
   "execution_count": null,
   "metadata": {},
   "outputs": [],
   "source": [
    "parse -> assing conc -> blank -> true values"
   ]
  }
 ],
 "metadata": {
  "kernelspec": {
   "display_name": "sdrdm_example",
   "language": "python",
   "name": "python3"
  },
  "language_info": {
   "codemirror_mode": {
    "name": "ipython",
    "version": 3
   },
   "file_extension": ".py",
   "mimetype": "text/x-python",
   "name": "python",
   "nbconvert_exporter": "python",
   "pygments_lexer": "ipython3",
   "version": "3.11.3"
  },
  "orig_nbformat": 4
 },
 "nbformat": 4,
 "nbformat_minor": 2
}
