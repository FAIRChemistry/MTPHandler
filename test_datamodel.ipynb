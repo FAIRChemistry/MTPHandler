{
 "cells": [
  {
   "cell_type": "code",
   "execution_count": 1,
   "metadata": {},
   "outputs": [],
   "source": [
    "from sdRDM.generator import generate_python_api"
   ]
  },
  {
   "cell_type": "code",
   "execution_count": 2,
   "metadata": {},
   "outputs": [],
   "source": [
    "generate_python_api(\"specigfications/photometry.md\", \"\", \"Plate\")"
   ]
  },
  {
   "cell_type": "code",
   "execution_count": 3,
   "metadata": {},
   "outputs": [],
   "source": [
    "import numpy as np\n",
    "%reload_ext autoreload\n",
    "%autoreload 2\n",
    "from Plate.tools.spectramax_reader import extract_data, read_spectramax"
   ]
  },
  {
   "cell_type": "code",
   "execution_count": 4,
   "metadata": {},
   "outputs": [],
   "source": [
    "path = \"/Users/max/Documents/enzymeml/alaric/EnzymeML_SLAC_5xConcentration_pH2.0-3.5/ABTS_EnzymeML_340nm_420nm_5x_35deg_pH3.5.txt\"\n",
    "\n",
    "slc = slice(2, 7, None)"
   ]
  },
  {
   "cell_type": "code",
   "execution_count": 5,
   "metadata": {},
   "outputs": [
    {
     "data": {
      "text/plain": [
       "'B'"
      ]
     },
     "execution_count": 5,
     "metadata": {},
     "output_type": "execute_result"
    }
   ],
   "source": [
    "chr(0+66)"
   ]
  },
  {
   "cell_type": "code",
   "execution_count": 15,
   "metadata": {},
   "outputs": [
    {
     "name": "stdout",
     "output_type": "stream",
     "text": [
      "15\n"
     ]
    }
   ],
   "source": [
    "time = np.linspace(0, 10, 15)\n",
    "time_unit = \"s\"\n",
    "\n",
    "s = read_spectramax(path, time, time_unit)"
   ]
  },
  {
   "cell_type": "code",
   "execution_count": 27,
   "metadata": {},
   "outputs": [
    {
     "name": "stdout",
     "output_type": "stream",
     "text": [
      "5\n",
      "15\n",
      "25\n",
      "35\n"
     ]
    },
    {
     "data": {
      "text/plain": [
       "[slice(6, 14, None),\n",
       " slice(16, 24, None),\n",
       " slice(26, 34, None),\n",
       " slice(36, -1, None)]"
      ]
     },
     "execution_count": 27,
     "metadata": {},
     "output_type": "execute_result"
    }
   ],
   "source": [
    "it = [5, 15, 25, 35]\n",
    "\n",
    "slcs = []\n",
    "for enu, i in enumerate(it):\n",
    "    print(it[enu])\n",
    "    try:\n",
    "        slcs.append(slice(i+1, it[enu+1]-1, None))\n",
    "    except IndexError:\n",
    "        slcs.append(slice(i+1, -1, None))\n",
    "\n",
    "slcs"
   ]
  },
  {
   "cell_type": "code",
   "execution_count": 29,
   "metadata": {},
   "outputs": [],
   "source": [
    "import pandas as pd"
   ]
  },
  {
   "cell_type": "code",
   "execution_count": 98,
   "metadata": {},
   "outputs": [],
   "source": []
  },
  {
   "cell_type": "code",
   "execution_count": 107,
   "metadata": {},
   "outputs": [
    {
     "name": "stdout",
     "output_type": "stream",
     "text": [
      "appended\n",
      "appended\n",
      "appended\n",
      "appended\n",
      "appended\n",
      "appended\n",
      "appended\n",
      "appended\n",
      "appended\n",
      "appended\n",
      "appended\n",
      "appended\n",
      "appended\n",
      "appended\n",
      "appended\n",
      "appended\n",
      "appended\n",
      "appended\n",
      "appended\n",
      "appended\n",
      "appended\n",
      "appended\n",
      "appended\n",
      "appended\n",
      "appended\n",
      "appended\n",
      "appended\n",
      "appended\n",
      "appended\n",
      "appended\n",
      "appended\n",
      "appended\n",
      "appended\n",
      "appended\n",
      "appended\n",
      "appended\n",
      "appended\n",
      "appended\n",
      "appended\n",
      "appended\n",
      "appended\n",
      "appended\n",
      "appended\n",
      "appended\n",
      "appended\n",
      "appended\n",
      "appended\n",
      "appended\n",
      "appended\n",
      "appended\n",
      "appended\n",
      "appended\n",
      "appended\n",
      "appended\n",
      "appended\n",
      "appended\n",
      "appended\n",
      "appended\n",
      "appended\n",
      "appended\n",
      "appended\n",
      "appended\n"
     ]
    }
   ],
   "source": [
    "df = pd.read_csv(path).reset_index()\n",
    "df.loc[2].values\n",
    "\n",
    "segments = _find_segments(df, \"Iteration\")\n",
    "\n",
    "\n",
    "def _list_to_slices(_list):\n",
    "    slices = []\n",
    "    for idx, element in enumerate(_list):\n",
    "        try:\n",
    "            slices.append(slice(element+1, _list[idx]+1))\n",
    "        except IndexError:\n",
    "            slices.append(slice(element+1, -1))\n",
    "            print(\"were done\")\n",
    "\n",
    "            return slices\n",
    "\n",
    "\n",
    "_list_to_slices(segments)"
   ]
  }
 ],
 "metadata": {
  "kernelspec": {
   "display_name": "sdrdm_example",
   "language": "python",
   "name": "python3"
  },
  "language_info": {
   "codemirror_mode": {
    "name": "ipython",
    "version": 3
   },
   "file_extension": ".py",
   "mimetype": "text/x-python",
   "name": "python",
   "nbconvert_exporter": "python",
   "pygments_lexer": "ipython3",
   "version": "3.11.3"
  },
  "orig_nbformat": 4
 },
 "nbformat": 4,
 "nbformat_minor": 2
}
