{
 "cells": [
  {
   "cell_type": "code",
   "execution_count": 1,
   "metadata": {},
   "outputs": [],
   "source": [
    "from sdRDM.generator import generate_python_api\n",
    "import numpy as np"
   ]
  },
  {
   "cell_type": "code",
   "execution_count": 2,
   "metadata": {},
   "outputs": [],
   "source": [
    "# generate_python_api(\"specifications/photometry.md\", \"\", \"PlateHandler\")"
   ]
  },
  {
   "cell_type": "code",
   "execution_count": 3,
   "metadata": {},
   "outputs": [],
   "source": [
    "%reload_ext autoreload\n",
    "%autoreload 2\n",
    "\n",
    "from PlateHandler.modified.plate import Plate"
   ]
  },
  {
   "cell_type": "markdown",
   "metadata": {},
   "source": [
    "# Load time-course data and create a ```Plate``` object\n"
   ]
  },
  {
   "cell_type": "code",
   "execution_count": 4,
   "metadata": {},
   "outputs": [],
   "source": [
    "path = \"/Users/max/Documents/enzymeml/alaric/EnzymeML_SLAC_5xConcentration_pH2.0-3.5/ABTS_EnzymeML_340nm_420nm_5x_35deg_pH3.5.txt\"\n",
    "\n",
    "time = np.linspace(0, 15, 31)\n",
    "\n",
    "plate = Plate.from_file(path, time, \"min\", ph=3.5, temperature=35)"
   ]
  },
  {
   "cell_type": "code",
   "execution_count": 5,
   "metadata": {},
   "outputs": [],
   "source": [
    "# print(plate)"
   ]
  },
  {
   "cell_type": "markdown",
   "metadata": {},
   "source": [
    "# Define Species, that are present across different wells\n",
    "\n",
    "Each time a ```Well``` is created, a ```Species``` of the type 'buffer' is added to it."
   ]
  },
  {
   "cell_type": "code",
   "execution_count": 6,
   "metadata": {},
   "outputs": [],
   "source": [
    "buffer = plate.add_reactant(id=\"s1\", name=\"buffer\", constant=True)\n",
    "abts = plate.add_reactant(id=\"s0\", name=\"ABTS\", constant=False,\n",
    "                          inchi=\"InChI=1S/C18H18N4O6S4/c1-3-21-13-7-5-11(31(23,24)25)9-15(13)29-17(21)19-20-18-22(4-2)14-8-6-12(32(26,27)28)10-16(14)30-18/h5-10H,3-4H2,1-2H3,(H,23,24,25)(H,26,27,28)/b19-17-,20-18+\")\n",
    "slac = plate.add_protein(id=\"p0\", name=\"SLAC\",\n",
    "                         constant=True, sequence=\"MSSKSKPKDVKV\")"
   ]
  },
  {
   "cell_type": "code",
   "execution_count": null,
   "metadata": {},
   "outputs": [],
   "source": []
  },
  {
   "cell_type": "code",
   "execution_count": 7,
   "metadata": {},
   "outputs": [
    {
     "data": {
      "text/plain": [
       "[Reactant(id='s1', name='buffer', vessel_id='plate0', init_conc=None, constant=True, unit=None, uri=None, creator_id=None, smiles=None, inchi=None, chebi_id=None, ontology='SBO:0000247'),\n",
       " Reactant(id='s0', name='ABTS', vessel_id='plate0', init_conc=None, constant=False, unit=None, uri=None, creator_id=None, smiles=None, inchi='InChI=1S/C18H18N4O6S4/c1-3-21-13-7-5-11(31(23,24)25)9-15(13)29-17(21)19-20-18-22(4-2)14-8-6-12(32(26,27)28)10-16(14)30-18/h5-10H,3-4H2,1-2H3,(H,23,24,25)(H,26,27,28)/b19-17-,20-18+', chebi_id=None, ontology='SBO:0000247'),\n",
       " Protein(id='p0', name='SLAC', vessel_id='plate0', init_conc=None, constant=True, unit=None, uri=None, creator_id=None, sequence='MSSKSKPKDVKV', ecnumber=None, organism=None, organism_tax_id=None, uniprotid=None, ontology='SBO:0000013')]"
      ]
     },
     "execution_count": 7,
     "metadata": {},
     "output_type": "execute_result"
    }
   ],
   "source": [
    "plate.species"
   ]
  },
  {
   "cell_type": "markdown",
   "metadata": {},
   "source": [
    "### Assign initial concentrations to different wells\n",
    "\n",
    "In order to blank the data, we need to assign initial concentrations to the wells. Currently, initial conditions can be added per species, whereas different concentrations can be assigned to an entire row. If a s species is not present in the specified row, its concentration should be set to zero."
   ]
  },
  {
   "cell_type": "code",
   "execution_count": 8,
   "metadata": {},
   "outputs": [
    {
     "name": "stdout",
     "output_type": "stream",
     "text": [
      "\u001b[4mReactant\u001b[0m\n",
      "├── \u001b[94mid\u001b[0m = s1\n",
      "├── \u001b[94mname\u001b[0m = buffer\n",
      "├── \u001b[94mvessel_id\u001b[0m = plate0\n",
      "├── \u001b[94mconstant\u001b[0m = True\n",
      "└── \u001b[94montology\u001b[0m = SBO:0000247\n",
      "\n"
     ]
    }
   ],
   "source": [
    "print(buffer)"
   ]
  },
  {
   "cell_type": "code",
   "execution_count": 9,
   "metadata": {},
   "outputs": [],
   "source": [
    "# Define buffer concentration\n",
    "plate.assign_species_conditions_to_rows(\n",
    "    row_ids=[\"A\", \"B\", \"C\", \"D\", \"E\", \"F\"],\n",
    "    species=buffer,\n",
    "    init_concs=100,\n",
    "    conc_unit=\"mM\"\n",
    ")\n",
    "\n",
    "# Define substrate concentrations\n",
    "plate.assign_species_conditions_to_rows(\n",
    "    row_ids=[\"A\", \"B\", \"C\", \"D\", \"E\", \"F\"],\n",
    "    species=abts,\n",
    "    init_concs=[0, 5, 10, 15, 25, 50, 75, 100, 150, 200],\n",
    "    conc_unit=\"mM\"\n",
    ")\n",
    "\n",
    "# Define enzyme concentrations\n",
    "plate.assign_species_conditions_to_rows(\n",
    "    row_ids=[\"A\", \"B\", \"C\"],\n",
    "    species=slac,\n",
    "    init_concs=4,\n",
    "    conc_unit=\"nM\"\n",
    ")"
   ]
  },
  {
   "cell_type": "code",
   "execution_count": 10,
   "metadata": {},
   "outputs": [
    {
     "name": "stdout",
     "output_type": "stream",
     "text": [
      "\u001b[4mWell\u001b[0m\n",
      "├── \u001b[94mid\u001b[0m = A7\n",
      "├── \u001b[94mabsorption\u001b[0m = [1.35592973769869, 1.27878673625631, 1.22387991465835, 1.18880050168404, 1.13650156496561, ...]\n",
      "├── \u001b[94mtime\u001b[0m = [0.0, 0.5, 1.0, 1.5, 2.0, ...]\n",
      "├── \u001b[94mtime_unit\u001b[0m = min\n",
      "├── \u001b[94minit_conditions\u001b[0m\n",
      "│   ├── 0\n",
      "│   │   └── \u001b[4mInitCondition\u001b[0m\n",
      "│   │       ├── \u001b[94mid\u001b[0m = initcondition12\n",
      "│   │       ├── \u001b[94mspecies_id\u001b[0m = s1\n",
      "│   │       ├── \u001b[94minit_conc\u001b[0m = 100.0\n",
      "│   │       ├── \u001b[94mconc_unit\u001b[0m = mM\n",
      "│   │       └── \u001b[94mwas_blanked\u001b[0m = False\n",
      "│   ├── 1\n",
      "│   │   └── \u001b[4mInitCondition\u001b[0m\n",
      "│   │       ├── \u001b[94mid\u001b[0m = initcondition130\n",
      "│   │       ├── \u001b[94mspecies_id\u001b[0m = s0\n",
      "│   │       ├── \u001b[94minit_conc\u001b[0m = 75.0\n",
      "│   │       ├── \u001b[94mconc_unit\u001b[0m = mM\n",
      "│   │       └── \u001b[94mwas_blanked\u001b[0m = False\n",
      "│   └── 2\n",
      "│       └── \u001b[4mInitCondition\u001b[0m\n",
      "│           ├── \u001b[94mid\u001b[0m = initcondition240\n",
      "│           ├── \u001b[94mspecies_id\u001b[0m = p0\n",
      "│           ├── \u001b[94minit_conc\u001b[0m = 4.0\n",
      "│           ├── \u001b[94mconc_unit\u001b[0m = nM\n",
      "│           └── \u001b[94mwas_blanked\u001b[0m = False\n",
      "├── \u001b[94mx_position\u001b[0m = 6\n",
      "├── \u001b[94my_position\u001b[0m = 0\n",
      "└── \u001b[94mwavelength\u001b[0m = 340\n",
      "\n"
     ]
    }
   ],
   "source": [
    "print(plate.wells[6])"
   ]
  },
  {
   "cell_type": "markdown",
   "metadata": {},
   "source": [
    "### Blank data\n",
    "\n",
    "Since we have assigned the initial concentrations for each species, blanking id carried out semi-automatically. By calling ```blank_species()```, the absorption contribution of the defined species is subtracted from all wells, in which the species is present.\n",
    "\n",
    "__How does it work?__  \n",
    "After specifying the concentration of each species present in each well for each well respectively, wells which were prepared for blanking are be implicitly identified.\n",
    "If we call the blank function and specify a species which should be blanked, the blanking function first identifies wells which solely contain the specified species. Thereafter, the mean value across all identified wells for blanking is calculated. Thereafter, all wells which contain the selected species are selected and the calculated blank is subtracted from all absorption values. Lastly, a flag (```was_blanked = True```) is set, that prevents the species from being used for blanking again"
   ]
  },
  {
   "cell_type": "code",
   "execution_count": 12,
   "metadata": {},
   "outputs": [],
   "source": [
    "plate.blank_species(buffer, 340)\n",
    "plate.blank_species(slac, 340)"
   ]
  },
  {
   "cell_type": "code",
   "execution_count": 14,
   "metadata": {},
   "outputs": [
    {
     "name": "stdout",
     "output_type": "stream",
     "text": [
      "\u001b[4mWell\u001b[0m\n",
      "├── \u001b[94mid\u001b[0m = A7\n",
      "├── \u001b[94mabsorption\u001b[0m = [1.20710280045204, 1.12995979900966, 1.0750529774117001, 1.03997356443739, 0.9876746277189601, ...]\n",
      "├── \u001b[94mtime\u001b[0m = [0.0, 0.5, 1.0, 1.5, 2.0, ...]\n",
      "├── \u001b[94mtime_unit\u001b[0m = min\n",
      "├── \u001b[94minit_conditions\u001b[0m\n",
      "│   ├── 0\n",
      "│   │   └── \u001b[4mInitCondition\u001b[0m\n",
      "│   │       ├── \u001b[94mid\u001b[0m = initcondition12\n",
      "│   │       ├── \u001b[94mspecies_id\u001b[0m = s1\n",
      "│   │       ├── \u001b[94minit_conc\u001b[0m = 100.0\n",
      "│   │       ├── \u001b[94mconc_unit\u001b[0m = mM\n",
      "│   │       └── \u001b[94mwas_blanked\u001b[0m = True\n",
      "│   ├── 1\n",
      "│   │   └── \u001b[4mInitCondition\u001b[0m\n",
      "│   │       ├── \u001b[94mid\u001b[0m = initcondition130\n",
      "│   │       ├── \u001b[94mspecies_id\u001b[0m = s0\n",
      "│   │       ├── \u001b[94minit_conc\u001b[0m = 75.0\n",
      "│   │       ├── \u001b[94mconc_unit\u001b[0m = mM\n",
      "│   │       └── \u001b[94mwas_blanked\u001b[0m = False\n",
      "│   └── 2\n",
      "│       └── \u001b[4mInitCondition\u001b[0m\n",
      "│           ├── \u001b[94mid\u001b[0m = initcondition240\n",
      "│           ├── \u001b[94mspecies_id\u001b[0m = p0\n",
      "│           ├── \u001b[94minit_conc\u001b[0m = 4.0\n",
      "│           ├── \u001b[94mconc_unit\u001b[0m = nM\n",
      "│           └── \u001b[94mwas_blanked\u001b[0m = True\n",
      "├── \u001b[94mx_position\u001b[0m = 6\n",
      "├── \u001b[94my_position\u001b[0m = 0\n",
      "└── \u001b[94mwavelength\u001b[0m = 340\n",
      "\n"
     ]
    }
   ],
   "source": [
    "print(plate.wells[6])"
   ]
  }
 ],
 "metadata": {
  "kernelspec": {
   "display_name": "sdrdm_example",
   "language": "python",
   "name": "python3"
  },
  "language_info": {
   "codemirror_mode": {
    "name": "ipython",
    "version": 3
   },
   "file_extension": ".py",
   "mimetype": "text/x-python",
   "name": "python",
   "nbconvert_exporter": "python",
   "pygments_lexer": "ipython3",
   "version": "3.11.3"
  },
  "orig_nbformat": 4
 },
 "nbformat": 4,
 "nbformat_minor": 2
}
