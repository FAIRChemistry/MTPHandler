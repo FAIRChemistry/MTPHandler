{
 "cells": [
  {
   "cell_type": "code",
   "execution_count": 1,
   "metadata": {},
   "outputs": [],
   "source": [
    "import numpy as np\n",
    "\n",
    "%reload_ext autoreload\n",
    "%autoreload 2\n",
    "\n",
    "from MTPHandler import Plate\n",
    "from MTPHandler.examples import parse_spectramax # custom parser for SpectraMax plate reader\n"
   ]
  },
  {
   "cell_type": "markdown",
   "metadata": {},
   "source": [
    "# MTPManager - MTPy?\n",
    "\n",
    "MTPManager provides an API to work with microtiter plate data. Core features are:\n",
    "- read in experimental data from a microtiter plate to a `Plate` object model\n",
    "- assign initial concentrations to of different species (chemicals or proteins) to individual wells\n",
    "- automatically blank the data of the plate data with respect to initial concentrations of different species\n",
    "- automatically identify standards of a chemical and make a calibration model for concentration calculation\n",
    "- automatically identify reaction data and write it to a EnzymeMLDocument"
   ]
  },
  {
   "cell_type": "markdown",
   "metadata": {},
   "source": [
    "## Read in experimental data\n",
    "A `Plate` is created by loading the output file of a plate reader. \n",
    "\n",
    "<div class=\"alert alert-block alert-info\"><b>Info:</b> Since the output format differs between plate readers, one must provide parsing function which addresses the object model describing a `Plate`. Once, the reader is available, all features of this tool are applicable..</div>"
   ]
  },
  {
   "cell_type": "code",
   "execution_count": 2,
   "metadata": {},
   "outputs": [],
   "source": [
    "# Path to spectrometer output file\n",
    "path = \"/Users/max/Documents/enzymeml/alaric/EnzymeML_SLAC_5xConcentration_pH2.0-3.5/ABTS_EnzymeML_340nm_420nm_5x_35deg_pH3.5.txt\"\n",
    "\n",
    "# Load plate\n",
    "plate = Plate.from_reader(\n",
    "    reader=parse_spectramax,\n",
    "    path=path,\n",
    "    time=np.linspace(0, 15, 31),\n",
    "    time_unit=\"min\",\n",
    "    ph=3.5,\n",
    "    temperature=35\n",
    ")"
   ]
  },
  {
   "cell_type": "markdown",
   "metadata": {},
   "source": [
    "### Define Species present in wells of the plate\n",
    "\n",
    "In order to identify wells with catalyzed reactions and standards for calibration, reactants and proteins must be defined. This is done by calling `add_reactant()` or `add_protein()` to either add a chemical or a protein to the list of species. The function takes the name of the species as argument. Besides the name ans wether or not the concentration of the species is constant throughout the experiment, even more information can be added as keyword arguments. All possible arguments are listed in the [specifications of EnzymeML](https://github.com/EnzymeML/enzymeml-specifications/blob/main/specifications/enzymeml.md#abstractspecies)."
   ]
  },
  {
   "cell_type": "code",
   "execution_count": 3,
   "metadata": {},
   "outputs": [],
   "source": [
    "# Define species\n",
    "buffer = plate.add_reactant(id=\"s1\", name=\"Buffer\", constant=True)\n",
    "\n",
    "abts = plate.add_reactant(id=\"s0\", name=\"ABTS\", constant=False)\n",
    "\n",
    "abts_radical = plate.add_reactant(\n",
    "    id=\"s2\", name=\"ABTS_radical\", constant=False)\n",
    "\n",
    "slac = plate.add_protein(id=\"p0\", name=\"SLAC\",\n",
    "                         constant=True, sequence=\"MSSKSKPKDVKV\")"
   ]
  },
  {
   "cell_type": "markdown",
   "metadata": {},
   "source": [
    "### Assign initial concentrations off different species to individuals wells\n",
    "\n",
    "Initial concentrations of different species can be assigned to individual wells by calling `assign_species()`. The function can map arrays of initial concentrations `to='rows'` or `to='columns'`. Alternatively, a single concentration can be mapped `to='all'` or `to='except'` wells. \n",
    "\n",
    "```python"
   ]
  },
  {
   "cell_type": "code",
   "execution_count": 4,
   "metadata": {},
   "outputs": [],
   "source": [
    "# Assign buffer concentration\n",
    "plate.assign_species(\n",
    "    to=\"all\",\n",
    "    species=buffer,\n",
    "    init_conc=100,\n",
    "    conc_unit=\"mmol / l\"\n",
    ")\n",
    "\n",
    "# Assign substrate concentrations\n",
    "plate.assign_species(\n",
    "    to=\"rows\",\n",
    "    species=abts,\n",
    "    init_conc=[0, 5, 10, 15, 25, 50, 75, 100, 150, 200],\n",
    "    conc_unit=\"umol / l\",\n",
    "    ids=[]\n",
    ")\n",
    "\n",
    "# Assign enzyme concentrations\n",
    "plate.assign_species(\n",
    "    to=\"rows\",\n",
    "    ids=[\"A\", \"B\", \"C\"],\n",
    "    species=slac,\n",
    "    init_conc=4,\n",
    "    conc_unit=\"umol / l\"\n",
    ")"
   ]
  },
  {
   "cell_type": "markdown",
   "metadata": {},
   "source": [
    "In this example the rows A-C contain enzyme reactions. For later modeling we introduce the product species to these wells and assign initial concentrations of 0 uM to the rows."
   ]
  },
  {
   "cell_type": "code",
   "execution_count": 5,
   "metadata": {},
   "outputs": [],
   "source": [
    "# Assign product concentrations\n",
    "plate.assign_species(\n",
    "    to=\"rows\",\n",
    "    ids=[\"A\", \"B\", \"C\"],\n",
    "    species=abts_radical,\n",
    "    init_conc=0,\n",
    "    conc_unit=\"umol / l\"\n",
    ")"
   ]
  },
  {
   "cell_type": "markdown",
   "metadata": {},
   "source": [
    "### Blank measurement data\n",
    "\n",
    "Since we have assigned the initial concentrations for each species, blanking id carried out semi-automatically. By calling ```blank_species()```, the absorption contribution of the defined species is subtracted from all wells, in which the species is present.\n",
    "\n",
    "__How does it work?__  \n",
    "After specifying the concentration of each species present in each well for each well respectively, wells which were prepared for blanking are be implicitly identified.\n",
    "If we call the blank function and specify a species which should be blanked, the blanking function first identifies wells which solely contain the specified species. Thereafter, the mean value across all identified wells for blanking is calculated. Thereafter, all wells which contain the selected species are selected and the calculated blank is subtracted from all absorption values. Lastly, a flag (```was_blanked = True```) is set, that prevents the species from being used for blanking again"
   ]
  },
  {
   "cell_type": "code",
   "execution_count": 6,
   "metadata": {},
   "outputs": [
    {
     "name": "stdout",
     "output_type": "stream",
     "text": [
      "Blanked 60 wells containing Buffer.\n",
      "Blanked 30 wells containing SLAC.\n"
     ]
    }
   ],
   "source": [
    "# Remove the absorption contribution of buffer and protein\n",
    "plate.blank_species(species=buffer, wavelength=340)\n",
    "plate.blank_species(species=slac, wavelength=340)"
   ]
  },
  {
   "cell_type": "markdown",
   "metadata": {},
   "source": [
    "### Create `Standard` for concentration calculation\n",
    "\n",
    "After the absorption data is cleaned a standard can be generated which can then be used for concentration calculation. By calling the `calibrate()` method, a `Calibrator` from [CaliPytion](https://github.com/FAIRChemistry/CaliPytion) is instantiated from the standard data of the plate. Its predefined models are fitted to the standard data by calling the `fit_models()` method."
   ]
  },
  {
   "cell_type": "code",
   "execution_count": 7,
   "metadata": {},
   "outputs": [
    {
     "ename": "FileNotFoundError",
     "evalue": "[Errno 2] No such file or directory: '/Users/max/miniconda3/envs/test-this/lib/python3.11/site-packages/CaliPytion/tools/models.toml'",
     "output_type": "error",
     "traceback": [
      "\u001b[0;31m---------------------------------------------------------------------------\u001b[0m",
      "\u001b[0;31mFileNotFoundError\u001b[0m                         Traceback (most recent call last)",
      "\u001b[1;32m/Users/max/Documents/GitHub/MTPHandler/plate_to_enzymeml.ipynb Cell 14\u001b[0m line \u001b[0;36m1\n\u001b[0;32m----> <a href='vscode-notebook-cell:/Users/max/Documents/GitHub/MTPHandler/plate_to_enzymeml.ipynb#X40sZmlsZQ%3D%3D?line=0'>1</a>\u001b[0m abts_calibration \u001b[39m=\u001b[39m plate\u001b[39m.\u001b[39;49mcalibrate(\n\u001b[1;32m      <a href='vscode-notebook-cell:/Users/max/Documents/GitHub/MTPHandler/plate_to_enzymeml.ipynb#X40sZmlsZQ%3D%3D?line=1'>2</a>\u001b[0m     species\u001b[39m=\u001b[39;49mabts,\n\u001b[1;32m      <a href='vscode-notebook-cell:/Users/max/Documents/GitHub/MTPHandler/plate_to_enzymeml.ipynb#X40sZmlsZQ%3D%3D?line=2'>3</a>\u001b[0m     wavelength\u001b[39m=\u001b[39;49m\u001b[39m340\u001b[39;49m,\n\u001b[1;32m      <a href='vscode-notebook-cell:/Users/max/Documents/GitHub/MTPHandler/plate_to_enzymeml.ipynb#X40sZmlsZQ%3D%3D?line=3'>4</a>\u001b[0m     cutoff\u001b[39m=\u001b[39;49m\u001b[39m3\u001b[39;49m\n\u001b[1;32m      <a href='vscode-notebook-cell:/Users/max/Documents/GitHub/MTPHandler/plate_to_enzymeml.ipynb#X40sZmlsZQ%3D%3D?line=4'>5</a>\u001b[0m )\n\u001b[1;32m      <a href='vscode-notebook-cell:/Users/max/Documents/GitHub/MTPHandler/plate_to_enzymeml.ipynb#X40sZmlsZQ%3D%3D?line=6'>7</a>\u001b[0m \u001b[39m# Get predefined calibration models\u001b[39;00m\n\u001b[1;32m      <a href='vscode-notebook-cell:/Users/max/Documents/GitHub/MTPHandler/plate_to_enzymeml.ipynb#X40sZmlsZQ%3D%3D?line=7'>8</a>\u001b[0m linear, quadratic, cubic, rational \u001b[39m=\u001b[39m abts_calibration\u001b[39m.\u001b[39mmodels\n",
      "File \u001b[0;32m~/Documents/GitHub/MTPHandler/MTPHandler/modified/plate.py:489\u001b[0m, in \u001b[0;36mPlate.calibrate\u001b[0;34m(self, species, wavelength, cutoff)\u001b[0m\n\u001b[1;32m    482\u001b[0m \u001b[39mdef\u001b[39;00m \u001b[39mcalibrate\u001b[39m(\n\u001b[1;32m    483\u001b[0m         \u001b[39mself\u001b[39m,\n\u001b[1;32m    484\u001b[0m         species: AbstractSpecies,\n\u001b[1;32m    485\u001b[0m         wavelength: \u001b[39mint\u001b[39m,\n\u001b[1;32m    486\u001b[0m         cutoff: \u001b[39mfloat\u001b[39m \u001b[39m=\u001b[39m \u001b[39mNone\u001b[39;00m,\n\u001b[1;32m    487\u001b[0m ) \u001b[39m-\u001b[39m\u001b[39m>\u001b[39m Calibrator:\n\u001b[0;32m--> 489\u001b[0m     \u001b[39mreturn\u001b[39;00m initialize_calibrator(\n\u001b[1;32m    490\u001b[0m         plate\u001b[39m=\u001b[39;49m\u001b[39mself\u001b[39;49m,\n\u001b[1;32m    491\u001b[0m         species\u001b[39m=\u001b[39;49mspecies,\n\u001b[1;32m    492\u001b[0m         wavelength\u001b[39m=\u001b[39;49mwavelength,\n\u001b[1;32m    493\u001b[0m         cutoff\u001b[39m=\u001b[39;49mcutoff,\n\u001b[1;32m    494\u001b[0m     )\n",
      "File \u001b[0;32m~/Documents/GitHub/MTPHandler/MTPHandler/ioutils/calipytion.py:99\u001b[0m, in \u001b[0;36minitialize_calibrator\u001b[0;34m(plate, species, wavelength, cutoff)\u001b[0m\n\u001b[1;32m     86\u001b[0m \u001b[39mdef\u001b[39;00m \u001b[39minitialize_calibrator\u001b[39m(\n\u001b[1;32m     87\u001b[0m         plate: \u001b[39m\"\u001b[39m\u001b[39mPlate\u001b[39m\u001b[39m\"\u001b[39m,\n\u001b[1;32m     88\u001b[0m         species: AbstractSpecies,\n\u001b[1;32m     89\u001b[0m         wavelength: \u001b[39mint\u001b[39m \u001b[39m=\u001b[39m \u001b[39mNone\u001b[39;00m,\n\u001b[1;32m     90\u001b[0m         cutoff: \u001b[39mfloat\u001b[39m \u001b[39m=\u001b[39m \u001b[39mNone\u001b[39;00m,\n\u001b[1;32m     91\u001b[0m ) \u001b[39m-\u001b[39m\u001b[39m>\u001b[39m Calibrator:\n\u001b[1;32m     93\u001b[0m     standard \u001b[39m=\u001b[39m map_to_standard(\n\u001b[1;32m     94\u001b[0m         plate\u001b[39m=\u001b[39mplate,\n\u001b[1;32m     95\u001b[0m         species\u001b[39m=\u001b[39mspecies,\n\u001b[1;32m     96\u001b[0m         wavelength\u001b[39m=\u001b[39mwavelength,\n\u001b[1;32m     97\u001b[0m     )\n\u001b[0;32m---> 99\u001b[0m     \u001b[39mreturn\u001b[39;00m Calibrator\u001b[39m.\u001b[39;49mfrom_standard(standard, cutoff\u001b[39m=\u001b[39;49mcutoff)\n",
      "File \u001b[0;32m~/miniconda3/envs/test-this/lib/python3.11/site-packages/CaliPytion/modified/calibrator.py:161\u001b[0m, in \u001b[0;36mCalibrator.from_standard\u001b[0;34m(cls, standard, cutoff, **kwargs)\u001b[0m\n\u001b[1;32m    157\u001b[0m     \u001b[39mraise\u001b[39;00m \u001b[39mValueError\u001b[39;00m(\n\u001b[1;32m    158\u001b[0m         \u001b[39m\"\u001b[39m\u001b[39mAll samples must have the same concentration unit\u001b[39m\u001b[39m\"\u001b[39m)\n\u001b[1;32m    159\u001b[0m conc_unit \u001b[39m=\u001b[39m standard\u001b[39m.\u001b[39msamples[\u001b[39m0\u001b[39m]\u001b[39m.\u001b[39mconc_unit\n\u001b[0;32m--> 161\u001b[0m \u001b[39mreturn\u001b[39;00m \u001b[39mcls\u001b[39;49m(\n\u001b[1;32m    162\u001b[0m     standard\u001b[39m=\u001b[39;49mstandard,\n\u001b[1;32m    163\u001b[0m     concentrations\u001b[39m=\u001b[39;49mconcentrations,\n\u001b[1;32m    164\u001b[0m     conc_unit\u001b[39m=\u001b[39;49mconc_unit,\n\u001b[1;32m    165\u001b[0m     signals\u001b[39m=\u001b[39;49msignals,\n\u001b[1;32m    166\u001b[0m     cutoff\u001b[39m=\u001b[39;49mcutoff,\n\u001b[1;32m    167\u001b[0m     \u001b[39m*\u001b[39;49m\u001b[39m*\u001b[39;49mkwargs,\n\u001b[1;32m    168\u001b[0m )\n",
      "File \u001b[0;32m~/miniconda3/envs/test-this/lib/python3.11/site-packages/CaliPytion/modified/calibrator.py:126\u001b[0m, in \u001b[0;36mCalibrator.__init__\u001b[0;34m(self, **data)\u001b[0m\n\u001b[1;32m    125\u001b[0m \u001b[39mdef\u001b[39;00m \u001b[39m__init__\u001b[39m(\u001b[39mself\u001b[39m, \u001b[39m*\u001b[39m\u001b[39m*\u001b[39mdata: Any):\n\u001b[0;32m--> 126\u001b[0m     \u001b[39msuper\u001b[39;49m()\u001b[39m.\u001b[39;49m\u001b[39m__init__\u001b[39;49m(\u001b[39m*\u001b[39;49m\u001b[39m*\u001b[39;49mdata)\n\u001b[1;32m    127\u001b[0m     \u001b[39mself\u001b[39m\u001b[39m.\u001b[39m_apply_cutoff()\n",
      "File \u001b[0;32m~/miniconda3/envs/test-this/lib/python3.11/site-packages/sdRDM/base/datamodel.py:90\u001b[0m, in \u001b[0;36mDataModel.__init__\u001b[0;34m(self, **data)\u001b[0m\n\u001b[1;32m     89\u001b[0m \u001b[39mdef\u001b[39;00m \u001b[39m__init__\u001b[39m(\u001b[39mself\u001b[39m, \u001b[39m*\u001b[39m\u001b[39m*\u001b[39mdata):\n\u001b[0;32m---> 90\u001b[0m     \u001b[39msuper\u001b[39;49m()\u001b[39m.\u001b[39;49m\u001b[39m__init__\u001b[39;49m(\u001b[39m*\u001b[39;49m\u001b[39m*\u001b[39;49mdata)\n\u001b[1;32m     91\u001b[0m     \u001b[39mself\u001b[39m\u001b[39m.\u001b[39m_initialize_references()\n\u001b[1;32m     93\u001b[0m     \u001b[39mfor\u001b[39;00m name, value \u001b[39min\u001b[39;00m data\u001b[39m.\u001b[39mitems():\n",
      "File \u001b[0;32m~/miniconda3/envs/test-this/lib/python3.11/site-packages/pydantic/main.py:404\u001b[0m, in \u001b[0;36mBaseModel.__init__\u001b[0;34m(__pydantic_self__, **data)\u001b[0m\n\u001b[1;32m    398\u001b[0m \u001b[39m\u001b[39m\u001b[39m\"\"\"\u001b[39;00m\n\u001b[1;32m    399\u001b[0m \u001b[39mCreate a new model by parsing and validating input data from keyword arguments.\u001b[39;00m\n\u001b[1;32m    400\u001b[0m \n\u001b[1;32m    401\u001b[0m \u001b[39mRaises ValidationError if the input data cannot be parsed to form a valid model.\u001b[39;00m\n\u001b[1;32m    402\u001b[0m \u001b[39m\"\"\"\u001b[39;00m\n\u001b[1;32m    403\u001b[0m \u001b[39m# Uses something other than `self` the first arg to allow \"self\" as a settable attribute\u001b[39;00m\n\u001b[0;32m--> 404\u001b[0m values, fields_set, validation_error \u001b[39m=\u001b[39m validate_model(__pydantic_self__\u001b[39m.\u001b[39;49m\u001b[39m__class__\u001b[39;49m, data)\n\u001b[1;32m    405\u001b[0m \u001b[39mif\u001b[39;00m validation_error:\n\u001b[1;32m    406\u001b[0m     \u001b[39mraise\u001b[39;00m validation_error\n",
      "File \u001b[0;32m~/miniconda3/envs/test-this/lib/python3.11/site-packages/pydantic/main.py:1040\u001b[0m, in \u001b[0;36mvalidate_model\u001b[0;34m(model, input_data, cls)\u001b[0m\n\u001b[1;32m   1037\u001b[0m     \u001b[39mif\u001b[39;00m check_extra:\n\u001b[1;32m   1038\u001b[0m         names_used\u001b[39m.\u001b[39madd(field\u001b[39m.\u001b[39mname \u001b[39mif\u001b[39;00m using_name \u001b[39melse\u001b[39;00m field\u001b[39m.\u001b[39malias)\n\u001b[0;32m-> 1040\u001b[0m v_, errors_ \u001b[39m=\u001b[39m field\u001b[39m.\u001b[39;49mvalidate(value, values, loc\u001b[39m=\u001b[39;49mfield\u001b[39m.\u001b[39;49malias, \u001b[39mcls\u001b[39;49m\u001b[39m=\u001b[39;49mcls_)\n\u001b[1;32m   1041\u001b[0m \u001b[39mif\u001b[39;00m \u001b[39misinstance\u001b[39m(errors_, ErrorWrapper):\n\u001b[1;32m   1042\u001b[0m     errors\u001b[39m.\u001b[39mappend(errors_)\n",
      "File \u001b[0;32m~/miniconda3/envs/test-this/lib/python3.11/site-packages/pydantic/fields.py:706\u001b[0m, in \u001b[0;36mModelField.validate\u001b[0;34m(self, v, values, loc, cls)\u001b[0m\n\u001b[1;32m    704\u001b[0m errors: Optional[\u001b[39m'\u001b[39m\u001b[39mErrorList\u001b[39m\u001b[39m'\u001b[39m]\n\u001b[1;32m    705\u001b[0m \u001b[39mif\u001b[39;00m \u001b[39mself\u001b[39m\u001b[39m.\u001b[39mpre_validators:\n\u001b[0;32m--> 706\u001b[0m     v, errors \u001b[39m=\u001b[39m \u001b[39mself\u001b[39;49m\u001b[39m.\u001b[39;49m_apply_validators(v, values, loc, \u001b[39mcls\u001b[39;49m, \u001b[39mself\u001b[39;49m\u001b[39m.\u001b[39;49mpre_validators)\n\u001b[1;32m    707\u001b[0m     \u001b[39mif\u001b[39;00m errors:\n\u001b[1;32m    708\u001b[0m         \u001b[39mreturn\u001b[39;00m v, errors\n",
      "File \u001b[0;32m~/miniconda3/envs/test-this/lib/python3.11/site-packages/pydantic/fields.py:913\u001b[0m, in \u001b[0;36mModelField._apply_validators\u001b[0;34m(self, v, values, loc, cls, validators)\u001b[0m\n\u001b[1;32m    911\u001b[0m \u001b[39mfor\u001b[39;00m validator \u001b[39min\u001b[39;00m validators:\n\u001b[1;32m    912\u001b[0m     \u001b[39mtry\u001b[39;00m:\n\u001b[0;32m--> 913\u001b[0m         v \u001b[39m=\u001b[39m validator(\u001b[39mcls\u001b[39;49m, v, values, \u001b[39mself\u001b[39;49m, \u001b[39mself\u001b[39;49m\u001b[39m.\u001b[39;49mmodel_config)\n\u001b[1;32m    914\u001b[0m     \u001b[39mexcept\u001b[39;00m (\u001b[39mValueError\u001b[39;00m, \u001b[39mTypeError\u001b[39;00m, \u001b[39mAssertionError\u001b[39;00m) \u001b[39mas\u001b[39;00m exc:\n\u001b[1;32m    915\u001b[0m         \u001b[39mreturn\u001b[39;00m v, ErrorWrapper(exc, loc)\n",
      "File \u001b[0;32m~/miniconda3/envs/test-this/lib/python3.11/site-packages/pydantic/class_validators.py:277\u001b[0m, in \u001b[0;36m_generic_validator_cls.<locals>.<lambda>\u001b[0;34m(cls, v, values, field, config)\u001b[0m\n\u001b[1;32m    275\u001b[0m     \u001b[39mreturn\u001b[39;00m \u001b[39mlambda\u001b[39;00m \u001b[39mcls\u001b[39m, v, values, field, config: validator(\u001b[39mcls\u001b[39m, v, values\u001b[39m=\u001b[39mvalues, field\u001b[39m=\u001b[39mfield, config\u001b[39m=\u001b[39mconfig)\n\u001b[1;32m    276\u001b[0m \u001b[39melif\u001b[39;00m args \u001b[39m==\u001b[39m \u001b[39mset\u001b[39m():\n\u001b[0;32m--> 277\u001b[0m     \u001b[39mreturn\u001b[39;00m \u001b[39mlambda\u001b[39;00m \u001b[39mcls\u001b[39m, v, values, field, config: validator(\u001b[39mcls\u001b[39;49m, v)\n\u001b[1;32m    278\u001b[0m \u001b[39melif\u001b[39;00m args \u001b[39m==\u001b[39m {\u001b[39m'\u001b[39m\u001b[39mvalues\u001b[39m\u001b[39m'\u001b[39m}:\n\u001b[1;32m    279\u001b[0m     \u001b[39mreturn\u001b[39;00m \u001b[39mlambda\u001b[39;00m \u001b[39mcls\u001b[39m, v, values, field, config: validator(\u001b[39mcls\u001b[39m, v, values\u001b[39m=\u001b[39mvalues)\n",
      "File \u001b[0;32m~/miniconda3/envs/test-this/lib/python3.11/site-packages/CaliPytion/modified/calibrator.py:120\u001b[0m, in \u001b[0;36mCalibrator.initialize_models\u001b[0;34m(cls, models)\u001b[0m\n\u001b[1;32m    117\u001b[0m     __path \u001b[39m=\u001b[39m __path\u001b[39m.\u001b[39mstrip(\u001b[39m\"\u001b[39m\u001b[39mmodified\u001b[39m\u001b[39m\"\u001b[39m)\n\u001b[1;32m    118\u001b[0m     __path \u001b[39m=\u001b[39m __path \u001b[39m+\u001b[39m model_path\n\u001b[0;32m--> 120\u001b[0m     models_data \u001b[39m=\u001b[39m toml\u001b[39m.\u001b[39;49mload(__path)[\u001b[39m\"\u001b[39m\u001b[39mmodel\u001b[39m\u001b[39m\"\u001b[39m]\n\u001b[1;32m    121\u001b[0m     models \u001b[39m=\u001b[39m [CalibrationModel(\u001b[39m*\u001b[39m\u001b[39m*\u001b[39mmodel_data)\n\u001b[1;32m    122\u001b[0m               \u001b[39mfor\u001b[39;00m model_data \u001b[39min\u001b[39;00m models_data]\n\u001b[1;32m    123\u001b[0m \u001b[39mreturn\u001b[39;00m models\n",
      "File \u001b[0;32m~/miniconda3/envs/test-this/lib/python3.11/site-packages/toml/decoder.py:133\u001b[0m, in \u001b[0;36mload\u001b[0;34m(f, _dict, decoder)\u001b[0m\n\u001b[1;32m    114\u001b[0m \u001b[39m\u001b[39m\u001b[39m\"\"\"Parses named file or files as toml and returns a dictionary\u001b[39;00m\n\u001b[1;32m    115\u001b[0m \n\u001b[1;32m    116\u001b[0m \u001b[39mArgs:\u001b[39;00m\n\u001b[0;32m   (...)\u001b[0m\n\u001b[1;32m    129\u001b[0m \u001b[39m    (Python 2 / Python 3)          file paths is passed\u001b[39;00m\n\u001b[1;32m    130\u001b[0m \u001b[39m\"\"\"\u001b[39;00m\n\u001b[1;32m    132\u001b[0m \u001b[39mif\u001b[39;00m _ispath(f):\n\u001b[0;32m--> 133\u001b[0m     \u001b[39mwith\u001b[39;00m io\u001b[39m.\u001b[39;49mopen(_getpath(f), encoding\u001b[39m=\u001b[39;49m\u001b[39m'\u001b[39;49m\u001b[39mutf-8\u001b[39;49m\u001b[39m'\u001b[39;49m) \u001b[39mas\u001b[39;00m ffile:\n\u001b[1;32m    134\u001b[0m         \u001b[39mreturn\u001b[39;00m loads(ffile\u001b[39m.\u001b[39mread(), _dict, decoder)\n\u001b[1;32m    135\u001b[0m \u001b[39melif\u001b[39;00m \u001b[39misinstance\u001b[39m(f, \u001b[39mlist\u001b[39m):\n",
      "\u001b[0;31mFileNotFoundError\u001b[0m: [Errno 2] No such file or directory: '/Users/max/miniconda3/envs/test-this/lib/python3.11/site-packages/CaliPytion/tools/models.toml'"
     ]
    }
   ],
   "source": [
    "abts_calibration = plate.calibrate(\n",
    "    species=abts,\n",
    "    wavelength=340,\n",
    "    cutoff=3\n",
    ")\n",
    "\n",
    "# Get predefined calibration models\n",
    "linear, quadratic, cubic, rational = abts_calibration.models\n",
    "\n",
    "# Fit models\n",
    "abts_calibration.fit_models()"
   ]
  },
  {
   "cell_type": "code",
   "execution_count": null,
   "metadata": {},
   "outputs": [
    {
     "data": {
      "application/vnd.plotly.v1+json": {
       "config": {
        "plotlyServerURL": "https://plot.ly",
        "toImageButtonOptions": {
         "filename": "cubic_calibration_curve",
         "format": "svg",
         "scale": 1
        }
       },
       "data": [
        {
         "hoverinfo": "skip",
         "marker": {
          "color": "#1f77b4"
         },
         "mode": "markers",
         "name": "ABTS",
         "type": "scatter",
         "visible": true,
         "x": [
          5,
          10,
          15,
          25,
          50,
          75,
          100,
          150,
          5,
          10,
          15,
          25,
          50,
          75,
          100,
          150,
          5,
          10,
          15,
          25,
          50,
          75,
          100,
          150
         ],
         "xaxis": "x",
         "y": [
          0.08641605681905236,
          0.18111455485537442,
          0.29443428891193385,
          0.5018776976691343,
          0.9929862158855982,
          1.4789017219829268,
          2.2947021545503516,
          2.7944619534978234,
          0.08416546637839822,
          0.15515158870269172,
          0.2632038151816907,
          0.4597016522654347,
          1.008779143813734,
          1.3610909816135723,
          2.098808411790892,
          2.645936629477214,
          0.07969135974636946,
          0.17415227214174123,
          0.2650666761199422,
          0.4768945723372803,
          1.0000621974852906,
          1.3537783598863573,
          2.0796071311001763,
          2.5834757983864858
         ],
         "yaxis": "y"
        },
        {
         "hoverinfo": "skip",
         "marker": {
          "color": "#1f77b4"
         },
         "mode": "lines",
         "name": "cubic model",
         "type": "scatter",
         "visible": true,
         "x": [
          5,
          6.218487394957983,
          7.436974789915967,
          8.655462184873949,
          9.873949579831933,
          11.092436974789916,
          12.310924369747898,
          13.529411764705882,
          14.747899159663865,
          15.966386554621847,
          17.18487394957983,
          18.403361344537814,
          19.621848739495796,
          20.84033613445378,
          22.058823529411764,
          23.277310924369747,
          24.49579831932773,
          25.71428571428571,
          26.932773109243694,
          28.15126050420168,
          29.369747899159663,
          30.588235294117645,
          31.806722689075627,
          33.02521008403361,
          34.24369747899159,
          35.46218487394958,
          36.68067226890756,
          37.89915966386555,
          39.11764705882353,
          40.33613445378151,
          41.554621848739494,
          42.773109243697476,
          43.99159663865546,
          45.21008403361344,
          46.42857142857142,
          47.647058823529406,
          48.86554621848739,
          50.08403361344537,
          51.30252100840336,
          52.52100840336134,
          53.739495798319325,
          54.95798319327731,
          56.17647058823529,
          57.39495798319327,
          58.613445378151255,
          59.83193277310924,
          61.05042016806722,
          62.2689075630252,
          63.487394957983184,
          64.70588235294117,
          65.92436974789916,
          67.14285714285714,
          68.36134453781511,
          69.5798319327731,
          70.7983193277311,
          72.01680672268907,
          73.23529411764706,
          74.45378151260503,
          75.67226890756302,
          76.890756302521,
          78.10924369747899,
          79.32773109243696,
          80.54621848739495,
          81.76470588235293,
          82.98319327731092,
          84.2016806722689,
          85.42016806722688,
          86.63865546218487,
          87.85714285714285,
          89.07563025210084,
          90.29411764705881,
          91.5126050420168,
          92.73109243697478,
          93.94957983193277,
          95.16806722689074,
          96.38655462184873,
          97.60504201680672,
          98.8235294117647,
          100.04201680672269,
          101.26050420168066,
          102.47899159663865,
          103.69747899159663,
          104.91596638655462,
          106.13445378151259,
          107.35294117647058,
          108.57142857142856,
          109.78991596638654,
          111.00840336134453,
          112.22689075630251,
          113.4453781512605,
          114.66386554621847,
          115.88235294117646,
          117.10084033613444,
          118.31932773109243,
          119.5378151260504,
          120.7563025210084,
          121.97478991596637,
          123.19327731092436,
          124.41176470588235,
          125.63025210084032,
          126.84873949579831,
          128.06722689075627,
          129.28571428571428,
          130.50420168067225,
          131.72268907563023,
          132.94117647058823,
          134.1596638655462,
          135.37815126050418,
          136.5966386554622,
          137.81512605042016,
          139.03361344537814,
          140.2521008403361,
          141.47058823529412,
          142.6890756302521,
          143.90756302521007,
          145.12605042016804,
          146.34453781512605,
          147.56302521008402,
          148.781512605042,
          150
         ],
         "xaxis": "x",
         "y": [
          0.07769034258209342,
          0.09754412197837385,
          0.11774262659040854,
          0.13827792121662527,
          0.15914207065545186,
          0.18032713970531605,
          0.20182519316464573,
          0.2236282958318686,
          0.24572851250541253,
          0.2681179079837053,
          0.2907885470651746,
          0.3137324945482483,
          0.3369418152313543,
          0.3604085739129202,
          0.38412483539137404,
          0.40808266446514335,
          0.4322741259326561,
          0.45669128459234,
          0.4813262052426229,
          0.5061709526819326,
          0.5312175917086968,
          0.5564581871213433,
          0.5818848037183001,
          0.6074895062979948,
          0.6332643596588551,
          0.6592014285993093,
          0.6852927779177844,
          0.711530472412709,
          0.7379065768825103,
          0.7644131561256164,
          0.791042274940455,
          0.817785998125454,
          0.844636390479041,
          0.8715855167996438,
          0.8986254418856904,
          0.9257482305356086,
          0.9529459475478259,
          0.9802106577207703,
          1.0075344258528698,
          1.0349093167425518,
          1.0623273951882444,
          1.089780725988375,
          1.117261373941372,
          1.1447614038456626,
          1.172272880499675,
          1.1997878687018366,
          1.2272984332505754,
          1.2547966389443195,
          1.2822745505814965,
          1.309724232960534,
          1.33713775087986,
          1.364507169137902,
          1.391824552533088,
          1.4190819658638458,
          1.4462714739286036,
          1.4733851415257881,
          1.5004150334538287,
          1.5273532145111515,
          1.5541917494961854,
          1.5809227032073576,
          1.6075381404430966,
          1.6340301260018293,
          1.6603907246819842,
          1.6866120012819887,
          1.712686020600271,
          1.738604847435259,
          1.764360546585379,
          1.7899451828490611,
          1.815350821024731,
          1.8405695259108181,
          1.8655933623057492,
          1.8904143950079526,
          1.9150246888158557,
          1.9394163085278868,
          1.9635813189424731,
          1.9875117848580428,
          2.0111997710730236,
          2.0346373423858433,
          2.0578165635949297,
          2.0807294994987102,
          2.1033682148956134,
          2.1257247745840666,
          2.147791243362498,
          2.169559686029334,
          2.191022167383004,
          2.2121707522219354,
          2.232997505344556,
          2.2534944915492936,
          2.273653775634575,
          2.293467422398829,
          2.3129274966404836,
          2.3320260631579663,
          2.3507551867497045,
          2.3691069322141267,
          2.38707336434966,
          2.4046465479547323,
          2.4218185478277716,
          2.4385814287672063,
          2.4549272555714627,
          2.47084809303897,
          2.4863360059681554,
          2.501383059157447,
          2.515981317405272,
          2.5301228455100584,
          2.5437997082702344,
          2.557003970484228,
          2.569727696950466,
          2.581962952467377,
          2.593701801833388,
          2.6049363098469276,
          2.6156585413064235,
          2.6258605610103034,
          2.635534433756994,
          2.644672224344926,
          2.6532659975725243,
          2.661307818238217,
          2.668789751140434,
          2.6757038610776,
          2.682042212848146,
          2.6877968712504976
         ],
         "yaxis": "y"
        },
        {
         "hoverinfo": "skip",
         "marker": {
          "color": "#d62728"
         },
         "mode": "markers",
         "name": "Residuals",
         "type": "scatter",
         "visible": true,
         "x": [
          5,
          10,
          15,
          25,
          50,
          75,
          100,
          150,
          5,
          10,
          15,
          25,
          50,
          75,
          100,
          150,
          5,
          10,
          15,
          25,
          50,
          75,
          100,
          150
         ],
         "xaxis": "x2",
         "y": [
          11.231401416126712,
          12.271143816394156,
          17.61501179029129,
          13.456928763740933,
          1.4982566817123266,
          -3.929808428432159,
          11.55459327216864,
          3.9684949182078597,
          8.334528567000074,
          -3.8230453510951437,
          5.139655915223411,
          3.9224055101125312,
          3.1125335235878193,
          -11.582852730319033,
          2.031419750602648,
          -1.5574183533373906,
          2.5756317938250906,
          7.955292754855287,
          5.883796185114519,
          7.809121171899235,
          2.2215293567918284,
          -12.05788427554031,
          1.0979691703127317,
          -3.8812855978761682
         ],
         "yaxis": "y2"
        }
       ],
       "layout": {
        "annotations": [
         {
          "font": {
           "size": 16
          },
          "showarrow": false,
          "text": "Standard",
          "x": 0.2125,
          "xanchor": "center",
          "xref": "paper",
          "y": 1,
          "yanchor": "bottom",
          "yref": "paper"
         },
         {
          "font": {
           "size": 16
          },
          "showarrow": false,
          "text": "Model Residuals",
          "x": 0.7875,
          "xanchor": "center",
          "xref": "paper",
          "y": 1,
          "yanchor": "bottom",
          "yref": "paper"
         },
         {
          "font": {
           "size": 16
          },
          "showarrow": false,
          "text": "ABTS concentration (umol / l)",
          "x": 0.5,
          "xanchor": "center",
          "xref": "paper",
          "y": 0,
          "yanchor": "top",
          "yref": "paper",
          "yshift": -30
         }
        ],
        "shapes": [
         {
          "line": {
           "color": "#000000",
           "dash": "dot",
           "width": 2
          },
          "type": "line",
          "x0": 0,
          "x1": 1,
          "xref": "x2 domain",
          "y0": 0,
          "y1": 0,
          "yref": "y2"
         }
        ],
        "template": {
         "data": {
          "bar": [
           {
            "error_x": {
             "color": "#2a3f5f"
            },
            "error_y": {
             "color": "#2a3f5f"
            },
            "marker": {
             "line": {
              "color": "#E5ECF6",
              "width": 0.5
             },
             "pattern": {
              "fillmode": "overlay",
              "size": 10,
              "solidity": 0.2
             }
            },
            "type": "bar"
           }
          ],
          "barpolar": [
           {
            "marker": {
             "line": {
              "color": "#E5ECF6",
              "width": 0.5
             },
             "pattern": {
              "fillmode": "overlay",
              "size": 10,
              "solidity": 0.2
             }
            },
            "type": "barpolar"
           }
          ],
          "carpet": [
           {
            "aaxis": {
             "endlinecolor": "#2a3f5f",
             "gridcolor": "white",
             "linecolor": "white",
             "minorgridcolor": "white",
             "startlinecolor": "#2a3f5f"
            },
            "baxis": {
             "endlinecolor": "#2a3f5f",
             "gridcolor": "white",
             "linecolor": "white",
             "minorgridcolor": "white",
             "startlinecolor": "#2a3f5f"
            },
            "type": "carpet"
           }
          ],
          "choropleth": [
           {
            "colorbar": {
             "outlinewidth": 0,
             "ticks": ""
            },
            "type": "choropleth"
           }
          ],
          "contour": [
           {
            "colorbar": {
             "outlinewidth": 0,
             "ticks": ""
            },
            "colorscale": [
             [
              0,
              "#0d0887"
             ],
             [
              0.1111111111111111,
              "#46039f"
             ],
             [
              0.2222222222222222,
              "#7201a8"
             ],
             [
              0.3333333333333333,
              "#9c179e"
             ],
             [
              0.4444444444444444,
              "#bd3786"
             ],
             [
              0.5555555555555556,
              "#d8576b"
             ],
             [
              0.6666666666666666,
              "#ed7953"
             ],
             [
              0.7777777777777778,
              "#fb9f3a"
             ],
             [
              0.8888888888888888,
              "#fdca26"
             ],
             [
              1,
              "#f0f921"
             ]
            ],
            "type": "contour"
           }
          ],
          "contourcarpet": [
           {
            "colorbar": {
             "outlinewidth": 0,
             "ticks": ""
            },
            "type": "contourcarpet"
           }
          ],
          "heatmap": [
           {
            "colorbar": {
             "outlinewidth": 0,
             "ticks": ""
            },
            "colorscale": [
             [
              0,
              "#0d0887"
             ],
             [
              0.1111111111111111,
              "#46039f"
             ],
             [
              0.2222222222222222,
              "#7201a8"
             ],
             [
              0.3333333333333333,
              "#9c179e"
             ],
             [
              0.4444444444444444,
              "#bd3786"
             ],
             [
              0.5555555555555556,
              "#d8576b"
             ],
             [
              0.6666666666666666,
              "#ed7953"
             ],
             [
              0.7777777777777778,
              "#fb9f3a"
             ],
             [
              0.8888888888888888,
              "#fdca26"
             ],
             [
              1,
              "#f0f921"
             ]
            ],
            "type": "heatmap"
           }
          ],
          "heatmapgl": [
           {
            "colorbar": {
             "outlinewidth": 0,
             "ticks": ""
            },
            "colorscale": [
             [
              0,
              "#0d0887"
             ],
             [
              0.1111111111111111,
              "#46039f"
             ],
             [
              0.2222222222222222,
              "#7201a8"
             ],
             [
              0.3333333333333333,
              "#9c179e"
             ],
             [
              0.4444444444444444,
              "#bd3786"
             ],
             [
              0.5555555555555556,
              "#d8576b"
             ],
             [
              0.6666666666666666,
              "#ed7953"
             ],
             [
              0.7777777777777778,
              "#fb9f3a"
             ],
             [
              0.8888888888888888,
              "#fdca26"
             ],
             [
              1,
              "#f0f921"
             ]
            ],
            "type": "heatmapgl"
           }
          ],
          "histogram": [
           {
            "marker": {
             "pattern": {
              "fillmode": "overlay",
              "size": 10,
              "solidity": 0.2
             }
            },
            "type": "histogram"
           }
          ],
          "histogram2d": [
           {
            "colorbar": {
             "outlinewidth": 0,
             "ticks": ""
            },
            "colorscale": [
             [
              0,
              "#0d0887"
             ],
             [
              0.1111111111111111,
              "#46039f"
             ],
             [
              0.2222222222222222,
              "#7201a8"
             ],
             [
              0.3333333333333333,
              "#9c179e"
             ],
             [
              0.4444444444444444,
              "#bd3786"
             ],
             [
              0.5555555555555556,
              "#d8576b"
             ],
             [
              0.6666666666666666,
              "#ed7953"
             ],
             [
              0.7777777777777778,
              "#fb9f3a"
             ],
             [
              0.8888888888888888,
              "#fdca26"
             ],
             [
              1,
              "#f0f921"
             ]
            ],
            "type": "histogram2d"
           }
          ],
          "histogram2dcontour": [
           {
            "colorbar": {
             "outlinewidth": 0,
             "ticks": ""
            },
            "colorscale": [
             [
              0,
              "#0d0887"
             ],
             [
              0.1111111111111111,
              "#46039f"
             ],
             [
              0.2222222222222222,
              "#7201a8"
             ],
             [
              0.3333333333333333,
              "#9c179e"
             ],
             [
              0.4444444444444444,
              "#bd3786"
             ],
             [
              0.5555555555555556,
              "#d8576b"
             ],
             [
              0.6666666666666666,
              "#ed7953"
             ],
             [
              0.7777777777777778,
              "#fb9f3a"
             ],
             [
              0.8888888888888888,
              "#fdca26"
             ],
             [
              1,
              "#f0f921"
             ]
            ],
            "type": "histogram2dcontour"
           }
          ],
          "mesh3d": [
           {
            "colorbar": {
             "outlinewidth": 0,
             "ticks": ""
            },
            "type": "mesh3d"
           }
          ],
          "parcoords": [
           {
            "line": {
             "colorbar": {
              "outlinewidth": 0,
              "ticks": ""
             }
            },
            "type": "parcoords"
           }
          ],
          "pie": [
           {
            "automargin": true,
            "type": "pie"
           }
          ],
          "scatter": [
           {
            "fillpattern": {
             "fillmode": "overlay",
             "size": 10,
             "solidity": 0.2
            },
            "type": "scatter"
           }
          ],
          "scatter3d": [
           {
            "line": {
             "colorbar": {
              "outlinewidth": 0,
              "ticks": ""
             }
            },
            "marker": {
             "colorbar": {
              "outlinewidth": 0,
              "ticks": ""
             }
            },
            "type": "scatter3d"
           }
          ],
          "scattercarpet": [
           {
            "marker": {
             "colorbar": {
              "outlinewidth": 0,
              "ticks": ""
             }
            },
            "type": "scattercarpet"
           }
          ],
          "scattergeo": [
           {
            "marker": {
             "colorbar": {
              "outlinewidth": 0,
              "ticks": ""
             }
            },
            "type": "scattergeo"
           }
          ],
          "scattergl": [
           {
            "marker": {
             "colorbar": {
              "outlinewidth": 0,
              "ticks": ""
             }
            },
            "type": "scattergl"
           }
          ],
          "scattermapbox": [
           {
            "marker": {
             "colorbar": {
              "outlinewidth": 0,
              "ticks": ""
             }
            },
            "type": "scattermapbox"
           }
          ],
          "scatterpolar": [
           {
            "marker": {
             "colorbar": {
              "outlinewidth": 0,
              "ticks": ""
             }
            },
            "type": "scatterpolar"
           }
          ],
          "scatterpolargl": [
           {
            "marker": {
             "colorbar": {
              "outlinewidth": 0,
              "ticks": ""
             }
            },
            "type": "scatterpolargl"
           }
          ],
          "scatterternary": [
           {
            "marker": {
             "colorbar": {
              "outlinewidth": 0,
              "ticks": ""
             }
            },
            "type": "scatterternary"
           }
          ],
          "surface": [
           {
            "colorbar": {
             "outlinewidth": 0,
             "ticks": ""
            },
            "colorscale": [
             [
              0,
              "#0d0887"
             ],
             [
              0.1111111111111111,
              "#46039f"
             ],
             [
              0.2222222222222222,
              "#7201a8"
             ],
             [
              0.3333333333333333,
              "#9c179e"
             ],
             [
              0.4444444444444444,
              "#bd3786"
             ],
             [
              0.5555555555555556,
              "#d8576b"
             ],
             [
              0.6666666666666666,
              "#ed7953"
             ],
             [
              0.7777777777777778,
              "#fb9f3a"
             ],
             [
              0.8888888888888888,
              "#fdca26"
             ],
             [
              1,
              "#f0f921"
             ]
            ],
            "type": "surface"
           }
          ],
          "table": [
           {
            "cells": {
             "fill": {
              "color": "#EBF0F8"
             },
             "line": {
              "color": "white"
             }
            },
            "header": {
             "fill": {
              "color": "#C8D4E3"
             },
             "line": {
              "color": "white"
             }
            },
            "type": "table"
           }
          ]
         },
         "layout": {
          "annotationdefaults": {
           "arrowcolor": "#2a3f5f",
           "arrowhead": 0,
           "arrowwidth": 1
          },
          "autotypenumbers": "strict",
          "coloraxis": {
           "colorbar": {
            "outlinewidth": 0,
            "ticks": ""
           }
          },
          "colorscale": {
           "diverging": [
            [
             0,
             "#8e0152"
            ],
            [
             0.1,
             "#c51b7d"
            ],
            [
             0.2,
             "#de77ae"
            ],
            [
             0.3,
             "#f1b6da"
            ],
            [
             0.4,
             "#fde0ef"
            ],
            [
             0.5,
             "#f7f7f7"
            ],
            [
             0.6,
             "#e6f5d0"
            ],
            [
             0.7,
             "#b8e186"
            ],
            [
             0.8,
             "#7fbc41"
            ],
            [
             0.9,
             "#4d9221"
            ],
            [
             1,
             "#276419"
            ]
           ],
           "sequential": [
            [
             0,
             "#0d0887"
            ],
            [
             0.1111111111111111,
             "#46039f"
            ],
            [
             0.2222222222222222,
             "#7201a8"
            ],
            [
             0.3333333333333333,
             "#9c179e"
            ],
            [
             0.4444444444444444,
             "#bd3786"
            ],
            [
             0.5555555555555556,
             "#d8576b"
            ],
            [
             0.6666666666666666,
             "#ed7953"
            ],
            [
             0.7777777777777778,
             "#fb9f3a"
            ],
            [
             0.8888888888888888,
             "#fdca26"
            ],
            [
             1,
             "#f0f921"
            ]
           ],
           "sequentialminus": [
            [
             0,
             "#0d0887"
            ],
            [
             0.1111111111111111,
             "#46039f"
            ],
            [
             0.2222222222222222,
             "#7201a8"
            ],
            [
             0.3333333333333333,
             "#9c179e"
            ],
            [
             0.4444444444444444,
             "#bd3786"
            ],
            [
             0.5555555555555556,
             "#d8576b"
            ],
            [
             0.6666666666666666,
             "#ed7953"
            ],
            [
             0.7777777777777778,
             "#fb9f3a"
            ],
            [
             0.8888888888888888,
             "#fdca26"
            ],
            [
             1,
             "#f0f921"
            ]
           ]
          },
          "colorway": [
           "#636efa",
           "#EF553B",
           "#00cc96",
           "#ab63fa",
           "#FFA15A",
           "#19d3f3",
           "#FF6692",
           "#B6E880",
           "#FF97FF",
           "#FECB52"
          ],
          "font": {
           "color": "#2a3f5f"
          },
          "geo": {
           "bgcolor": "white",
           "lakecolor": "white",
           "landcolor": "#E5ECF6",
           "showlakes": true,
           "showland": true,
           "subunitcolor": "white"
          },
          "hoverlabel": {
           "align": "left"
          },
          "hovermode": "closest",
          "mapbox": {
           "style": "light"
          },
          "paper_bgcolor": "white",
          "plot_bgcolor": "#E5ECF6",
          "polar": {
           "angularaxis": {
            "gridcolor": "white",
            "linecolor": "white",
            "ticks": ""
           },
           "bgcolor": "#E5ECF6",
           "radialaxis": {
            "gridcolor": "white",
            "linecolor": "white",
            "ticks": ""
           }
          },
          "scene": {
           "xaxis": {
            "backgroundcolor": "#E5ECF6",
            "gridcolor": "white",
            "gridwidth": 2,
            "linecolor": "white",
            "showbackground": true,
            "ticks": "",
            "zerolinecolor": "white"
           },
           "yaxis": {
            "backgroundcolor": "#E5ECF6",
            "gridcolor": "white",
            "gridwidth": 2,
            "linecolor": "white",
            "showbackground": true,
            "ticks": "",
            "zerolinecolor": "white"
           },
           "zaxis": {
            "backgroundcolor": "#E5ECF6",
            "gridcolor": "white",
            "gridwidth": 2,
            "linecolor": "white",
            "showbackground": true,
            "ticks": "",
            "zerolinecolor": "white"
           }
          },
          "shapedefaults": {
           "line": {
            "color": "#2a3f5f"
           }
          },
          "ternary": {
           "aaxis": {
            "gridcolor": "white",
            "linecolor": "white",
            "ticks": ""
           },
           "baxis": {
            "gridcolor": "white",
            "linecolor": "white",
            "ticks": ""
           },
           "bgcolor": "#E5ECF6",
           "caxis": {
            "gridcolor": "white",
            "linecolor": "white",
            "ticks": ""
           }
          },
          "title": {
           "x": 0.05
          },
          "xaxis": {
           "automargin": true,
           "gridcolor": "white",
           "linecolor": "white",
           "ticks": "",
           "title": {
            "standoff": 15
           },
           "zerolinecolor": "white",
           "zerolinewidth": 2
          },
          "yaxis": {
           "automargin": true,
           "gridcolor": "white",
           "linecolor": "white",
           "ticks": "",
           "title": {
            "standoff": 15
           },
           "zerolinecolor": "white",
           "zerolinewidth": 2
          }
         }
        },
        "xaxis": {
         "anchor": "y",
         "domain": [
          0,
          0.425
         ]
        },
        "xaxis2": {
         "anchor": "y2",
         "domain": [
          0.575,
          1
         ]
        },
        "yaxis": {
         "anchor": "x",
         "domain": [
          0,
          1
         ],
         "title": {
          "text": "Signal (a.u.)"
         }
        },
        "yaxis2": {
         "anchor": "x2",
         "domain": [
          0,
          1
         ],
         "title": {
          "text": "Residuals (%)"
         }
        }
       }
      }
     },
     "metadata": {},
     "output_type": "display_data"
    }
   ],
   "source": [
    "# Visualize fitted calibration models\n",
    "abts_calibration.visualize(cubic)"
   ]
  },
  {
   "cell_type": "markdown",
   "metadata": {},
   "source": [
    "After visualizing the fitted model with standard data and comparing and assessing statistical parameters of the models, the best model to be used for concentration calculation is added to the standard data by calling the `save_model()` method."
   ]
  },
  {
   "cell_type": "code",
   "execution_count": null,
   "metadata": {},
   "outputs": [],
   "source": [
    "# Save best calibration model to `Standard`\n",
    "abts_standard = abts_calibration.save_model(cubic)"
   ]
  },
  {
   "cell_type": "markdown",
   "metadata": {},
   "source": [
    "## Create an `EnzymeMLDocument` with concentration data from the plate\n",
    "\n",
    "Catalyzed reaction data can be mapped to an `EnzymeMLDocument` by calling the `to_enzymeml()` method. It identifies wells containing proteins and the specified 'detected_reactant'. If a `Standard` with a fitted calibration model is provided, the absorption values are are converted into concentration data. If measured absorption data is outside of calibration bonds of the model for concentration calculation, the respective values are replaced with `float('nan')` values."
   ]
  },
  {
   "cell_type": "code",
   "execution_count": null,
   "metadata": {},
   "outputs": [
    {
     "name": "stdout",
     "output_type": "stream",
     "text": [
      "Found 27 catalyzed wells\n"
     ]
    }
   ],
   "source": [
    "enzymeml = plate.to_enzymeml(\n",
    "    name=\"SLAC kinetic assay\",\n",
    "    detected_reactant=abts,\n",
    "    reactant_standard=abts_standard,\n",
    "    wavelength=340\n",
    ")"
   ]
  },
  {
   "cell_type": "code",
   "execution_count": null,
   "metadata": {},
   "outputs": [
    {
     "name": "stdout",
     "output_type": "stream",
     "text": [
      "\u001b[4mEnzymeMLDocument\u001b[0m\n",
      "├── \u001b[94mid\u001b[0m = enzymemldocument0\n",
      "├── \u001b[94mname\u001b[0m = SLAC kinetic assay\n",
      "├── \u001b[94mcreated\u001b[0m = 2023-09-12 10:38:34\n",
      "├── \u001b[94mvessels\u001b[0m\n",
      "│   └── 0\n",
      "│       └── \u001b[4mVessel\u001b[0m\n",
      "│           ├── \u001b[94mid\u001b[0m = plate0\n",
      "│           ├── \u001b[94mname\u001b[0m = MTP 96 well\n",
      "│           ├── \u001b[94mvolume\u001b[0m = 200.0\n",
      "│           ├── \u001b[94munit\u001b[0m = ul\n",
      "│           └── \u001b[94mconstant\u001b[0m = True\n",
      "├── \u001b[94mproteins\u001b[0m\n",
      "│   └── 0\n",
      "│       └── \u001b[4mProtein\u001b[0m\n",
      "│           ├── \u001b[94mid\u001b[0m = p0\n",
      "│           ├── \u001b[94mname\u001b[0m = SLAC\n",
      "│           ├── \u001b[94mvessel_id\u001b[0m = plate0\n",
      "│           ├── \u001b[94mconstant\u001b[0m = True\n",
      "│           ├── \u001b[94msequence\u001b[0m = MSSKSKPKDVKV\n",
      "│           └── \u001b[94montology\u001b[0m = SBO:0000013\n",
      "├── \u001b[94mreactants\u001b[0m\n",
      "│   ├── 0\n",
      "│   │   └── \u001b[4mReactant\u001b[0m\n",
      "│   │       ├── \u001b[94mid\u001b[0m = s1\n",
      "│   │       ├── \u001b[94mname\u001b[0m = Buffer\n",
      "│   │       ├── \u001b[94mvessel_id\u001b[0m = plate0\n",
      "│   │       ├── \u001b[94mconstant\u001b[0m = True\n",
      "│   │       └── \u001b[94montology\u001b[0m = SBO:0000247\n",
      "│   ├── 1\n",
      "│   │   └── \u001b[4mReactant\u001b[0m\n",
      "│   │       ├── \u001b[94mid\u001b[0m = s0\n",
      "│   │       ├── \u001b[94mname\u001b[0m = ABTS\n",
      "│   │       ├── \u001b[94mvessel_id\u001b[0m = plate0\n",
      "│   │       ├── \u001b[94mconstant\u001b[0m = False\n",
      "│   │       └── \u001b[94montology\u001b[0m = SBO:0000247\n",
      "│   └── 2\n",
      "│       └── \u001b[4mReactant\u001b[0m\n",
      "│           ├── \u001b[94mid\u001b[0m = s2\n",
      "│           ├── \u001b[94mname\u001b[0m = ABTS_radical\n",
      "│           ├── \u001b[94mvessel_id\u001b[0m = plate0\n",
      "│           ├── \u001b[94mconstant\u001b[0m = False\n",
      "│           └── \u001b[94montology\u001b[0m = SBO:0000247\n",
      "└── \u001b[94mmeasurements\u001b[0m\n",
      "    ├── 0\n",
      "    │   └── \u001b[4mMeasurement\u001b[0m\n",
      "    │       ├── \u001b[94mid\u001b[0m = measurement0\n",
      "    │       ├── \u001b[94mname\u001b[0m = ABTS 5.0 umol / l\n",
      "    │       ├── \u001b[94mtemperature\u001b[0m = 35.0\n",
      "    │       ├── \u001b[94mtemperature_unit\u001b[0m = C\n",
      "    │       ├── \u001b[94mph\u001b[0m = 3.5\n",
      "    │       ├── \u001b[94mspecies\u001b[0m\n",
      "    │       │   ├── 0\n",
      "    │       │   │   └── \u001b[4mMeasurementData\u001b[0m\n",
      "    │       │   │       ├── \u001b[94mid\u001b[0m = measurementdata0\n",
      "    │       │   │       ├── \u001b[94minit_conc\u001b[0m = 100.0\n",
      "    │       │   │       ├── \u001b[94munit\u001b[0m = mmol / l\n",
      "    │       │   │       ├── \u001b[94mmeasurement_id\u001b[0m = measurement0\n",
      "    │       │   │       └── \u001b[94mspecies_id\u001b[0m = s1\n",
      "    │       │   ├── 1\n",
      "    │       │   │   └── \u001b[4mMeasurementData\u001b[0m\n",
      "    │       │   │       ├── \u001b[94mid\u001b[0m = measurementdata1\n",
      "    │       │   │       ├── \u001b[94minit_conc\u001b[0m = 5.0\n",
      "    │       │   │       ├── \u001b[94munit\u001b[0m = umol / l\n",
      "    │       │   │       ├── \u001b[94mmeasurement_id\u001b[0m = measurement0\n",
      "    │       │   │       ├── \u001b[94mspecies_id\u001b[0m = s0\n",
      "    │       │   │       └── \u001b[94mreplicates\u001b[0m\n",
      "    │       │   │           ├── 0\n",
      "    │       │   │           │   └── \u001b[4mReplicate\u001b[0m\n",
      "    │       │   │           │       ├── \u001b[94mid\u001b[0m = A2\n",
      "    │       │   │           │       ├── \u001b[94mspecies_id\u001b[0m = s0\n",
      "    │       │   │           │       ├── \u001b[94mmeasurement_id\u001b[0m = measurement0\n",
      "    │       │   │           │       ├── \u001b[94mdata_type\u001b[0m = conc\n",
      "    │       │   │           │       ├── \u001b[94mdata_unit\u001b[0m = umol / l\n",
      "    │       │   │           │       ├── \u001b[94mtime_unit\u001b[0m = min\n",
      "    │       │   │           │       ├── \u001b[94mtime\u001b[0m = [0.0, 0.5, 1.0, 1.5, 2.0, ...]\n",
      "    │       │   │           │       ├── \u001b[94mdata\u001b[0m = [nan, nan, nan, nan, nan, ...]\n",
      "    │       │   │           │       └── \u001b[94mis_calculated\u001b[0m = False\n",
      "    │       │   │           ├── 1\n",
      "    │       │   │           │   └── \u001b[4mReplicate\u001b[0m\n",
      "    │       │   │           │       ├── \u001b[94mid\u001b[0m = B2\n",
      "    │       │   │           │       ├── \u001b[94mspecies_id\u001b[0m = s0\n",
      "    │       │   │           │       ├── \u001b[94mmeasurement_id\u001b[0m = measurement0\n",
      "    │       │   │           │       ├── \u001b[94mdata_type\u001b[0m = conc\n",
      "    │       │   │           │       ├── \u001b[94mdata_unit\u001b[0m = umol / l\n",
      "    │       │   │           │       ├── \u001b[94mtime_unit\u001b[0m = min\n",
      "    │       │   │           │       ├── \u001b[94mtime\u001b[0m = [0.0, 0.5, 1.0, 1.5, 2.0, ...]\n",
      "    │       │   │           │       ├── \u001b[94mdata\u001b[0m = [nan, nan, nan, nan, nan, ...]\n",
      "    │       │   │           │       └── \u001b[94mis_calculated\u001b[0m = False\n",
      "    │       │   │           └── 2\n",
      "    │       │   │               └── \u001b[4mReplicate\u001b[0m\n",
      "    │       │   │                   ├── \u001b[94mid\u001b[0m = C2\n",
      "    │       │   │                   ├── \u001b[94mspecies_id\u001b[0m = s0\n",
      "    │       │   │                   ├── \u001b[94mmeasurement_id\u001b[0m = measurement0\n",
      "    │       │   │                   ├── \u001b[94mdata_type\u001b[0m = conc\n",
      "    │       │   │                   ├── \u001b[94mdata_unit\u001b[0m = umol / l\n",
      "    │       │   │                   ├── \u001b[94mtime_unit\u001b[0m = min\n",
      "    │       │   │                   ├── \u001b[94mtime\u001b[0m = [0.0, 0.5, 1.0, 1.5, 2.0, ...]\n",
      "    │       │   │                   ├── \u001b[94mdata\u001b[0m = [nan, nan, nan, nan, nan, ...]\n",
      "    │       │   │                   └── \u001b[94mis_calculated\u001b[0m = False\n",
      "    │       │   ├── 2\n",
      "    │       │   │   └── \u001b[4mMeasurementData\u001b[0m\n",
      "    │       │   │       ├── \u001b[94mid\u001b[0m = measurementdata2\n",
      "    │       │   │       ├── \u001b[94minit_conc\u001b[0m = 4.0\n",
      "    │       │   │       ├── \u001b[94munit\u001b[0m = umol / l\n",
      "    │       │   │       ├── \u001b[94mmeasurement_id\u001b[0m = measurement0\n",
      "    │       │   │       └── \u001b[94mspecies_id\u001b[0m = p0\n",
      "    │       │   └── 3\n",
      "    │       │       └── \u001b[4mMeasurementData\u001b[0m\n",
      "    │       │           ├── \u001b[94mid\u001b[0m = measurementdata3\n",
      "    │       │           ├── \u001b[94minit_conc\u001b[0m = 0.0\n",
      "    │       │           ├── \u001b[94munit\u001b[0m = umol / l\n",
      "    │       │           ├── \u001b[94mmeasurement_id\u001b[0m = measurement0\n",
      "    │       │           └── \u001b[94mspecies_id\u001b[0m = s2\n",
      "    │       ├── \u001b[94mglobal_time\u001b[0m = [0.0, 0.5, 1.0, 1.5, 2.0, ...]\n",
      "    │       └── \u001b[94mglobal_time_unit\u001b[0m = min\n",
      "    ├── 1\n",
      "    │   └── \u001b[4mMeasurement\u001b[0m\n",
      "    │       ├── \u001b[94mid\u001b[0m = measurement1\n",
      "    │       ├── \u001b[94mname\u001b[0m = ABTS 10.0 umol / l\n",
      "    │       ├── \u001b[94mtemperature\u001b[0m = 35.0\n",
      "    │       ├── \u001b[94mtemperature_unit\u001b[0m = C\n",
      "    │       ├── \u001b[94mph\u001b[0m = 3.5\n",
      "    │       ├── \u001b[94mspecies\u001b[0m\n",
      "    │       │   ├── 0\n",
      "    │       │   │   └── \u001b[4mMeasurementData\u001b[0m\n",
      "    │       │   │       ├── \u001b[94mid\u001b[0m = measurementdata4\n",
      "    │       │   │       ├── \u001b[94minit_conc\u001b[0m = 100.0\n",
      "    │       │   │       ├── \u001b[94munit\u001b[0m = mmol / l\n",
      "    │       │   │       ├── \u001b[94mmeasurement_id\u001b[0m = measurement1\n",
      "    │       │   │       └── \u001b[94mspecies_id\u001b[0m = s1\n",
      "    │       │   ├── 1\n",
      "    │       │   │   └── \u001b[4mMeasurementData\u001b[0m\n",
      "    │       │   │       ├── \u001b[94mid\u001b[0m = measurementdata5\n",
      "    │       │   │       ├── \u001b[94minit_conc\u001b[0m = 10.0\n",
      "    │       │   │       ├── \u001b[94munit\u001b[0m = umol / l\n",
      "    │       │   │       ├── \u001b[94mmeasurement_id\u001b[0m = measurement1\n",
      "    │       │   │       ├── \u001b[94mspecies_id\u001b[0m = s0\n",
      "    │       │   │       └── \u001b[94mreplicates\u001b[0m\n",
      "    │       │   │           ├── 0\n",
      "    │       │   │           │   └── \u001b[4mReplicate\u001b[0m\n",
      "    │       │   │           │       ├── \u001b[94mid\u001b[0m = A3\n",
      "    │       │   │           │       ├── \u001b[94mspecies_id\u001b[0m = s0\n",
      "    │       │   │           │       ├── \u001b[94mmeasurement_id\u001b[0m = measurement1\n",
      "    │       │   │           │       ├── \u001b[94mdata_type\u001b[0m = conc\n",
      "    │       │   │           │       ├── \u001b[94mdata_unit\u001b[0m = umol / l\n",
      "    │       │   │           │       ├── \u001b[94mtime_unit\u001b[0m = min\n",
      "    │       │   │           │       ├── \u001b[94mtime\u001b[0m = [0.0, 0.5, 1.0, 1.5, 2.0, ...]\n",
      "    │       │   │           │       ├── \u001b[94mdata\u001b[0m = [6.208641481616965, 5.661590446378098, 5.220920628725438, nan, 5.011783392628874, ...]\n",
      "    │       │   │           │       └── \u001b[94mis_calculated\u001b[0m = False\n",
      "    │       │   │           ├── 1\n",
      "    │       │   │           │   └── \u001b[4mReplicate\u001b[0m\n",
      "    │       │   │           │       ├── \u001b[94mid\u001b[0m = B3\n",
      "    │       │   │           │       ├── \u001b[94mspecies_id\u001b[0m = s0\n",
      "    │       │   │           │       ├── \u001b[94mmeasurement_id\u001b[0m = measurement1\n",
      "    │       │   │           │       ├── \u001b[94mdata_type\u001b[0m = conc\n",
      "    │       │   │           │       ├── \u001b[94mdata_unit\u001b[0m = umol / l\n",
      "    │       │   │           │       ├── \u001b[94mtime_unit\u001b[0m = min\n",
      "    │       │   │           │       ├── \u001b[94mtime\u001b[0m = [0.0, 0.5, 1.0, 1.5, 2.0, ...]\n",
      "    │       │   │           │       ├── \u001b[94mdata\u001b[0m = [7.248928628791355, 6.679046389093923, 6.420425316989552, 6.230505340770104, 6.6446439633852785, ...]\n",
      "    │       │   │           │       └── \u001b[94mis_calculated\u001b[0m = False\n",
      "    │       │   │           └── 2\n",
      "    │       │   │               └── \u001b[4mReplicate\u001b[0m\n",
      "    │       │   │                   ├── \u001b[94mid\u001b[0m = C3\n",
      "    │       │   │                   ├── \u001b[94mspecies_id\u001b[0m = s0\n",
      "    │       │   │                   ├── \u001b[94mmeasurement_id\u001b[0m = measurement1\n",
      "    │       │   │                   ├── \u001b[94mdata_type\u001b[0m = conc\n",
      "    │       │   │                   ├── \u001b[94mdata_unit\u001b[0m = umol / l\n",
      "    │       │   │                   ├── \u001b[94mtime_unit\u001b[0m = min\n",
      "    │       │   │                   ├── \u001b[94mtime\u001b[0m = [0.0, 0.5, 1.0, 1.5, 2.0, ...]\n",
      "    │       │   │                   ├── \u001b[94mdata\u001b[0m = [8.4974657237471, 8.129318159597037, 8.018564058476638, 7.919008290518246, 7.89973860970437, ...]\n",
      "    │       │   │                   └── \u001b[94mis_calculated\u001b[0m = False\n",
      "    │       │   ├── 2\n",
      "    │       │   │   └── \u001b[4mMeasurementData\u001b[0m\n",
      "    │       │   │       ├── \u001b[94mid\u001b[0m = measurementdata6\n",
      "    │       │   │       ├── \u001b[94minit_conc\u001b[0m = 4.0\n",
      "    │       │   │       ├── \u001b[94munit\u001b[0m = umol / l\n",
      "    │       │   │       ├── \u001b[94mmeasurement_id\u001b[0m = measurement1\n",
      "    │       │   │       └── \u001b[94mspecies_id\u001b[0m = p0\n",
      "    │       │   └── 3\n",
      "    │       │       └── \u001b[4mMeasurementData\u001b[0m\n",
      "    │       │           ├── \u001b[94mid\u001b[0m = measurementdata7\n",
      "    │       │           ├── \u001b[94minit_conc\u001b[0m = 0.0\n",
      "    │       │           ├── \u001b[94munit\u001b[0m = umol / l\n",
      "    │       │           ├── \u001b[94mmeasurement_id\u001b[0m = measurement1\n",
      "    │       │           └── \u001b[94mspecies_id\u001b[0m = s2\n",
      "    │       ├── \u001b[94mglobal_time\u001b[0m = [0.0, 0.5, 1.0, 1.5, 2.0, ...]\n",
      "    │       └── \u001b[94mglobal_time_unit\u001b[0m = min\n",
      "    ├── 2\n",
      "    │   └── \u001b[4mMeasurement\u001b[0m\n",
      "    │       ├── \u001b[94mid\u001b[0m = measurement2\n",
      "    │       ├── \u001b[94mname\u001b[0m = ABTS 15.0 umol / l\n",
      "    │       ├── \u001b[94mtemperature\u001b[0m = 35.0\n",
      "    │       ├── \u001b[94mtemperature_unit\u001b[0m = C\n",
      "    │       ├── \u001b[94mph\u001b[0m = 3.5\n",
      "    │       ├── \u001b[94mspecies\u001b[0m\n",
      "    │       │   ├── 0\n",
      "    │       │   │   └── \u001b[4mMeasurementData\u001b[0m\n",
      "    │       │   │       ├── \u001b[94mid\u001b[0m = measurementdata8\n",
      "    │       │   │       ├── \u001b[94minit_conc\u001b[0m = 100.0\n",
      "    │       │   │       ├── \u001b[94munit\u001b[0m = mmol / l\n",
      "    │       │   │       ├── \u001b[94mmeasurement_id\u001b[0m = measurement2\n",
      "    │       │   │       └── \u001b[94mspecies_id\u001b[0m = s1\n",
      "    │       │   ├── 1\n",
      "    │       │   │   └── \u001b[4mMeasurementData\u001b[0m\n",
      "    │       │   │       ├── \u001b[94mid\u001b[0m = measurementdata9\n",
      "    │       │   │       ├── \u001b[94minit_conc\u001b[0m = 15.0\n",
      "    │       │   │       ├── \u001b[94munit\u001b[0m = umol / l\n",
      "    │       │   │       ├── \u001b[94mmeasurement_id\u001b[0m = measurement2\n",
      "    │       │   │       ├── \u001b[94mspecies_id\u001b[0m = s0\n",
      "    │       │   │       └── \u001b[94mreplicates\u001b[0m\n",
      "    │       │   │           ├── 0\n",
      "    │       │   │           │   └── \u001b[4mReplicate\u001b[0m\n",
      "    │       │   │           │       ├── \u001b[94mid\u001b[0m = A4\n",
      "    │       │   │           │       ├── \u001b[94mspecies_id\u001b[0m = s0\n",
      "    │       │   │           │       ├── \u001b[94mmeasurement_id\u001b[0m = measurement2\n",
      "    │       │   │           │       ├── \u001b[94mdata_type\u001b[0m = conc\n",
      "    │       │   │           │       ├── \u001b[94mdata_unit\u001b[0m = umol / l\n",
      "    │       │   │           │       ├── \u001b[94mtime_unit\u001b[0m = min\n",
      "    │       │   │           │       ├── \u001b[94mtime\u001b[0m = [0.0, 0.5, 1.0, 1.5, 2.0, ...]\n",
      "    │       │   │           │       ├── \u001b[94mdata\u001b[0m = [11.456077147521805, 10.191136915420746, 9.618107529530473, 9.440706483412187, 9.300341878066595, ...]\n",
      "    │       │   │           │       └── \u001b[94mis_calculated\u001b[0m = False\n",
      "    │       │   │           ├── 1\n",
      "    │       │   │           │   └── \u001b[4mReplicate\u001b[0m\n",
      "    │       │   │           │       ├── \u001b[94mid\u001b[0m = B4\n",
      "    │       │   │           │       ├── \u001b[94mspecies_id\u001b[0m = s0\n",
      "    │       │   │           │       ├── \u001b[94mmeasurement_id\u001b[0m = measurement2\n",
      "    │       │   │           │       ├── \u001b[94mdata_type\u001b[0m = conc\n",
      "    │       │   │           │       ├── \u001b[94mdata_unit\u001b[0m = umol / l\n",
      "    │       │   │           │       ├── \u001b[94mtime_unit\u001b[0m = min\n",
      "    │       │   │           │       ├── \u001b[94mtime\u001b[0m = [0.0, 0.5, 1.0, 1.5, 2.0, ...]\n",
      "    │       │   │           │       ├── \u001b[94mdata\u001b[0m = [12.804050953388723, 12.016509950570482, 11.472904622696364, 11.21197033360411, 11.242410032781459, ...]\n",
      "    │       │   │           │       └── \u001b[94mis_calculated\u001b[0m = False\n",
      "    │       │   │           └── 2\n",
      "    │       │   │               └── \u001b[4mReplicate\u001b[0m\n",
      "    │       │   │                   ├── \u001b[94mid\u001b[0m = C4\n",
      "    │       │   │                   ├── \u001b[94mspecies_id\u001b[0m = s0\n",
      "    │       │   │                   ├── \u001b[94mmeasurement_id\u001b[0m = measurement2\n",
      "    │       │   │                   ├── \u001b[94mdata_type\u001b[0m = conc\n",
      "    │       │   │                   ├── \u001b[94mdata_unit\u001b[0m = umol / l\n",
      "    │       │   │                   ├── \u001b[94mtime_unit\u001b[0m = min\n",
      "    │       │   │                   ├── \u001b[94mtime\u001b[0m = [0.0, 0.5, 1.0, 1.5, 2.0, ...]\n",
      "    │       │   │                   ├── \u001b[94mdata\u001b[0m = [13.14975941420962, 12.43494694598368, 12.094418839516662, 12.327280510463845, 12.214324946094308, ...]\n",
      "    │       │   │                   └── \u001b[94mis_calculated\u001b[0m = False\n",
      "    │       │   ├── 2\n",
      "    │       │   │   └── \u001b[4mMeasurementData\u001b[0m\n",
      "    │       │   │       ├── \u001b[94mid\u001b[0m = measurementdata10\n",
      "    │       │   │       ├── \u001b[94minit_conc\u001b[0m = 4.0\n",
      "    │       │   │       ├── \u001b[94munit\u001b[0m = umol / l\n",
      "    │       │   │       ├── \u001b[94mmeasurement_id\u001b[0m = measurement2\n",
      "    │       │   │       └── \u001b[94mspecies_id\u001b[0m = p0\n",
      "    │       │   └── 3\n",
      "    │       │       └── \u001b[4mMeasurementData\u001b[0m\n",
      "    │       │           ├── \u001b[94mid\u001b[0m = measurementdata11\n",
      "    │       │           ├── \u001b[94minit_conc\u001b[0m = 0.0\n",
      "    │       │           ├── \u001b[94munit\u001b[0m = umol / l\n",
      "    │       │           ├── \u001b[94mmeasurement_id\u001b[0m = measurement2\n",
      "    │       │           └── \u001b[94mspecies_id\u001b[0m = s2\n",
      "    │       ├── \u001b[94mglobal_time\u001b[0m = [0.0, 0.5, 1.0, 1.5, 2.0, ...]\n",
      "    │       └── \u001b[94mglobal_time_unit\u001b[0m = min\n",
      "    ├── 3\n",
      "    │   └── \u001b[4mMeasurement\u001b[0m\n",
      "    │       ├── \u001b[94mid\u001b[0m = measurement3\n",
      "    │       ├── \u001b[94mname\u001b[0m = ABTS 25.0 umol / l\n",
      "    │       ├── \u001b[94mtemperature\u001b[0m = 35.0\n",
      "    │       ├── \u001b[94mtemperature_unit\u001b[0m = C\n",
      "    │       ├── \u001b[94mph\u001b[0m = 3.5\n",
      "    │       ├── \u001b[94mspecies\u001b[0m\n",
      "    │       │   ├── 0\n",
      "    │       │   │   └── \u001b[4mMeasurementData\u001b[0m\n",
      "    │       │   │       ├── \u001b[94mid\u001b[0m = measurementdata12\n",
      "    │       │   │       ├── \u001b[94minit_conc\u001b[0m = 100.0\n",
      "    │       │   │       ├── \u001b[94munit\u001b[0m = mmol / l\n",
      "    │       │   │       ├── \u001b[94mmeasurement_id\u001b[0m = measurement3\n",
      "    │       │   │       └── \u001b[94mspecies_id\u001b[0m = s1\n",
      "    │       │   ├── 1\n",
      "    │       │   │   └── \u001b[4mMeasurementData\u001b[0m\n",
      "    │       │   │       ├── \u001b[94mid\u001b[0m = measurementdata13\n",
      "    │       │   │       ├── \u001b[94minit_conc\u001b[0m = 25.0\n",
      "    │       │   │       ├── \u001b[94munit\u001b[0m = umol / l\n",
      "    │       │   │       ├── \u001b[94mmeasurement_id\u001b[0m = measurement3\n",
      "    │       │   │       ├── \u001b[94mspecies_id\u001b[0m = s0\n",
      "    │       │   │       └── \u001b[94mreplicates\u001b[0m\n",
      "    │       │   │           ├── 0\n",
      "    │       │   │           │   └── \u001b[4mReplicate\u001b[0m\n",
      "    │       │   │           │       ├── \u001b[94mid\u001b[0m = A5\n",
      "    │       │   │           │       ├── \u001b[94mspecies_id\u001b[0m = s0\n",
      "    │       │   │           │       ├── \u001b[94mmeasurement_id\u001b[0m = measurement3\n",
      "    │       │   │           │       ├── \u001b[94mdata_type\u001b[0m = conc\n",
      "    │       │   │           │       ├── \u001b[94mdata_unit\u001b[0m = umol / l\n",
      "    │       │   │           │       ├── \u001b[94mtime_unit\u001b[0m = min\n",
      "    │       │   │           │       ├── \u001b[94mtime\u001b[0m = [0.0, 0.5, 1.0, 1.5, 2.0, ...]\n",
      "    │       │   │           │       ├── \u001b[94mdata\u001b[0m = [19.983898764297273, 19.294224871740745, 18.571680582925328, 18.30067589873993, 17.962136975916163, ...]\n",
      "    │       │   │           │       └── \u001b[94mis_calculated\u001b[0m = False\n",
      "    │       │   │           ├── 1\n",
      "    │       │   │           │   └── \u001b[4mReplicate\u001b[0m\n",
      "    │       │   │           │       ├── \u001b[94mid\u001b[0m = B5\n",
      "    │       │   │           │       ├── \u001b[94mspecies_id\u001b[0m = s0\n",
      "    │       │   │           │       ├── \u001b[94mmeasurement_id\u001b[0m = measurement3\n",
      "    │       │   │           │       ├── \u001b[94mdata_type\u001b[0m = conc\n",
      "    │       │   │           │       ├── \u001b[94mdata_unit\u001b[0m = umol / l\n",
      "    │       │   │           │       ├── \u001b[94mtime_unit\u001b[0m = min\n",
      "    │       │   │           │       ├── \u001b[94mtime\u001b[0m = [0.0, 0.5, 1.0, 1.5, 2.0, ...]\n",
      "    │       │   │           │       ├── \u001b[94mdata\u001b[0m = [22.767165122728514, 21.670974463865946, 21.20764717910321, 21.330872761313348, 21.04971820628661, ...]\n",
      "    │       │   │           │       └── \u001b[94mis_calculated\u001b[0m = False\n",
      "    │       │   │           └── 2\n",
      "    │       │   │               └── \u001b[4mReplicate\u001b[0m\n",
      "    │       │   │                   ├── \u001b[94mid\u001b[0m = C5\n",
      "    │       │   │                   ├── \u001b[94mspecies_id\u001b[0m = s0\n",
      "    │       │   │                   ├── \u001b[94mmeasurement_id\u001b[0m = measurement3\n",
      "    │       │   │                   ├── \u001b[94mdata_type\u001b[0m = conc\n",
      "    │       │   │                   ├── \u001b[94mdata_unit\u001b[0m = umol / l\n",
      "    │       │   │                   ├── \u001b[94mtime_unit\u001b[0m = min\n",
      "    │       │   │                   ├── \u001b[94mtime\u001b[0m = [0.0, 0.5, 1.0, 1.5, 2.0, ...]\n",
      "    │       │   │                   ├── \u001b[94mdata\u001b[0m = [22.81391395870568, 21.722005314820642, 20.800072844616626, 20.964356577788553, 20.35969920961663, ...]\n",
      "    │       │   │                   └── \u001b[94mis_calculated\u001b[0m = False\n",
      "    │       │   ├── 2\n",
      "    │       │   │   └── \u001b[4mMeasurementData\u001b[0m\n",
      "    │       │   │       ├── \u001b[94mid\u001b[0m = measurementdata14\n",
      "    │       │   │       ├── \u001b[94minit_conc\u001b[0m = 4.0\n",
      "    │       │   │       ├── \u001b[94munit\u001b[0m = umol / l\n",
      "    │       │   │       ├── \u001b[94mmeasurement_id\u001b[0m = measurement3\n",
      "    │       │   │       └── \u001b[94mspecies_id\u001b[0m = p0\n",
      "    │       │   └── 3\n",
      "    │       │       └── \u001b[4mMeasurementData\u001b[0m\n",
      "    │       │           ├── \u001b[94mid\u001b[0m = measurementdata15\n",
      "    │       │           ├── \u001b[94minit_conc\u001b[0m = 0.0\n",
      "    │       │           ├── \u001b[94munit\u001b[0m = umol / l\n",
      "    │       │           ├── \u001b[94mmeasurement_id\u001b[0m = measurement3\n",
      "    │       │           └── \u001b[94mspecies_id\u001b[0m = s2\n",
      "    │       ├── \u001b[94mglobal_time\u001b[0m = [0.0, 0.5, 1.0, 1.5, 2.0, ...]\n",
      "    │       └── \u001b[94mglobal_time_unit\u001b[0m = min\n",
      "    ├── 4\n",
      "    │   └── \u001b[4mMeasurement\u001b[0m\n",
      "    │       ├── \u001b[94mid\u001b[0m = measurement4\n",
      "    │       ├── \u001b[94mname\u001b[0m = ABTS 50.0 umol / l\n",
      "    │       ├── \u001b[94mtemperature\u001b[0m = 35.0\n",
      "    │       ├── \u001b[94mtemperature_unit\u001b[0m = C\n",
      "    │       ├── \u001b[94mph\u001b[0m = 3.5\n",
      "    │       ├── \u001b[94mspecies\u001b[0m\n",
      "    │       │   ├── 0\n",
      "    │       │   │   └── \u001b[4mMeasurementData\u001b[0m\n",
      "    │       │   │       ├── \u001b[94mid\u001b[0m = measurementdata16\n",
      "    │       │   │       ├── \u001b[94minit_conc\u001b[0m = 100.0\n",
      "    │       │   │       ├── \u001b[94munit\u001b[0m = mmol / l\n",
      "    │       │   │       ├── \u001b[94mmeasurement_id\u001b[0m = measurement4\n",
      "    │       │   │       └── \u001b[94mspecies_id\u001b[0m = s1\n",
      "    │       │   ├── 1\n",
      "    │       │   │   └── \u001b[4mMeasurementData\u001b[0m\n",
      "    │       │   │       ├── \u001b[94mid\u001b[0m = measurementdata17\n",
      "    │       │   │       ├── \u001b[94minit_conc\u001b[0m = 50.0\n",
      "    │       │   │       ├── \u001b[94munit\u001b[0m = umol / l\n",
      "    │       │   │       ├── \u001b[94mmeasurement_id\u001b[0m = measurement4\n",
      "    │       │   │       ├── \u001b[94mspecies_id\u001b[0m = s0\n",
      "    │       │   │       └── \u001b[94mreplicates\u001b[0m\n",
      "    │       │   │           ├── 0\n",
      "    │       │   │           │   └── \u001b[4mReplicate\u001b[0m\n",
      "    │       │   │           │       ├── \u001b[94mid\u001b[0m = A6\n",
      "    │       │   │           │       ├── \u001b[94mspecies_id\u001b[0m = s0\n",
      "    │       │   │           │       ├── \u001b[94mmeasurement_id\u001b[0m = measurement4\n",
      "    │       │   │           │       ├── \u001b[94mdata_type\u001b[0m = conc\n",
      "    │       │   │           │       ├── \u001b[94mdata_unit\u001b[0m = umol / l\n",
      "    │       │   │           │       ├── \u001b[94mtime_unit\u001b[0m = min\n",
      "    │       │   │           │       ├── \u001b[94mtime\u001b[0m = [0.0, 0.5, 1.0, 1.5, 2.0, ...]\n",
      "    │       │   │           │       ├── \u001b[94mdata\u001b[0m = [42.95589436063002, 40.98083813780145, 39.522454458862775, 38.45746936410331, 37.322437168270575, ...]\n",
      "    │       │   │           │       └── \u001b[94mis_calculated\u001b[0m = False\n",
      "    │       │   │           ├── 1\n",
      "    │       │   │           │   └── \u001b[4mReplicate\u001b[0m\n",
      "    │       │   │           │       ├── \u001b[94mid\u001b[0m = B6\n",
      "    │       │   │           │       ├── \u001b[94mspecies_id\u001b[0m = s0\n",
      "    │       │   │           │       ├── \u001b[94mmeasurement_id\u001b[0m = measurement4\n",
      "    │       │   │           │       ├── \u001b[94mdata_type\u001b[0m = conc\n",
      "    │       │   │           │       ├── \u001b[94mdata_unit\u001b[0m = umol / l\n",
      "    │       │   │           │       ├── \u001b[94mtime_unit\u001b[0m = min\n",
      "    │       │   │           │       ├── \u001b[94mtime\u001b[0m = [0.0, 0.5, 1.0, 1.5, 2.0, ...]\n",
      "    │       │   │           │       ├── \u001b[94mdata\u001b[0m = [44.70702058530642, 42.851666031147225, 41.15061363353041, 40.12672400748463, 39.2359808830228, ...]\n",
      "    │       │   │           │       └── \u001b[94mis_calculated\u001b[0m = False\n",
      "    │       │   │           └── 2\n",
      "    │       │   │               └── \u001b[4mReplicate\u001b[0m\n",
      "    │       │   │                   ├── \u001b[94mid\u001b[0m = C6\n",
      "    │       │   │                   ├── \u001b[94mspecies_id\u001b[0m = s0\n",
      "    │       │   │                   ├── \u001b[94mmeasurement_id\u001b[0m = measurement4\n",
      "    │       │   │                   ├── \u001b[94mdata_type\u001b[0m = conc\n",
      "    │       │   │                   ├── \u001b[94mdata_unit\u001b[0m = umol / l\n",
      "    │       │   │                   ├── \u001b[94mtime_unit\u001b[0m = min\n",
      "    │       │   │                   ├── \u001b[94mtime\u001b[0m = [0.0, 0.5, 1.0, 1.5, 2.0, ...]\n",
      "    │       │   │                   ├── \u001b[94mdata\u001b[0m = [45.531788678120726, 43.385582789257455, 41.88380164567237, 40.8127156826679, 39.79985991705228, ...]\n",
      "    │       │   │                   └── \u001b[94mis_calculated\u001b[0m = False\n",
      "    │       │   ├── 2\n",
      "    │       │   │   └── \u001b[4mMeasurementData\u001b[0m\n",
      "    │       │   │       ├── \u001b[94mid\u001b[0m = measurementdata18\n",
      "    │       │   │       ├── \u001b[94minit_conc\u001b[0m = 4.0\n",
      "    │       │   │       ├── \u001b[94munit\u001b[0m = umol / l\n",
      "    │       │   │       ├── \u001b[94mmeasurement_id\u001b[0m = measurement4\n",
      "    │       │   │       └── \u001b[94mspecies_id\u001b[0m = p0\n",
      "    │       │   └── 3\n",
      "    │       │       └── \u001b[4mMeasurementData\u001b[0m\n",
      "    │       │           ├── \u001b[94mid\u001b[0m = measurementdata19\n",
      "    │       │           ├── \u001b[94minit_conc\u001b[0m = 0.0\n",
      "    │       │           ├── \u001b[94munit\u001b[0m = umol / l\n",
      "    │       │           ├── \u001b[94mmeasurement_id\u001b[0m = measurement4\n",
      "    │       │           └── \u001b[94mspecies_id\u001b[0m = s2\n",
      "    │       ├── \u001b[94mglobal_time\u001b[0m = [0.0, 0.5, 1.0, 1.5, 2.0, ...]\n",
      "    │       └── \u001b[94mglobal_time_unit\u001b[0m = min\n",
      "    ├── 5\n",
      "    │   └── \u001b[4mMeasurement\u001b[0m\n",
      "    │       ├── \u001b[94mid\u001b[0m = measurement5\n",
      "    │       ├── \u001b[94mname\u001b[0m = ABTS 75.0 umol / l\n",
      "    │       ├── \u001b[94mtemperature\u001b[0m = 35.0\n",
      "    │       ├── \u001b[94mtemperature_unit\u001b[0m = C\n",
      "    │       ├── \u001b[94mph\u001b[0m = 3.5\n",
      "    │       ├── \u001b[94mspecies\u001b[0m\n",
      "    │       │   ├── 0\n",
      "    │       │   │   └── \u001b[4mMeasurementData\u001b[0m\n",
      "    │       │   │       ├── \u001b[94mid\u001b[0m = measurementdata20\n",
      "    │       │   │       ├── \u001b[94minit_conc\u001b[0m = 100.0\n",
      "    │       │   │       ├── \u001b[94munit\u001b[0m = mmol / l\n",
      "    │       │   │       ├── \u001b[94mmeasurement_id\u001b[0m = measurement5\n",
      "    │       │   │       └── \u001b[94mspecies_id\u001b[0m = s1\n",
      "    │       │   ├── 1\n",
      "    │       │   │   └── \u001b[4mMeasurementData\u001b[0m\n",
      "    │       │   │       ├── \u001b[94mid\u001b[0m = measurementdata21\n",
      "    │       │   │       ├── \u001b[94minit_conc\u001b[0m = 75.0\n",
      "    │       │   │       ├── \u001b[94munit\u001b[0m = umol / l\n",
      "    │       │   │       ├── \u001b[94mmeasurement_id\u001b[0m = measurement5\n",
      "    │       │   │       ├── \u001b[94mspecies_id\u001b[0m = s0\n",
      "    │       │   │       └── \u001b[94mreplicates\u001b[0m\n",
      "    │       │   │           ├── 0\n",
      "    │       │   │           │   └── \u001b[4mReplicate\u001b[0m\n",
      "    │       │   │           │       ├── \u001b[94mid\u001b[0m = A7\n",
      "    │       │   │           │       ├── \u001b[94mspecies_id\u001b[0m = s0\n",
      "    │       │   │           │       ├── \u001b[94mmeasurement_id\u001b[0m = measurement5\n",
      "    │       │   │           │       ├── \u001b[94mdata_type\u001b[0m = conc\n",
      "    │       │   │           │       ├── \u001b[94mdata_unit\u001b[0m = umol / l\n",
      "    │       │   │           │       ├── \u001b[94mtime_unit\u001b[0m = min\n",
      "    │       │   │           │       ├── \u001b[94mtime\u001b[0m = [0.0, 0.5, 1.0, 1.5, 2.0, ...]\n",
      "    │       │   │           │       ├── \u001b[94mdata\u001b[0m = [60.15588933627623, 56.73920525853246, 54.304480647149745, 52.746202828291295, 50.417131627872536, ...]\n",
      "    │       │   │           │       └── \u001b[94mis_calculated\u001b[0m = False\n",
      "    │       │   │           ├── 1\n",
      "    │       │   │           │   └── \u001b[4mReplicate\u001b[0m\n",
      "    │       │   │           │       ├── \u001b[94mid\u001b[0m = B7\n",
      "    │       │   │           │       ├── \u001b[94mspecies_id\u001b[0m = s0\n",
      "    │       │   │           │       ├── \u001b[94mmeasurement_id\u001b[0m = measurement5\n",
      "    │       │   │           │       ├── \u001b[94mdata_type\u001b[0m = conc\n",
      "    │       │   │           │       ├── \u001b[94mdata_unit\u001b[0m = umol / l\n",
      "    │       │   │           │       ├── \u001b[94mtime_unit\u001b[0m = min\n",
      "    │       │   │           │       ├── \u001b[94mtime\u001b[0m = [0.0, 0.5, 1.0, 1.5, 2.0, ...]\n",
      "    │       │   │           │       ├── \u001b[94mdata\u001b[0m = [64.13733581085289, 60.711296328521044, 58.09905085237615, 56.10423101264225, 54.391170453324335, ...]\n",
      "    │       │   │           │       └── \u001b[94mis_calculated\u001b[0m = False\n",
      "    │       │   │           └── 2\n",
      "    │       │   │               └── \u001b[4mReplicate\u001b[0m\n",
      "    │       │   │                   ├── \u001b[94mid\u001b[0m = C7\n",
      "    │       │   │                   ├── \u001b[94mspecies_id\u001b[0m = s0\n",
      "    │       │   │                   ├── \u001b[94mmeasurement_id\u001b[0m = measurement5\n",
      "    │       │   │                   ├── \u001b[94mdata_type\u001b[0m = conc\n",
      "    │       │   │                   ├── \u001b[94mdata_unit\u001b[0m = umol / l\n",
      "    │       │   │                   ├── \u001b[94mtime_unit\u001b[0m = min\n",
      "    │       │   │                   ├── \u001b[94mtime\u001b[0m = [0.0, 0.5, 1.0, 1.5, 2.0, ...]\n",
      "    │       │   │                   ├── \u001b[94mdata\u001b[0m = [63.424336679852466, 59.606416739452044, 57.050292400469985, 54.87604631948443, 53.30027370307302, ...]\n",
      "    │       │   │                   └── \u001b[94mis_calculated\u001b[0m = False\n",
      "    │       │   ├── 2\n",
      "    │       │   │   └── \u001b[4mMeasurementData\u001b[0m\n",
      "    │       │   │       ├── \u001b[94mid\u001b[0m = measurementdata22\n",
      "    │       │   │       ├── \u001b[94minit_conc\u001b[0m = 4.0\n",
      "    │       │   │       ├── \u001b[94munit\u001b[0m = umol / l\n",
      "    │       │   │       ├── \u001b[94mmeasurement_id\u001b[0m = measurement5\n",
      "    │       │   │       └── \u001b[94mspecies_id\u001b[0m = p0\n",
      "    │       │   └── 3\n",
      "    │       │       └── \u001b[4mMeasurementData\u001b[0m\n",
      "    │       │           ├── \u001b[94mid\u001b[0m = measurementdata23\n",
      "    │       │           ├── \u001b[94minit_conc\u001b[0m = 0.0\n",
      "    │       │           ├── \u001b[94munit\u001b[0m = umol / l\n",
      "    │       │           ├── \u001b[94mmeasurement_id\u001b[0m = measurement5\n",
      "    │       │           └── \u001b[94mspecies_id\u001b[0m = s2\n",
      "    │       ├── \u001b[94mglobal_time\u001b[0m = [0.0, 0.5, 1.0, 1.5, 2.0, ...]\n",
      "    │       └── \u001b[94mglobal_time_unit\u001b[0m = min\n",
      "    ├── 6\n",
      "    │   └── \u001b[4mMeasurement\u001b[0m\n",
      "    │       ├── \u001b[94mid\u001b[0m = measurement6\n",
      "    │       ├── \u001b[94mname\u001b[0m = ABTS 100.0 umol / l\n",
      "    │       ├── \u001b[94mtemperature\u001b[0m = 35.0\n",
      "    │       ├── \u001b[94mtemperature_unit\u001b[0m = C\n",
      "    │       ├── \u001b[94mph\u001b[0m = 3.5\n",
      "    │       ├── \u001b[94mspecies\u001b[0m\n",
      "    │       │   ├── 0\n",
      "    │       │   │   └── \u001b[4mMeasurementData\u001b[0m\n",
      "    │       │   │       ├── \u001b[94mid\u001b[0m = measurementdata24\n",
      "    │       │   │       ├── \u001b[94minit_conc\u001b[0m = 100.0\n",
      "    │       │   │       ├── \u001b[94munit\u001b[0m = mmol / l\n",
      "    │       │   │       ├── \u001b[94mmeasurement_id\u001b[0m = measurement6\n",
      "    │       │   │       └── \u001b[94mspecies_id\u001b[0m = s1\n",
      "    │       │   ├── 1\n",
      "    │       │   │   └── \u001b[4mMeasurementData\u001b[0m\n",
      "    │       │   │       ├── \u001b[94mid\u001b[0m = measurementdata25\n",
      "    │       │   │       ├── \u001b[94minit_conc\u001b[0m = 100.0\n",
      "    │       │   │       ├── \u001b[94munit\u001b[0m = umol / l\n",
      "    │       │   │       ├── \u001b[94mmeasurement_id\u001b[0m = measurement6\n",
      "    │       │   │       ├── \u001b[94mspecies_id\u001b[0m = s0\n",
      "    │       │   │       └── \u001b[94mreplicates\u001b[0m\n",
      "    │       │   │           ├── 0\n",
      "    │       │   │           │   └── \u001b[4mReplicate\u001b[0m\n",
      "    │       │   │           │       ├── \u001b[94mid\u001b[0m = A8\n",
      "    │       │   │           │       ├── \u001b[94mspecies_id\u001b[0m = s0\n",
      "    │       │   │           │       ├── \u001b[94mmeasurement_id\u001b[0m = measurement6\n",
      "    │       │   │           │       ├── \u001b[94mdata_type\u001b[0m = conc\n",
      "    │       │   │           │       ├── \u001b[94mdata_unit\u001b[0m = umol / l\n",
      "    │       │   │           │       ├── \u001b[94mtime_unit\u001b[0m = min\n",
      "    │       │   │           │       ├── \u001b[94mtime\u001b[0m = [0.0, 0.5, 1.0, 1.5, 2.0, ...]\n",
      "    │       │   │           │       ├── \u001b[94mdata\u001b[0m = [87.59525896997557, 82.45050868576257, 78.4654489060498, 74.29630962238741, 72.52013579367878, ...]\n",
      "    │       │   │           │       └── \u001b[94mis_calculated\u001b[0m = False\n",
      "    │       │   │           ├── 1\n",
      "    │       │   │           │   └── \u001b[4mReplicate\u001b[0m\n",
      "    │       │   │           │       ├── \u001b[94mid\u001b[0m = B8\n",
      "    │       │   │           │       ├── \u001b[94mspecies_id\u001b[0m = s0\n",
      "    │       │   │           │       ├── \u001b[94mmeasurement_id\u001b[0m = measurement6\n",
      "    │       │   │           │       ├── \u001b[94mdata_type\u001b[0m = conc\n",
      "    │       │   │           │       ├── \u001b[94mdata_unit\u001b[0m = umol / l\n",
      "    │       │   │           │       ├── \u001b[94mtime_unit\u001b[0m = min\n",
      "    │       │   │           │       ├── \u001b[94mtime\u001b[0m = [0.0, 0.5, 1.0, 1.5, 2.0, ...]\n",
      "    │       │   │           │       ├── \u001b[94mdata\u001b[0m = [93.78146184932261, 87.2989727021304, 83.51289595804027, 80.94107010414073, 77.85646614229951, ...]\n",
      "    │       │   │           │       └── \u001b[94mis_calculated\u001b[0m = False\n",
      "    │       │   │           └── 2\n",
      "    │       │   │               └── \u001b[4mReplicate\u001b[0m\n",
      "    │       │   │                   ├── \u001b[94mid\u001b[0m = C8\n",
      "    │       │   │                   ├── \u001b[94mspecies_id\u001b[0m = s0\n",
      "    │       │   │                   ├── \u001b[94mmeasurement_id\u001b[0m = measurement6\n",
      "    │       │   │                   ├── \u001b[94mdata_type\u001b[0m = conc\n",
      "    │       │   │                   ├── \u001b[94mdata_unit\u001b[0m = umol / l\n",
      "    │       │   │                   ├── \u001b[94mtime_unit\u001b[0m = min\n",
      "    │       │   │                   ├── \u001b[94mtime\u001b[0m = [0.0, 0.5, 1.0, 1.5, 2.0, ...]\n",
      "    │       │   │                   ├── \u001b[94mdata\u001b[0m = [93.68830500552963, 87.18177086464088, 83.57544385447926, 80.45342536407611, 78.62087607941054, ...]\n",
      "    │       │   │                   └── \u001b[94mis_calculated\u001b[0m = False\n",
      "    │       │   ├── 2\n",
      "    │       │   │   └── \u001b[4mMeasurementData\u001b[0m\n",
      "    │       │   │       ├── \u001b[94mid\u001b[0m = measurementdata26\n",
      "    │       │   │       ├── \u001b[94minit_conc\u001b[0m = 4.0\n",
      "    │       │   │       ├── \u001b[94munit\u001b[0m = umol / l\n",
      "    │       │   │       ├── \u001b[94mmeasurement_id\u001b[0m = measurement6\n",
      "    │       │   │       └── \u001b[94mspecies_id\u001b[0m = p0\n",
      "    │       │   └── 3\n",
      "    │       │       └── \u001b[4mMeasurementData\u001b[0m\n",
      "    │       │           ├── \u001b[94mid\u001b[0m = measurementdata27\n",
      "    │       │           ├── \u001b[94minit_conc\u001b[0m = 0.0\n",
      "    │       │           ├── \u001b[94munit\u001b[0m = umol / l\n",
      "    │       │           ├── \u001b[94mmeasurement_id\u001b[0m = measurement6\n",
      "    │       │           └── \u001b[94mspecies_id\u001b[0m = s2\n",
      "    │       ├── \u001b[94mglobal_time\u001b[0m = [0.0, 0.5, 1.0, 1.5, 2.0, ...]\n",
      "    │       └── \u001b[94mglobal_time_unit\u001b[0m = min\n",
      "    ├── 7\n",
      "    │   └── \u001b[4mMeasurement\u001b[0m\n",
      "    │       ├── \u001b[94mid\u001b[0m = measurement7\n",
      "    │       ├── \u001b[94mname\u001b[0m = ABTS 150.0 umol / l\n",
      "    │       ├── \u001b[94mtemperature\u001b[0m = 35.0\n",
      "    │       ├── \u001b[94mtemperature_unit\u001b[0m = C\n",
      "    │       ├── \u001b[94mph\u001b[0m = 3.5\n",
      "    │       ├── \u001b[94mspecies\u001b[0m\n",
      "    │       │   ├── 0\n",
      "    │       │   │   └── \u001b[4mMeasurementData\u001b[0m\n",
      "    │       │   │       ├── \u001b[94mid\u001b[0m = measurementdata28\n",
      "    │       │   │       ├── \u001b[94minit_conc\u001b[0m = 100.0\n",
      "    │       │   │       ├── \u001b[94munit\u001b[0m = mmol / l\n",
      "    │       │   │       ├── \u001b[94mmeasurement_id\u001b[0m = measurement7\n",
      "    │       │   │       └── \u001b[94mspecies_id\u001b[0m = s1\n",
      "    │       │   ├── 1\n",
      "    │       │   │   └── \u001b[4mMeasurementData\u001b[0m\n",
      "    │       │   │       ├── \u001b[94mid\u001b[0m = measurementdata29\n",
      "    │       │   │       ├── \u001b[94minit_conc\u001b[0m = 150.0\n",
      "    │       │   │       ├── \u001b[94munit\u001b[0m = umol / l\n",
      "    │       │   │       ├── \u001b[94mmeasurement_id\u001b[0m = measurement7\n",
      "    │       │   │       ├── \u001b[94mspecies_id\u001b[0m = s0\n",
      "    │       │   │       └── \u001b[94mreplicates\u001b[0m\n",
      "    │       │   │           ├── 0\n",
      "    │       │   │           │   └── \u001b[4mReplicate\u001b[0m\n",
      "    │       │   │           │       ├── \u001b[94mid\u001b[0m = A9\n",
      "    │       │   │           │       ├── \u001b[94mspecies_id\u001b[0m = s0\n",
      "    │       │   │           │       ├── \u001b[94mmeasurement_id\u001b[0m = measurement7\n",
      "    │       │   │           │       ├── \u001b[94mdata_type\u001b[0m = conc\n",
      "    │       │   │           │       ├── \u001b[94mdata_unit\u001b[0m = umol / l\n",
      "    │       │   │           │       ├── \u001b[94mtime_unit\u001b[0m = min\n",
      "    │       │   │           │       ├── \u001b[94mtime\u001b[0m = [0.0, 0.5, 1.0, 1.5, 2.0, ...]\n",
      "    │       │   │           │       ├── \u001b[94mdata\u001b[0m = [116.16985894449118, 107.98265033842127, 102.69205012659056, 98.29212773005717, 95.26763637219531, ...]\n",
      "    │       │   │           │       └── \u001b[94mis_calculated\u001b[0m = False\n",
      "    │       │   │           ├── 1\n",
      "    │       │   │           │   └── \u001b[4mReplicate\u001b[0m\n",
      "    │       │   │           │       ├── \u001b[94mid\u001b[0m = B9\n",
      "    │       │   │           │       ├── \u001b[94mspecies_id\u001b[0m = s0\n",
      "    │       │   │           │       ├── \u001b[94mmeasurement_id\u001b[0m = measurement7\n",
      "    │       │   │           │       ├── \u001b[94mdata_type\u001b[0m = conc\n",
      "    │       │   │           │       ├── \u001b[94mdata_unit\u001b[0m = umol / l\n",
      "    │       │   │           │       ├── \u001b[94mtime_unit\u001b[0m = min\n",
      "    │       │   │           │       ├── \u001b[94mtime\u001b[0m = [0.0, 0.5, 1.0, 1.5, 2.0, ...]\n",
      "    │       │   │           │       ├── \u001b[94mdata\u001b[0m = [122.69736931744862, 113.04463306009062, 106.57432425442063, 103.06463736724902, 96.54847598622352, ...]\n",
      "    │       │   │           │       └── \u001b[94mis_calculated\u001b[0m = False\n",
      "    │       │   │           └── 2\n",
      "    │       │   │               └── \u001b[4mReplicate\u001b[0m\n",
      "    │       │   │                   ├── \u001b[94mid\u001b[0m = C9\n",
      "    │       │   │                   ├── \u001b[94mspecies_id\u001b[0m = s0\n",
      "    │       │   │                   ├── \u001b[94mmeasurement_id\u001b[0m = measurement7\n",
      "    │       │   │                   ├── \u001b[94mdata_type\u001b[0m = conc\n",
      "    │       │   │                   ├── \u001b[94mdata_unit\u001b[0m = umol / l\n",
      "    │       │   │                   ├── \u001b[94mtime_unit\u001b[0m = min\n",
      "    │       │   │                   ├── \u001b[94mtime\u001b[0m = [0.0, 0.5, 1.0, 1.5, 2.0, ...]\n",
      "    │       │   │                   ├── \u001b[94mdata\u001b[0m = [117.21364542970566, 108.38844445745403, 104.39180830702348, 99.44076560647166, 96.96569849231848, ...]\n",
      "    │       │   │                   └── \u001b[94mis_calculated\u001b[0m = False\n",
      "    │       │   ├── 2\n",
      "    │       │   │   └── \u001b[4mMeasurementData\u001b[0m\n",
      "    │       │   │       ├── \u001b[94mid\u001b[0m = measurementdata30\n",
      "    │       │   │       ├── \u001b[94minit_conc\u001b[0m = 4.0\n",
      "    │       │   │       ├── \u001b[94munit\u001b[0m = umol / l\n",
      "    │       │   │       ├── \u001b[94mmeasurement_id\u001b[0m = measurement7\n",
      "    │       │   │       └── \u001b[94mspecies_id\u001b[0m = p0\n",
      "    │       │   └── 3\n",
      "    │       │       └── \u001b[4mMeasurementData\u001b[0m\n",
      "    │       │           ├── \u001b[94mid\u001b[0m = measurementdata31\n",
      "    │       │           ├── \u001b[94minit_conc\u001b[0m = 0.0\n",
      "    │       │           ├── \u001b[94munit\u001b[0m = umol / l\n",
      "    │       │           ├── \u001b[94mmeasurement_id\u001b[0m = measurement7\n",
      "    │       │           └── \u001b[94mspecies_id\u001b[0m = s2\n",
      "    │       ├── \u001b[94mglobal_time\u001b[0m = [0.0, 0.5, 1.0, 1.5, 2.0, ...]\n",
      "    │       └── \u001b[94mglobal_time_unit\u001b[0m = min\n",
      "    └── 8\n",
      "        └── \u001b[4mMeasurement\u001b[0m\n",
      "            ├── \u001b[94mid\u001b[0m = measurement8\n",
      "            ├── \u001b[94mname\u001b[0m = ABTS 200.0 umol / l\n",
      "            ├── \u001b[94mtemperature\u001b[0m = 35.0\n",
      "            ├── \u001b[94mtemperature_unit\u001b[0m = C\n",
      "            ├── \u001b[94mph\u001b[0m = 3.5\n",
      "            ├── \u001b[94mspecies\u001b[0m\n",
      "            │   ├── 0\n",
      "            │   │   └── \u001b[4mMeasurementData\u001b[0m\n",
      "            │   │       ├── \u001b[94mid\u001b[0m = measurementdata32\n",
      "            │   │       ├── \u001b[94minit_conc\u001b[0m = 100.0\n",
      "            │   │       ├── \u001b[94munit\u001b[0m = mmol / l\n",
      "            │   │       ├── \u001b[94mmeasurement_id\u001b[0m = measurement8\n",
      "            │   │       └── \u001b[94mspecies_id\u001b[0m = s1\n",
      "            │   ├── 1\n",
      "            │   │   └── \u001b[4mMeasurementData\u001b[0m\n",
      "            │   │       ├── \u001b[94mid\u001b[0m = measurementdata33\n",
      "            │   │       ├── \u001b[94minit_conc\u001b[0m = 200.0\n",
      "            │   │       ├── \u001b[94munit\u001b[0m = umol / l\n",
      "            │   │       ├── \u001b[94mmeasurement_id\u001b[0m = measurement8\n",
      "            │   │       ├── \u001b[94mspecies_id\u001b[0m = s0\n",
      "            │   │       └── \u001b[94mreplicates\u001b[0m\n",
      "            │   │           ├── 0\n",
      "            │   │           │   └── \u001b[4mReplicate\u001b[0m\n",
      "            │   │           │       ├── \u001b[94mid\u001b[0m = A10\n",
      "            │   │           │       ├── \u001b[94mspecies_id\u001b[0m = s0\n",
      "            │   │           │       ├── \u001b[94mmeasurement_id\u001b[0m = measurement8\n",
      "            │   │           │       ├── \u001b[94mdata_type\u001b[0m = conc\n",
      "            │   │           │       ├── \u001b[94mdata_unit\u001b[0m = umol / l\n",
      "            │   │           │       ├── \u001b[94mtime_unit\u001b[0m = min\n",
      "            │   │           │       ├── \u001b[94mtime\u001b[0m = [0.0, 0.5, 1.0, 1.5, 2.0, ...]\n",
      "            │   │           │       ├── \u001b[94mdata\u001b[0m = [nan, nan, nan, nan, 146.80500876424614, ...]\n",
      "            │   │           │       └── \u001b[94mis_calculated\u001b[0m = False\n",
      "            │   │           ├── 1\n",
      "            │   │           │   └── \u001b[4mReplicate\u001b[0m\n",
      "            │   │           │       ├── \u001b[94mid\u001b[0m = B10\n",
      "            │   │           │       ├── \u001b[94mspecies_id\u001b[0m = s0\n",
      "            │   │           │       ├── \u001b[94mmeasurement_id\u001b[0m = measurement8\n",
      "            │   │           │       ├── \u001b[94mdata_type\u001b[0m = conc\n",
      "            │   │           │       ├── \u001b[94mdata_unit\u001b[0m = umol / l\n",
      "            │   │           │       ├── \u001b[94mtime_unit\u001b[0m = min\n",
      "            │   │           │       ├── \u001b[94mtime\u001b[0m = [0.0, 0.5, 1.0, 1.5, 2.0, ...]\n",
      "            │   │           │       ├── \u001b[94mdata\u001b[0m = [nan, nan, nan, nan, 148.94420086829203, ...]\n",
      "            │   │           │       └── \u001b[94mis_calculated\u001b[0m = False\n",
      "            │   │           └── 2\n",
      "            │   │               └── \u001b[4mReplicate\u001b[0m\n",
      "            │   │                   ├── \u001b[94mid\u001b[0m = C10\n",
      "            │   │                   ├── \u001b[94mspecies_id\u001b[0m = s0\n",
      "            │   │                   ├── \u001b[94mmeasurement_id\u001b[0m = measurement8\n",
      "            │   │                   ├── \u001b[94mdata_type\u001b[0m = conc\n",
      "            │   │                   ├── \u001b[94mdata_unit\u001b[0m = umol / l\n",
      "            │   │                   ├── \u001b[94mtime_unit\u001b[0m = min\n",
      "            │   │                   ├── \u001b[94mtime\u001b[0m = [0.0, 0.5, 1.0, 1.5, 2.0, ...]\n",
      "            │   │                   ├── \u001b[94mdata\u001b[0m = [nan, 147.90406035475556, nan, 146.99758831841737, 142.06353840867814, ...]\n",
      "            │   │                   └── \u001b[94mis_calculated\u001b[0m = False\n",
      "            │   ├── 2\n",
      "            │   │   └── \u001b[4mMeasurementData\u001b[0m\n",
      "            │   │       ├── \u001b[94mid\u001b[0m = measurementdata34\n",
      "            │   │       ├── \u001b[94minit_conc\u001b[0m = 4.0\n",
      "            │   │       ├── \u001b[94munit\u001b[0m = umol / l\n",
      "            │   │       ├── \u001b[94mmeasurement_id\u001b[0m = measurement8\n",
      "            │   │       └── \u001b[94mspecies_id\u001b[0m = p0\n",
      "            │   └── 3\n",
      "            │       └── \u001b[4mMeasurementData\u001b[0m\n",
      "            │           ├── \u001b[94mid\u001b[0m = measurementdata35\n",
      "            │           ├── \u001b[94minit_conc\u001b[0m = 0.0\n",
      "            │           ├── \u001b[94munit\u001b[0m = umol / l\n",
      "            │           ├── \u001b[94mmeasurement_id\u001b[0m = measurement8\n",
      "            │           └── \u001b[94mspecies_id\u001b[0m = s2\n",
      "            ├── \u001b[94mglobal_time\u001b[0m = [0.0, 0.5, 1.0, 1.5, 2.0, ...]\n",
      "            └── \u001b[94mglobal_time_unit\u001b[0m = min\n",
      "\n"
     ]
    }
   ],
   "source": [
    "print(enzymeml)"
   ]
  }
 ],
 "metadata": {
  "kernelspec": {
   "display_name": "sdrdm_example",
   "language": "python",
   "name": "python3"
  },
  "language_info": {
   "codemirror_mode": {
    "name": "ipython",
    "version": 3
   },
   "file_extension": ".py",
   "mimetype": "text/x-python",
   "name": "python",
   "nbconvert_exporter": "python",
   "pygments_lexer": "ipython3",
   "version": "3.11.5"
  },
  "orig_nbformat": 4
 },
 "nbformat": 4,
 "nbformat_minor": 2
}
