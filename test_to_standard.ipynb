{
 "cells": [
  {
   "cell_type": "code",
   "execution_count": 1,
   "metadata": {},
   "outputs": [],
   "source": [
    "import numpy as np"
   ]
  },
  {
   "cell_type": "code",
   "execution_count": 2,
   "metadata": {},
   "outputs": [],
   "source": [
    "%reload_ext autoreload\n",
    "%autoreload 2\n",
    "\n",
    "from PlateHandler.core import Plate\n",
    "from PlateHandler.ioutils.standardmapper import create_standard_curve\n",
    "\n",
    "from CaliPytion.tools.standardcurve import StandardCurve\n",
    "from CaliPytion.core import Standard\n"
   ]
  },
  {
   "cell_type": "code",
   "execution_count": 3,
   "metadata": {},
   "outputs": [],
   "source": [
    "path = \"/Users/max/Documents/enzymeml/alaric/EnzymeML_SLAC_5xConcentration_pH2.0-3.5/ABTS_EnzymeML_340nm_420nm_5x_35deg_pH3.5.txt\"\n",
    "time = np.linspace(0, 15, 31)\n",
    "time_unit = \"min\"\n",
    "\n",
    "# Load plate data\n",
    "plate = Plate.from_file(path, time, time_unit)\n",
    "\n",
    "# Define species\n",
    "buffer = plate.add_to_species(type=\"buffer\", name=\"buffer\", id=\"b0\")\n",
    "enzyme = plate.add_to_species(type=\"enzyme\", name=\"SLAC\", id=\"p0\")\n",
    "substrate = plate.add_to_species(type=\"substrate\", name=\"ABTS\", id=\"s0\")\n",
    "\n",
    "# Define well conditions for each species\n",
    "# Define buffer concentration\n",
    "plate.assign_species_conditions_to_rows(\n",
    "    row_ids=[\"A\", \"B\", \"C\", \"D\", \"E\", \"F\"],\n",
    "    species=buffer,\n",
    "    init_concs=100,\n",
    "    conc_unit=\"umol / l\"\n",
    ")\n",
    "\n",
    "# Define substrate concentrations\n",
    "plate.assign_species_conditions_to_rows(\n",
    "    row_ids=[\"A\", \"B\", \"C\", \"D\", \"E\", \"F\"],\n",
    "    species=substrate,\n",
    "    init_concs=[0, 5, 10, 15, 25, 50, 75, 100, 150, 200],\n",
    "    conc_unit=\"umol / l\"\n",
    ")\n",
    "\n",
    "# Define enzyme concentrations\n",
    "plate.assign_species_conditions_to_rows(\n",
    "    row_ids=[\"A\", \"B\", \"C\"],\n",
    "    species=enzyme,\n",
    "    init_concs=4,\n",
    "    conc_unit=\"umol / l\"\n",
    ")\n",
    "\n",
    "# Blank data\n",
    "plate.blank_species(buffer, 340)\n",
    "plate.blank_species(enzyme, 340)"
   ]
  },
  {
   "cell_type": "markdown",
   "metadata": {},
   "source": [
    "### Create instance of ```Standard```"
   ]
  },
  {
   "cell_type": "code",
   "execution_count": 4,
   "metadata": {},
   "outputs": [
    {
     "name": "stdout",
     "output_type": "stream",
     "text": [
      "\u001b[4mWell\u001b[0m\n",
      "├── \u001b[94mid\u001b[0m = D2\n",
      "├── \u001b[94mabsorption\u001b[0m = [0.08928977792131557, 0.08876732571538556, 0.08803694690943256, 0.08834525527192658, 0.08823467220259057, ...]\n",
      "├── \u001b[94mtime\u001b[0m = [0.0, 0.5, 1.0, 1.5, 2.0, ...]\n",
      "├── \u001b[94mtime_unit\u001b[0m = min\n",
      "├── \u001b[94minit_conditions\u001b[0m\n",
      "│   ├── 0\n",
      "│   │   └── \u001b[4mInitCondition\u001b[0m\n",
      "│   │       ├── \u001b[94mid\u001b[0m = initcondition62\n",
      "│   │       ├── \u001b[94mspecies\u001b[0m = b0\n",
      "│   │       ├── \u001b[94minit_conc\u001b[0m = 100.0\n",
      "│   │       ├── \u001b[94mconc_unit\u001b[0m = umol / l\n",
      "│   │       └── \u001b[94mwas_blanked\u001b[0m = True\n",
      "│   └── 1\n",
      "│       └── \u001b[4mInitCondition\u001b[0m\n",
      "│           ├── \u001b[94mid\u001b[0m = initcondition174\n",
      "│           ├── \u001b[94mspecies\u001b[0m = s0\n",
      "│           ├── \u001b[94minit_conc\u001b[0m = 5.0\n",
      "│           ├── \u001b[94mconc_unit\u001b[0m = umol / l\n",
      "│           └── \u001b[94mwas_blanked\u001b[0m = False\n",
      "├── \u001b[94mx_position\u001b[0m = 1\n",
      "├── \u001b[94my_position\u001b[0m = 3\n",
      "└── \u001b[94mwavelength\u001b[0m = 340\n",
      "\n"
     ]
    }
   ],
   "source": [
    "print(plate.wells[31])"
   ]
  },
  {
   "cell_type": "code",
   "execution_count": 5,
   "metadata": {},
   "outputs": [
    {
     "name": "stdout",
     "output_type": "stream",
     "text": [
      "\u001b[4mWell\u001b[0m\n",
      "├── \u001b[94mid\u001b[0m = A6\n",
      "├── \u001b[94mabsorption\u001b[0m = [0.8218072149792292, 0.7784879049748431, 0.7466985436004482, 0.7235992754187022, 0.6990941666635572, ...]\n",
      "├── \u001b[94mtime\u001b[0m = [0.0, 0.5, 1.0, 1.5, 2.0, ...]\n",
      "├── \u001b[94mtime_unit\u001b[0m = min\n",
      "├── \u001b[94minit_conditions\u001b[0m\n",
      "│   ├── 0\n",
      "│   │   └── \u001b[4mInitCondition\u001b[0m\n",
      "│   │       ├── \u001b[94mid\u001b[0m = initcondition10\n",
      "│   │       ├── \u001b[94mspecies\u001b[0m = b0\n",
      "│   │       ├── \u001b[94minit_conc\u001b[0m = 100.0\n",
      "│   │       ├── \u001b[94mconc_unit\u001b[0m = umol / l\n",
      "│   │       └── \u001b[94mwas_blanked\u001b[0m = True\n",
      "│   ├── 1\n",
      "│   │   └── \u001b[4mInitCondition\u001b[0m\n",
      "│   │       ├── \u001b[94mid\u001b[0m = initcondition128\n",
      "│   │       ├── \u001b[94mspecies\u001b[0m = s0\n",
      "│   │       ├── \u001b[94minit_conc\u001b[0m = 50.0\n",
      "│   │       ├── \u001b[94mconc_unit\u001b[0m = umol / l\n",
      "│   │       └── \u001b[94mwas_blanked\u001b[0m = False\n",
      "│   └── 2\n",
      "│       └── \u001b[4mInitCondition\u001b[0m\n",
      "│           ├── \u001b[94mid\u001b[0m = initcondition238\n",
      "│           ├── \u001b[94mspecies\u001b[0m = p0\n",
      "│           ├── \u001b[94minit_conc\u001b[0m = 4.0\n",
      "│           ├── \u001b[94mconc_unit\u001b[0m = umol / l\n",
      "│           └── \u001b[94mwas_blanked\u001b[0m = True\n",
      "├── \u001b[94mx_position\u001b[0m = 5\n",
      "├── \u001b[94my_position\u001b[0m = 0\n",
      "└── \u001b[94mwavelength\u001b[0m = 340\n",
      "\n"
     ]
    }
   ],
   "source": [
    "print(plate.wells[5])"
   ]
  },
  {
   "cell_type": "code",
   "execution_count": 23,
   "metadata": {},
   "outputs": [
    {
     "data": {
      "application/vnd.plotly.v1+json": {
       "config": {
        "plotlyServerURL": "https://plot.ly",
        "toImageButtonOptions": {
         "filename": "custom_image",
         "format": "svg",
         "scale": 1
        }
       },
       "data": [
        {
         "hoverinfo": "skip",
         "marker": {
          "color": "#1f77b4"
         },
         "mode": "markers",
         "name": "ABTS Standard",
         "type": "scatter",
         "visible": true,
         "x": [
          5,
          10,
          15,
          25,
          50,
          75,
          100,
          5,
          10,
          15,
          25,
          50,
          75,
          100,
          150,
          5,
          10,
          15,
          25,
          50,
          75,
          100,
          150
         ],
         "xaxis": "x",
         "y": [
          0.08641605681905236,
          0.18111455485537442,
          0.29443428891193385,
          0.5018776976691343,
          0.9929862158855982,
          1.4789017219829268,
          2.2947021545503516,
          0.08416546637839822,
          0.15515158870269172,
          0.2632038151816907,
          0.4597016522654347,
          1.008779143813734,
          1.3610909816135723,
          2.098808411790892,
          2.645936629477214,
          0.07969135974636946,
          0.17415227214174123,
          0.2650666761199422,
          0.4768945723372803,
          1.0000621974852906,
          1.3537783598863573,
          2.0796071311001763,
          2.5834757983864858
         ],
         "yaxis": "y"
        },
        {
         "hoverinfo": "skip",
         "marker": {
          "color": "#1f77b4"
         },
         "mode": "lines",
         "name": "3rd degree polynominal",
         "type": "scatter",
         "visible": true,
         "x": [
          5,
          6.271929824561403,
          7.5438596491228065,
          8.81578947368421,
          10.087719298245613,
          11.359649122807017,
          12.631578947368421,
          13.903508771929824,
          15.175438596491228,
          16.44736842105263,
          17.719298245614034,
          18.99122807017544,
          20.263157894736842,
          21.535087719298247,
          22.807017543859647,
          24.07894736842105,
          25.350877192982455,
          26.62280701754386,
          27.894736842105264,
          29.166666666666664,
          30.43859649122807,
          31.710526315789473,
          32.98245614035088,
          34.25438596491228,
          35.526315789473685,
          36.79824561403508,
          38.07017543859649,
          39.34210526315789,
          40.614035087719294,
          41.8859649122807,
          43.1578947368421,
          44.42982456140351,
          45.70175438596491,
          46.973684210526315,
          48.24561403508772,
          49.51754385964912,
          50.78947368421053,
          52.06140350877193,
          53.33333333333333,
          54.60526315789473,
          55.87719298245614,
          57.14912280701754,
          58.421052631578945,
          59.69298245614035,
          60.96491228070175,
          62.23684210526316,
          63.50877192982456,
          64.78070175438597,
          66.05263157894737,
          67.32456140350877,
          68.59649122807016,
          69.86842105263158,
          71.14035087719299,
          72.41228070175438,
          73.68421052631578,
          74.95614035087719,
          76.22807017543859,
          77.5,
          78.7719298245614,
          80.04385964912281,
          81.3157894736842,
          82.58771929824562,
          83.85964912280701,
          85.13157894736842,
          86.40350877192982,
          87.67543859649122,
          88.94736842105263,
          90.21929824561403,
          91.49122807017544,
          92.76315789473684,
          94.03508771929825,
          95.30701754385964,
          96.57894736842105,
          97.85087719298245,
          99.12280701754386,
          100.39473684210526,
          101.66666666666666,
          102.93859649122807,
          104.21052631578947,
          105.48245614035088,
          106.75438596491227,
          108.02631578947368,
          109.29824561403508,
          110.5701754385965,
          111.84210526315789,
          113.1140350877193,
          114.3859649122807,
          115.6578947368421,
          116.9298245614035,
          118.2017543859649,
          119.47368421052632,
          120.74561403508771,
          122.01754385964912,
          123.28947368421052,
          124.56140350877193,
          125.83333333333333,
          127.10526315789474,
          128.37719298245614,
          129.64912280701753,
          130.92105263157896,
          132.19298245614033,
          133.46491228070175,
          134.73684210526315,
          136.00877192982455,
          137.28070175438597,
          138.55263157894737,
          139.82456140350877,
          141.09649122807016,
          142.36842105263156,
          143.640350877193,
          144.91228070175438,
          146.18421052631578,
          147.45614035087718,
          148.7280701754386,
          150
         ],
         "xaxis": "x",
         "y": [
          0.07691882960117002,
          0.09750635366538475,
          0.11848860123093703,
          0.13985587752403628,
          0.16159848777089184,
          0.18370673719771313,
          0.20617093103070952,
          0.22898137449609046,
          0.25212837282006534,
          0.2756022312288435,
          0.29939325494863434,
          0.3234917492056473,
          0.3478880192260918,
          0.37257237023617723,
          0.3975351074621128,
          0.4227665361301082,
          0.4482569614663726,
          0.47399668869711553,
          0.49997602304854627,
          0.5261852697468742,
          0.552614734018309,
          0.5792547210890597,
          0.606095536185336,
          0.6331274845333469,
          0.6603408713593022,
          0.687726001889411,
          0.715273181349883,
          0.7429727149669273,
          0.7708149079667536,
          0.798790065575571,
          0.826888493019589,
          0.8551004955250171,
          0.8834163783180645,
          0.9118264466249407,
          0.9403210056718552,
          0.9688903606850172,
          0.9975248168906361,
          1.0262146795149216,
          1.0549502537840827,
          1.0837218449243289,
          1.1125197581618698,
          1.1413342987229147,
          1.1701557718336728,
          1.198974482720354,
          1.227780736609167,
          1.2565648387263217,
          1.2853170942980272,
          1.3140278085504933,
          1.3426872867099289,
          1.3712858340025433,
          1.3998137556545465,
          1.4282613568921478,
          1.4566189429415566,
          1.4848768190289816,
          1.5130252903806327,
          1.54105466222272,
          1.5689552397814512,
          1.5967173282830376,
          1.6243312329536868,
          1.6517872590196099,
          1.6790757117070148,
          1.7061868962421118,
          1.7331111178511103,
          1.7598386817602192,
          1.7863598931956484,
          1.8126650573836067,
          1.838744479550304,
          1.8645884649219495,
          1.8901873187247527,
          1.915531346184923,
          1.9406108525286696,
          1.9654161429822017,
          1.9899375227717295,
          2.014165297123462,
          2.0380897712636084,
          2.0617012504183774,
          2.08499003981398,
          2.107946444676625,
          2.130560770232521,
          2.1528233217078787,
          2.174724404328906,
          2.196254323321813,
          2.2174033839128096,
          2.238161891328105,
          2.258520150793908,
          2.2784684675364284,
          2.297997146781875,
          2.317096493756459,
          2.3357568136863875,
          2.353968411797871,
          2.3717215933171194,
          2.3890066634703406,
          2.4058139274837465,
          2.4221336905835433,
          2.4379562579959426,
          2.4532719349471535,
          2.468071026663385,
          2.4823438383708463,
          2.4960806752957474,
          2.5092718426642975,
          2.5219076457027048,
          2.533978389637181,
          2.5454743796939336,
          2.556385921099172,
          2.566703319079108,
          2.5764168788599484,
          2.5855169056679035,
          2.5939937047291823,
          2.6018375812699954,
          2.6090388405165506,
          2.6155877876950586,
          2.621474728031728,
          2.626689966752768,
          2.631223809084389,
          2.635066560252799
         ],
         "yaxis": "y"
        },
        {
         "hoverinfo": "skip",
         "marker": {
          "color": "#d62728"
         },
         "mode": "markers",
         "name": "Residuals",
         "type": "scatter",
         "visible": true,
         "x": [
          5,
          10,
          15,
          25,
          50,
          75,
          100,
          5,
          10,
          15,
          25,
          50,
          75,
          100,
          150,
          5,
          10,
          15,
          25,
          50,
          75,
          100,
          150
         ],
         "xaxis": "x2",
         "y": [
          -12.347077129392346,
          -13.134975139385105,
          -18.286591109326555,
          -13.752927582321236,
          -1.3515409009830786,
          4.0931551949655285,
          -11.69653585094695,
          -9.421148000824456,
          3.08304517695002,
          -5.740001206596978,
          -4.1935296238197886,
          -2.9634843048773494,
          11.733187135573633,
          -2.161244999487542,
          -0.4125159261014041,
          -3.6044882112419163,
          -8.785917260799659,
          -6.488390502255402,
          -8.090385373625638,
          -2.0737680850494966,
          12.207410991483128,
          -1.2266066923757888,
          1.957854220629772
         ],
         "yaxis": "y2"
        }
       ],
       "layout": {
        "annotations": [
         {
          "font": {
           "size": 16
          },
          "showarrow": false,
          "text": "Standard Curve",
          "x": 0.2125,
          "xanchor": "center",
          "xref": "paper",
          "y": 1,
          "yanchor": "bottom",
          "yref": "paper"
         },
         {
          "font": {
           "size": 16
          },
          "showarrow": false,
          "text": "Residuals",
          "x": 0.7875,
          "xanchor": "center",
          "xref": "paper",
          "y": 1,
          "yanchor": "bottom",
          "yref": "paper"
         },
         {
          "font": {
           "size": 16
          },
          "showarrow": false,
          "text": "ABTS concentration (µmol L<sup>-1</sup>)",
          "x": 0.5,
          "xanchor": "center",
          "xref": "paper",
          "y": 0,
          "yanchor": "top",
          "yref": "paper",
          "yshift": -30
         }
        ],
        "shapes": [
         {
          "line": {
           "color": "#000000",
           "dash": "dot",
           "width": 2
          },
          "type": "line",
          "x0": 0,
          "x1": 1,
          "xref": "x2 domain",
          "y0": 0,
          "y1": 0,
          "yref": "y2"
         }
        ],
        "template": {
         "data": {
          "bar": [
           {
            "error_x": {
             "color": "#2a3f5f"
            },
            "error_y": {
             "color": "#2a3f5f"
            },
            "marker": {
             "line": {
              "color": "#E5ECF6",
              "width": 0.5
             },
             "pattern": {
              "fillmode": "overlay",
              "size": 10,
              "solidity": 0.2
             }
            },
            "type": "bar"
           }
          ],
          "barpolar": [
           {
            "marker": {
             "line": {
              "color": "#E5ECF6",
              "width": 0.5
             },
             "pattern": {
              "fillmode": "overlay",
              "size": 10,
              "solidity": 0.2
             }
            },
            "type": "barpolar"
           }
          ],
          "carpet": [
           {
            "aaxis": {
             "endlinecolor": "#2a3f5f",
             "gridcolor": "white",
             "linecolor": "white",
             "minorgridcolor": "white",
             "startlinecolor": "#2a3f5f"
            },
            "baxis": {
             "endlinecolor": "#2a3f5f",
             "gridcolor": "white",
             "linecolor": "white",
             "minorgridcolor": "white",
             "startlinecolor": "#2a3f5f"
            },
            "type": "carpet"
           }
          ],
          "choropleth": [
           {
            "colorbar": {
             "outlinewidth": 0,
             "ticks": ""
            },
            "type": "choropleth"
           }
          ],
          "contour": [
           {
            "colorbar": {
             "outlinewidth": 0,
             "ticks": ""
            },
            "colorscale": [
             [
              0,
              "#0d0887"
             ],
             [
              0.1111111111111111,
              "#46039f"
             ],
             [
              0.2222222222222222,
              "#7201a8"
             ],
             [
              0.3333333333333333,
              "#9c179e"
             ],
             [
              0.4444444444444444,
              "#bd3786"
             ],
             [
              0.5555555555555556,
              "#d8576b"
             ],
             [
              0.6666666666666666,
              "#ed7953"
             ],
             [
              0.7777777777777778,
              "#fb9f3a"
             ],
             [
              0.8888888888888888,
              "#fdca26"
             ],
             [
              1,
              "#f0f921"
             ]
            ],
            "type": "contour"
           }
          ],
          "contourcarpet": [
           {
            "colorbar": {
             "outlinewidth": 0,
             "ticks": ""
            },
            "type": "contourcarpet"
           }
          ],
          "heatmap": [
           {
            "colorbar": {
             "outlinewidth": 0,
             "ticks": ""
            },
            "colorscale": [
             [
              0,
              "#0d0887"
             ],
             [
              0.1111111111111111,
              "#46039f"
             ],
             [
              0.2222222222222222,
              "#7201a8"
             ],
             [
              0.3333333333333333,
              "#9c179e"
             ],
             [
              0.4444444444444444,
              "#bd3786"
             ],
             [
              0.5555555555555556,
              "#d8576b"
             ],
             [
              0.6666666666666666,
              "#ed7953"
             ],
             [
              0.7777777777777778,
              "#fb9f3a"
             ],
             [
              0.8888888888888888,
              "#fdca26"
             ],
             [
              1,
              "#f0f921"
             ]
            ],
            "type": "heatmap"
           }
          ],
          "heatmapgl": [
           {
            "colorbar": {
             "outlinewidth": 0,
             "ticks": ""
            },
            "colorscale": [
             [
              0,
              "#0d0887"
             ],
             [
              0.1111111111111111,
              "#46039f"
             ],
             [
              0.2222222222222222,
              "#7201a8"
             ],
             [
              0.3333333333333333,
              "#9c179e"
             ],
             [
              0.4444444444444444,
              "#bd3786"
             ],
             [
              0.5555555555555556,
              "#d8576b"
             ],
             [
              0.6666666666666666,
              "#ed7953"
             ],
             [
              0.7777777777777778,
              "#fb9f3a"
             ],
             [
              0.8888888888888888,
              "#fdca26"
             ],
             [
              1,
              "#f0f921"
             ]
            ],
            "type": "heatmapgl"
           }
          ],
          "histogram": [
           {
            "marker": {
             "pattern": {
              "fillmode": "overlay",
              "size": 10,
              "solidity": 0.2
             }
            },
            "type": "histogram"
           }
          ],
          "histogram2d": [
           {
            "colorbar": {
             "outlinewidth": 0,
             "ticks": ""
            },
            "colorscale": [
             [
              0,
              "#0d0887"
             ],
             [
              0.1111111111111111,
              "#46039f"
             ],
             [
              0.2222222222222222,
              "#7201a8"
             ],
             [
              0.3333333333333333,
              "#9c179e"
             ],
             [
              0.4444444444444444,
              "#bd3786"
             ],
             [
              0.5555555555555556,
              "#d8576b"
             ],
             [
              0.6666666666666666,
              "#ed7953"
             ],
             [
              0.7777777777777778,
              "#fb9f3a"
             ],
             [
              0.8888888888888888,
              "#fdca26"
             ],
             [
              1,
              "#f0f921"
             ]
            ],
            "type": "histogram2d"
           }
          ],
          "histogram2dcontour": [
           {
            "colorbar": {
             "outlinewidth": 0,
             "ticks": ""
            },
            "colorscale": [
             [
              0,
              "#0d0887"
             ],
             [
              0.1111111111111111,
              "#46039f"
             ],
             [
              0.2222222222222222,
              "#7201a8"
             ],
             [
              0.3333333333333333,
              "#9c179e"
             ],
             [
              0.4444444444444444,
              "#bd3786"
             ],
             [
              0.5555555555555556,
              "#d8576b"
             ],
             [
              0.6666666666666666,
              "#ed7953"
             ],
             [
              0.7777777777777778,
              "#fb9f3a"
             ],
             [
              0.8888888888888888,
              "#fdca26"
             ],
             [
              1,
              "#f0f921"
             ]
            ],
            "type": "histogram2dcontour"
           }
          ],
          "mesh3d": [
           {
            "colorbar": {
             "outlinewidth": 0,
             "ticks": ""
            },
            "type": "mesh3d"
           }
          ],
          "parcoords": [
           {
            "line": {
             "colorbar": {
              "outlinewidth": 0,
              "ticks": ""
             }
            },
            "type": "parcoords"
           }
          ],
          "pie": [
           {
            "automargin": true,
            "type": "pie"
           }
          ],
          "scatter": [
           {
            "fillpattern": {
             "fillmode": "overlay",
             "size": 10,
             "solidity": 0.2
            },
            "type": "scatter"
           }
          ],
          "scatter3d": [
           {
            "line": {
             "colorbar": {
              "outlinewidth": 0,
              "ticks": ""
             }
            },
            "marker": {
             "colorbar": {
              "outlinewidth": 0,
              "ticks": ""
             }
            },
            "type": "scatter3d"
           }
          ],
          "scattercarpet": [
           {
            "marker": {
             "colorbar": {
              "outlinewidth": 0,
              "ticks": ""
             }
            },
            "type": "scattercarpet"
           }
          ],
          "scattergeo": [
           {
            "marker": {
             "colorbar": {
              "outlinewidth": 0,
              "ticks": ""
             }
            },
            "type": "scattergeo"
           }
          ],
          "scattergl": [
           {
            "marker": {
             "colorbar": {
              "outlinewidth": 0,
              "ticks": ""
             }
            },
            "type": "scattergl"
           }
          ],
          "scattermapbox": [
           {
            "marker": {
             "colorbar": {
              "outlinewidth": 0,
              "ticks": ""
             }
            },
            "type": "scattermapbox"
           }
          ],
          "scatterpolar": [
           {
            "marker": {
             "colorbar": {
              "outlinewidth": 0,
              "ticks": ""
             }
            },
            "type": "scatterpolar"
           }
          ],
          "scatterpolargl": [
           {
            "marker": {
             "colorbar": {
              "outlinewidth": 0,
              "ticks": ""
             }
            },
            "type": "scatterpolargl"
           }
          ],
          "scatterternary": [
           {
            "marker": {
             "colorbar": {
              "outlinewidth": 0,
              "ticks": ""
             }
            },
            "type": "scatterternary"
           }
          ],
          "surface": [
           {
            "colorbar": {
             "outlinewidth": 0,
             "ticks": ""
            },
            "colorscale": [
             [
              0,
              "#0d0887"
             ],
             [
              0.1111111111111111,
              "#46039f"
             ],
             [
              0.2222222222222222,
              "#7201a8"
             ],
             [
              0.3333333333333333,
              "#9c179e"
             ],
             [
              0.4444444444444444,
              "#bd3786"
             ],
             [
              0.5555555555555556,
              "#d8576b"
             ],
             [
              0.6666666666666666,
              "#ed7953"
             ],
             [
              0.7777777777777778,
              "#fb9f3a"
             ],
             [
              0.8888888888888888,
              "#fdca26"
             ],
             [
              1,
              "#f0f921"
             ]
            ],
            "type": "surface"
           }
          ],
          "table": [
           {
            "cells": {
             "fill": {
              "color": "#EBF0F8"
             },
             "line": {
              "color": "white"
             }
            },
            "header": {
             "fill": {
              "color": "#C8D4E3"
             },
             "line": {
              "color": "white"
             }
            },
            "type": "table"
           }
          ]
         },
         "layout": {
          "annotationdefaults": {
           "arrowcolor": "#2a3f5f",
           "arrowhead": 0,
           "arrowwidth": 1
          },
          "autotypenumbers": "strict",
          "coloraxis": {
           "colorbar": {
            "outlinewidth": 0,
            "ticks": ""
           }
          },
          "colorscale": {
           "diverging": [
            [
             0,
             "#8e0152"
            ],
            [
             0.1,
             "#c51b7d"
            ],
            [
             0.2,
             "#de77ae"
            ],
            [
             0.3,
             "#f1b6da"
            ],
            [
             0.4,
             "#fde0ef"
            ],
            [
             0.5,
             "#f7f7f7"
            ],
            [
             0.6,
             "#e6f5d0"
            ],
            [
             0.7,
             "#b8e186"
            ],
            [
             0.8,
             "#7fbc41"
            ],
            [
             0.9,
             "#4d9221"
            ],
            [
             1,
             "#276419"
            ]
           ],
           "sequential": [
            [
             0,
             "#0d0887"
            ],
            [
             0.1111111111111111,
             "#46039f"
            ],
            [
             0.2222222222222222,
             "#7201a8"
            ],
            [
             0.3333333333333333,
             "#9c179e"
            ],
            [
             0.4444444444444444,
             "#bd3786"
            ],
            [
             0.5555555555555556,
             "#d8576b"
            ],
            [
             0.6666666666666666,
             "#ed7953"
            ],
            [
             0.7777777777777778,
             "#fb9f3a"
            ],
            [
             0.8888888888888888,
             "#fdca26"
            ],
            [
             1,
             "#f0f921"
            ]
           ],
           "sequentialminus": [
            [
             0,
             "#0d0887"
            ],
            [
             0.1111111111111111,
             "#46039f"
            ],
            [
             0.2222222222222222,
             "#7201a8"
            ],
            [
             0.3333333333333333,
             "#9c179e"
            ],
            [
             0.4444444444444444,
             "#bd3786"
            ],
            [
             0.5555555555555556,
             "#d8576b"
            ],
            [
             0.6666666666666666,
             "#ed7953"
            ],
            [
             0.7777777777777778,
             "#fb9f3a"
            ],
            [
             0.8888888888888888,
             "#fdca26"
            ],
            [
             1,
             "#f0f921"
            ]
           ]
          },
          "colorway": [
           "#636efa",
           "#EF553B",
           "#00cc96",
           "#ab63fa",
           "#FFA15A",
           "#19d3f3",
           "#FF6692",
           "#B6E880",
           "#FF97FF",
           "#FECB52"
          ],
          "font": {
           "color": "#2a3f5f"
          },
          "geo": {
           "bgcolor": "white",
           "lakecolor": "white",
           "landcolor": "#E5ECF6",
           "showlakes": true,
           "showland": true,
           "subunitcolor": "white"
          },
          "hoverlabel": {
           "align": "left"
          },
          "hovermode": "closest",
          "mapbox": {
           "style": "light"
          },
          "paper_bgcolor": "white",
          "plot_bgcolor": "#E5ECF6",
          "polar": {
           "angularaxis": {
            "gridcolor": "white",
            "linecolor": "white",
            "ticks": ""
           },
           "bgcolor": "#E5ECF6",
           "radialaxis": {
            "gridcolor": "white",
            "linecolor": "white",
            "ticks": ""
           }
          },
          "scene": {
           "xaxis": {
            "backgroundcolor": "#E5ECF6",
            "gridcolor": "white",
            "gridwidth": 2,
            "linecolor": "white",
            "showbackground": true,
            "ticks": "",
            "zerolinecolor": "white"
           },
           "yaxis": {
            "backgroundcolor": "#E5ECF6",
            "gridcolor": "white",
            "gridwidth": 2,
            "linecolor": "white",
            "showbackground": true,
            "ticks": "",
            "zerolinecolor": "white"
           },
           "zaxis": {
            "backgroundcolor": "#E5ECF6",
            "gridcolor": "white",
            "gridwidth": 2,
            "linecolor": "white",
            "showbackground": true,
            "ticks": "",
            "zerolinecolor": "white"
           }
          },
          "shapedefaults": {
           "line": {
            "color": "#2a3f5f"
           }
          },
          "ternary": {
           "aaxis": {
            "gridcolor": "white",
            "linecolor": "white",
            "ticks": ""
           },
           "baxis": {
            "gridcolor": "white",
            "linecolor": "white",
            "ticks": ""
           },
           "bgcolor": "#E5ECF6",
           "caxis": {
            "gridcolor": "white",
            "linecolor": "white",
            "ticks": ""
           }
          },
          "title": {
           "x": 0.05
          },
          "xaxis": {
           "automargin": true,
           "gridcolor": "white",
           "linecolor": "white",
           "ticks": "",
           "title": {
            "standoff": 15
           },
           "zerolinecolor": "white",
           "zerolinewidth": 2
          },
          "yaxis": {
           "automargin": true,
           "gridcolor": "white",
           "linecolor": "white",
           "ticks": "",
           "title": {
            "standoff": 15
           },
           "zerolinecolor": "white",
           "zerolinewidth": 2
          }
         }
        },
        "xaxis": {
         "anchor": "y",
         "domain": [
          0,
          0.425
         ]
        },
        "xaxis2": {
         "anchor": "y2",
         "domain": [
          0.575,
          1
         ]
        },
        "yaxis": {
         "anchor": "x",
         "domain": [
          0,
          1
         ],
         "title": {
          "text": "Signal (a.u.)"
         }
        },
        "yaxis2": {
         "anchor": "x2",
         "domain": [
          0,
          1
         ],
         "title": {
          "text": "Residuals (%)"
         }
        }
       }
      }
     },
     "metadata": {},
     "output_type": "display_data"
    }
   ],
   "source": [
    "create_standard_curve(plate, substrate, 340, 2.65).visualize()"
   ]
  }
 ],
 "metadata": {
  "kernelspec": {
   "display_name": "sdrdm_example",
   "language": "python",
   "name": "python3"
  },
  "language_info": {
   "codemirror_mode": {
    "name": "ipython",
    "version": 3
   },
   "file_extension": ".py",
   "mimetype": "text/x-python",
   "name": "python",
   "nbconvert_exporter": "python",
   "pygments_lexer": "ipython3",
   "version": "3.11.3"
  },
  "orig_nbformat": 4
 },
 "nbformat": 4,
 "nbformat_minor": 2
}
