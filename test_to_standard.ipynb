{
 "cells": [
  {
   "cell_type": "code",
   "execution_count": 1,
   "metadata": {},
   "outputs": [],
   "source": [
    "import numpy as np"
   ]
  },
  {
   "cell_type": "code",
   "execution_count": 2,
   "metadata": {},
   "outputs": [],
   "source": [
    "%reload_ext autoreload\n",
    "%autoreload 2\n",
    "\n",
    "from PlateHandler.core import Plate\n",
    "from PlateHandler.ioutils.standardmapper import wells_to_standard\n",
    "\n",
    "from CaliPytion.tools.standardcurve import StandardCurve\n",
    "from CaliPytion.core import Standard\n"
   ]
  },
  {
   "cell_type": "code",
   "execution_count": 3,
   "metadata": {},
   "outputs": [
    {
     "name": "stdout",
     "output_type": "stream",
     "text": [
      "added D1, with condition length: 1 and [0] being b0\n",
      "added E1, with condition length: 1 and [0] being b0\n",
      "added F1, with condition length: 1 and [0] being b0\n",
      "added A1, with condition length: 2 and [0] being p0\n",
      "added B1, with condition length: 2 and [0] being p0\n",
      "added C1, with condition length: 2 and [0] being p0\n"
     ]
    }
   ],
   "source": [
    "path = \"/Users/max/Documents/enzymeml/alaric/EnzymeML_SLAC_5xConcentration_pH2.0-3.5/ABTS_EnzymeML_340nm_420nm_5x_35deg_pH3.5.txt\"\n",
    "time = np.linspace(0, 15, 31)\n",
    "time_unit = \"min\"\n",
    "\n",
    "# Load plate data\n",
    "plate = Plate.from_file(path, time, time_unit)\n",
    "\n",
    "# Define species\n",
    "buffer = plate.add_to_species(type=\"buffer\", name=\"buffer\", id=\"b0\")\n",
    "enzyme = plate.add_to_species(type=\"enzyme\", name=\"SLAC\", id=\"p0\")\n",
    "substrate = plate.add_to_species(type=\"substrate\", name=\"ABTS\", id=\"s0\")\n",
    "\n",
    "# Define well conditions for each species\n",
    "# Define buffer concentration\n",
    "plate.assign_species_conditions_to_rows(\n",
    "    row_ids=[\"A\", \"B\", \"C\", \"D\", \"E\", \"F\"],\n",
    "    species=buffer,\n",
    "    init_concs=100,\n",
    "    conc_unit=\"mM\"\n",
    ")\n",
    "\n",
    "# Define substrate concentrations\n",
    "plate.assign_species_conditions_to_rows(\n",
    "    row_ids=[\"A\", \"B\", \"C\", \"D\", \"E\", \"F\"],\n",
    "    species=substrate,\n",
    "    init_concs=[0, 5, 10, 15, 25, 50, 75, 100, 150, 200],\n",
    "    conc_unit=\"mM\"\n",
    ")\n",
    "\n",
    "# Define enzyme concentrations\n",
    "plate.assign_species_conditions_to_rows(\n",
    "    row_ids=[\"A\", \"B\", \"C\"],\n",
    "    species=enzyme,\n",
    "    init_concs=4,\n",
    "    conc_unit=\"nM\"\n",
    ")\n",
    "\n",
    "# Blank data\n",
    "plate.blank_species(buffer, 340)\n",
    "plate.blank_species(enzyme, 340)"
   ]
  },
  {
   "cell_type": "markdown",
   "metadata": {},
   "source": [
    "### Create instance of ```Standard```"
   ]
  },
  {
   "cell_type": "code",
   "execution_count": 4,
   "metadata": {},
   "outputs": [
    {
     "name": "stdout",
     "output_type": "stream",
     "text": [
      "D1\n",
      "D2\n",
      "D3\n",
      "D4\n",
      "D5\n",
      "D6\n",
      "D7\n",
      "D8\n",
      "D9\n"
     ]
    }
   ],
   "source": [
    "for well in plate.wells[30:39]:\n",
    "    print(well.id)"
   ]
  },
  {
   "cell_type": "code",
   "execution_count": 9,
   "metadata": {},
   "outputs": [
    {
     "name": "stdout",
     "output_type": "stream",
     "text": [
      "\u001b[4mWell\u001b[0m\n",
      "├── \u001b[94mid\u001b[0m = D2\n",
      "├── \u001b[94mabsorption\u001b[0m = [0.08928977792131557, 0.08876732571538556, 0.08803694690943256, 0.08834525527192658, 0.08823467220259057, ...]\n",
      "├── \u001b[94mtime\u001b[0m = [0.0, 0.5, 1.0, 1.5, 2.0, ...]\n",
      "├── \u001b[94mtime_unit\u001b[0m = min\n",
      "├── \u001b[94minit_conditions\u001b[0m\n",
      "│   ├── 0\n",
      "│   │   └── \u001b[4mInitCondition\u001b[0m\n",
      "│   │       ├── \u001b[94mid\u001b[0m = initcondition62\n",
      "│   │       ├── \u001b[94mspecies\u001b[0m = b0\n",
      "│   │       ├── \u001b[94minit_conc\u001b[0m = 100.0\n",
      "│   │       ├── \u001b[94mconc_unit\u001b[0m = mM\n",
      "│   │       └── \u001b[94mwas_blanked\u001b[0m = True\n",
      "│   └── 1\n",
      "│       └── \u001b[4mInitCondition\u001b[0m\n",
      "│           ├── \u001b[94mid\u001b[0m = initcondition174\n",
      "│           ├── \u001b[94mspecies\u001b[0m = s0\n",
      "│           ├── \u001b[94minit_conc\u001b[0m = 5.0\n",
      "│           ├── \u001b[94mconc_unit\u001b[0m = mM\n",
      "│           └── \u001b[94mwas_blanked\u001b[0m = False\n",
      "├── \u001b[94mx_position\u001b[0m = 1\n",
      "├── \u001b[94my_position\u001b[0m = 3\n",
      "└── \u001b[94mwavelength\u001b[0m = 340\n",
      "\n"
     ]
    }
   ],
   "source": [
    "print(plate.wells[31])"
   ]
  },
  {
   "cell_type": "code",
   "execution_count": 21,
   "metadata": {},
   "outputs": [],
   "source": [
    "subset = plate.wells[31:40] + plate.wells[41:50]"
   ]
  },
  {
   "cell_type": "code",
   "execution_count": 22,
   "metadata": {},
   "outputs": [
    {
     "data": {
      "text/plain": [
       "defaultdict(list,\n",
       "            {5.0: ['D2', 'E2'],\n",
       "             10.0: ['D3', 'E3'],\n",
       "             15.0: ['D4', 'E4'],\n",
       "             25.0: ['D5', 'E5'],\n",
       "             50.0: ['D6', 'E6'],\n",
       "             75.0: ['D7', 'E7'],\n",
       "             100.0: ['D8', 'E8'],\n",
       "             150.0: ['D9', 'E9'],\n",
       "             200.0: ['D10', 'E10']})"
      ]
     },
     "execution_count": 22,
     "metadata": {},
     "output_type": "execute_result"
    }
   ],
   "source": [
    "wells_to_standard(subset, substrate)"
   ]
  }
 ],
 "metadata": {
  "kernelspec": {
   "display_name": "sdrdm_example",
   "language": "python",
   "name": "python3"
  },
  "language_info": {
   "codemirror_mode": {
    "name": "ipython",
    "version": 3
   },
   "file_extension": ".py",
   "mimetype": "text/x-python",
   "name": "python",
   "nbconvert_exporter": "python",
   "pygments_lexer": "ipython3",
   "version": "3.11.3"
  },
  "orig_nbformat": 4
 },
 "nbformat": 4,
 "nbformat_minor": 2
}
