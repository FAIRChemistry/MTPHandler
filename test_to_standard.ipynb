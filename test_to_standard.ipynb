{
 "cells": [
  {
   "cell_type": "code",
   "execution_count": 1,
   "metadata": {},
   "outputs": [],
   "source": [
    "import numpy as np"
   ]
  },
  {
   "cell_type": "code",
   "execution_count": 2,
   "metadata": {},
   "outputs": [],
   "source": [
    "%reload_ext autoreload\n",
    "%autoreload 2\n",
    "\n",
    "from MTPHandler import Plate, create_standard_curve\n",
    "\n",
    "from CaliPytion.tools.standardcurve import StandardCurve\n",
    "from CaliPytion.core import Standard\n"
   ]
  },
  {
   "cell_type": "code",
   "execution_count": 3,
   "metadata": {},
   "outputs": [],
   "source": [
    "path = \"/Users/max/Documents/enzymeml/alaric/EnzymeML_SLAC_5xConcentration_pH2.0-3.5/ABTS_EnzymeML_340nm_420nm_5x_35deg_pH3.5.txt\"\n",
    "time = np.linspace(0, 15, 31)\n",
    "time_unit = \"min\"\n",
    "\n",
    "# Load plate data\n",
    "plate = Plate.from_file(path, time, time_unit)\n",
    "\n",
    "# Define species\n",
    "buffer = plate.add_reactant(id=\"s1\", name=\"buffer\", constant=True)\n",
    "abts = plate.add_reactant(id=\"s0\", name=\"ABTS\", constant=False,\n",
    "                          inchi=\"InChI=1S/C18H18N4O6S4/c1-3-21-13-7-5-11(31(23,24)25)9-15(13)29-17(21)19-20-18-22(4-2)14-8-6-12(32(26,27)28)10-16(14)30-18/h5-10H,3-4H2,1-2H3,(H,23,24,25)(H,26,27,28)/b19-17-,20-18+\")\n",
    "slac = plate.add_protein(id=\"p0\", name=\"SLAC\",\n",
    "                         constant=True, sequence=\"MSSKSKPKDVKV\")\n",
    "\n",
    "# Define well conditions for each species\n",
    "# Define buffer concentration\n",
    "plate.assign_species_conditions_to_rows(\n",
    "    row_ids=[\"A\", \"B\", \"C\", \"D\", \"E\", \"F\"],\n",
    "    species=buffer,\n",
    "    init_concs=100,\n",
    "    conc_unit=\"umol / l\"\n",
    ")\n",
    "\n",
    "# Define substrate concentrations\n",
    "plate.assign_species_conditions_to_rows(\n",
    "    row_ids=[\"A\", \"B\", \"C\", \"D\", \"E\", \"F\"],\n",
    "    species=abts,\n",
    "    init_concs=[0, 5, 10, 15, 25, 50, 75, 100, 150, 200],\n",
    "    conc_unit=\"umol / l\"\n",
    ")\n",
    "\n",
    "# Define enzyme concentrations\n",
    "plate.assign_species_conditions_to_rows(\n",
    "    row_ids=[\"A\", \"B\", \"C\"],\n",
    "    species=slac,\n",
    "    init_concs=4,\n",
    "    conc_unit=\"umol / l\"\n",
    ")\n",
    "\n",
    "# Blank data\n",
    "plate.blank_species(buffer, 340)\n",
    "plate.blank_species(slac, 340)"
   ]
  },
  {
   "cell_type": "markdown",
   "metadata": {},
   "source": [
    "### Create instance of ```Standard```"
   ]
  },
  {
   "cell_type": "code",
   "execution_count": 4,
   "metadata": {},
   "outputs": [
    {
     "name": "stdout",
     "output_type": "stream",
     "text": [
      "\u001b[4mWell\u001b[0m\n",
      "├── \u001b[94mid\u001b[0m = D2\n",
      "├── \u001b[94mabsorption\u001b[0m = [0.08928977792131557, 0.08876732571538556, 0.08803694690943256, 0.08834525527192658, 0.08823467220259057, ...]\n",
      "├── \u001b[94mtime\u001b[0m = [0.0, 0.5, 1.0, 1.5, 2.0, ...]\n",
      "├── \u001b[94mtime_unit\u001b[0m = min\n",
      "├── \u001b[94minit_conditions\u001b[0m\n",
      "│   ├── 0\n",
      "│   │   └── \u001b[4mInitCondition\u001b[0m\n",
      "│   │       ├── \u001b[94mid\u001b[0m = initcondition62\n",
      "│   │       ├── \u001b[94mspecies_id\u001b[0m = s1\n",
      "│   │       ├── \u001b[94minit_conc\u001b[0m = 100.0\n",
      "│   │       ├── \u001b[94mconc_unit\u001b[0m = umol / l\n",
      "│   │       └── \u001b[94mwas_blanked\u001b[0m = True\n",
      "│   └── 1\n",
      "│       └── \u001b[4mInitCondition\u001b[0m\n",
      "│           ├── \u001b[94mid\u001b[0m = initcondition174\n",
      "│           ├── \u001b[94mspecies_id\u001b[0m = s0\n",
      "│           ├── \u001b[94minit_conc\u001b[0m = 5.0\n",
      "│           ├── \u001b[94mconc_unit\u001b[0m = umol / l\n",
      "│           └── \u001b[94mwas_blanked\u001b[0m = False\n",
      "├── \u001b[94mx_position\u001b[0m = 1\n",
      "├── \u001b[94my_position\u001b[0m = 3\n",
      "└── \u001b[94mwavelength\u001b[0m = 340\n",
      "\n"
     ]
    }
   ],
   "source": [
    "print(plate.wells[31])"
   ]
  },
  {
   "cell_type": "code",
   "execution_count": 5,
   "metadata": {},
   "outputs": [
    {
     "name": "stdout",
     "output_type": "stream",
     "text": [
      "\u001b[4mWell\u001b[0m\n",
      "├── \u001b[94mid\u001b[0m = A6\n",
      "├── \u001b[94mabsorption\u001b[0m = [0.8218072149792292, 0.7784879049748431, 0.7466985436004482, 0.7235992754187022, 0.6990941666635572, ...]\n",
      "├── \u001b[94mtime\u001b[0m = [0.0, 0.5, 1.0, 1.5, 2.0, ...]\n",
      "├── \u001b[94mtime_unit\u001b[0m = min\n",
      "├── \u001b[94minit_conditions\u001b[0m\n",
      "│   ├── 0\n",
      "│   │   └── \u001b[4mInitCondition\u001b[0m\n",
      "│   │       ├── \u001b[94mid\u001b[0m = initcondition10\n",
      "│   │       ├── \u001b[94mspecies_id\u001b[0m = s1\n",
      "│   │       ├── \u001b[94minit_conc\u001b[0m = 100.0\n",
      "│   │       ├── \u001b[94mconc_unit\u001b[0m = umol / l\n",
      "│   │       └── \u001b[94mwas_blanked\u001b[0m = True\n",
      "│   ├── 1\n",
      "│   │   └── \u001b[4mInitCondition\u001b[0m\n",
      "│   │       ├── \u001b[94mid\u001b[0m = initcondition128\n",
      "│   │       ├── \u001b[94mspecies_id\u001b[0m = s0\n",
      "│   │       ├── \u001b[94minit_conc\u001b[0m = 50.0\n",
      "│   │       ├── \u001b[94mconc_unit\u001b[0m = umol / l\n",
      "│   │       └── \u001b[94mwas_blanked\u001b[0m = False\n",
      "│   └── 2\n",
      "│       └── \u001b[4mInitCondition\u001b[0m\n",
      "│           ├── \u001b[94mid\u001b[0m = initcondition238\n",
      "│           ├── \u001b[94mspecies_id\u001b[0m = p0\n",
      "│           ├── \u001b[94minit_conc\u001b[0m = 4.0\n",
      "│           ├── \u001b[94mconc_unit\u001b[0m = umol / l\n",
      "│           └── \u001b[94mwas_blanked\u001b[0m = True\n",
      "├── \u001b[94mx_position\u001b[0m = 5\n",
      "├── \u001b[94my_position\u001b[0m = 0\n",
      "└── \u001b[94mwavelength\u001b[0m = 340\n",
      "\n"
     ]
    }
   ],
   "source": [
    "print(plate.wells[5])"
   ]
  },
  {
   "cell_type": "code",
   "execution_count": 6,
   "metadata": {},
   "outputs": [
    {
     "data": {
      "application/vnd.plotly.v1+json": {
       "config": {
        "plotlyServerURL": "https://plot.ly",
        "toImageButtonOptions": {
         "filename": "custom_image",
         "format": "svg",
         "scale": 1
        }
       },
       "data": [
        {
         "hoverinfo": "skip",
         "marker": {
          "color": "#1f77b4"
         },
         "mode": "markers",
         "name": "ABTS Standard",
         "type": "scatter",
         "visible": true,
         "x": [
          5,
          10,
          15,
          25,
          50,
          75,
          100,
          150,
          5,
          10,
          15,
          25,
          50,
          75,
          100,
          150,
          5,
          10,
          15,
          25,
          50,
          75,
          100,
          150
         ],
         "xaxis": "x",
         "y": [
          0.08641605681905236,
          0.18111455485537442,
          0.29443428891193385,
          0.5018776976691343,
          0.9929862158855982,
          1.4789017219829268,
          2.2947021545503516,
          2.7944619534978234,
          0.08416546637839822,
          0.15515158870269172,
          0.2632038151816907,
          0.4597016522654347,
          1.008779143813734,
          1.3610909816135723,
          2.098808411790892,
          2.645936629477214,
          0.07969135974636946,
          0.17415227214174123,
          0.2650666761199422,
          0.4768945723372803,
          1.0000621974852906,
          1.3537783598863573,
          2.0796071311001763,
          2.5834757983864858
         ],
         "yaxis": "y"
        },
        {
         "hoverinfo": "skip",
         "marker": {
          "color": "#1f77b4"
         },
         "mode": "lines",
         "name": "3rd degree polynominal",
         "type": "scatter",
         "visible": true,
         "x": [
          5,
          6.218487394957983,
          7.436974789915967,
          8.655462184873949,
          9.873949579831933,
          11.092436974789916,
          12.310924369747898,
          13.529411764705882,
          14.747899159663865,
          15.966386554621847,
          17.18487394957983,
          18.403361344537814,
          19.621848739495796,
          20.84033613445378,
          22.058823529411764,
          23.277310924369747,
          24.49579831932773,
          25.71428571428571,
          26.932773109243694,
          28.15126050420168,
          29.369747899159663,
          30.588235294117645,
          31.806722689075627,
          33.02521008403361,
          34.24369747899159,
          35.46218487394958,
          36.68067226890756,
          37.89915966386555,
          39.11764705882353,
          40.33613445378151,
          41.554621848739494,
          42.773109243697476,
          43.99159663865546,
          45.21008403361344,
          46.42857142857142,
          47.647058823529406,
          48.86554621848739,
          50.08403361344537,
          51.30252100840336,
          52.52100840336134,
          53.739495798319325,
          54.95798319327731,
          56.17647058823529,
          57.39495798319327,
          58.613445378151255,
          59.83193277310924,
          61.05042016806722,
          62.2689075630252,
          63.487394957983184,
          64.70588235294117,
          65.92436974789916,
          67.14285714285714,
          68.36134453781511,
          69.5798319327731,
          70.7983193277311,
          72.01680672268907,
          73.23529411764706,
          74.45378151260503,
          75.67226890756302,
          76.890756302521,
          78.10924369747899,
          79.32773109243696,
          80.54621848739495,
          81.76470588235293,
          82.98319327731092,
          84.2016806722689,
          85.42016806722688,
          86.63865546218487,
          87.85714285714285,
          89.07563025210084,
          90.29411764705881,
          91.5126050420168,
          92.73109243697478,
          93.94957983193277,
          95.16806722689074,
          96.38655462184873,
          97.60504201680672,
          98.8235294117647,
          100.04201680672269,
          101.26050420168066,
          102.47899159663865,
          103.69747899159663,
          104.91596638655462,
          106.13445378151259,
          107.35294117647058,
          108.57142857142856,
          109.78991596638654,
          111.00840336134453,
          112.22689075630251,
          113.4453781512605,
          114.66386554621847,
          115.88235294117646,
          117.10084033613444,
          118.31932773109243,
          119.5378151260504,
          120.7563025210084,
          121.97478991596637,
          123.19327731092436,
          124.41176470588235,
          125.63025210084032,
          126.84873949579831,
          128.06722689075627,
          129.28571428571428,
          130.50420168067225,
          131.72268907563023,
          132.94117647058823,
          134.1596638655462,
          135.37815126050418,
          136.5966386554622,
          137.81512605042016,
          139.03361344537814,
          140.2521008403361,
          141.47058823529412,
          142.6890756302521,
          143.90756302521007,
          145.12605042016804,
          146.34453781512605,
          147.56302521008402,
          148.781512605042,
          150
         ],
         "xaxis": "x",
         "y": [
          0.07769034258209342,
          0.09754412197837385,
          0.11774262659040854,
          0.13827792121662527,
          0.15914207065545186,
          0.18032713970531605,
          0.20182519316464573,
          0.2236282958318686,
          0.24572851250541253,
          0.2681179079837053,
          0.2907885470651746,
          0.3137324945482483,
          0.3369418152313543,
          0.3604085739129202,
          0.38412483539137404,
          0.40808266446514335,
          0.4322741259326561,
          0.45669128459234,
          0.4813262052426229,
          0.5061709526819326,
          0.5312175917086968,
          0.5564581871213433,
          0.5818848037183001,
          0.6074895062979948,
          0.6332643596588551,
          0.6592014285993093,
          0.6852927779177844,
          0.711530472412709,
          0.7379065768825103,
          0.7644131561256164,
          0.791042274940455,
          0.817785998125454,
          0.844636390479041,
          0.8715855167996438,
          0.8986254418856904,
          0.9257482305356086,
          0.9529459475478259,
          0.9802106577207703,
          1.0075344258528698,
          1.0349093167425518,
          1.0623273951882444,
          1.089780725988375,
          1.117261373941372,
          1.1447614038456626,
          1.172272880499675,
          1.1997878687018366,
          1.2272984332505754,
          1.2547966389443195,
          1.2822745505814965,
          1.309724232960534,
          1.33713775087986,
          1.364507169137902,
          1.391824552533088,
          1.4190819658638458,
          1.4462714739286036,
          1.4733851415257881,
          1.5004150334538287,
          1.5273532145111515,
          1.5541917494961854,
          1.5809227032073576,
          1.6075381404430966,
          1.6340301260018293,
          1.6603907246819842,
          1.6866120012819887,
          1.712686020600271,
          1.738604847435259,
          1.764360546585379,
          1.7899451828490611,
          1.815350821024731,
          1.8405695259108181,
          1.8655933623057492,
          1.8904143950079526,
          1.9150246888158557,
          1.9394163085278868,
          1.9635813189424731,
          1.9875117848580428,
          2.0111997710730236,
          2.0346373423858433,
          2.0578165635949297,
          2.0807294994987102,
          2.1033682148956134,
          2.1257247745840666,
          2.147791243362498,
          2.169559686029334,
          2.191022167383004,
          2.2121707522219354,
          2.232997505344556,
          2.2534944915492936,
          2.273653775634575,
          2.293467422398829,
          2.3129274966404836,
          2.3320260631579663,
          2.3507551867497045,
          2.3691069322141267,
          2.38707336434966,
          2.4046465479547323,
          2.4218185478277716,
          2.4385814287672063,
          2.4549272555714627,
          2.47084809303897,
          2.4863360059681554,
          2.501383059157447,
          2.515981317405272,
          2.5301228455100584,
          2.5437997082702344,
          2.557003970484228,
          2.569727696950466,
          2.581962952467377,
          2.593701801833388,
          2.6049363098469276,
          2.6156585413064235,
          2.6258605610103034,
          2.635534433756994,
          2.644672224344926,
          2.6532659975725243,
          2.661307818238217,
          2.668789751140434,
          2.6757038610776,
          2.682042212848146,
          2.6877968712504976
         ],
         "yaxis": "y"
        },
        {
         "hoverinfo": "skip",
         "marker": {
          "color": "#d62728"
         },
         "mode": "markers",
         "name": "Residuals",
         "type": "scatter",
         "visible": true,
         "x": [
          5,
          10,
          15,
          25,
          50,
          75,
          100,
          150,
          5,
          10,
          15,
          25,
          50,
          75,
          100,
          150,
          5,
          10,
          15,
          25,
          50,
          75,
          100,
          150
         ],
         "xaxis": "x2",
         "y": [
          -11.231401416126712,
          -12.271143816394156,
          -17.61501179029129,
          -13.456928763740933,
          -1.4982566817123266,
          3.929808428432159,
          -11.55459327216864,
          -3.9684949182078597,
          -8.334528567000074,
          3.8230453510951437,
          -5.139655915223411,
          -3.9224055101125312,
          -3.1125335235878193,
          11.582852730319033,
          -2.031419750602648,
          1.5574183533373906,
          -2.5756317938250906,
          -7.955292754855287,
          -5.883796185114519,
          -7.809121171899235,
          -2.2215293567918284,
          12.05788427554031,
          -1.0979691703127317,
          3.8812855978761682
         ],
         "yaxis": "y2"
        }
       ],
       "layout": {
        "annotations": [
         {
          "font": {
           "size": 16
          },
          "showarrow": false,
          "text": "Standard Curve",
          "x": 0.2125,
          "xanchor": "center",
          "xref": "paper",
          "y": 1,
          "yanchor": "bottom",
          "yref": "paper"
         },
         {
          "font": {
           "size": 16
          },
          "showarrow": false,
          "text": "Residuals",
          "x": 0.7875,
          "xanchor": "center",
          "xref": "paper",
          "y": 1,
          "yanchor": "bottom",
          "yref": "paper"
         },
         {
          "font": {
           "size": 16
          },
          "showarrow": false,
          "text": "ABTS concentration (µmol L<sup>-1</sup>)",
          "x": 0.5,
          "xanchor": "center",
          "xref": "paper",
          "y": 0,
          "yanchor": "top",
          "yref": "paper",
          "yshift": -30
         }
        ],
        "shapes": [
         {
          "line": {
           "color": "#000000",
           "dash": "dot",
           "width": 2
          },
          "type": "line",
          "x0": 0,
          "x1": 1,
          "xref": "x2 domain",
          "y0": 0,
          "y1": 0,
          "yref": "y2"
         }
        ],
        "template": {
         "data": {
          "bar": [
           {
            "error_x": {
             "color": "#2a3f5f"
            },
            "error_y": {
             "color": "#2a3f5f"
            },
            "marker": {
             "line": {
              "color": "#E5ECF6",
              "width": 0.5
             },
             "pattern": {
              "fillmode": "overlay",
              "size": 10,
              "solidity": 0.2
             }
            },
            "type": "bar"
           }
          ],
          "barpolar": [
           {
            "marker": {
             "line": {
              "color": "#E5ECF6",
              "width": 0.5
             },
             "pattern": {
              "fillmode": "overlay",
              "size": 10,
              "solidity": 0.2
             }
            },
            "type": "barpolar"
           }
          ],
          "carpet": [
           {
            "aaxis": {
             "endlinecolor": "#2a3f5f",
             "gridcolor": "white",
             "linecolor": "white",
             "minorgridcolor": "white",
             "startlinecolor": "#2a3f5f"
            },
            "baxis": {
             "endlinecolor": "#2a3f5f",
             "gridcolor": "white",
             "linecolor": "white",
             "minorgridcolor": "white",
             "startlinecolor": "#2a3f5f"
            },
            "type": "carpet"
           }
          ],
          "choropleth": [
           {
            "colorbar": {
             "outlinewidth": 0,
             "ticks": ""
            },
            "type": "choropleth"
           }
          ],
          "contour": [
           {
            "colorbar": {
             "outlinewidth": 0,
             "ticks": ""
            },
            "colorscale": [
             [
              0,
              "#0d0887"
             ],
             [
              0.1111111111111111,
              "#46039f"
             ],
             [
              0.2222222222222222,
              "#7201a8"
             ],
             [
              0.3333333333333333,
              "#9c179e"
             ],
             [
              0.4444444444444444,
              "#bd3786"
             ],
             [
              0.5555555555555556,
              "#d8576b"
             ],
             [
              0.6666666666666666,
              "#ed7953"
             ],
             [
              0.7777777777777778,
              "#fb9f3a"
             ],
             [
              0.8888888888888888,
              "#fdca26"
             ],
             [
              1,
              "#f0f921"
             ]
            ],
            "type": "contour"
           }
          ],
          "contourcarpet": [
           {
            "colorbar": {
             "outlinewidth": 0,
             "ticks": ""
            },
            "type": "contourcarpet"
           }
          ],
          "heatmap": [
           {
            "colorbar": {
             "outlinewidth": 0,
             "ticks": ""
            },
            "colorscale": [
             [
              0,
              "#0d0887"
             ],
             [
              0.1111111111111111,
              "#46039f"
             ],
             [
              0.2222222222222222,
              "#7201a8"
             ],
             [
              0.3333333333333333,
              "#9c179e"
             ],
             [
              0.4444444444444444,
              "#bd3786"
             ],
             [
              0.5555555555555556,
              "#d8576b"
             ],
             [
              0.6666666666666666,
              "#ed7953"
             ],
             [
              0.7777777777777778,
              "#fb9f3a"
             ],
             [
              0.8888888888888888,
              "#fdca26"
             ],
             [
              1,
              "#f0f921"
             ]
            ],
            "type": "heatmap"
           }
          ],
          "heatmapgl": [
           {
            "colorbar": {
             "outlinewidth": 0,
             "ticks": ""
            },
            "colorscale": [
             [
              0,
              "#0d0887"
             ],
             [
              0.1111111111111111,
              "#46039f"
             ],
             [
              0.2222222222222222,
              "#7201a8"
             ],
             [
              0.3333333333333333,
              "#9c179e"
             ],
             [
              0.4444444444444444,
              "#bd3786"
             ],
             [
              0.5555555555555556,
              "#d8576b"
             ],
             [
              0.6666666666666666,
              "#ed7953"
             ],
             [
              0.7777777777777778,
              "#fb9f3a"
             ],
             [
              0.8888888888888888,
              "#fdca26"
             ],
             [
              1,
              "#f0f921"
             ]
            ],
            "type": "heatmapgl"
           }
          ],
          "histogram": [
           {
            "marker": {
             "pattern": {
              "fillmode": "overlay",
              "size": 10,
              "solidity": 0.2
             }
            },
            "type": "histogram"
           }
          ],
          "histogram2d": [
           {
            "colorbar": {
             "outlinewidth": 0,
             "ticks": ""
            },
            "colorscale": [
             [
              0,
              "#0d0887"
             ],
             [
              0.1111111111111111,
              "#46039f"
             ],
             [
              0.2222222222222222,
              "#7201a8"
             ],
             [
              0.3333333333333333,
              "#9c179e"
             ],
             [
              0.4444444444444444,
              "#bd3786"
             ],
             [
              0.5555555555555556,
              "#d8576b"
             ],
             [
              0.6666666666666666,
              "#ed7953"
             ],
             [
              0.7777777777777778,
              "#fb9f3a"
             ],
             [
              0.8888888888888888,
              "#fdca26"
             ],
             [
              1,
              "#f0f921"
             ]
            ],
            "type": "histogram2d"
           }
          ],
          "histogram2dcontour": [
           {
            "colorbar": {
             "outlinewidth": 0,
             "ticks": ""
            },
            "colorscale": [
             [
              0,
              "#0d0887"
             ],
             [
              0.1111111111111111,
              "#46039f"
             ],
             [
              0.2222222222222222,
              "#7201a8"
             ],
             [
              0.3333333333333333,
              "#9c179e"
             ],
             [
              0.4444444444444444,
              "#bd3786"
             ],
             [
              0.5555555555555556,
              "#d8576b"
             ],
             [
              0.6666666666666666,
              "#ed7953"
             ],
             [
              0.7777777777777778,
              "#fb9f3a"
             ],
             [
              0.8888888888888888,
              "#fdca26"
             ],
             [
              1,
              "#f0f921"
             ]
            ],
            "type": "histogram2dcontour"
           }
          ],
          "mesh3d": [
           {
            "colorbar": {
             "outlinewidth": 0,
             "ticks": ""
            },
            "type": "mesh3d"
           }
          ],
          "parcoords": [
           {
            "line": {
             "colorbar": {
              "outlinewidth": 0,
              "ticks": ""
             }
            },
            "type": "parcoords"
           }
          ],
          "pie": [
           {
            "automargin": true,
            "type": "pie"
           }
          ],
          "scatter": [
           {
            "fillpattern": {
             "fillmode": "overlay",
             "size": 10,
             "solidity": 0.2
            },
            "type": "scatter"
           }
          ],
          "scatter3d": [
           {
            "line": {
             "colorbar": {
              "outlinewidth": 0,
              "ticks": ""
             }
            },
            "marker": {
             "colorbar": {
              "outlinewidth": 0,
              "ticks": ""
             }
            },
            "type": "scatter3d"
           }
          ],
          "scattercarpet": [
           {
            "marker": {
             "colorbar": {
              "outlinewidth": 0,
              "ticks": ""
             }
            },
            "type": "scattercarpet"
           }
          ],
          "scattergeo": [
           {
            "marker": {
             "colorbar": {
              "outlinewidth": 0,
              "ticks": ""
             }
            },
            "type": "scattergeo"
           }
          ],
          "scattergl": [
           {
            "marker": {
             "colorbar": {
              "outlinewidth": 0,
              "ticks": ""
             }
            },
            "type": "scattergl"
           }
          ],
          "scattermapbox": [
           {
            "marker": {
             "colorbar": {
              "outlinewidth": 0,
              "ticks": ""
             }
            },
            "type": "scattermapbox"
           }
          ],
          "scatterpolar": [
           {
            "marker": {
             "colorbar": {
              "outlinewidth": 0,
              "ticks": ""
             }
            },
            "type": "scatterpolar"
           }
          ],
          "scatterpolargl": [
           {
            "marker": {
             "colorbar": {
              "outlinewidth": 0,
              "ticks": ""
             }
            },
            "type": "scatterpolargl"
           }
          ],
          "scatterternary": [
           {
            "marker": {
             "colorbar": {
              "outlinewidth": 0,
              "ticks": ""
             }
            },
            "type": "scatterternary"
           }
          ],
          "surface": [
           {
            "colorbar": {
             "outlinewidth": 0,
             "ticks": ""
            },
            "colorscale": [
             [
              0,
              "#0d0887"
             ],
             [
              0.1111111111111111,
              "#46039f"
             ],
             [
              0.2222222222222222,
              "#7201a8"
             ],
             [
              0.3333333333333333,
              "#9c179e"
             ],
             [
              0.4444444444444444,
              "#bd3786"
             ],
             [
              0.5555555555555556,
              "#d8576b"
             ],
             [
              0.6666666666666666,
              "#ed7953"
             ],
             [
              0.7777777777777778,
              "#fb9f3a"
             ],
             [
              0.8888888888888888,
              "#fdca26"
             ],
             [
              1,
              "#f0f921"
             ]
            ],
            "type": "surface"
           }
          ],
          "table": [
           {
            "cells": {
             "fill": {
              "color": "#EBF0F8"
             },
             "line": {
              "color": "white"
             }
            },
            "header": {
             "fill": {
              "color": "#C8D4E3"
             },
             "line": {
              "color": "white"
             }
            },
            "type": "table"
           }
          ]
         },
         "layout": {
          "annotationdefaults": {
           "arrowcolor": "#2a3f5f",
           "arrowhead": 0,
           "arrowwidth": 1
          },
          "autotypenumbers": "strict",
          "coloraxis": {
           "colorbar": {
            "outlinewidth": 0,
            "ticks": ""
           }
          },
          "colorscale": {
           "diverging": [
            [
             0,
             "#8e0152"
            ],
            [
             0.1,
             "#c51b7d"
            ],
            [
             0.2,
             "#de77ae"
            ],
            [
             0.3,
             "#f1b6da"
            ],
            [
             0.4,
             "#fde0ef"
            ],
            [
             0.5,
             "#f7f7f7"
            ],
            [
             0.6,
             "#e6f5d0"
            ],
            [
             0.7,
             "#b8e186"
            ],
            [
             0.8,
             "#7fbc41"
            ],
            [
             0.9,
             "#4d9221"
            ],
            [
             1,
             "#276419"
            ]
           ],
           "sequential": [
            [
             0,
             "#0d0887"
            ],
            [
             0.1111111111111111,
             "#46039f"
            ],
            [
             0.2222222222222222,
             "#7201a8"
            ],
            [
             0.3333333333333333,
             "#9c179e"
            ],
            [
             0.4444444444444444,
             "#bd3786"
            ],
            [
             0.5555555555555556,
             "#d8576b"
            ],
            [
             0.6666666666666666,
             "#ed7953"
            ],
            [
             0.7777777777777778,
             "#fb9f3a"
            ],
            [
             0.8888888888888888,
             "#fdca26"
            ],
            [
             1,
             "#f0f921"
            ]
           ],
           "sequentialminus": [
            [
             0,
             "#0d0887"
            ],
            [
             0.1111111111111111,
             "#46039f"
            ],
            [
             0.2222222222222222,
             "#7201a8"
            ],
            [
             0.3333333333333333,
             "#9c179e"
            ],
            [
             0.4444444444444444,
             "#bd3786"
            ],
            [
             0.5555555555555556,
             "#d8576b"
            ],
            [
             0.6666666666666666,
             "#ed7953"
            ],
            [
             0.7777777777777778,
             "#fb9f3a"
            ],
            [
             0.8888888888888888,
             "#fdca26"
            ],
            [
             1,
             "#f0f921"
            ]
           ]
          },
          "colorway": [
           "#636efa",
           "#EF553B",
           "#00cc96",
           "#ab63fa",
           "#FFA15A",
           "#19d3f3",
           "#FF6692",
           "#B6E880",
           "#FF97FF",
           "#FECB52"
          ],
          "font": {
           "color": "#2a3f5f"
          },
          "geo": {
           "bgcolor": "white",
           "lakecolor": "white",
           "landcolor": "#E5ECF6",
           "showlakes": true,
           "showland": true,
           "subunitcolor": "white"
          },
          "hoverlabel": {
           "align": "left"
          },
          "hovermode": "closest",
          "mapbox": {
           "style": "light"
          },
          "paper_bgcolor": "white",
          "plot_bgcolor": "#E5ECF6",
          "polar": {
           "angularaxis": {
            "gridcolor": "white",
            "linecolor": "white",
            "ticks": ""
           },
           "bgcolor": "#E5ECF6",
           "radialaxis": {
            "gridcolor": "white",
            "linecolor": "white",
            "ticks": ""
           }
          },
          "scene": {
           "xaxis": {
            "backgroundcolor": "#E5ECF6",
            "gridcolor": "white",
            "gridwidth": 2,
            "linecolor": "white",
            "showbackground": true,
            "ticks": "",
            "zerolinecolor": "white"
           },
           "yaxis": {
            "backgroundcolor": "#E5ECF6",
            "gridcolor": "white",
            "gridwidth": 2,
            "linecolor": "white",
            "showbackground": true,
            "ticks": "",
            "zerolinecolor": "white"
           },
           "zaxis": {
            "backgroundcolor": "#E5ECF6",
            "gridcolor": "white",
            "gridwidth": 2,
            "linecolor": "white",
            "showbackground": true,
            "ticks": "",
            "zerolinecolor": "white"
           }
          },
          "shapedefaults": {
           "line": {
            "color": "#2a3f5f"
           }
          },
          "ternary": {
           "aaxis": {
            "gridcolor": "white",
            "linecolor": "white",
            "ticks": ""
           },
           "baxis": {
            "gridcolor": "white",
            "linecolor": "white",
            "ticks": ""
           },
           "bgcolor": "#E5ECF6",
           "caxis": {
            "gridcolor": "white",
            "linecolor": "white",
            "ticks": ""
           }
          },
          "title": {
           "x": 0.05
          },
          "xaxis": {
           "automargin": true,
           "gridcolor": "white",
           "linecolor": "white",
           "ticks": "",
           "title": {
            "standoff": 15
           },
           "zerolinecolor": "white",
           "zerolinewidth": 2
          },
          "yaxis": {
           "automargin": true,
           "gridcolor": "white",
           "linecolor": "white",
           "ticks": "",
           "title": {
            "standoff": 15
           },
           "zerolinecolor": "white",
           "zerolinewidth": 2
          }
         }
        },
        "xaxis": {
         "anchor": "y",
         "domain": [
          0,
          0.425
         ]
        },
        "xaxis2": {
         "anchor": "y2",
         "domain": [
          0.575,
          1
         ]
        },
        "yaxis": {
         "anchor": "x",
         "domain": [
          0,
          1
         ],
         "title": {
          "text": "Signal (a.u.)"
         }
        },
        "yaxis2": {
         "anchor": "x2",
         "domain": [
          0,
          1
         ],
         "title": {
          "text": "Residuals (%)"
         }
        }
       }
      }
     },
     "metadata": {},
     "output_type": "display_data"
    }
   ],
   "source": [
    "create_standard_curve(plate, abts, 340, 3).visualize()"
   ]
  }
 ],
 "metadata": {
  "kernelspec": {
   "display_name": "sdrdm_example",
   "language": "python",
   "name": "python3"
  },
  "language_info": {
   "codemirror_mode": {
    "name": "ipython",
    "version": 3
   },
   "file_extension": ".py",
   "mimetype": "text/x-python",
   "name": "python",
   "nbconvert_exporter": "python",
   "pygments_lexer": "ipython3",
   "version": "3.11.3"
  },
  "orig_nbformat": 4
 },
 "nbformat": 4,
 "nbformat_minor": 2
}
