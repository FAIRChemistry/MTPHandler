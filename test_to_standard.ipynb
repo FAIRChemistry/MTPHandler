{
 "cells": [
  {
   "cell_type": "code",
   "execution_count": 1,
   "metadata": {},
   "outputs": [],
   "source": [
    "import numpy as np"
   ]
  },
  {
   "cell_type": "code",
   "execution_count": 2,
   "metadata": {},
   "outputs": [],
   "source": [
    "%reload_ext autoreload\n",
    "%autoreload 2\n",
    "\n",
    "from MTPHandler import Plate"
   ]
  },
  {
   "cell_type": "code",
   "execution_count": 3,
   "metadata": {},
   "outputs": [],
   "source": [
    "path = \"/Users/max/Documents/enzymeml/alaric/EnzymeML_SLAC_5xConcentration_pH2.0-3.5/ABTS_EnzymeML_340nm_420nm_5x_35deg_pH3.5.txt\"\n",
    "time = np.linspace(0, 15, 31)\n",
    "time_unit = \"min\"\n",
    "\n",
    "# Load plate data\n",
    "plate = Plate.from_file(path, time, time_unit)\n",
    "\n",
    "# Define species\n",
    "buffer = plate.add_reactant(id=\"s1\", name=\"buffer\", constant=True)\n",
    "abts = plate.add_reactant(id=\"s0\", name=\"ABTS\", constant=False,\n",
    "                          inchi=\"InChI=1S/C18H18N4O6S4/c1-3-21-13-7-5-11(31(23,24)25)9-15(13)29-17(21)19-20-18-22(4-2)14-8-6-12(32(26,27)28)10-16(14)30-18/h5-10H,3-4H2,1-2H3,(H,23,24,25)(H,26,27,28)/b19-17-,20-18+\")\n",
    "slac = plate.add_protein(id=\"p0\", name=\"SLAC\",\n",
    "                         constant=True, sequence=\"MSSKSKPKDVKV\")\n",
    "\n",
    "# Define well conditions for each species\n",
    "# Define buffer concentration\n",
    "plate.assign_species_conditions_to_rows(\n",
    "    row_ids=[\"A\", \"B\", \"C\", \"D\", \"E\", \"F\"],\n",
    "    species=buffer,\n",
    "    init_concs=100,\n",
    "    conc_unit=\"umol / l\"\n",
    ")\n",
    "\n",
    "# Define substrate concentrations\n",
    "plate.assign_species_conditions_to_rows(\n",
    "    row_ids=[\"A\", \"B\", \"C\", \"D\", \"E\", \"F\"],\n",
    "    species=abts,\n",
    "    init_concs=[0, 5, 10, 15, 25, 50, 75, 100, 150, 200],\n",
    "    conc_unit=\"umol / l\"\n",
    ")\n",
    "\n",
    "# Define enzyme concentrations\n",
    "plate.assign_species_conditions_to_rows(\n",
    "    row_ids=[\"A\", \"B\", \"C\"],\n",
    "    species=slac,\n",
    "    init_concs=4,\n",
    "    conc_unit=\"umol / l\"\n",
    ")\n",
    "\n",
    "# Blank data\n",
    "plate.blank_species(buffer, 340)\n",
    "plate.blank_species(slac, 340)"
   ]
  },
  {
   "cell_type": "markdown",
   "metadata": {},
   "source": [
    "### Create instance of ```Standard```"
   ]
  },
  {
   "cell_type": "code",
   "execution_count": 4,
   "metadata": {},
   "outputs": [
    {
     "name": "stdout",
     "output_type": "stream",
     "text": [
      "s0 was blanked: False\n",
      "s0 was blanked: False\n",
      "s0 was blanked: False\n",
      "s0 was blanked: False\n",
      "s0 was blanked: False\n",
      "s0 was blanked: False\n",
      "s0 was blanked: False\n",
      "s0 was blanked: False\n",
      "s0 was blanked: False\n",
      "s0 was blanked: False\n",
      "s0 was blanked: False\n",
      "s0 was blanked: False\n",
      "s0 was blanked: False\n",
      "s0 was blanked: False\n",
      "s0 was blanked: False\n",
      "s0 was blanked: False\n",
      "s0 was blanked: False\n",
      "s0 was blanked: False\n",
      "s0 was blanked: False\n",
      "s0 was blanked: False\n",
      "s0 was blanked: False\n",
      "s0 was blanked: False\n",
      "s0 was blanked: False\n",
      "s0 was blanked: False\n",
      "s0 was blanked: False\n",
      "s0 was blanked: False\n",
      "s0 was blanked: False\n"
     ]
    }
   ],
   "source": [
    "abts_calibrator = plate.calibrate(abts, 340)"
   ]
  },
  {
   "cell_type": "code",
   "execution_count": 5,
   "metadata": {},
   "outputs": [
    {
     "name": "stdout",
     "output_type": "stream",
     "text": [
      "\u001b[4mCalibrationModel\u001b[0m\n",
      "├── \u001b[94mid\u001b[0m = calibrationmodel1\n",
      "├── \u001b[94mname\u001b[0m = linear\n",
      "├── \u001b[94mequation\u001b[0m = a * concentration = signal\n",
      "├── \u001b[94mparameters\u001b[0m\n",
      "│   └── 0\n",
      "│       └── \u001b[4mParameter\u001b[0m\n",
      "│           ├── \u001b[94mid\u001b[0m = parameter0\n",
      "│           ├── \u001b[94mname\u001b[0m = a\n",
      "│           ├── \u001b[94mvalue\u001b[0m = 0.018991787683955583\n",
      "│           ├── \u001b[94minit_value\u001b[0m = 0.1\n",
      "│           ├── \u001b[94mstandard_error\u001b[0m = 0.0003576140010834523\n",
      "│           ├── \u001b[94mlower_bound\u001b[0m = -inf\n",
      "│           └── \u001b[94mupper_bound\u001b[0m = inf\n",
      "├── \u001b[94mwas_fitted\u001b[0m = True\n",
      "├── \u001b[94mcalibration_range\u001b[0m\n",
      "│   └── \u001b[4mCalibrationRange\u001b[0m\n",
      "│       ├── \u001b[94mid\u001b[0m = calibrationrange1\n",
      "│       ├── \u001b[94mconc_lower\u001b[0m = 5.0\n",
      "│       ├── \u001b[94mconc_upper\u001b[0m = 150.0\n",
      "│       ├── \u001b[94msignal_lower\u001b[0m = 0.07969135974636946\n",
      "│       └── \u001b[94msignal_upper\u001b[0m = 2.7944619534978234\n",
      "└── \u001b[94mstatistics\u001b[0m\n",
      "    └── \u001b[4mFitStatistics\u001b[0m\n",
      "        ├── \u001b[94mid\u001b[0m = fitstatistics1\n",
      "        ├── \u001b[94maic\u001b[0m = -98.32491050898993\n",
      "        ├── \u001b[94mbic\u001b[0m = -97.14685667864198\n",
      "        ├── \u001b[94mr2\u001b[0m = 0.9815817838306456\n",
      "        └── \u001b[94mrmsd\u001b[0m = 0.12367448298983127\n",
      "\n",
      "\u001b[4mCalibrationModel\u001b[0m\n",
      "├── \u001b[94mid\u001b[0m = calibrationmodel2\n",
      "├── \u001b[94mname\u001b[0m = quadratic\n",
      "├── \u001b[94mequation\u001b[0m = a * concentration^2 + b * concentration = signal\n",
      "├── \u001b[94mparameters\u001b[0m\n",
      "│   ├── 0\n",
      "│   │   └── \u001b[4mParameter\u001b[0m\n",
      "│   │       ├── \u001b[94mid\u001b[0m = parameter1\n",
      "│   │       ├── \u001b[94mname\u001b[0m = a\n",
      "│   │       ├── \u001b[94mvalue\u001b[0m = -2.358519736197444e-05\n",
      "│   │       ├── \u001b[94minit_value\u001b[0m = 0.1\n",
      "│   │       ├── \u001b[94mstandard_error\u001b[0m = 8.453273139186995e-06\n",
      "│   │       ├── \u001b[94mlower_bound\u001b[0m = -inf\n",
      "│   │       └── \u001b[94mupper_bound\u001b[0m = inf\n",
      "│   └── 1\n",
      "│       └── \u001b[4mParameter\u001b[0m\n",
      "│           ├── \u001b[94mid\u001b[0m = parameter2\n",
      "│           ├── \u001b[94mname\u001b[0m = b\n",
      "│           ├── \u001b[94mvalue\u001b[0m = 0.02179366377395281\n",
      "│           ├── \u001b[94minit_value\u001b[0m = 0.1\n",
      "│           ├── \u001b[94mstandard_error\u001b[0m = 0.0010522546671626882\n",
      "│           ├── \u001b[94mlower_bound\u001b[0m = -inf\n",
      "│           └── \u001b[94mupper_bound\u001b[0m = inf\n",
      "├── \u001b[94mwas_fitted\u001b[0m = True\n",
      "├── \u001b[94mcalibration_range\u001b[0m\n",
      "│   └── \u001b[4mCalibrationRange\u001b[0m\n",
      "│       ├── \u001b[94mid\u001b[0m = calibrationrange2\n",
      "│       ├── \u001b[94mconc_lower\u001b[0m = 5.0\n",
      "│       ├── \u001b[94mconc_upper\u001b[0m = 150.0\n",
      "│       ├── \u001b[94msignal_lower\u001b[0m = 0.07969135974636946\n",
      "│       └── \u001b[94msignal_upper\u001b[0m = 2.7944619534978234\n",
      "└── \u001b[94mstatistics\u001b[0m\n",
      "    └── \u001b[4mFitStatistics\u001b[0m\n",
      "        ├── \u001b[94mid\u001b[0m = fitstatistics2\n",
      "        ├── \u001b[94maic\u001b[0m = -103.59558497847058\n",
      "        ├── \u001b[94mbic\u001b[0m = -101.23947731777469\n",
      "        ├── \u001b[94mr2\u001b[0m = 0.9863955708227213\n",
      "        └── \u001b[94mrmsd\u001b[0m = 0.10629099747098074\n",
      "\n",
      "\u001b[4mCalibrationModel\u001b[0m\n",
      "├── \u001b[94mid\u001b[0m = calibrationmodel3\n",
      "├── \u001b[94mname\u001b[0m = cubic\n",
      "├── \u001b[94mequation\u001b[0m = a * concentration^3 + b * concentration^2 + c * concentration = signal\n",
      "├── \u001b[94mparameters\u001b[0m\n",
      "│   ├── 0\n",
      "│   │   └── \u001b[4mParameter\u001b[0m\n",
      "│   │       ├── \u001b[94mid\u001b[0m = parameter3\n",
      "│   │       ├── \u001b[94mname\u001b[0m = c\n",
      "│   │       ├── \u001b[94mvalue\u001b[0m = 0.01490769655165103\n",
      "│   │       ├── \u001b[94minit_value\u001b[0m = 0.1\n",
      "│   │       ├── \u001b[94mstandard_error\u001b[0m = 0.0020161026240720125\n",
      "│   │       ├── \u001b[94mlower_bound\u001b[0m = -inf\n",
      "│   │       └── \u001b[94mupper_bound\u001b[0m = inf\n",
      "│   ├── 1\n",
      "│   │   └── \u001b[4mParameter\u001b[0m\n",
      "│   │       ├── \u001b[94mid\u001b[0m = parameter4\n",
      "│   │       ├── \u001b[94mname\u001b[0m = a\n",
      "│   │       ├── \u001b[94mvalue\u001b[0m = -7.310441235100712e-07\n",
      "│   │       ├── \u001b[94minit_value\u001b[0m = 0.1\n",
      "│   │       ├── \u001b[94mstandard_error\u001b[0m = 1.9489403778261085e-07\n",
      "│   │       ├── \u001b[94mlower_bound\u001b[0m = -inf\n",
      "│   │       └── \u001b[94mupper_bound\u001b[0m = inf\n",
      "│   └── 2\n",
      "│       └── \u001b[4mParameter\u001b[0m\n",
      "│           ├── \u001b[94mid\u001b[0m = parameter5\n",
      "│           ├── \u001b[94mname\u001b[0m = b\n",
      "│           ├── \u001b[94mvalue\u001b[0m = 0.00012972961357108148\n",
      "│           ├── \u001b[94minit_value\u001b[0m = 0.1\n",
      "│           ├── \u001b[94mstandard_error\u001b[0m = 4.141797534428746e-05\n",
      "│           ├── \u001b[94mlower_bound\u001b[0m = -inf\n",
      "│           └── \u001b[94mupper_bound\u001b[0m = inf\n",
      "├── \u001b[94mwas_fitted\u001b[0m = True\n",
      "├── \u001b[94mcalibration_range\u001b[0m\n",
      "│   └── \u001b[4mCalibrationRange\u001b[0m\n",
      "│       ├── \u001b[94mid\u001b[0m = calibrationrange3\n",
      "│       ├── \u001b[94mconc_lower\u001b[0m = 5.0\n",
      "│       ├── \u001b[94mconc_upper\u001b[0m = 150.0\n",
      "│       ├── \u001b[94msignal_lower\u001b[0m = 0.07969135974636946\n",
      "│       └── \u001b[94msignal_upper\u001b[0m = 2.7944619534978234\n",
      "└── \u001b[94mstatistics\u001b[0m\n",
      "    └── \u001b[4mFitStatistics\u001b[0m\n",
      "        ├── \u001b[94mid\u001b[0m = fitstatistics3\n",
      "        ├── \u001b[94maic\u001b[0m = -113.90326281159088\n",
      "        ├── \u001b[94mbic\u001b[0m = -110.36910132054705\n",
      "        ├── \u001b[94mr2\u001b[0m = 0.9918536049454114\n",
      "        └── \u001b[94mrmsd\u001b[0m = 0.08225059610315527\n",
      "\n",
      "\u001b[4mCalibrationModel\u001b[0m\n",
      "├── \u001b[94mid\u001b[0m = calibrationmodel4\n",
      "├── \u001b[94mname\u001b[0m = rational\n",
      "├── \u001b[94mequation\u001b[0m = a * concentration / (b + concentration) = signal\n",
      "├── \u001b[94mparameters\u001b[0m\n",
      "│   ├── 0\n",
      "│   │   └── \u001b[4mParameter\u001b[0m\n",
      "│   │       ├── \u001b[94mid\u001b[0m = parameter6\n",
      "│   │       ├── \u001b[94mname\u001b[0m = a\n",
      "│   │       ├── \u001b[94mvalue\u001b[0m = 17.2870436001065\n",
      "│   │       ├── \u001b[94minit_value\u001b[0m = 0.1\n",
      "│   │       ├── \u001b[94mstandard_error\u001b[0m = 6.685439089157886\n",
      "│   │       ├── \u001b[94mlower_bound\u001b[0m = -inf\n",
      "│   │       └── \u001b[94mupper_bound\u001b[0m = inf\n",
      "│   └── 1\n",
      "│       └── \u001b[4mParameter\u001b[0m\n",
      "│           ├── \u001b[94mid\u001b[0m = parameter7\n",
      "│           ├── \u001b[94mname\u001b[0m = b\n",
      "│           ├── \u001b[94mvalue\u001b[0m = 792.9279832393696\n",
      "│           ├── \u001b[94minit_value\u001b[0m = 0.1\n",
      "│           ├── \u001b[94mstandard_error\u001b[0m = 350.392698819723\n",
      "│           ├── \u001b[94mlower_bound\u001b[0m = -inf\n",
      "│           └── \u001b[94mupper_bound\u001b[0m = inf\n",
      "├── \u001b[94mwas_fitted\u001b[0m = True\n",
      "├── \u001b[94mcalibration_range\u001b[0m\n",
      "│   └── \u001b[4mCalibrationRange\u001b[0m\n",
      "│       ├── \u001b[94mid\u001b[0m = calibrationrange4\n",
      "│       ├── \u001b[94mconc_lower\u001b[0m = 5.0\n",
      "│       ├── \u001b[94mconc_upper\u001b[0m = 150.0\n",
      "│       ├── \u001b[94msignal_lower\u001b[0m = 0.07969135974636946\n",
      "│       └── \u001b[94msignal_upper\u001b[0m = 2.7944619534978234\n",
      "└── \u001b[94mstatistics\u001b[0m\n",
      "    └── \u001b[4mFitStatistics\u001b[0m\n",
      "        ├── \u001b[94mid\u001b[0m = fitstatistics4\n",
      "        ├── \u001b[94maic\u001b[0m = -102.87955493460896\n",
      "        ├── \u001b[94mbic\u001b[0m = -100.52344727391306\n",
      "        ├── \u001b[94mr2\u001b[0m = 0.9859835729892122\n",
      "        └── \u001b[94mrmsd\u001b[0m = 0.10788845663896447\n",
      "\n"
     ]
    },
    {
     "data": {
      "text/html": [
       "<style type=\"text/css\">\n",
       "#T_c5c8f_row0_col0, #T_c5c8f_row0_col2, #T_c5c8f_row3_col1 {\n",
       "  background-color: #f7fbff;\n",
       "  color: #000000;\n",
       "}\n",
       "#T_c5c8f_row0_col1, #T_c5c8f_row3_col0, #T_c5c8f_row3_col2 {\n",
       "  background-color: #08306b;\n",
       "  color: #f1f1f1;\n",
       "}\n",
       "#T_c5c8f_row1_col0 {\n",
       "  background-color: #4191c6;\n",
       "  color: #f1f1f1;\n",
       "}\n",
       "#T_c5c8f_row1_col1 {\n",
       "  background-color: #79b5d9;\n",
       "  color: #000000;\n",
       "}\n",
       "#T_c5c8f_row1_col2 {\n",
       "  background-color: #519ccc;\n",
       "  color: #f1f1f1;\n",
       "}\n",
       "#T_c5c8f_row2_col0 {\n",
       "  background-color: #3181bd;\n",
       "  color: #f1f1f1;\n",
       "}\n",
       "#T_c5c8f_row2_col1 {\n",
       "  background-color: #89bedc;\n",
       "  color: #000000;\n",
       "}\n",
       "#T_c5c8f_row2_col2 {\n",
       "  background-color: #4493c7;\n",
       "  color: #f1f1f1;\n",
       "}\n",
       "</style>\n",
       "<table id=\"T_c5c8f\">\n",
       "  <thead>\n",
       "    <tr>\n",
       "      <th class=\"blank level0\" >&nbsp;</th>\n",
       "      <th id=\"T_c5c8f_level0_col0\" class=\"col_heading level0 col0\" >AIC</th>\n",
       "      <th id=\"T_c5c8f_level0_col1\" class=\"col_heading level0 col1\" >R squared</th>\n",
       "      <th id=\"T_c5c8f_level0_col2\" class=\"col_heading level0 col2\" >RMSD</th>\n",
       "    </tr>\n",
       "    <tr>\n",
       "      <th class=\"index_name level0\" >Model Name</th>\n",
       "      <th class=\"blank col0\" >&nbsp;</th>\n",
       "      <th class=\"blank col1\" >&nbsp;</th>\n",
       "      <th class=\"blank col2\" >&nbsp;</th>\n",
       "    </tr>\n",
       "  </thead>\n",
       "  <tbody>\n",
       "    <tr>\n",
       "      <th id=\"T_c5c8f_level0_row0\" class=\"row_heading level0 row0\" >cubic</th>\n",
       "      <td id=\"T_c5c8f_row0_col0\" class=\"data row0 col0\" >-114</td>\n",
       "      <td id=\"T_c5c8f_row0_col1\" class=\"data row0 col1\" >0.9919</td>\n",
       "      <td id=\"T_c5c8f_row0_col2\" class=\"data row0 col2\" >0.0823</td>\n",
       "    </tr>\n",
       "    <tr>\n",
       "      <th id=\"T_c5c8f_level0_row1\" class=\"row_heading level0 row1\" >quadratic</th>\n",
       "      <td id=\"T_c5c8f_row1_col0\" class=\"data row1 col0\" >-104</td>\n",
       "      <td id=\"T_c5c8f_row1_col1\" class=\"data row1 col1\" >0.9864</td>\n",
       "      <td id=\"T_c5c8f_row1_col2\" class=\"data row1 col2\" >0.1063</td>\n",
       "    </tr>\n",
       "    <tr>\n",
       "      <th id=\"T_c5c8f_level0_row2\" class=\"row_heading level0 row2\" >rational</th>\n",
       "      <td id=\"T_c5c8f_row2_col0\" class=\"data row2 col0\" >-103</td>\n",
       "      <td id=\"T_c5c8f_row2_col1\" class=\"data row2 col1\" >0.9860</td>\n",
       "      <td id=\"T_c5c8f_row2_col2\" class=\"data row2 col2\" >0.1079</td>\n",
       "    </tr>\n",
       "    <tr>\n",
       "      <th id=\"T_c5c8f_level0_row3\" class=\"row_heading level0 row3\" >linear</th>\n",
       "      <td id=\"T_c5c8f_row3_col0\" class=\"data row3 col0\" >-98</td>\n",
       "      <td id=\"T_c5c8f_row3_col1\" class=\"data row3 col1\" >0.9816</td>\n",
       "      <td id=\"T_c5c8f_row3_col2\" class=\"data row3 col2\" >0.1237</td>\n",
       "    </tr>\n",
       "  </tbody>\n",
       "</table>\n"
      ],
      "text/plain": [
       "<pandas.io.formats.style.Styler at 0x288aed650>"
      ]
     },
     "execution_count": 5,
     "metadata": {},
     "output_type": "execute_result"
    }
   ],
   "source": [
    "linear_model = abts_calibrator.add_to_models(\n",
    "    name=\"linear\", equation=\"a * concentration = signal\"\n",
    ")\n",
    "quadratic_model = abts_calibrator.add_to_models(\n",
    "    name=\"quadratic\", equation=\"a * concentration^2 + b * concentration = signal\"\n",
    ")\n",
    "cubic_model = abts_calibrator.add_to_models(\n",
    "    name=\"cubic\", equation=\"a * concentration^3 + b * concentration^2 + c * concentration = signal\"\n",
    ")\n",
    "rational_model = abts_calibrator.add_to_models(\n",
    "    name=\"rational\", equation=\"a * concentration / (b + concentration) = signal\"\n",
    ")\n",
    "\n",
    "abts_calibrator.fit_models()"
   ]
  },
  {
   "cell_type": "code",
   "execution_count": 6,
   "metadata": {},
   "outputs": [
    {
     "data": {
      "application/vnd.plotly.v1+json": {
       "config": {
        "plotlyServerURL": "https://plot.ly",
        "toImageButtonOptions": {
         "filename": "linear_calibration_curve",
         "format": "svg",
         "scale": 1
        }
       },
       "data": [
        {
         "hoverinfo": "skip",
         "marker": {
          "color": "#1f77b4"
         },
         "mode": "markers",
         "name": "ABTS",
         "type": "scatter",
         "visible": true,
         "x": [
          5,
          10,
          15,
          25,
          50,
          75,
          100,
          150,
          5,
          10,
          15,
          25,
          50,
          75,
          100,
          150,
          5,
          10,
          15,
          25,
          50,
          75,
          100,
          150
         ],
         "xaxis": "x",
         "y": [
          0.08641605681905236,
          0.18111455485537442,
          0.29443428891193385,
          0.5018776976691343,
          0.9929862158855982,
          1.4789017219829268,
          2.2947021545503516,
          2.7944619534978234,
          0.08416546637839822,
          0.15515158870269172,
          0.2632038151816907,
          0.4597016522654347,
          1.008779143813734,
          1.3610909816135723,
          2.098808411790892,
          2.645936629477214,
          0.07969135974636946,
          0.17415227214174123,
          0.2650666761199422,
          0.4768945723372803,
          1.0000621974852906,
          1.3537783598863573,
          2.0796071311001763,
          2.5834757983864858
         ],
         "yaxis": "y"
        },
        {
         "hoverinfo": "skip",
         "marker": {
          "color": "#1f77b4"
         },
         "mode": "lines",
         "name": "linear model",
         "type": "scatter",
         "visible": true,
         "x": [
          5,
          6.218487394957983,
          7.436974789915967,
          8.655462184873949,
          9.873949579831933,
          11.092436974789916,
          12.310924369747898,
          13.529411764705882,
          14.747899159663865,
          15.966386554621847,
          17.18487394957983,
          18.403361344537814,
          19.621848739495796,
          20.84033613445378,
          22.058823529411764,
          23.277310924369747,
          24.49579831932773,
          25.71428571428571,
          26.932773109243694,
          28.15126050420168,
          29.369747899159663,
          30.588235294117645,
          31.806722689075627,
          33.02521008403361,
          34.24369747899159,
          35.46218487394958,
          36.68067226890756,
          37.89915966386555,
          39.11764705882353,
          40.33613445378151,
          41.554621848739494,
          42.773109243697476,
          43.99159663865546,
          45.21008403361344,
          46.42857142857142,
          47.647058823529406,
          48.86554621848739,
          50.08403361344537,
          51.30252100840336,
          52.52100840336134,
          53.739495798319325,
          54.95798319327731,
          56.17647058823529,
          57.39495798319327,
          58.613445378151255,
          59.83193277310924,
          61.05042016806722,
          62.2689075630252,
          63.487394957983184,
          64.70588235294117,
          65.92436974789916,
          67.14285714285714,
          68.36134453781511,
          69.5798319327731,
          70.7983193277311,
          72.01680672268907,
          73.23529411764706,
          74.45378151260503,
          75.67226890756302,
          76.890756302521,
          78.10924369747899,
          79.32773109243696,
          80.54621848739495,
          81.76470588235293,
          82.98319327731092,
          84.2016806722689,
          85.42016806722688,
          86.63865546218487,
          87.85714285714285,
          89.07563025210084,
          90.29411764705881,
          91.5126050420168,
          92.73109243697478,
          93.94957983193277,
          95.16806722689074,
          96.38655462184873,
          97.60504201680672,
          98.8235294117647,
          100.04201680672269,
          101.26050420168066,
          102.47899159663865,
          103.69747899159663,
          104.91596638655462,
          106.13445378151259,
          107.35294117647058,
          108.57142857142856,
          109.78991596638654,
          111.00840336134453,
          112.22689075630251,
          113.4453781512605,
          114.66386554621847,
          115.88235294117646,
          117.10084033613444,
          118.31932773109243,
          119.5378151260504,
          120.7563025210084,
          121.97478991596637,
          123.19327731092436,
          124.41176470588235,
          125.63025210084032,
          126.84873949579831,
          128.06722689075627,
          129.28571428571428,
          130.50420168067225,
          131.72268907563023,
          132.94117647058823,
          134.1596638655462,
          135.37815126050418,
          136.5966386554622,
          137.81512605042016,
          139.03361344537814,
          140.2521008403361,
          141.47058823529412,
          142.6890756302521,
          143.90756302521007,
          145.12605042016804,
          146.34453781512605,
          147.56302521008402,
          148.781512605042,
          150
         ],
         "xaxis": "x",
         "y": [
          0.09495893841977791,
          0.11810019232039606,
          0.1412414462210142,
          0.16438270012163234,
          0.1875239540222505,
          0.21066520792286864,
          0.23380646182348677,
          0.25694771572410496,
          0.28008896962472307,
          0.3032302235253412,
          0.32637147742595934,
          0.3495127313265775,
          0.3726539852271956,
          0.3957952391278138,
          0.41893649302843194,
          0.4420777469290501,
          0.4652190008296682,
          0.4883602547302864,
          0.5115015086309045,
          0.5346427625315227,
          0.5577840164321408,
          0.580925270332759,
          0.6040665242333771,
          0.6272077781339952,
          0.6503490320346134,
          0.6734902859352316,
          0.6966315398358496,
          0.7197727937364679,
          0.742914047637086,
          0.7660553015377042,
          0.7891965554383222,
          0.8123378093389404,
          0.8354790632395586,
          0.8586203171401767,
          0.8817615710407948,
          0.9049028249414129,
          0.9280440788420311,
          0.9511853327426492,
          0.9743265866432674,
          0.9974678405438856,
          1.0206090944445037,
          1.0437503483451218,
          1.06689160224574,
          1.0900328561463581,
          1.1131741100469763,
          1.1363153639475945,
          1.1594566178482126,
          1.1825978717488306,
          1.2057391256494487,
          1.2288803795500671,
          1.2520216334506853,
          1.2751628873513032,
          1.2983041412519214,
          1.3214453951525396,
          1.344586649053158,
          1.3677279029537759,
          1.390869156854394,
          1.4140104107550122,
          1.4371516646556304,
          1.4602929185562483,
          1.4834341724568667,
          1.5065754263574846,
          1.5297166802581028,
          1.552857934158721,
          1.5759991880593391,
          1.5991404419599575,
          1.6222816958605755,
          1.6454229497611936,
          1.6685642036618118,
          1.69170545756243,
          1.714846711463048,
          1.7379879653636663,
          1.7611292192642842,
          1.7842704731649026,
          1.8074117270655206,
          1.8305529809661387,
          1.853694234866757,
          1.876835488767375,
          1.8999767426679932,
          1.9231179965686114,
          1.9462592504692295,
          1.9694005043698475,
          1.9925417582704659,
          2.015683012171084,
          2.038824266071702,
          2.06196551997232,
          2.0851067738729383,
          2.1082480277735565,
          2.1313892816741746,
          2.154530535574793,
          2.177671789475411,
          2.200813043376029,
          2.2239542972766473,
          2.2470955511772654,
          2.2702368050778836,
          2.2933780589785018,
          2.3165193128791195,
          2.339660566779738,
          2.3628018206803563,
          2.3859430745809744,
          2.4090843284815926,
          2.4322255823822103,
          2.455366836282829,
          2.4785080901834466,
          2.501649344084065,
          2.5247905979846834,
          2.547931851885301,
          2.5710731057859193,
          2.594214359686538,
          2.6173556135871556,
          2.640496867487774,
          2.663638121388392,
          2.6867793752890106,
          2.7099206291896283,
          2.7330618830902464,
          2.756203136990864,
          2.7793443908914828,
          2.802485644792101,
          2.8256268986927187,
          2.8487681525933373
         ],
         "yaxis": "y"
        },
        {
         "hoverinfo": "skip",
         "marker": {
          "color": "#d62728"
         },
         "mode": "markers",
         "name": "Residuals",
         "type": "scatter",
         "visible": true,
         "x": [
          5,
          10,
          15,
          25,
          50,
          75,
          100,
          150,
          5,
          10,
          15,
          25,
          50,
          75,
          100,
          150,
          5,
          10,
          15,
          25,
          50,
          75,
          100,
          150
         ],
         "xaxis": "x2",
         "y": [
          -8.996395434583182,
          -4.635330875996747,
          3.3549496275783652,
          5.70415087214241,
          4.570062851374549,
          3.8274540268662274,
          20.82602189623964,
          -1.9063046266533452,
          -11.366462411011579,
          -18.305958720376257,
          -7.607849750044868,
          -3.1788560581278222,
          6.233195168452597,
          -4.443541298752465,
          10.511366634747212,
          -7.119972993642117,
          -16.07808483064144,
          -8.301274719458618,
          -6.953931691969251,
          0.44227121181745105,
          5.315225099125477,
          -4.956929636133174,
          9.500335919248155,
          -9.312528784251754
         ],
         "yaxis": "y2"
        }
       ],
       "layout": {
        "annotations": [
         {
          "font": {
           "size": 16
          },
          "showarrow": false,
          "text": "Standard",
          "x": 0.2125,
          "xanchor": "center",
          "xref": "paper",
          "y": 1,
          "yanchor": "bottom",
          "yref": "paper"
         },
         {
          "font": {
           "size": 16
          },
          "showarrow": false,
          "text": "Model Residuals",
          "x": 0.7875,
          "xanchor": "center",
          "xref": "paper",
          "y": 1,
          "yanchor": "bottom",
          "yref": "paper"
         },
         {
          "font": {
           "size": 16
          },
          "showarrow": false,
          "text": "ABTS concentration (umol / l)",
          "x": 0.5,
          "xanchor": "center",
          "xref": "paper",
          "y": 0,
          "yanchor": "top",
          "yref": "paper",
          "yshift": -30
         }
        ],
        "shapes": [
         {
          "line": {
           "color": "#000000",
           "dash": "dot",
           "width": 2
          },
          "type": "line",
          "x0": 0,
          "x1": 1,
          "xref": "x2 domain",
          "y0": 0,
          "y1": 0,
          "yref": "y2"
         }
        ],
        "template": {
         "data": {
          "bar": [
           {
            "error_x": {
             "color": "#2a3f5f"
            },
            "error_y": {
             "color": "#2a3f5f"
            },
            "marker": {
             "line": {
              "color": "#E5ECF6",
              "width": 0.5
             },
             "pattern": {
              "fillmode": "overlay",
              "size": 10,
              "solidity": 0.2
             }
            },
            "type": "bar"
           }
          ],
          "barpolar": [
           {
            "marker": {
             "line": {
              "color": "#E5ECF6",
              "width": 0.5
             },
             "pattern": {
              "fillmode": "overlay",
              "size": 10,
              "solidity": 0.2
             }
            },
            "type": "barpolar"
           }
          ],
          "carpet": [
           {
            "aaxis": {
             "endlinecolor": "#2a3f5f",
             "gridcolor": "white",
             "linecolor": "white",
             "minorgridcolor": "white",
             "startlinecolor": "#2a3f5f"
            },
            "baxis": {
             "endlinecolor": "#2a3f5f",
             "gridcolor": "white",
             "linecolor": "white",
             "minorgridcolor": "white",
             "startlinecolor": "#2a3f5f"
            },
            "type": "carpet"
           }
          ],
          "choropleth": [
           {
            "colorbar": {
             "outlinewidth": 0,
             "ticks": ""
            },
            "type": "choropleth"
           }
          ],
          "contour": [
           {
            "colorbar": {
             "outlinewidth": 0,
             "ticks": ""
            },
            "colorscale": [
             [
              0,
              "#0d0887"
             ],
             [
              0.1111111111111111,
              "#46039f"
             ],
             [
              0.2222222222222222,
              "#7201a8"
             ],
             [
              0.3333333333333333,
              "#9c179e"
             ],
             [
              0.4444444444444444,
              "#bd3786"
             ],
             [
              0.5555555555555556,
              "#d8576b"
             ],
             [
              0.6666666666666666,
              "#ed7953"
             ],
             [
              0.7777777777777778,
              "#fb9f3a"
             ],
             [
              0.8888888888888888,
              "#fdca26"
             ],
             [
              1,
              "#f0f921"
             ]
            ],
            "type": "contour"
           }
          ],
          "contourcarpet": [
           {
            "colorbar": {
             "outlinewidth": 0,
             "ticks": ""
            },
            "type": "contourcarpet"
           }
          ],
          "heatmap": [
           {
            "colorbar": {
             "outlinewidth": 0,
             "ticks": ""
            },
            "colorscale": [
             [
              0,
              "#0d0887"
             ],
             [
              0.1111111111111111,
              "#46039f"
             ],
             [
              0.2222222222222222,
              "#7201a8"
             ],
             [
              0.3333333333333333,
              "#9c179e"
             ],
             [
              0.4444444444444444,
              "#bd3786"
             ],
             [
              0.5555555555555556,
              "#d8576b"
             ],
             [
              0.6666666666666666,
              "#ed7953"
             ],
             [
              0.7777777777777778,
              "#fb9f3a"
             ],
             [
              0.8888888888888888,
              "#fdca26"
             ],
             [
              1,
              "#f0f921"
             ]
            ],
            "type": "heatmap"
           }
          ],
          "heatmapgl": [
           {
            "colorbar": {
             "outlinewidth": 0,
             "ticks": ""
            },
            "colorscale": [
             [
              0,
              "#0d0887"
             ],
             [
              0.1111111111111111,
              "#46039f"
             ],
             [
              0.2222222222222222,
              "#7201a8"
             ],
             [
              0.3333333333333333,
              "#9c179e"
             ],
             [
              0.4444444444444444,
              "#bd3786"
             ],
             [
              0.5555555555555556,
              "#d8576b"
             ],
             [
              0.6666666666666666,
              "#ed7953"
             ],
             [
              0.7777777777777778,
              "#fb9f3a"
             ],
             [
              0.8888888888888888,
              "#fdca26"
             ],
             [
              1,
              "#f0f921"
             ]
            ],
            "type": "heatmapgl"
           }
          ],
          "histogram": [
           {
            "marker": {
             "pattern": {
              "fillmode": "overlay",
              "size": 10,
              "solidity": 0.2
             }
            },
            "type": "histogram"
           }
          ],
          "histogram2d": [
           {
            "colorbar": {
             "outlinewidth": 0,
             "ticks": ""
            },
            "colorscale": [
             [
              0,
              "#0d0887"
             ],
             [
              0.1111111111111111,
              "#46039f"
             ],
             [
              0.2222222222222222,
              "#7201a8"
             ],
             [
              0.3333333333333333,
              "#9c179e"
             ],
             [
              0.4444444444444444,
              "#bd3786"
             ],
             [
              0.5555555555555556,
              "#d8576b"
             ],
             [
              0.6666666666666666,
              "#ed7953"
             ],
             [
              0.7777777777777778,
              "#fb9f3a"
             ],
             [
              0.8888888888888888,
              "#fdca26"
             ],
             [
              1,
              "#f0f921"
             ]
            ],
            "type": "histogram2d"
           }
          ],
          "histogram2dcontour": [
           {
            "colorbar": {
             "outlinewidth": 0,
             "ticks": ""
            },
            "colorscale": [
             [
              0,
              "#0d0887"
             ],
             [
              0.1111111111111111,
              "#46039f"
             ],
             [
              0.2222222222222222,
              "#7201a8"
             ],
             [
              0.3333333333333333,
              "#9c179e"
             ],
             [
              0.4444444444444444,
              "#bd3786"
             ],
             [
              0.5555555555555556,
              "#d8576b"
             ],
             [
              0.6666666666666666,
              "#ed7953"
             ],
             [
              0.7777777777777778,
              "#fb9f3a"
             ],
             [
              0.8888888888888888,
              "#fdca26"
             ],
             [
              1,
              "#f0f921"
             ]
            ],
            "type": "histogram2dcontour"
           }
          ],
          "mesh3d": [
           {
            "colorbar": {
             "outlinewidth": 0,
             "ticks": ""
            },
            "type": "mesh3d"
           }
          ],
          "parcoords": [
           {
            "line": {
             "colorbar": {
              "outlinewidth": 0,
              "ticks": ""
             }
            },
            "type": "parcoords"
           }
          ],
          "pie": [
           {
            "automargin": true,
            "type": "pie"
           }
          ],
          "scatter": [
           {
            "fillpattern": {
             "fillmode": "overlay",
             "size": 10,
             "solidity": 0.2
            },
            "type": "scatter"
           }
          ],
          "scatter3d": [
           {
            "line": {
             "colorbar": {
              "outlinewidth": 0,
              "ticks": ""
             }
            },
            "marker": {
             "colorbar": {
              "outlinewidth": 0,
              "ticks": ""
             }
            },
            "type": "scatter3d"
           }
          ],
          "scattercarpet": [
           {
            "marker": {
             "colorbar": {
              "outlinewidth": 0,
              "ticks": ""
             }
            },
            "type": "scattercarpet"
           }
          ],
          "scattergeo": [
           {
            "marker": {
             "colorbar": {
              "outlinewidth": 0,
              "ticks": ""
             }
            },
            "type": "scattergeo"
           }
          ],
          "scattergl": [
           {
            "marker": {
             "colorbar": {
              "outlinewidth": 0,
              "ticks": ""
             }
            },
            "type": "scattergl"
           }
          ],
          "scattermapbox": [
           {
            "marker": {
             "colorbar": {
              "outlinewidth": 0,
              "ticks": ""
             }
            },
            "type": "scattermapbox"
           }
          ],
          "scatterpolar": [
           {
            "marker": {
             "colorbar": {
              "outlinewidth": 0,
              "ticks": ""
             }
            },
            "type": "scatterpolar"
           }
          ],
          "scatterpolargl": [
           {
            "marker": {
             "colorbar": {
              "outlinewidth": 0,
              "ticks": ""
             }
            },
            "type": "scatterpolargl"
           }
          ],
          "scatterternary": [
           {
            "marker": {
             "colorbar": {
              "outlinewidth": 0,
              "ticks": ""
             }
            },
            "type": "scatterternary"
           }
          ],
          "surface": [
           {
            "colorbar": {
             "outlinewidth": 0,
             "ticks": ""
            },
            "colorscale": [
             [
              0,
              "#0d0887"
             ],
             [
              0.1111111111111111,
              "#46039f"
             ],
             [
              0.2222222222222222,
              "#7201a8"
             ],
             [
              0.3333333333333333,
              "#9c179e"
             ],
             [
              0.4444444444444444,
              "#bd3786"
             ],
             [
              0.5555555555555556,
              "#d8576b"
             ],
             [
              0.6666666666666666,
              "#ed7953"
             ],
             [
              0.7777777777777778,
              "#fb9f3a"
             ],
             [
              0.8888888888888888,
              "#fdca26"
             ],
             [
              1,
              "#f0f921"
             ]
            ],
            "type": "surface"
           }
          ],
          "table": [
           {
            "cells": {
             "fill": {
              "color": "#EBF0F8"
             },
             "line": {
              "color": "white"
             }
            },
            "header": {
             "fill": {
              "color": "#C8D4E3"
             },
             "line": {
              "color": "white"
             }
            },
            "type": "table"
           }
          ]
         },
         "layout": {
          "annotationdefaults": {
           "arrowcolor": "#2a3f5f",
           "arrowhead": 0,
           "arrowwidth": 1
          },
          "autotypenumbers": "strict",
          "coloraxis": {
           "colorbar": {
            "outlinewidth": 0,
            "ticks": ""
           }
          },
          "colorscale": {
           "diverging": [
            [
             0,
             "#8e0152"
            ],
            [
             0.1,
             "#c51b7d"
            ],
            [
             0.2,
             "#de77ae"
            ],
            [
             0.3,
             "#f1b6da"
            ],
            [
             0.4,
             "#fde0ef"
            ],
            [
             0.5,
             "#f7f7f7"
            ],
            [
             0.6,
             "#e6f5d0"
            ],
            [
             0.7,
             "#b8e186"
            ],
            [
             0.8,
             "#7fbc41"
            ],
            [
             0.9,
             "#4d9221"
            ],
            [
             1,
             "#276419"
            ]
           ],
           "sequential": [
            [
             0,
             "#0d0887"
            ],
            [
             0.1111111111111111,
             "#46039f"
            ],
            [
             0.2222222222222222,
             "#7201a8"
            ],
            [
             0.3333333333333333,
             "#9c179e"
            ],
            [
             0.4444444444444444,
             "#bd3786"
            ],
            [
             0.5555555555555556,
             "#d8576b"
            ],
            [
             0.6666666666666666,
             "#ed7953"
            ],
            [
             0.7777777777777778,
             "#fb9f3a"
            ],
            [
             0.8888888888888888,
             "#fdca26"
            ],
            [
             1,
             "#f0f921"
            ]
           ],
           "sequentialminus": [
            [
             0,
             "#0d0887"
            ],
            [
             0.1111111111111111,
             "#46039f"
            ],
            [
             0.2222222222222222,
             "#7201a8"
            ],
            [
             0.3333333333333333,
             "#9c179e"
            ],
            [
             0.4444444444444444,
             "#bd3786"
            ],
            [
             0.5555555555555556,
             "#d8576b"
            ],
            [
             0.6666666666666666,
             "#ed7953"
            ],
            [
             0.7777777777777778,
             "#fb9f3a"
            ],
            [
             0.8888888888888888,
             "#fdca26"
            ],
            [
             1,
             "#f0f921"
            ]
           ]
          },
          "colorway": [
           "#636efa",
           "#EF553B",
           "#00cc96",
           "#ab63fa",
           "#FFA15A",
           "#19d3f3",
           "#FF6692",
           "#B6E880",
           "#FF97FF",
           "#FECB52"
          ],
          "font": {
           "color": "#2a3f5f"
          },
          "geo": {
           "bgcolor": "white",
           "lakecolor": "white",
           "landcolor": "#E5ECF6",
           "showlakes": true,
           "showland": true,
           "subunitcolor": "white"
          },
          "hoverlabel": {
           "align": "left"
          },
          "hovermode": "closest",
          "mapbox": {
           "style": "light"
          },
          "paper_bgcolor": "white",
          "plot_bgcolor": "#E5ECF6",
          "polar": {
           "angularaxis": {
            "gridcolor": "white",
            "linecolor": "white",
            "ticks": ""
           },
           "bgcolor": "#E5ECF6",
           "radialaxis": {
            "gridcolor": "white",
            "linecolor": "white",
            "ticks": ""
           }
          },
          "scene": {
           "xaxis": {
            "backgroundcolor": "#E5ECF6",
            "gridcolor": "white",
            "gridwidth": 2,
            "linecolor": "white",
            "showbackground": true,
            "ticks": "",
            "zerolinecolor": "white"
           },
           "yaxis": {
            "backgroundcolor": "#E5ECF6",
            "gridcolor": "white",
            "gridwidth": 2,
            "linecolor": "white",
            "showbackground": true,
            "ticks": "",
            "zerolinecolor": "white"
           },
           "zaxis": {
            "backgroundcolor": "#E5ECF6",
            "gridcolor": "white",
            "gridwidth": 2,
            "linecolor": "white",
            "showbackground": true,
            "ticks": "",
            "zerolinecolor": "white"
           }
          },
          "shapedefaults": {
           "line": {
            "color": "#2a3f5f"
           }
          },
          "ternary": {
           "aaxis": {
            "gridcolor": "white",
            "linecolor": "white",
            "ticks": ""
           },
           "baxis": {
            "gridcolor": "white",
            "linecolor": "white",
            "ticks": ""
           },
           "bgcolor": "#E5ECF6",
           "caxis": {
            "gridcolor": "white",
            "linecolor": "white",
            "ticks": ""
           }
          },
          "title": {
           "x": 0.05
          },
          "xaxis": {
           "automargin": true,
           "gridcolor": "white",
           "linecolor": "white",
           "ticks": "",
           "title": {
            "standoff": 15
           },
           "zerolinecolor": "white",
           "zerolinewidth": 2
          },
          "yaxis": {
           "automargin": true,
           "gridcolor": "white",
           "linecolor": "white",
           "ticks": "",
           "title": {
            "standoff": 15
           },
           "zerolinecolor": "white",
           "zerolinewidth": 2
          }
         }
        },
        "xaxis": {
         "anchor": "y",
         "domain": [
          0,
          0.425
         ]
        },
        "xaxis2": {
         "anchor": "y2",
         "domain": [
          0.575,
          1
         ]
        },
        "yaxis": {
         "anchor": "x",
         "domain": [
          0,
          1
         ],
         "title": {
          "text": "Signal (a.u.)"
         }
        },
        "yaxis2": {
         "anchor": "x2",
         "domain": [
          0,
          1
         ],
         "title": {
          "text": "Residuals (%)"
         }
        }
       }
      }
     },
     "metadata": {},
     "output_type": "display_data"
    }
   ],
   "source": [
    "abts_calibrator.visualize(linear_model)"
   ]
  },
  {
   "cell_type": "code",
   "execution_count": 7,
   "metadata": {},
   "outputs": [
    {
     "name": "stdout",
     "output_type": "stream",
     "text": [
      "\u001b[4mStandard\u001b[0m\n",
      "├── \u001b[94mid\u001b[0m = standard1\n",
      "├── \u001b[94mspecies_id\u001b[0m = s0\n",
      "├── \u001b[94mname\u001b[0m = ABTS\n",
      "├── \u001b[94mwavelength\u001b[0m = 340.0\n",
      "├── \u001b[94msamples\u001b[0m\n",
      "│   ├── 0\n",
      "│   │   └── \u001b[4mSample\u001b[0m\n",
      "│   │       ├── \u001b[94mid\u001b[0m = D2\n",
      "│   │       ├── \u001b[94mconcentration\u001b[0m = 5.0\n",
      "│   │       ├── \u001b[94mconc_unit\u001b[0m = umol / l\n",
      "│   │       └── \u001b[94msignal\u001b[0m = 0.08641605681905236\n",
      "│   ├── 1\n",
      "│   │   └── \u001b[4mSample\u001b[0m\n",
      "│   │       ├── \u001b[94mid\u001b[0m = D3\n",
      "│   │       ├── \u001b[94mconcentration\u001b[0m = 10.0\n",
      "│   │       ├── \u001b[94mconc_unit\u001b[0m = umol / l\n",
      "│   │       └── \u001b[94msignal\u001b[0m = 0.18111455485537442\n",
      "│   ├── 2\n",
      "│   │   └── \u001b[4mSample\u001b[0m\n",
      "│   │       ├── \u001b[94mid\u001b[0m = D4\n",
      "│   │       ├── \u001b[94mconcentration\u001b[0m = 15.0\n",
      "│   │       ├── \u001b[94mconc_unit\u001b[0m = umol / l\n",
      "│   │       └── \u001b[94msignal\u001b[0m = 0.29443428891193385\n",
      "│   ├── 3\n",
      "│   │   └── \u001b[4mSample\u001b[0m\n",
      "│   │       ├── \u001b[94mid\u001b[0m = D5\n",
      "│   │       ├── \u001b[94mconcentration\u001b[0m = 25.0\n",
      "│   │       ├── \u001b[94mconc_unit\u001b[0m = umol / l\n",
      "│   │       └── \u001b[94msignal\u001b[0m = 0.5018776976691343\n",
      "│   ├── 4\n",
      "│   │   └── \u001b[4mSample\u001b[0m\n",
      "│   │       ├── \u001b[94mid\u001b[0m = D6\n",
      "│   │       ├── \u001b[94mconcentration\u001b[0m = 50.0\n",
      "│   │       ├── \u001b[94mconc_unit\u001b[0m = umol / l\n",
      "│   │       └── \u001b[94msignal\u001b[0m = 0.9929862158855982\n",
      "│   ├── 5\n",
      "│   │   └── \u001b[4mSample\u001b[0m\n",
      "│   │       ├── \u001b[94mid\u001b[0m = D7\n",
      "│   │       ├── \u001b[94mconcentration\u001b[0m = 75.0\n",
      "│   │       ├── \u001b[94mconc_unit\u001b[0m = umol / l\n",
      "│   │       └── \u001b[94msignal\u001b[0m = 1.4789017219829268\n",
      "│   ├── 6\n",
      "│   │   └── \u001b[4mSample\u001b[0m\n",
      "│   │       ├── \u001b[94mid\u001b[0m = D8\n",
      "│   │       ├── \u001b[94mconcentration\u001b[0m = 100.0\n",
      "│   │       ├── \u001b[94mconc_unit\u001b[0m = umol / l\n",
      "│   │       └── \u001b[94msignal\u001b[0m = 2.2947021545503516\n",
      "│   ├── 7\n",
      "│   │   └── \u001b[4mSample\u001b[0m\n",
      "│   │       ├── \u001b[94mid\u001b[0m = D9\n",
      "│   │       ├── \u001b[94mconcentration\u001b[0m = 150.0\n",
      "│   │       ├── \u001b[94mconc_unit\u001b[0m = umol / l\n",
      "│   │       └── \u001b[94msignal\u001b[0m = 2.7944619534978234\n",
      "│   ├── 8\n",
      "│   │   └── \u001b[4mSample\u001b[0m\n",
      "│   │       ├── \u001b[94mid\u001b[0m = D10\n",
      "│   │       ├── \u001b[94mconcentration\u001b[0m = 200.0\n",
      "│   │       ├── \u001b[94mconc_unit\u001b[0m = umol / l\n",
      "│   │       └── \u001b[94msignal\u001b[0m = 3.191230299554422\n",
      "│   ├── 9\n",
      "│   │   └── \u001b[4mSample\u001b[0m\n",
      "│   │       ├── \u001b[94mid\u001b[0m = E2\n",
      "│   │       ├── \u001b[94mconcentration\u001b[0m = 5.0\n",
      "│   │       ├── \u001b[94mconc_unit\u001b[0m = umol / l\n",
      "│   │       └── \u001b[94msignal\u001b[0m = 0.08416546637839822\n",
      "│   ├── 10\n",
      "│   │   └── \u001b[4mSample\u001b[0m\n",
      "│   │       ├── \u001b[94mid\u001b[0m = E3\n",
      "│   │       ├── \u001b[94mconcentration\u001b[0m = 10.0\n",
      "│   │       ├── \u001b[94mconc_unit\u001b[0m = umol / l\n",
      "│   │       └── \u001b[94msignal\u001b[0m = 0.15515158870269172\n",
      "│   ├── 11\n",
      "│   │   └── \u001b[4mSample\u001b[0m\n",
      "│   │       ├── \u001b[94mid\u001b[0m = E4\n",
      "│   │       ├── \u001b[94mconcentration\u001b[0m = 15.0\n",
      "│   │       ├── \u001b[94mconc_unit\u001b[0m = umol / l\n",
      "│   │       └── \u001b[94msignal\u001b[0m = 0.2632038151816907\n",
      "│   ├── 12\n",
      "│   │   └── \u001b[4mSample\u001b[0m\n",
      "│   │       ├── \u001b[94mid\u001b[0m = E5\n",
      "│   │       ├── \u001b[94mconcentration\u001b[0m = 25.0\n",
      "│   │       ├── \u001b[94mconc_unit\u001b[0m = umol / l\n",
      "│   │       └── \u001b[94msignal\u001b[0m = 0.4597016522654347\n",
      "│   ├── 13\n",
      "│   │   └── \u001b[4mSample\u001b[0m\n",
      "│   │       ├── \u001b[94mid\u001b[0m = E6\n",
      "│   │       ├── \u001b[94mconcentration\u001b[0m = 50.0\n",
      "│   │       ├── \u001b[94mconc_unit\u001b[0m = umol / l\n",
      "│   │       └── \u001b[94msignal\u001b[0m = 1.008779143813734\n",
      "│   ├── 14\n",
      "│   │   └── \u001b[4mSample\u001b[0m\n",
      "│   │       ├── \u001b[94mid\u001b[0m = E7\n",
      "│   │       ├── \u001b[94mconcentration\u001b[0m = 75.0\n",
      "│   │       ├── \u001b[94mconc_unit\u001b[0m = umol / l\n",
      "│   │       └── \u001b[94msignal\u001b[0m = 1.3610909816135723\n",
      "│   ├── 15\n",
      "│   │   └── \u001b[4mSample\u001b[0m\n",
      "│   │       ├── \u001b[94mid\u001b[0m = E8\n",
      "│   │       ├── \u001b[94mconcentration\u001b[0m = 100.0\n",
      "│   │       ├── \u001b[94mconc_unit\u001b[0m = umol / l\n",
      "│   │       └── \u001b[94msignal\u001b[0m = 2.098808411790892\n",
      "│   ├── 16\n",
      "│   │   └── \u001b[4mSample\u001b[0m\n",
      "│   │       ├── \u001b[94mid\u001b[0m = E9\n",
      "│   │       ├── \u001b[94mconcentration\u001b[0m = 150.0\n",
      "│   │       ├── \u001b[94mconc_unit\u001b[0m = umol / l\n",
      "│   │       └── \u001b[94msignal\u001b[0m = 2.645936629477214\n",
      "│   ├── 17\n",
      "│   │   └── \u001b[4mSample\u001b[0m\n",
      "│   │       ├── \u001b[94mid\u001b[0m = E10\n",
      "│   │       ├── \u001b[94mconcentration\u001b[0m = 200.0\n",
      "│   │       ├── \u001b[94mconc_unit\u001b[0m = umol / l\n",
      "│   │       └── \u001b[94msignal\u001b[0m = 3.221203720815667\n",
      "│   ├── 18\n",
      "│   │   └── \u001b[4mSample\u001b[0m\n",
      "│   │       ├── \u001b[94mid\u001b[0m = F2\n",
      "│   │       ├── \u001b[94mconcentration\u001b[0m = 5.0\n",
      "│   │       ├── \u001b[94mconc_unit\u001b[0m = umol / l\n",
      "│   │       └── \u001b[94msignal\u001b[0m = 0.07969135974636946\n",
      "│   ├── 19\n",
      "│   │   └── \u001b[4mSample\u001b[0m\n",
      "│   │       ├── \u001b[94mid\u001b[0m = F3\n",
      "│   │       ├── \u001b[94mconcentration\u001b[0m = 10.0\n",
      "│   │       ├── \u001b[94mconc_unit\u001b[0m = umol / l\n",
      "│   │       └── \u001b[94msignal\u001b[0m = 0.17415227214174123\n",
      "│   ├── 20\n",
      "│   │   └── \u001b[4mSample\u001b[0m\n",
      "│   │       ├── \u001b[94mid\u001b[0m = F4\n",
      "│   │       ├── \u001b[94mconcentration\u001b[0m = 15.0\n",
      "│   │       ├── \u001b[94mconc_unit\u001b[0m = umol / l\n",
      "│   │       └── \u001b[94msignal\u001b[0m = 0.2650666761199422\n",
      "│   ├── 21\n",
      "│   │   └── \u001b[4mSample\u001b[0m\n",
      "│   │       ├── \u001b[94mid\u001b[0m = F5\n",
      "│   │       ├── \u001b[94mconcentration\u001b[0m = 25.0\n",
      "│   │       ├── \u001b[94mconc_unit\u001b[0m = umol / l\n",
      "│   │       └── \u001b[94msignal\u001b[0m = 0.4768945723372803\n",
      "│   ├── 22\n",
      "│   │   └── \u001b[4mSample\u001b[0m\n",
      "│   │       ├── \u001b[94mid\u001b[0m = F6\n",
      "│   │       ├── \u001b[94mconcentration\u001b[0m = 50.0\n",
      "│   │       ├── \u001b[94mconc_unit\u001b[0m = umol / l\n",
      "│   │       └── \u001b[94msignal\u001b[0m = 1.0000621974852906\n",
      "│   ├── 23\n",
      "│   │   └── \u001b[4mSample\u001b[0m\n",
      "│   │       ├── \u001b[94mid\u001b[0m = F7\n",
      "│   │       ├── \u001b[94mconcentration\u001b[0m = 75.0\n",
      "│   │       ├── \u001b[94mconc_unit\u001b[0m = umol / l\n",
      "│   │       └── \u001b[94msignal\u001b[0m = 1.3537783598863573\n",
      "│   ├── 24\n",
      "│   │   └── \u001b[4mSample\u001b[0m\n",
      "│   │       ├── \u001b[94mid\u001b[0m = F8\n",
      "│   │       ├── \u001b[94mconcentration\u001b[0m = 100.0\n",
      "│   │       ├── \u001b[94mconc_unit\u001b[0m = umol / l\n",
      "│   │       └── \u001b[94msignal\u001b[0m = 2.0796071311001763\n",
      "│   ├── 25\n",
      "│   │   └── \u001b[4mSample\u001b[0m\n",
      "│   │       ├── \u001b[94mid\u001b[0m = F9\n",
      "│   │       ├── \u001b[94mconcentration\u001b[0m = 150.0\n",
      "│   │       ├── \u001b[94mconc_unit\u001b[0m = umol / l\n",
      "│   │       └── \u001b[94msignal\u001b[0m = 2.5834757983864858\n",
      "│   └── 26\n",
      "│       └── \u001b[4mSample\u001b[0m\n",
      "│           ├── \u001b[94mid\u001b[0m = F10\n",
      "│           ├── \u001b[94mconcentration\u001b[0m = 200.0\n",
      "│           ├── \u001b[94mconc_unit\u001b[0m = umol / l\n",
      "│           └── \u001b[94msignal\u001b[0m = 3.087982146813609\n",
      "├── \u001b[94mph\u001b[0m = 2.0\n",
      "├── \u001b[94mtemperature\u001b[0m = 35.0\n",
      "├── \u001b[94mtemperature_unit\u001b[0m = C\n",
      "├── \u001b[94mcreated\u001b[0m = 2023-09-12 10:38:34\n",
      "└── \u001b[94mmodel_result\u001b[0m\n",
      "    └── \u001b[4mCalibrationModel\u001b[0m\n",
      "        ├── \u001b[94mid\u001b[0m = calibrationmodel1\n",
      "        ├── \u001b[94mname\u001b[0m = linear\n",
      "        ├── \u001b[94mequation\u001b[0m = a * concentration = signal\n",
      "        ├── \u001b[94mparameters\u001b[0m\n",
      "        │   └── 0\n",
      "        │       └── \u001b[4mParameter\u001b[0m\n",
      "        │           ├── \u001b[94mid\u001b[0m = parameter0\n",
      "        │           ├── \u001b[94mname\u001b[0m = a\n",
      "        │           ├── \u001b[94mvalue\u001b[0m = 0.018991787683955583\n",
      "        │           ├── \u001b[94minit_value\u001b[0m = 0.1\n",
      "        │           ├── \u001b[94mstandard_error\u001b[0m = 0.0003576140010834523\n",
      "        │           ├── \u001b[94mlower_bound\u001b[0m = -inf\n",
      "        │           └── \u001b[94mupper_bound\u001b[0m = inf\n",
      "        ├── \u001b[94mwas_fitted\u001b[0m = True\n",
      "        ├── \u001b[94mcalibration_range\u001b[0m\n",
      "        │   └── \u001b[4mCalibrationRange\u001b[0m\n",
      "        │       ├── \u001b[94mid\u001b[0m = calibrationrange1\n",
      "        │       ├── \u001b[94mconc_lower\u001b[0m = 5.0\n",
      "        │       ├── \u001b[94mconc_upper\u001b[0m = 150.0\n",
      "        │       ├── \u001b[94msignal_lower\u001b[0m = 0.07969135974636946\n",
      "        │       └── \u001b[94msignal_upper\u001b[0m = 2.7944619534978234\n",
      "        └── \u001b[94mstatistics\u001b[0m\n",
      "            └── \u001b[4mFitStatistics\u001b[0m\n",
      "                ├── \u001b[94mid\u001b[0m = fitstatistics1\n",
      "                ├── \u001b[94maic\u001b[0m = -98.32491050898993\n",
      "                ├── \u001b[94mbic\u001b[0m = -97.14685667864198\n",
      "                ├── \u001b[94mr2\u001b[0m = 0.9815817838306456\n",
      "                └── \u001b[94mrmsd\u001b[0m = 0.12367448298983127\n",
      "\n"
     ]
    }
   ],
   "source": [
    "abts_standard = abts_calibrator.save_fitted_model(linear_model)\n",
    "print(abts_standard)"
   ]
  },
  {
   "cell_type": "code",
   "execution_count": 23,
   "metadata": {},
   "outputs": [],
   "source": [
    "enzymeml = plate.to_enzymeml(\n",
    "    name=\"SLAC concentration assay data\",\n",
    "    reactant=abts,\n",
    "    standard=abts_standard,\n",
    "    protein=slac,\n",
    "    wavelength=340,\n",
    ")"
   ]
  },
  {
   "cell_type": "code",
   "execution_count": 24,
   "metadata": {},
   "outputs": [
    {
     "name": "stdout",
     "output_type": "stream",
     "text": [
      "\u001b[4mEnzymeMLDocument\u001b[0m\n",
      "├── \u001b[94mid\u001b[0m = enzymemldocument1\n",
      "├── \u001b[94mname\u001b[0m = SLAC concentration assay data\n",
      "├── \u001b[94mcreated\u001b[0m = 2023-09-12 10:38:34\n",
      "├── \u001b[94mvessels\u001b[0m\n",
      "│   └── 0\n",
      "│       └── \u001b[4mVessel\u001b[0m\n",
      "│           ├── \u001b[94mid\u001b[0m = plate0\n",
      "│           ├── \u001b[94mname\u001b[0m = MTP 96 well\n",
      "│           ├── \u001b[94mvolume\u001b[0m = 200.0\n",
      "│           ├── \u001b[94munit\u001b[0m = ul\n",
      "│           └── \u001b[94mconstant\u001b[0m = True\n",
      "├── \u001b[94mproteins\u001b[0m\n",
      "│   └── 0\n",
      "│       └── \u001b[4mProtein\u001b[0m\n",
      "│           ├── \u001b[94mid\u001b[0m = p0\n",
      "│           ├── \u001b[94mname\u001b[0m = SLAC\n",
      "│           ├── \u001b[94mvessel_id\u001b[0m = plate0\n",
      "│           ├── \u001b[94mconstant\u001b[0m = True\n",
      "│           ├── \u001b[94msequence\u001b[0m = MSSKSKPKDVKV\n",
      "│           └── \u001b[94montology\u001b[0m = SBO:0000013\n",
      "├── \u001b[94mreactants\u001b[0m\n",
      "│   ├── 0\n",
      "│   │   └── \u001b[4mReactant\u001b[0m\n",
      "│   │       ├── \u001b[94mid\u001b[0m = s1\n",
      "│   │       ├── \u001b[94mname\u001b[0m = buffer\n",
      "│   │       ├── \u001b[94mvessel_id\u001b[0m = plate0\n",
      "│   │       ├── \u001b[94mconstant\u001b[0m = True\n",
      "│   │       └── \u001b[94montology\u001b[0m = SBO:0000247\n",
      "│   └── 1\n",
      "│       └── \u001b[4mReactant\u001b[0m\n",
      "│           ├── \u001b[94mid\u001b[0m = s0\n",
      "│           ├── \u001b[94mname\u001b[0m = ABTS\n",
      "│           ├── \u001b[94mvessel_id\u001b[0m = plate0\n",
      "│           ├── \u001b[94mconstant\u001b[0m = False\n",
      "│           ├── \u001b[94minchi\u001b[0m = InChI=1S/C18H18N4O6S4/c1-3-21-13-7-5-11(31(23,24)25)9-15(13)29-17(21)19-20-18-22(4-2)14-8-6-12(32(26,27)28)10-16(14)30-18/h5-10H,3-4H2,1-2H3,(H,23,24,25)(H,26,27,28)/b19-17-,20-18+\n",
      "│           └── \u001b[94montology\u001b[0m = SBO:0000247\n",
      "└── \u001b[94mmeasurements\u001b[0m\n",
      "    ├── 0\n",
      "    │   └── \u001b[4mMeasurement\u001b[0m\n",
      "    │       ├── \u001b[94mid\u001b[0m = measurement12\n",
      "    │       ├── \u001b[94mname\u001b[0m = ABTS 5.0 umol / l\n",
      "    │       ├── \u001b[94mtemperature\u001b[0m = 35.0\n",
      "    │       ├── \u001b[94mtemperature_unit\u001b[0m = C\n",
      "    │       ├── \u001b[94mph\u001b[0m = 2.0\n",
      "    │       ├── \u001b[94mspecies\u001b[0m\n",
      "    │       │   ├── 0\n",
      "    │       │   │   └── \u001b[4mMeasurementData\u001b[0m\n",
      "    │       │   │       ├── \u001b[94mid\u001b[0m = measurementdata33\n",
      "    │       │   │       ├── \u001b[94minit_conc\u001b[0m = 100.0\n",
      "    │       │   │       ├── \u001b[94munit\u001b[0m = umol / l\n",
      "    │       │   │       ├── \u001b[94mmeasurement_id\u001b[0m = measurement12\n",
      "    │       │   │       └── \u001b[94mspecies_id\u001b[0m = s1\n",
      "    │       │   ├── 1\n",
      "    │       │   │   └── \u001b[4mMeasurementData\u001b[0m\n",
      "    │       │   │       ├── \u001b[94mid\u001b[0m = measurementdata34\n",
      "    │       │   │       ├── \u001b[94minit_conc\u001b[0m = 5.0\n",
      "    │       │   │       ├── \u001b[94munit\u001b[0m = umol / l\n",
      "    │       │   │       ├── \u001b[94mmeasurement_id\u001b[0m = measurement12\n",
      "    │       │   │       ├── \u001b[94mspecies_id\u001b[0m = s0\n",
      "    │       │   │       └── \u001b[94mreplicates\u001b[0m\n",
      "    │       │   │           ├── 0\n",
      "    │       │   │           │   └── \u001b[4mReplicate\u001b[0m\n",
      "    │       │   │           │       ├── \u001b[94mid\u001b[0m = A2\n",
      "    │       │   │           │       ├── \u001b[94mspecies_id\u001b[0m = s0\n",
      "    │       │   │           │       ├── \u001b[94mmeasurement_id\u001b[0m = measurement12\n",
      "    │       │   │           │       ├── \u001b[94mdata_type\u001b[0m = conc\n",
      "    │       │   │           │       ├── \u001b[94mdata_unit\u001b[0m = umol / l\n",
      "    │       │   │           │       ├── \u001b[94mtime_unit\u001b[0m = min\n",
      "    │       │   │           │       ├── \u001b[94mtime\u001b[0m = [0.0, 0.5, 1.0, 1.5, 2.0, ...]\n",
      "    │       │   │           │       ├── \u001b[94mdata\u001b[0m = [nan, nan, nan, nan, nan, ...]\n",
      "    │       │   │           │       └── \u001b[94mis_calculated\u001b[0m = False\n",
      "    │       │   │           ├── 1\n",
      "    │       │   │           │   └── \u001b[4mReplicate\u001b[0m\n",
      "    │       │   │           │       ├── \u001b[94mid\u001b[0m = B2\n",
      "    │       │   │           │       ├── \u001b[94mspecies_id\u001b[0m = s0\n",
      "    │       │   │           │       ├── \u001b[94mmeasurement_id\u001b[0m = measurement12\n",
      "    │       │   │           │       ├── \u001b[94mdata_type\u001b[0m = conc\n",
      "    │       │   │           │       ├── \u001b[94mdata_unit\u001b[0m = umol / l\n",
      "    │       │   │           │       ├── \u001b[94mtime_unit\u001b[0m = min\n",
      "    │       │   │           │       ├── \u001b[94mtime\u001b[0m = [0.0, 0.5, 1.0, 1.5, 2.0, ...]\n",
      "    │       │   │           │       ├── \u001b[94mdata\u001b[0m = [nan, nan, nan, nan, nan, ...]\n",
      "    │       │   │           │       └── \u001b[94mis_calculated\u001b[0m = False\n",
      "    │       │   │           └── 2\n",
      "    │       │   │               └── \u001b[4mReplicate\u001b[0m\n",
      "    │       │   │                   ├── \u001b[94mid\u001b[0m = C2\n",
      "    │       │   │                   ├── \u001b[94mspecies_id\u001b[0m = s0\n",
      "    │       │   │                   ├── \u001b[94mmeasurement_id\u001b[0m = measurement12\n",
      "    │       │   │                   ├── \u001b[94mdata_type\u001b[0m = conc\n",
      "    │       │   │                   ├── \u001b[94mdata_unit\u001b[0m = umol / l\n",
      "    │       │   │                   ├── \u001b[94mtime_unit\u001b[0m = min\n",
      "    │       │   │                   ├── \u001b[94mtime\u001b[0m = [0.0, 0.5, 1.0, 1.5, 2.0, ...]\n",
      "    │       │   │                   ├── \u001b[94mdata\u001b[0m = [nan, nan, nan, nan, nan, ...]\n",
      "    │       │   │                   └── \u001b[94mis_calculated\u001b[0m = False\n",
      "    │       │   └── 2\n",
      "    │       │       └── \u001b[4mMeasurementData\u001b[0m\n",
      "    │       │           ├── \u001b[94mid\u001b[0m = measurementdata35\n",
      "    │       │           ├── \u001b[94minit_conc\u001b[0m = 4.0\n",
      "    │       │           ├── \u001b[94munit\u001b[0m = umol / l\n",
      "    │       │           ├── \u001b[94mmeasurement_id\u001b[0m = measurement12\n",
      "    │       │           └── \u001b[94mspecies_id\u001b[0m = p0\n",
      "    │       ├── \u001b[94mglobal_time\u001b[0m = [0.0, 0.5, 1.0, 1.5, 2.0, ...]\n",
      "    │       └── \u001b[94mglobal_time_unit\u001b[0m = min\n",
      "    ├── 1\n",
      "    │   └── \u001b[4mMeasurement\u001b[0m\n",
      "    │       ├── \u001b[94mid\u001b[0m = measurement13\n",
      "    │       ├── \u001b[94mname\u001b[0m = ABTS 10.0 umol / l\n",
      "    │       ├── \u001b[94mtemperature\u001b[0m = 35.0\n",
      "    │       ├── \u001b[94mtemperature_unit\u001b[0m = C\n",
      "    │       ├── \u001b[94mph\u001b[0m = 2.0\n",
      "    │       ├── \u001b[94mspecies\u001b[0m\n",
      "    │       │   ├── 0\n",
      "    │       │   │   └── \u001b[4mMeasurementData\u001b[0m\n",
      "    │       │   │       ├── \u001b[94mid\u001b[0m = measurementdata36\n",
      "    │       │   │       ├── \u001b[94minit_conc\u001b[0m = 100.0\n",
      "    │       │   │       ├── \u001b[94munit\u001b[0m = umol / l\n",
      "    │       │   │       ├── \u001b[94mmeasurement_id\u001b[0m = measurement13\n",
      "    │       │   │       └── \u001b[94mspecies_id\u001b[0m = s1\n",
      "    │       │   ├── 1\n",
      "    │       │   │   └── \u001b[4mMeasurementData\u001b[0m\n",
      "    │       │   │       ├── \u001b[94mid\u001b[0m = measurementdata37\n",
      "    │       │   │       ├── \u001b[94minit_conc\u001b[0m = 10.0\n",
      "    │       │   │       ├── \u001b[94munit\u001b[0m = umol / l\n",
      "    │       │   │       ├── \u001b[94mmeasurement_id\u001b[0m = measurement13\n",
      "    │       │   │       ├── \u001b[94mspecies_id\u001b[0m = s0\n",
      "    │       │   │       └── \u001b[94mreplicates\u001b[0m\n",
      "    │       │   │           ├── 0\n",
      "    │       │   │           │   └── \u001b[4mReplicate\u001b[0m\n",
      "    │       │   │           │       ├── \u001b[94mid\u001b[0m = A3\n",
      "    │       │   │           │       ├── \u001b[94mspecies_id\u001b[0m = s0\n",
      "    │       │   │           │       ├── \u001b[94mmeasurement_id\u001b[0m = measurement13\n",
      "    │       │   │           │       ├── \u001b[94mdata_type\u001b[0m = conc\n",
      "    │       │   │           │       ├── \u001b[94mdata_unit\u001b[0m = umol / l\n",
      "    │       │   │           │       ├── \u001b[94mtime_unit\u001b[0m = min\n",
      "    │       │   │           │       ├── \u001b[94mtime\u001b[0m = [0.0, 0.5, 1.0, 1.5, 2.0, ...]\n",
      "    │       │   │           │       ├── \u001b[94mdata\u001b[0m = [5.127600631586488, nan, nan, nan, nan, ...]\n",
      "    │       │   │           │       └── \u001b[94mis_calculated\u001b[0m = False\n",
      "    │       │   │           ├── 1\n",
      "    │       │   │           │   └── \u001b[4mReplicate\u001b[0m\n",
      "    │       │   │           │       ├── \u001b[94mid\u001b[0m = B3\n",
      "    │       │   │           │       ├── \u001b[94mspecies_id\u001b[0m = s0\n",
      "    │       │   │           │       ├── \u001b[94mmeasurement_id\u001b[0m = measurement13\n",
      "    │       │   │           │       ├── \u001b[94mdata_type\u001b[0m = conc\n",
      "    │       │   │           │       ├── \u001b[94mdata_unit\u001b[0m = umol / l\n",
      "    │       │   │           │       ├── \u001b[94mtime_unit\u001b[0m = min\n",
      "    │       │   │           │       ├── \u001b[94mtime\u001b[0m = [0.0, 0.5, 1.0, 1.5, 2.0, ...]\n",
      "    │       │   │           │       ├── \u001b[94mdata\u001b[0m = [6.03435897765232, 5.5360020879079785, 5.3111360896771815, 5.146522872401427, 5.5060430187527505, ...]\n",
      "    │       │   │           │       └── \u001b[94mis_calculated\u001b[0m = False\n",
      "    │       │   │           └── 2\n",
      "    │       │   │               └── \u001b[4mReplicate\u001b[0m\n",
      "    │       │   │                   ├── \u001b[94mid\u001b[0m = C3\n",
      "    │       │   │                   ├── \u001b[94mspecies_id\u001b[0m = s0\n",
      "    │       │   │                   ├── \u001b[94mmeasurement_id\u001b[0m = measurement13\n",
      "    │       │   │                   ├── \u001b[94mdata_type\u001b[0m = conc\n",
      "    │       │   │                   ├── \u001b[94mdata_unit\u001b[0m = umol / l\n",
      "    │       │   │                   ├── \u001b[94mtime_unit\u001b[0m = min\n",
      "    │       │   │                   ├── \u001b[94mtime\u001b[0m = [0.0, 0.5, 1.0, 1.5, 2.0, ...]\n",
      "    │       │   │                   ├── \u001b[94mdata\u001b[0m = [7.139742082735379, 6.811889264328231, 6.713569490655714, 6.625314441200522, 6.6082456293619805, ...]\n",
      "    │       │   │                   └── \u001b[94mis_calculated\u001b[0m = False\n",
      "    │       │   └── 2\n",
      "    │       │       └── \u001b[4mMeasurementData\u001b[0m\n",
      "    │       │           ├── \u001b[94mid\u001b[0m = measurementdata38\n",
      "    │       │           ├── \u001b[94minit_conc\u001b[0m = 4.0\n",
      "    │       │           ├── \u001b[94munit\u001b[0m = umol / l\n",
      "    │       │           ├── \u001b[94mmeasurement_id\u001b[0m = measurement13\n",
      "    │       │           └── \u001b[94mspecies_id\u001b[0m = p0\n",
      "    │       ├── \u001b[94mglobal_time\u001b[0m = [0.0, 0.5, 1.0, 1.5, 2.0, ...]\n",
      "    │       └── \u001b[94mglobal_time_unit\u001b[0m = min\n",
      "    ├── 2\n",
      "    │   └── \u001b[4mMeasurement\u001b[0m\n",
      "    │       ├── \u001b[94mid\u001b[0m = measurement14\n",
      "    │       ├── \u001b[94mname\u001b[0m = ABTS 15.0 umol / l\n",
      "    │       ├── \u001b[94mtemperature\u001b[0m = 35.0\n",
      "    │       ├── \u001b[94mtemperature_unit\u001b[0m = C\n",
      "    │       ├── \u001b[94mph\u001b[0m = 2.0\n",
      "    │       ├── \u001b[94mspecies\u001b[0m\n",
      "    │       │   ├── 0\n",
      "    │       │   │   └── \u001b[4mMeasurementData\u001b[0m\n",
      "    │       │   │       ├── \u001b[94mid\u001b[0m = measurementdata39\n",
      "    │       │   │       ├── \u001b[94minit_conc\u001b[0m = 100.0\n",
      "    │       │   │       ├── \u001b[94munit\u001b[0m = umol / l\n",
      "    │       │   │       ├── \u001b[94mmeasurement_id\u001b[0m = measurement14\n",
      "    │       │   │       └── \u001b[94mspecies_id\u001b[0m = s1\n",
      "    │       │   ├── 1\n",
      "    │       │   │   └── \u001b[4mMeasurementData\u001b[0m\n",
      "    │       │   │       ├── \u001b[94mid\u001b[0m = measurementdata40\n",
      "    │       │   │       ├── \u001b[94minit_conc\u001b[0m = 15.0\n",
      "    │       │   │       ├── \u001b[94munit\u001b[0m = umol / l\n",
      "    │       │   │       ├── \u001b[94mmeasurement_id\u001b[0m = measurement14\n",
      "    │       │   │       ├── \u001b[94mspecies_id\u001b[0m = s0\n",
      "    │       │   │       └── \u001b[94mreplicates\u001b[0m\n",
      "    │       │   │           ├── 0\n",
      "    │       │   │           │   └── \u001b[4mReplicate\u001b[0m\n",
      "    │       │   │           │       ├── \u001b[94mid\u001b[0m = A4\n",
      "    │       │   │           │       ├── \u001b[94mspecies_id\u001b[0m = s0\n",
      "    │       │   │           │       ├── \u001b[94mmeasurement_id\u001b[0m = measurement14\n",
      "    │       │   │           │       ├── \u001b[94mdata_type\u001b[0m = conc\n",
      "    │       │   │           │       ├── \u001b[94mdata_unit\u001b[0m = umol / l\n",
      "    │       │   │           │       ├── \u001b[94mtime_unit\u001b[0m = min\n",
      "    │       │   │           │       ├── \u001b[94mtime\u001b[0m = [0.0, 0.5, 1.0, 1.5, 2.0, ...]\n",
      "    │       │   │           │       ├── \u001b[94mdata\u001b[0m = [9.831118824799507, 8.668285116554493, 8.147437687310344, 7.98695084846005, 7.8602252170510445, ...]\n",
      "    │       │   │           │       └── \u001b[94mis_calculated\u001b[0m = False\n",
      "    │       │   │           ├── 1\n",
      "    │       │   │           │   └── \u001b[4mReplicate\u001b[0m\n",
      "    │       │   │           │       ├── \u001b[94mid\u001b[0m = B4\n",
      "    │       │   │           │       ├── \u001b[94mspecies_id\u001b[0m = s0\n",
      "    │       │   │           │       ├── \u001b[94mmeasurement_id\u001b[0m = measurement14\n",
      "    │       │   │           │       ├── \u001b[94mdata_type\u001b[0m = conc\n",
      "    │       │   │           │       ├── \u001b[94mdata_unit\u001b[0m = umol / l\n",
      "    │       │   │           │       ├── \u001b[94mtime_unit\u001b[0m = min\n",
      "    │       │   │           │       ├── \u001b[94mtime\u001b[0m = [0.0, 0.5, 1.0, 1.5, 2.0, ...]\n",
      "    │       │   │           │       ├── \u001b[94mdata\u001b[0m = [11.089671946235239, 10.35197556971809, 9.84670781460509, 9.605329416352157, 9.633449028822401, ...]\n",
      "    │       │   │           │       └── \u001b[94mis_calculated\u001b[0m = False\n",
      "    │       │   │           └── 2\n",
      "    │       │   │               └── \u001b[4mReplicate\u001b[0m\n",
      "    │       │   │                   ├── \u001b[94mid\u001b[0m = C4\n",
      "    │       │   │                   ├── \u001b[94mspecies_id\u001b[0m = s0\n",
      "    │       │   │                   ├── \u001b[94mmeasurement_id\u001b[0m = measurement14\n",
      "    │       │   │                   ├── \u001b[94mdata_type\u001b[0m = conc\n",
      "    │       │   │                   ├── \u001b[94mdata_unit\u001b[0m = umol / l\n",
      "    │       │   │                   ├── \u001b[94mtime_unit\u001b[0m = min\n",
      "    │       │   │                   ├── \u001b[94mtime\u001b[0m = [0.0, 0.5, 1.0, 1.5, 2.0, ...]\n",
      "    │       │   │                   ├── \u001b[94mdata\u001b[0m = [11.41560354272525, 10.743095560603695, 10.424654397020173, 10.642276772472835, 10.536640004686255, ...]\n",
      "    │       │   │                   └── \u001b[94mis_calculated\u001b[0m = False\n",
      "    │       │   └── 2\n",
      "    │       │       └── \u001b[4mMeasurementData\u001b[0m\n",
      "    │       │           ├── \u001b[94mid\u001b[0m = measurementdata41\n",
      "    │       │           ├── \u001b[94minit_conc\u001b[0m = 4.0\n",
      "    │       │           ├── \u001b[94munit\u001b[0m = umol / l\n",
      "    │       │           ├── \u001b[94mmeasurement_id\u001b[0m = measurement14\n",
      "    │       │           └── \u001b[94mspecies_id\u001b[0m = p0\n",
      "    │       ├── \u001b[94mglobal_time\u001b[0m = [0.0, 0.5, 1.0, 1.5, 2.0, ...]\n",
      "    │       └── \u001b[94mglobal_time_unit\u001b[0m = min\n",
      "    ├── 3\n",
      "    │   └── \u001b[4mMeasurement\u001b[0m\n",
      "    │       ├── \u001b[94mid\u001b[0m = measurement15\n",
      "    │       ├── \u001b[94mname\u001b[0m = ABTS 25.0 umol / l\n",
      "    │       ├── \u001b[94mtemperature\u001b[0m = 35.0\n",
      "    │       ├── \u001b[94mtemperature_unit\u001b[0m = C\n",
      "    │       ├── \u001b[94mph\u001b[0m = 2.0\n",
      "    │       ├── \u001b[94mspecies\u001b[0m\n",
      "    │       │   ├── 0\n",
      "    │       │   │   └── \u001b[4mMeasurementData\u001b[0m\n",
      "    │       │   │       ├── \u001b[94mid\u001b[0m = measurementdata42\n",
      "    │       │   │       ├── \u001b[94minit_conc\u001b[0m = 100.0\n",
      "    │       │   │       ├── \u001b[94munit\u001b[0m = umol / l\n",
      "    │       │   │       ├── \u001b[94mmeasurement_id\u001b[0m = measurement15\n",
      "    │       │   │       └── \u001b[94mspecies_id\u001b[0m = s1\n",
      "    │       │   ├── 1\n",
      "    │       │   │   └── \u001b[4mMeasurementData\u001b[0m\n",
      "    │       │   │       ├── \u001b[94mid\u001b[0m = measurementdata43\n",
      "    │       │   │       ├── \u001b[94minit_conc\u001b[0m = 25.0\n",
      "    │       │   │       ├── \u001b[94munit\u001b[0m = umol / l\n",
      "    │       │   │       ├── \u001b[94mmeasurement_id\u001b[0m = measurement15\n",
      "    │       │   │       ├── \u001b[94mspecies_id\u001b[0m = s0\n",
      "    │       │   │       └── \u001b[94mreplicates\u001b[0m\n",
      "    │       │   │           ├── 0\n",
      "    │       │   │           │   └── \u001b[4mReplicate\u001b[0m\n",
      "    │       │   │           │       ├── \u001b[94mid\u001b[0m = A5\n",
      "    │       │   │           │       ├── \u001b[94mspecies_id\u001b[0m = s0\n",
      "    │       │   │           │       ├── \u001b[94mmeasurement_id\u001b[0m = measurement15\n",
      "    │       │   │           │       ├── \u001b[94mdata_type\u001b[0m = conc\n",
      "    │       │   │           │       ├── \u001b[94mdata_unit\u001b[0m = umol / l\n",
      "    │       │   │           │       ├── \u001b[94mtime_unit\u001b[0m = min\n",
      "    │       │   │           │       ├── \u001b[94mtime\u001b[0m = [0.0, 0.5, 1.0, 1.5, 2.0, ...]\n",
      "    │       │   │           │       ├── \u001b[94mdata\u001b[0m = [18.107194103956548, 17.41151082714697, 16.687368654184947, 16.41702176317144, 16.08027856835546, ...]\n",
      "    │       │   │           │       └── \u001b[94mis_calculated\u001b[0m = False\n",
      "    │       │   │           ├── 1\n",
      "    │       │   │           │   └── \u001b[4mReplicate\u001b[0m\n",
      "    │       │   │           │       ├── \u001b[94mid\u001b[0m = B5\n",
      "    │       │   │           │       ├── \u001b[94mspecies_id\u001b[0m = s0\n",
      "    │       │   │           │       ├── \u001b[94mmeasurement_id\u001b[0m = measurement15\n",
      "    │       │   │           │       ├── \u001b[94mdata_type\u001b[0m = conc\n",
      "    │       │   │           │       ├── \u001b[94mdata_unit\u001b[0m = umol / l\n",
      "    │       │   │           │       ├── \u001b[94mtime_unit\u001b[0m = min\n",
      "    │       │   │           │       ├── \u001b[94mtime\u001b[0m = [0.0, 0.5, 1.0, 1.5, 2.0, ...]\n",
      "    │       │   │           │       ├── \u001b[94mdata\u001b[0m = [20.95765420523048, 19.826952614351626, 19.352148472989988, 19.47824372450916, 19.190736283056665, ...]\n",
      "    │       │   │           │       └── \u001b[94mis_calculated\u001b[0m = False\n",
      "    │       │   │           └── 2\n",
      "    │       │   │               └── \u001b[4mReplicate\u001b[0m\n",
      "    │       │   │                   ├── \u001b[94mid\u001b[0m = C5\n",
      "    │       │   │                   ├── \u001b[94mspecies_id\u001b[0m = s0\n",
      "    │       │   │                   ├── \u001b[94mmeasurement_id\u001b[0m = measurement15\n",
      "    │       │   │                   ├── \u001b[94mdata_type\u001b[0m = conc\n",
      "    │       │   │                   ├── \u001b[94mdata_unit\u001b[0m = umol / l\n",
      "    │       │   │                   ├── \u001b[94mtime_unit\u001b[0m = min\n",
      "    │       │   │                   ├── \u001b[94mtime\u001b[0m = [0.0, 0.5, 1.0, 1.5, 2.0, ...]\n",
      "    │       │   │                   ├── \u001b[94mdata\u001b[0m = [21.006101477076786, 19.879361552452693, 18.93603290492378, 19.10358327404539, 18.488084961671497, ...]\n",
      "    │       │   │                   └── \u001b[94mis_calculated\u001b[0m = False\n",
      "    │       │   └── 2\n",
      "    │       │       └── \u001b[4mMeasurementData\u001b[0m\n",
      "    │       │           ├── \u001b[94mid\u001b[0m = measurementdata44\n",
      "    │       │           ├── \u001b[94minit_conc\u001b[0m = 4.0\n",
      "    │       │           ├── \u001b[94munit\u001b[0m = umol / l\n",
      "    │       │           ├── \u001b[94mmeasurement_id\u001b[0m = measurement15\n",
      "    │       │           └── \u001b[94mspecies_id\u001b[0m = p0\n",
      "    │       ├── \u001b[94mglobal_time\u001b[0m = [0.0, 0.5, 1.0, 1.5, 2.0, ...]\n",
      "    │       └── \u001b[94mglobal_time_unit\u001b[0m = min\n",
      "    ├── 4\n",
      "    │   └── \u001b[4mMeasurement\u001b[0m\n",
      "    │       ├── \u001b[94mid\u001b[0m = measurement16\n",
      "    │       ├── \u001b[94mname\u001b[0m = ABTS 50.0 umol / l\n",
      "    │       ├── \u001b[94mtemperature\u001b[0m = 35.0\n",
      "    │       ├── \u001b[94mtemperature_unit\u001b[0m = C\n",
      "    │       ├── \u001b[94mph\u001b[0m = 2.0\n",
      "    │       ├── \u001b[94mspecies\u001b[0m\n",
      "    │       │   ├── 0\n",
      "    │       │   │   └── \u001b[4mMeasurementData\u001b[0m\n",
      "    │       │   │       ├── \u001b[94mid\u001b[0m = measurementdata45\n",
      "    │       │   │       ├── \u001b[94minit_conc\u001b[0m = 100.0\n",
      "    │       │   │       ├── \u001b[94munit\u001b[0m = umol / l\n",
      "    │       │   │       ├── \u001b[94mmeasurement_id\u001b[0m = measurement16\n",
      "    │       │   │       └── \u001b[94mspecies_id\u001b[0m = s1\n",
      "    │       │   ├── 1\n",
      "    │       │   │   └── \u001b[4mMeasurementData\u001b[0m\n",
      "    │       │   │       ├── \u001b[94mid\u001b[0m = measurementdata46\n",
      "    │       │   │       ├── \u001b[94minit_conc\u001b[0m = 50.0\n",
      "    │       │   │       ├── \u001b[94munit\u001b[0m = umol / l\n",
      "    │       │   │       ├── \u001b[94mmeasurement_id\u001b[0m = measurement16\n",
      "    │       │   │       ├── \u001b[94mspecies_id\u001b[0m = s0\n",
      "    │       │   │       └── \u001b[94mreplicates\u001b[0m\n",
      "    │       │   │           ├── 0\n",
      "    │       │   │           │   └── \u001b[4mReplicate\u001b[0m\n",
      "    │       │   │           │       ├── \u001b[94mid\u001b[0m = A6\n",
      "    │       │   │           │       ├── \u001b[94mspecies_id\u001b[0m = s0\n",
      "    │       │   │           │       ├── \u001b[94mmeasurement_id\u001b[0m = measurement16\n",
      "    │       │   │           │       ├── \u001b[94mdata_type\u001b[0m = conc\n",
      "    │       │   │           │       ├── \u001b[94mdata_unit\u001b[0m = umol / l\n",
      "    │       │   │           │       ├── \u001b[94mtime_unit\u001b[0m = min\n",
      "    │       │   │           │       ├── \u001b[94mtime\u001b[0m = [0.0, 0.5, 1.0, 1.5, 2.0, ...]\n",
      "    │       │   │           │       ├── \u001b[94mdata\u001b[0m = [43.27171452498379, 40.99076495218594, 39.31691718685678, 38.10064052211392, 36.81034025323259, ...]\n",
      "    │       │   │           │       └── \u001b[94mis_calculated\u001b[0m = False\n",
      "    │       │   │           ├── 1\n",
      "    │       │   │           │   └── \u001b[4mReplicate\u001b[0m\n",
      "    │       │   │           │       ├── \u001b[94mid\u001b[0m = B6\n",
      "    │       │   │           │       ├── \u001b[94mspecies_id\u001b[0m = s0\n",
      "    │       │   │           │       ├── \u001b[94mmeasurement_id\u001b[0m = measurement16\n",
      "    │       │   │           │       ├── \u001b[94mdata_type\u001b[0m = conc\n",
      "    │       │   │           │       ├── \u001b[94mdata_unit\u001b[0m = umol / l\n",
      "    │       │   │           │       ├── \u001b[94mtime_unit\u001b[0m = min\n",
      "    │       │   │           │       ├── \u001b[94mtime\u001b[0m = [0.0, 0.5, 1.0, 1.5, 2.0, ...]\n",
      "    │       │   │           │       ├── \u001b[94mdata\u001b[0m = [45.306312632975754, 43.15096317296139, 41.18621713481527, 40.00933356631744, 38.98923006921095, ...]\n",
      "    │       │   │           │       └── \u001b[94mis_calculated\u001b[0m = False\n",
      "    │       │   │           └── 2\n",
      "    │       │   │               └── \u001b[4mReplicate\u001b[0m\n",
      "    │       │   │                   ├── \u001b[94mid\u001b[0m = C6\n",
      "    │       │   │                   ├── \u001b[94mspecies_id\u001b[0m = s0\n",
      "    │       │   │                   ├── \u001b[94mmeasurement_id\u001b[0m = measurement16\n",
      "    │       │   │                   ├── \u001b[94mdata_type\u001b[0m = conc\n",
      "    │       │   │                   ├── \u001b[94mdata_unit\u001b[0m = umol / l\n",
      "    │       │   │                   ├── \u001b[94mtime_unit\u001b[0m = min\n",
      "    │       │   │                   ├── \u001b[94mtime\u001b[0m = [0.0, 0.5, 1.0, 1.5, 2.0, ...]\n",
      "    │       │   │                   ├── \u001b[94mdata\u001b[0m = [46.268213753983076, 43.76994646790478, 42.03165373591289, 40.797335019767814, 39.63458624466974, ...]\n",
      "    │       │   │                   └── \u001b[94mis_calculated\u001b[0m = False\n",
      "    │       │   └── 2\n",
      "    │       │       └── \u001b[4mMeasurementData\u001b[0m\n",
      "    │       │           ├── \u001b[94mid\u001b[0m = measurementdata47\n",
      "    │       │           ├── \u001b[94minit_conc\u001b[0m = 4.0\n",
      "    │       │           ├── \u001b[94munit\u001b[0m = umol / l\n",
      "    │       │           ├── \u001b[94mmeasurement_id\u001b[0m = measurement16\n",
      "    │       │           └── \u001b[94mspecies_id\u001b[0m = p0\n",
      "    │       ├── \u001b[94mglobal_time\u001b[0m = [0.0, 0.5, 1.0, 1.5, 2.0, ...]\n",
      "    │       └── \u001b[94mglobal_time_unit\u001b[0m = min\n",
      "    ├── 5\n",
      "    │   └── \u001b[4mMeasurement\u001b[0m\n",
      "    │       ├── \u001b[94mid\u001b[0m = measurement17\n",
      "    │       ├── \u001b[94mname\u001b[0m = ABTS 75.0 umol / l\n",
      "    │       ├── \u001b[94mtemperature\u001b[0m = 35.0\n",
      "    │       ├── \u001b[94mtemperature_unit\u001b[0m = C\n",
      "    │       ├── \u001b[94mph\u001b[0m = 2.0\n",
      "    │       ├── \u001b[94mspecies\u001b[0m\n",
      "    │       │   ├── 0\n",
      "    │       │   │   └── \u001b[4mMeasurementData\u001b[0m\n",
      "    │       │   │       ├── \u001b[94mid\u001b[0m = measurementdata48\n",
      "    │       │   │       ├── \u001b[94minit_conc\u001b[0m = 100.0\n",
      "    │       │   │       ├── \u001b[94munit\u001b[0m = umol / l\n",
      "    │       │   │       ├── \u001b[94mmeasurement_id\u001b[0m = measurement17\n",
      "    │       │   │       └── \u001b[94mspecies_id\u001b[0m = s1\n",
      "    │       │   ├── 1\n",
      "    │       │   │   └── \u001b[4mMeasurementData\u001b[0m\n",
      "    │       │   │       ├── \u001b[94mid\u001b[0m = measurementdata49\n",
      "    │       │   │       ├── \u001b[94minit_conc\u001b[0m = 75.0\n",
      "    │       │   │       ├── \u001b[94munit\u001b[0m = umol / l\n",
      "    │       │   │       ├── \u001b[94mmeasurement_id\u001b[0m = measurement17\n",
      "    │       │   │       ├── \u001b[94mspecies_id\u001b[0m = s0\n",
      "    │       │   │       └── \u001b[94mreplicates\u001b[0m\n",
      "    │       │   │           ├── 0\n",
      "    │       │   │           │   └── \u001b[4mReplicate\u001b[0m\n",
      "    │       │   │           │       ├── \u001b[94mid\u001b[0m = A7\n",
      "    │       │   │           │       ├── \u001b[94mspecies_id\u001b[0m = s0\n",
      "    │       │   │           │       ├── \u001b[94mmeasurement_id\u001b[0m = measurement17\n",
      "    │       │   │           │       ├── \u001b[94mdata_type\u001b[0m = conc\n",
      "    │       │   │           │       ├── \u001b[94mdata_unit\u001b[0m = umol / l\n",
      "    │       │   │           │       ├── \u001b[94mtime_unit\u001b[0m = min\n",
      "    │       │   │           │       ├── \u001b[94mtime\u001b[0m = [0.0, 0.5, 1.0, 1.5, 2.0, ...]\n",
      "    │       │   │           │       ├── \u001b[94mdata\u001b[0m = [63.55919835139113, 59.4972847113418, 56.606202391358536, 54.759119138424666, 52.00535326926362, ...]\n",
      "    │       │   │           │       └── \u001b[94mis_calculated\u001b[0m = False\n",
      "    │       │   │           ├── 1\n",
      "    │       │   │           │   └── \u001b[4mReplicate\u001b[0m\n",
      "    │       │   │           │       ├── \u001b[94mid\u001b[0m = B7\n",
      "    │       │   │           │       ├── \u001b[94mspecies_id\u001b[0m = s0\n",
      "    │       │   │           │       ├── \u001b[94mmeasurement_id\u001b[0m = measurement17\n",
      "    │       │   │           │       ├── \u001b[94mdata_type\u001b[0m = conc\n",
      "    │       │   │           │       ├── \u001b[94mdata_unit\u001b[0m = umol / l\n",
      "    │       │   │           │       ├── \u001b[94mtime_unit\u001b[0m = min\n",
      "    │       │   │           │       ├── \u001b[94mtime\u001b[0m = [0.0, 0.5, 1.0, 1.5, 2.0, ...]\n",
      "    │       │   │           │       ├── \u001b[94mdata\u001b[0m = [68.28847516081011, 64.21947952629726, 61.11366741322478, 58.742839205820765, 56.709046879352684, ...]\n",
      "    │       │   │           │       └── \u001b[94mis_calculated\u001b[0m = False\n",
      "    │       │   │           └── 2\n",
      "    │       │   │               └── \u001b[4mReplicate\u001b[0m\n",
      "    │       │   │                   ├── \u001b[94mid\u001b[0m = C7\n",
      "    │       │   │                   ├── \u001b[94mspecies_id\u001b[0m = s0\n",
      "    │       │   │                   ├── \u001b[94mmeasurement_id\u001b[0m = measurement17\n",
      "    │       │   │                   ├── \u001b[94mdata_type\u001b[0m = conc\n",
      "    │       │   │                   ├── \u001b[94mdata_unit\u001b[0m = umol / l\n",
      "    │       │   │                   ├── \u001b[94mtime_unit\u001b[0m = min\n",
      "    │       │   │                   ├── \u001b[94mtime\u001b[0m = [0.0, 0.5, 1.0, 1.5, 2.0, ...]\n",
      "    │       │   │                   ├── \u001b[94mdata\u001b[0m = [67.44247457276943, 62.90590165647326, 59.866989010995574, 57.284427702928426, 55.4155130675139, ...]\n",
      "    │       │   │                   └── \u001b[94mis_calculated\u001b[0m = False\n",
      "    │       │   └── 2\n",
      "    │       │       └── \u001b[4mMeasurementData\u001b[0m\n",
      "    │       │           ├── \u001b[94mid\u001b[0m = measurementdata50\n",
      "    │       │           ├── \u001b[94minit_conc\u001b[0m = 4.0\n",
      "    │       │           ├── \u001b[94munit\u001b[0m = umol / l\n",
      "    │       │           ├── \u001b[94mmeasurement_id\u001b[0m = measurement17\n",
      "    │       │           └── \u001b[94mspecies_id\u001b[0m = p0\n",
      "    │       ├── \u001b[94mglobal_time\u001b[0m = [0.0, 0.5, 1.0, 1.5, 2.0, ...]\n",
      "    │       └── \u001b[94mglobal_time_unit\u001b[0m = min\n",
      "    ├── 6\n",
      "    │   └── \u001b[4mMeasurement\u001b[0m\n",
      "    │       ├── \u001b[94mid\u001b[0m = measurement18\n",
      "    │       ├── \u001b[94mname\u001b[0m = ABTS 100.0 umol / l\n",
      "    │       ├── \u001b[94mtemperature\u001b[0m = 35.0\n",
      "    │       ├── \u001b[94mtemperature_unit\u001b[0m = C\n",
      "    │       ├── \u001b[94mph\u001b[0m = 2.0\n",
      "    │       ├── \u001b[94mspecies\u001b[0m\n",
      "    │       │   ├── 0\n",
      "    │       │   │   └── \u001b[4mMeasurementData\u001b[0m\n",
      "    │       │   │       ├── \u001b[94mid\u001b[0m = measurementdata51\n",
      "    │       │   │       ├── \u001b[94minit_conc\u001b[0m = 100.0\n",
      "    │       │   │       ├── \u001b[94munit\u001b[0m = umol / l\n",
      "    │       │   │       ├── \u001b[94mmeasurement_id\u001b[0m = measurement18\n",
      "    │       │   │       └── \u001b[94mspecies_id\u001b[0m = s1\n",
      "    │       │   ├── 1\n",
      "    │       │   │   └── \u001b[4mMeasurementData\u001b[0m\n",
      "    │       │   │       ├── \u001b[94mid\u001b[0m = measurementdata52\n",
      "    │       │   │       ├── \u001b[94minit_conc\u001b[0m = 100.0\n",
      "    │       │   │       ├── \u001b[94munit\u001b[0m = umol / l\n",
      "    │       │   │       ├── \u001b[94mmeasurement_id\u001b[0m = measurement18\n",
      "    │       │   │       ├── \u001b[94mspecies_id\u001b[0m = s0\n",
      "    │       │   │       └── \u001b[94mreplicates\u001b[0m\n",
      "    │       │   │           ├── 0\n",
      "    │       │   │           │   └── \u001b[4mReplicate\u001b[0m\n",
      "    │       │   │           │       ├── \u001b[94mid\u001b[0m = A8\n",
      "    │       │   │           │       ├── \u001b[94mspecies_id\u001b[0m = s0\n",
      "    │       │   │           │       ├── \u001b[94mmeasurement_id\u001b[0m = measurement18\n",
      "    │       │   │           │       ├── \u001b[94mdata_type\u001b[0m = conc\n",
      "    │       │   │           │       ├── \u001b[94mdata_unit\u001b[0m = umol / l\n",
      "    │       │   │           │       ├── \u001b[94mtime_unit\u001b[0m = min\n",
      "    │       │   │           │       ├── \u001b[94mtime\u001b[0m = [0.0, 0.5, 1.0, 1.5, 2.0, ...]\n",
      "    │       │   │           │       ├── \u001b[94mdata\u001b[0m = [95.29940172106248, 89.58113517056202, 85.05232875765113, 80.23874886865569, 78.1685853077122, ...]\n",
      "    │       │   │           │       └── \u001b[94mis_calculated\u001b[0m = False\n",
      "    │       │   │           ├── 1\n",
      "    │       │   │           │   └── \u001b[4mReplicate\u001b[0m\n",
      "    │       │   │           │       ├── \u001b[94mid\u001b[0m = B8\n",
      "    │       │   │           │       ├── \u001b[94mspecies_id\u001b[0m = s0\n",
      "    │       │   │           │       ├── \u001b[94mmeasurement_id\u001b[0m = measurement18\n",
      "    │       │   │           │       ├── \u001b[94mdata_type\u001b[0m = conc\n",
      "    │       │   │           │       ├── \u001b[94mdata_unit\u001b[0m = umol / l\n",
      "    │       │   │           │       ├── \u001b[94mtime_unit\u001b[0m = min\n",
      "    │       │   │           │       ├── \u001b[94mtime\u001b[0m = [0.0, 0.5, 1.0, 1.5, 2.0, ...]\n",
      "    │       │   │           │       ├── \u001b[94mdata\u001b[0m = [101.94217945190663, 94.97450405592943, 90.7746577373649, 87.87500240051985, 84.35364956483876, ...]\n",
      "    │       │   │           │       └── \u001b[94mis_calculated\u001b[0m = False\n",
      "    │       │   │           └── 2\n",
      "    │       │   │               └── \u001b[4mReplicate\u001b[0m\n",
      "    │       │   │                   ├── \u001b[94mid\u001b[0m = C8\n",
      "    │       │   │                   ├── \u001b[94mspecies_id\u001b[0m = s0\n",
      "    │       │   │                   ├── \u001b[94mmeasurement_id\u001b[0m = measurement18\n",
      "    │       │   │                   ├── \u001b[94mdata_type\u001b[0m = conc\n",
      "    │       │   │                   ├── \u001b[94mdata_unit\u001b[0m = umol / l\n",
      "    │       │   │                   ├── \u001b[94mtime_unit\u001b[0m = min\n",
      "    │       │   │                   ├── \u001b[94mtime\u001b[0m = [0.0, 0.5, 1.0, 1.5, 2.0, ...]\n",
      "    │       │   │                   ├── \u001b[94mdata\u001b[0m = [101.84427972868622, 94.84582657211918, 90.84473097909844, 87.32132428573902, 85.23038573937997, ...]\n",
      "    │       │   │                   └── \u001b[94mis_calculated\u001b[0m = False\n",
      "    │       │   └── 2\n",
      "    │       │       └── \u001b[4mMeasurementData\u001b[0m\n",
      "    │       │           ├── \u001b[94mid\u001b[0m = measurementdata53\n",
      "    │       │           ├── \u001b[94minit_conc\u001b[0m = 4.0\n",
      "    │       │           ├── \u001b[94munit\u001b[0m = umol / l\n",
      "    │       │           ├── \u001b[94mmeasurement_id\u001b[0m = measurement18\n",
      "    │       │           └── \u001b[94mspecies_id\u001b[0m = p0\n",
      "    │       ├── \u001b[94mglobal_time\u001b[0m = [0.0, 0.5, 1.0, 1.5, 2.0, ...]\n",
      "    │       └── \u001b[94mglobal_time_unit\u001b[0m = min\n",
      "    ├── 7\n",
      "    │   └── \u001b[4mMeasurement\u001b[0m\n",
      "    │       ├── \u001b[94mid\u001b[0m = measurement19\n",
      "    │       ├── \u001b[94mname\u001b[0m = ABTS 150.0 umol / l\n",
      "    │       ├── \u001b[94mtemperature\u001b[0m = 35.0\n",
      "    │       ├── \u001b[94mtemperature_unit\u001b[0m = C\n",
      "    │       ├── \u001b[94mph\u001b[0m = 2.0\n",
      "    │       ├── \u001b[94mspecies\u001b[0m\n",
      "    │       │   ├── 0\n",
      "    │       │   │   └── \u001b[4mMeasurementData\u001b[0m\n",
      "    │       │   │       ├── \u001b[94mid\u001b[0m = measurementdata54\n",
      "    │       │   │       ├── \u001b[94minit_conc\u001b[0m = 100.0\n",
      "    │       │   │       ├── \u001b[94munit\u001b[0m = umol / l\n",
      "    │       │   │       ├── \u001b[94mmeasurement_id\u001b[0m = measurement19\n",
      "    │       │   │       └── \u001b[94mspecies_id\u001b[0m = s1\n",
      "    │       │   ├── 1\n",
      "    │       │   │   └── \u001b[4mMeasurementData\u001b[0m\n",
      "    │       │   │       ├── \u001b[94mid\u001b[0m = measurementdata55\n",
      "    │       │   │       ├── \u001b[94minit_conc\u001b[0m = 150.0\n",
      "    │       │   │       ├── \u001b[94munit\u001b[0m = umol / l\n",
      "    │       │   │       ├── \u001b[94mmeasurement_id\u001b[0m = measurement19\n",
      "    │       │   │       ├── \u001b[94mspecies_id\u001b[0m = s0\n",
      "    │       │   │       └── \u001b[94mreplicates\u001b[0m\n",
      "    │       │   │           ├── 0\n",
      "    │       │   │           │   └── \u001b[4mReplicate\u001b[0m\n",
      "    │       │   │           │       ├── \u001b[94mid\u001b[0m = A9\n",
      "    │       │   │           │       ├── \u001b[94mspecies_id\u001b[0m = s0\n",
      "    │       │   │           │       ├── \u001b[94mmeasurement_id\u001b[0m = measurement19\n",
      "    │       │   │           │       ├── \u001b[94mdata_type\u001b[0m = conc\n",
      "    │       │   │           │       ├── \u001b[94mdata_unit\u001b[0m = umol / l\n",
      "    │       │   │           │       ├── \u001b[94mtime_unit\u001b[0m = min\n",
      "    │       │   │           │       ├── \u001b[94mtime\u001b[0m = [0.0, 0.5, 1.0, 1.5, 2.0, ...]\n",
      "    │       │   │           │       ├── \u001b[94mdata\u001b[0m = [123.02574643692319, 115.94439646588407, 110.95837757173447, 106.59592340313597, 103.49450750447886, ...]\n",
      "    │       │   │           │       └── \u001b[94mis_calculated\u001b[0m = False\n",
      "    │       │   │           ├── 1\n",
      "    │       │   │           │   └── \u001b[4mReplicate\u001b[0m\n",
      "    │       │   │           │       ├── \u001b[94mid\u001b[0m = B9\n",
      "    │       │   │           │       ├── \u001b[94mspecies_id\u001b[0m = s0\n",
      "    │       │   │           │       ├── \u001b[94mmeasurement_id\u001b[0m = measurement19\n",
      "    │       │   │           │       ├── \u001b[94mdata_type\u001b[0m = conc\n",
      "    │       │   │           │       ├── \u001b[94mdata_unit\u001b[0m = umol / l\n",
      "    │       │   │           │       ├── \u001b[94mtime_unit\u001b[0m = min\n",
      "    │       │   │           │       ├── \u001b[94mtime\u001b[0m = [0.0, 0.5, 1.0, 1.5, 2.0, ...]\n",
      "    │       │   │           │       ├── \u001b[94mdata\u001b[0m = [128.0452941334471, 120.41992228928179, 114.64656836466887, 111.31912726207605, 104.81760805096287, ...]\n",
      "    │       │   │           │       └── \u001b[94mis_calculated\u001b[0m = False\n",
      "    │       │   │           └── 2\n",
      "    │       │   │               └── \u001b[4mReplicate\u001b[0m\n",
      "    │       │   │                   ├── \u001b[94mid\u001b[0m = C9\n",
      "    │       │   │                   ├── \u001b[94mspecies_id\u001b[0m = s0\n",
      "    │       │   │                   ├── \u001b[94mmeasurement_id\u001b[0m = measurement19\n",
      "    │       │   │                   ├── \u001b[94mdata_type\u001b[0m = conc\n",
      "    │       │   │                   ├── \u001b[94mdata_unit\u001b[0m = umol / l\n",
      "    │       │   │                   ├── \u001b[94mtime_unit\u001b[0m = min\n",
      "    │       │   │                   ├── \u001b[94mtime\u001b[0m = [0.0, 0.5, 1.0, 1.5, 2.0, ...]\n",
      "    │       │   │                   ├── \u001b[94mdata\u001b[0m = [123.86775620838138, 116.31422913481674, 112.59261026535133, 107.7524567004909, 105.2455607948447, ...]\n",
      "    │       │   │                   └── \u001b[94mis_calculated\u001b[0m = False\n",
      "    │       │   └── 2\n",
      "    │       │       └── \u001b[4mMeasurementData\u001b[0m\n",
      "    │       │           ├── \u001b[94mid\u001b[0m = measurementdata56\n",
      "    │       │           ├── \u001b[94minit_conc\u001b[0m = 4.0\n",
      "    │       │           ├── \u001b[94munit\u001b[0m = umol / l\n",
      "    │       │           ├── \u001b[94mmeasurement_id\u001b[0m = measurement19\n",
      "    │       │           └── \u001b[94mspecies_id\u001b[0m = p0\n",
      "    │       ├── \u001b[94mglobal_time\u001b[0m = [0.0, 0.5, 1.0, 1.5, 2.0, ...]\n",
      "    │       └── \u001b[94mglobal_time_unit\u001b[0m = min\n",
      "    └── 8\n",
      "        └── \u001b[4mMeasurement\u001b[0m\n",
      "            ├── \u001b[94mid\u001b[0m = measurement20\n",
      "            ├── \u001b[94mname\u001b[0m = ABTS 200.0 umol / l\n",
      "            ├── \u001b[94mtemperature\u001b[0m = 35.0\n",
      "            ├── \u001b[94mtemperature_unit\u001b[0m = C\n",
      "            ├── \u001b[94mph\u001b[0m = 2.0\n",
      "            ├── \u001b[94mspecies\u001b[0m\n",
      "            │   ├── 0\n",
      "            │   │   └── \u001b[4mMeasurementData\u001b[0m\n",
      "            │   │       ├── \u001b[94mid\u001b[0m = measurementdata57\n",
      "            │   │       ├── \u001b[94minit_conc\u001b[0m = 100.0\n",
      "            │   │       ├── \u001b[94munit\u001b[0m = umol / l\n",
      "            │   │       ├── \u001b[94mmeasurement_id\u001b[0m = measurement20\n",
      "            │   │       └── \u001b[94mspecies_id\u001b[0m = s1\n",
      "            │   ├── 1\n",
      "            │   │   └── \u001b[4mMeasurementData\u001b[0m\n",
      "            │   │       ├── \u001b[94mid\u001b[0m = measurementdata58\n",
      "            │   │       ├── \u001b[94minit_conc\u001b[0m = 200.0\n",
      "            │   │       ├── \u001b[94munit\u001b[0m = umol / l\n",
      "            │   │       ├── \u001b[94mmeasurement_id\u001b[0m = measurement20\n",
      "            │   │       ├── \u001b[94mspecies_id\u001b[0m = s0\n",
      "            │   │       └── \u001b[94mreplicates\u001b[0m\n",
      "            │   │           ├── 0\n",
      "            │   │           │   └── \u001b[4mReplicate\u001b[0m\n",
      "            │   │           │       ├── \u001b[94mid\u001b[0m = A10\n",
      "            │   │           │       ├── \u001b[94mspecies_id\u001b[0m = s0\n",
      "            │   │           │       ├── \u001b[94mmeasurement_id\u001b[0m = measurement20\n",
      "            │   │           │       ├── \u001b[94mdata_type\u001b[0m = conc\n",
      "            │   │           │       ├── \u001b[94mdata_unit\u001b[0m = umol / l\n",
      "            │   │           │       ├── \u001b[94mtime_unit\u001b[0m = min\n",
      "            │   │           │       ├── \u001b[94mtime\u001b[0m = [0.0, 0.5, 1.0, 1.5, 2.0, ...]\n",
      "            │   │           │       ├── \u001b[94mdata\u001b[0m = [nan, nan, nan, 142.52610909808553, 140.6644723239124, ...]\n",
      "            │   │           │       └── \u001b[94mis_calculated\u001b[0m = False\n",
      "            │   │           ├── 1\n",
      "            │   │           │   └── \u001b[4mReplicate\u001b[0m\n",
      "            │   │           │       ├── \u001b[94mid\u001b[0m = B10\n",
      "            │   │           │       ├── \u001b[94mspecies_id\u001b[0m = s0\n",
      "            │   │           │       ├── \u001b[94mmeasurement_id\u001b[0m = measurement20\n",
      "            │   │           │       ├── \u001b[94mdata_type\u001b[0m = conc\n",
      "            │   │           │       ├── \u001b[94mdata_unit\u001b[0m = umol / l\n",
      "            │   │           │       ├── \u001b[94mtime_unit\u001b[0m = min\n",
      "            │   │           │       ├── \u001b[94mtime\u001b[0m = [0.0, 0.5, 1.0, 1.5, 2.0, ...]\n",
      "            │   │           │       ├── \u001b[94mdata\u001b[0m = [nan, nan, nan, 145.40600940966314, 141.2633995765764, ...]\n",
      "            │   │           │       └── \u001b[94mis_calculated\u001b[0m = False\n",
      "            │   │           └── 2\n",
      "            │   │               └── \u001b[4mReplicate\u001b[0m\n",
      "            │   │                   ├── \u001b[94mid\u001b[0m = C10\n",
      "            │   │                   ├── \u001b[94mspecies_id\u001b[0m = s0\n",
      "            │   │                   ├── \u001b[94mmeasurement_id\u001b[0m = measurement20\n",
      "            │   │                   ├── \u001b[94mdata_type\u001b[0m = conc\n",
      "            │   │                   ├── \u001b[94mdata_unit\u001b[0m = umol / l\n",
      "            │   │                   ├── \u001b[94mtime_unit\u001b[0m = min\n",
      "            │   │                   ├── \u001b[94mtime\u001b[0m = [0.0, 0.5, 1.0, 1.5, 2.0, ...]\n",
      "            │   │                   ├── \u001b[94mdata\u001b[0m = [nan, 140.98389640124003, 145.2292891463856, 140.72221853707464, 139.01000983360797, ...]\n",
      "            │   │                   └── \u001b[94mis_calculated\u001b[0m = False\n",
      "            │   └── 2\n",
      "            │       └── \u001b[4mMeasurementData\u001b[0m\n",
      "            │           ├── \u001b[94mid\u001b[0m = measurementdata59\n",
      "            │           ├── \u001b[94minit_conc\u001b[0m = 4.0\n",
      "            │           ├── \u001b[94munit\u001b[0m = umol / l\n",
      "            │           ├── \u001b[94mmeasurement_id\u001b[0m = measurement20\n",
      "            │           └── \u001b[94mspecies_id\u001b[0m = p0\n",
      "            ├── \u001b[94mglobal_time\u001b[0m = [0.0, 0.5, 1.0, 1.5, 2.0, ...]\n",
      "            └── \u001b[94mglobal_time_unit\u001b[0m = min\n",
      "\n"
     ]
    }
   ],
   "source": [
    "print(enzymeml)"
   ]
  }
 ],
 "metadata": {
  "kernelspec": {
   "display_name": "sdrdm_example",
   "language": "python",
   "name": "python3"
  },
  "language_info": {
   "codemirror_mode": {
    "name": "ipython",
    "version": 3
   },
   "file_extension": ".py",
   "mimetype": "text/x-python",
   "name": "python",
   "nbconvert_exporter": "python",
   "pygments_lexer": "ipython3",
   "version": "3.11.3"
  },
  "orig_nbformat": 4
 },
 "nbformat": 4,
 "nbformat_minor": 2
}
