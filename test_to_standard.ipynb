{
 "cells": [
  {
   "cell_type": "code",
   "execution_count": 1,
   "metadata": {},
   "outputs": [],
   "source": [
    "import numpy as np"
   ]
  },
  {
   "cell_type": "code",
   "execution_count": 2,
   "metadata": {},
   "outputs": [],
   "source": [
    "%reload_ext autoreload\n",
    "%autoreload 2\n",
    "\n",
    "from PlateHandler.core import Plate\n",
    "from PlateHandler.ioutils.standardmapper import create_standard\n",
    "\n",
    "from CaliPytion.tools.standardcurve import StandardCurve\n",
    "from CaliPytion.core import Standard\n"
   ]
  },
  {
   "cell_type": "code",
   "execution_count": 3,
   "metadata": {},
   "outputs": [
    {
     "name": "stdout",
     "output_type": "stream",
     "text": [
      "added D1, with condition length: 1 and [0] being b0\n",
      "added E1, with condition length: 1 and [0] being b0\n",
      "added F1, with condition length: 1 and [0] being b0\n",
      "added A1, with condition length: 2 and [0] being p0\n",
      "added B1, with condition length: 2 and [0] being p0\n",
      "added C1, with condition length: 2 and [0] being p0\n"
     ]
    }
   ],
   "source": [
    "path = \"/Users/max/Documents/enzymeml/alaric/EnzymeML_SLAC_5xConcentration_pH2.0-3.5/ABTS_EnzymeML_340nm_420nm_5x_35deg_pH3.5.txt\"\n",
    "time = np.linspace(0, 15, 31)\n",
    "time_unit = \"min\"\n",
    "\n",
    "# Load plate data\n",
    "plate = Plate.from_file(path, time, time_unit)\n",
    "\n",
    "# Define species\n",
    "buffer = plate.add_to_species(type=\"buffer\", name=\"buffer\", id=\"b0\")\n",
    "enzyme = plate.add_to_species(type=\"enzyme\", name=\"SLAC\", id=\"p0\")\n",
    "substrate = plate.add_to_species(type=\"substrate\", name=\"ABTS\", id=\"s0\")\n",
    "\n",
    "# Define well conditions for each species\n",
    "# Define buffer concentration\n",
    "plate.assign_species_conditions_to_rows(\n",
    "    row_ids=[\"A\", \"B\", \"C\", \"D\", \"E\", \"F\"],\n",
    "    species=buffer,\n",
    "    init_concs=100,\n",
    "    conc_unit=\"mM\"\n",
    ")\n",
    "\n",
    "# Define substrate concentrations\n",
    "plate.assign_species_conditions_to_rows(\n",
    "    row_ids=[\"A\", \"B\", \"C\", \"D\", \"E\", \"F\"],\n",
    "    species=substrate,\n",
    "    init_concs=[0, 5, 10, 15, 25, 50, 75, 100, 150, 200],\n",
    "    conc_unit=\"mM\"\n",
    ")\n",
    "\n",
    "# Define enzyme concentrations\n",
    "plate.assign_species_conditions_to_rows(\n",
    "    row_ids=[\"A\", \"B\", \"C\"],\n",
    "    species=enzyme,\n",
    "    init_concs=4,\n",
    "    conc_unit=\"nM\"\n",
    ")\n",
    "\n",
    "# Blank data\n",
    "plate.blank_species(buffer, 340)\n",
    "plate.blank_species(enzyme, 340)"
   ]
  },
  {
   "cell_type": "markdown",
   "metadata": {},
   "source": [
    "### Create instance of ```Standard```"
   ]
  },
  {
   "cell_type": "code",
   "execution_count": 4,
   "metadata": {},
   "outputs": [
    {
     "name": "stdout",
     "output_type": "stream",
     "text": [
      "D1\n",
      "D2\n",
      "D3\n",
      "D4\n",
      "D5\n",
      "D6\n",
      "D7\n",
      "D8\n",
      "D9\n"
     ]
    }
   ],
   "source": [
    "for well in plate.wells[30:39]:\n",
    "    print(well.id)"
   ]
  },
  {
   "cell_type": "code",
   "execution_count": 5,
   "metadata": {},
   "outputs": [
    {
     "name": "stdout",
     "output_type": "stream",
     "text": [
      "\u001b[4mWell\u001b[0m\n",
      "├── \u001b[94mid\u001b[0m = D2\n",
      "├── \u001b[94mabsorption\u001b[0m = [0.08928977792131557, 0.08876732571538556, 0.08803694690943256, 0.08834525527192658, 0.08823467220259057, ...]\n",
      "├── \u001b[94mtime\u001b[0m = [0.0, 0.5, 1.0, 1.5, 2.0, ...]\n",
      "├── \u001b[94mtime_unit\u001b[0m = min\n",
      "├── \u001b[94minit_conditions\u001b[0m\n",
      "│   ├── 0\n",
      "│   │   └── \u001b[4mInitCondition\u001b[0m\n",
      "│   │       ├── \u001b[94mid\u001b[0m = initcondition62\n",
      "│   │       ├── \u001b[94mspecies\u001b[0m = b0\n",
      "│   │       ├── \u001b[94minit_conc\u001b[0m = 100.0\n",
      "│   │       ├── \u001b[94mconc_unit\u001b[0m = mM\n",
      "│   │       └── \u001b[94mwas_blanked\u001b[0m = True\n",
      "│   └── 1\n",
      "│       └── \u001b[4mInitCondition\u001b[0m\n",
      "│           ├── \u001b[94mid\u001b[0m = initcondition174\n",
      "│           ├── \u001b[94mspecies\u001b[0m = s0\n",
      "│           ├── \u001b[94minit_conc\u001b[0m = 5.0\n",
      "│           ├── \u001b[94mconc_unit\u001b[0m = mM\n",
      "│           └── \u001b[94mwas_blanked\u001b[0m = False\n",
      "├── \u001b[94mx_position\u001b[0m = 1\n",
      "├── \u001b[94my_position\u001b[0m = 3\n",
      "└── \u001b[94mwavelength\u001b[0m = 340\n",
      "\n"
     ]
    }
   ],
   "source": [
    "print(plate.wells[31])"
   ]
  },
  {
   "cell_type": "code",
   "execution_count": 6,
   "metadata": {},
   "outputs": [],
   "source": [
    "subset = plate.wells[31:40] + plate.wells[41:50]"
   ]
  },
  {
   "cell_type": "code",
   "execution_count": 24,
   "metadata": {},
   "outputs": [
    {
     "name": "stdout",
     "output_type": "stream",
     "text": [
      "\u001b[4mWell\u001b[0m\n",
      "├── \u001b[94mid\u001b[0m = A6\n",
      "├── \u001b[94mabsorption\u001b[0m = [0.8218072149792292, 0.7784879049748431, 0.7466985436004482, 0.7235992754187022, 0.6990941666635572, ...]\n",
      "├── \u001b[94mtime\u001b[0m = [0.0, 0.5, 1.0, 1.5, 2.0, ...]\n",
      "├── \u001b[94mtime_unit\u001b[0m = min\n",
      "├── \u001b[94minit_conditions\u001b[0m\n",
      "│   ├── 0\n",
      "│   │   └── \u001b[4mInitCondition\u001b[0m\n",
      "│   │       ├── \u001b[94mid\u001b[0m = initcondition10\n",
      "│   │       ├── \u001b[94mspecies\u001b[0m = b0\n",
      "│   │       ├── \u001b[94minit_conc\u001b[0m = 100.0\n",
      "│   │       ├── \u001b[94mconc_unit\u001b[0m = mM\n",
      "│   │       └── \u001b[94mwas_blanked\u001b[0m = True\n",
      "│   ├── 1\n",
      "│   │   └── \u001b[4mInitCondition\u001b[0m\n",
      "│   │       ├── \u001b[94mid\u001b[0m = initcondition128\n",
      "│   │       ├── \u001b[94mspecies\u001b[0m = s0\n",
      "│   │       ├── \u001b[94minit_conc\u001b[0m = 50.0\n",
      "│   │       ├── \u001b[94mconc_unit\u001b[0m = mM\n",
      "│   │       └── \u001b[94mwas_blanked\u001b[0m = False\n",
      "│   └── 2\n",
      "│       └── \u001b[4mInitCondition\u001b[0m\n",
      "│           ├── \u001b[94mid\u001b[0m = initcondition238\n",
      "│           ├── \u001b[94mspecies\u001b[0m = p0\n",
      "│           ├── \u001b[94minit_conc\u001b[0m = 4.0\n",
      "│           ├── \u001b[94mconc_unit\u001b[0m = nM\n",
      "│           └── \u001b[94mwas_blanked\u001b[0m = True\n",
      "├── \u001b[94mx_position\u001b[0m = 5\n",
      "├── \u001b[94my_position\u001b[0m = 0\n",
      "└── \u001b[94mwavelength\u001b[0m = 340\n",
      "\n"
     ]
    }
   ],
   "source": [
    "print(plate.wells[5])"
   ]
  },
  {
   "cell_type": "code",
   "execution_count": 28,
   "metadata": {},
   "outputs": [
    {
     "name": "stdout",
     "output_type": "stream",
     "text": [
      "all wells: 60\n",
      "no species ('A1', 's0')\n",
      "yes therer is species\n",
      "yes has catalyst\n"
     ]
    },
    {
     "ename": "AttributeError",
     "evalue": "'str' object has no attribute 'id'",
     "output_type": "error",
     "traceback": [
      "\u001b[0;31m---------------------------------------------------------------------------\u001b[0m",
      "\u001b[0;31mAttributeError\u001b[0m                            Traceback (most recent call last)",
      "Cell \u001b[0;32mIn[28], line 1\u001b[0m\n\u001b[0;32m----> 1\u001b[0m ids \u001b[39m=\u001b[39m create_standard(plate, substrate, \u001b[39m340\u001b[39;49m)\n",
      "File \u001b[0;32m~/Documents/GitHub/spectrophotometry/PlateHandler/ioutils/standardmapper.py:41\u001b[0m, in \u001b[0;36mcreate_standard\u001b[0;34m(plate, species, wavelength)\u001b[0m\n\u001b[1;32m     39\u001b[0m \u001b[39mprint\u001b[39m(\u001b[39m\"\u001b[39m\u001b[39myes has catalyst\u001b[39m\u001b[39m\"\u001b[39m)\n\u001b[1;32m     40\u001b[0m catalyst_id \u001b[39m=\u001b[39m plate\u001b[39m.\u001b[39m_get_catalyst_id()\n\u001b[0;32m---> 41\u001b[0m \u001b[39mif\u001b[39;00m well\u001b[39m.\u001b[39;49m_contains_species(catalyst_id):\n\u001b[1;32m     42\u001b[0m     \u001b[39mprint\u001b[39m(\u001b[39mf\u001b[39m\u001b[39m\"\u001b[39m\u001b[39mcatalyst \u001b[39m\u001b[39m{\u001b[39;00mwell\u001b[39m.\u001b[39mid\u001b[39m}\u001b[39;00m\u001b[39m\"\u001b[39m)\n\u001b[1;32m     43\u001b[0m     \u001b[39mcontinue\u001b[39;00m\n",
      "File \u001b[0;32m~/Documents/GitHub/spectrophotometry/PlateHandler/core/well.py:111\u001b[0m, in \u001b[0;36mWell._contains_species\u001b[0;34m(self, species)\u001b[0m\n\u001b[1;32m    108\u001b[0m \u001b[39mdef\u001b[39;00m \u001b[39m_contains_species\u001b[39m(\u001b[39mself\u001b[39m, species: Species) \u001b[39m-\u001b[39m\u001b[39m>\u001b[39m \u001b[39mbool\u001b[39m:\n\u001b[1;32m    110\u001b[0m     \u001b[39mfor\u001b[39;00m condition \u001b[39min\u001b[39;00m \u001b[39mself\u001b[39m\u001b[39m.\u001b[39minit_conditions:\n\u001b[0;32m--> 111\u001b[0m         \u001b[39mif\u001b[39;00m condition\u001b[39m.\u001b[39mspecies \u001b[39m==\u001b[39m species\u001b[39m.\u001b[39;49mid:\n\u001b[1;32m    112\u001b[0m             \u001b[39mprint\u001b[39m(\u001b[39m\"\u001b[39m\u001b[39myes therer is species\u001b[39m\u001b[39m\"\u001b[39m)\n\u001b[1;32m    113\u001b[0m             \u001b[39mreturn\u001b[39;00m \u001b[39mTrue\u001b[39;00m\n",
      "\u001b[0;31mAttributeError\u001b[0m: 'str' object has no attribute 'id'"
     ]
    }
   ],
   "source": [
    "ids = create_standard(plate, substrate, 340)"
   ]
  },
  {
   "cell_type": "code",
   "execution_count": null,
   "metadata": {},
   "outputs": [
    {
     "data": {
      "text/plain": [
       "[Well(id='A1', absorption=[-0.030183109129602856, -0.029972963385306875, -0.027754798609112855, -0.03007478244169888, -0.029242651657385862, -0.027456943979260864, -0.026553919705857867, -0.02134935352605187, -0.025956904444436865, -0.024218862887448858, -0.023063484960941863, -0.02029657048384588, -0.02215958602362887, -0.02244225658565087, -0.021001488925992864, -0.021181568648833873, -0.02040625015759888, -0.02156704388678586, -0.019645159704854878, -0.02027429711583488, -0.019631775760903872, -0.020224734773200873, -0.019441567647025884, -0.02009384072238586, -0.018687166634630867, -0.01890005047591488, -0.018836922583265872, -0.018786637165263867, -0.01713123522196487, -0.018015983611445865, -0.017552822143877864], time=[0.0, 0.5, 1.0, 1.5, 2.0, 2.5, 3.0, 3.5, 4.0, 4.5, 5.0, 5.5, 6.0, 6.5, 7.0, 7.5, 8.0, 8.5, 9.0, 9.5, 10.0, 10.5, 11.0, 11.5, 12.0, 12.5, 13.0, 13.5, 14.0, 14.5, 15.0], time_unit='min', reaction_volume=None, volume_unit=None, init_conditions=[InitCondition(id='initcondition23328', species='b0', init_conc=100.0, conc_unit='mM', was_blanked=True), InitCondition(id='initcondition23556', species='p0', init_conc=4.0, conc_unit='nM', was_blanked=True)], x_position=0, y_position=0, wavelength=340),\n",
       " Well(id='B1', absorption=[-0.023284742057151878, -0.018194507677448887, -0.013768597091506865, -0.013888979256384867, -0.009685293405512871, -0.009440440222044863, -0.008476238307716863, -0.007610234467038887, -0.007504729799067869, -0.005985836445810869, -0.004760075655608861, -0.004661957530898861, -0.0038039229762788646, -0.003603181435148886, -0.0020136463094338614, -0.0028045034791818607, -0.0013888787089908622, -0.002900723801812874, -0.0006268996484488781, -0.0007067110792238623, -0.0009868088446788742, -0.0007824309939128832, -0.00038854319414886873, -0.0010572416002618684, 0.0012824546165611378, 0.0009209602737061257, 0.000319137560704133, 0.0005930679871251204, 0.0023077390884351373, 0.001115708674287133, 0.001943632440463125], time=[0.0, 0.5, 1.0, 1.5, 2.0, 2.5, 3.0, 3.5, 4.0, 4.5, 5.0, 5.5, 6.0, 6.5, 7.0, 7.5, 8.0, 8.5, 9.0, 9.5, 10.0, 10.5, 11.0, 11.5, 12.0, 12.5, 13.0, 13.5, 14.0, 14.5, 15.0], time_unit='min', reaction_volume=None, volume_unit=None, init_conditions=[InitCondition(id='initcondition23348', species='b0', init_conc=100.0, conc_unit='mM', was_blanked=True), InitCondition(id='initcondition23576', species='p0', init_conc=4.0, conc_unit='nM', was_blanked=True)], x_position=0, y_position=1, wavelength=340),\n",
       " Well(id='C1', absorption=[0.010426780315374126, 0.010323998763502137, 0.01520418196687813, 0.016998270639698124, 0.017703886760407114, 0.01907284113793413, 0.021127965941852136, 0.02281328534674114, 0.023114704886030138, 0.02438419069020313, 0.027398949708948114, 0.02752761012725112, 0.027573613923027138, 0.027535069871208115, 0.029966299949896122, 0.028544559594418137, 0.030737156761644138, 0.028058815417691133, 0.03227984488661713, 0.031584674650283126, 0.030787259738516135, 0.030028193269459116, 0.03263948408099314, 0.03078350181474314, 0.032625017316153124, 0.033406282927073136, 0.03292514412212812, 0.03308063724178413, 0.035433666615957135, 0.03364074779917513, 0.034220520080860115], time=[0.0, 0.5, 1.0, 1.5, 2.0, 2.5, 3.0, 3.5, 4.0, 4.5, 5.0, 5.5, 6.0, 6.5, 7.0, 7.5, 8.0, 8.5, 9.0, 9.5, 10.0, 10.5, 11.0, 11.5, 12.0, 12.5, 13.0, 13.5, 14.0, 14.5, 15.0], time_unit='min', reaction_volume=None, volume_unit=None, init_conditions=[InitCondition(id='initcondition23368', species='b0', init_conc=100.0, conc_unit='mM', was_blanked=True), InitCondition(id='initcondition23596', species='p0', init_conc=4.0, conc_unit='nM', was_blanked=True)], x_position=0, y_position=2, wavelength=340),\n",
       " Well(id='D1', absorption=[-0.005083105390246624, -0.005531581592114428, -0.004564206950100527, -0.00449377667478823, -0.0045236994290531254, -0.005053680928425126, -0.005273396734519729, -0.005034829834867326, -0.0054401778148310265, -0.004672822107235124, -0.0042819567018513235, -0.004579396296474428, -0.004378669940774425, -0.004913887503546328, -0.004047913667878926, -0.004948380194476229, -0.0037837727275339267, -0.005693672637530928, -0.0033847213699182283, -0.004607472174581025, -0.00483569392708233, -0.005291318434261928, -0.0045218580883216244, -0.00526374628216883, -0.003822505010371624, -0.004099063762018129, -0.0043897215111477275, -0.004911587893410729, -0.0029169263996045303, -0.003830804335871227, -0.0037929950129595297], time=[0.0, 0.5, 1.0, 1.5, 2.0, 2.5, 3.0, 3.5, 4.0, 4.5, 5.0, 5.5, 6.0, 6.5, 7.0, 7.5, 8.0, 8.5, 9.0, 9.5, 10.0, 10.5, 11.0, 11.5, 12.0, 12.5, 13.0, 13.5, 14.0, 14.5, 15.0], time_unit='min', reaction_volume=None, volume_unit=None, init_conditions=[InitCondition(id='initcondition23388', species='b0', init_conc=100.0, conc_unit='mM', was_blanked=True)], x_position=0, y_position=3, wavelength=340),\n",
       " Well(id='E1', absorption=[-0.006616392373335424, -0.005078048202745725, -0.006793649166804028, -0.006629677689993924, -0.006807386982452125, -0.006576992147933329, -0.007079763918792829, -0.007348311351072924, -0.006995093589950527, -0.006904912979745929, -0.007322241621470826, -0.007636346282632628, 0.004432677673940774, -0.0076336039936252265, -0.006716709367448025, -0.006989143162267827, -0.007217032075690327, -0.0064541871193655245, -0.007152979001650829, -0.00701660599446273, -0.0076006951748346235, -0.007573269254155024, -0.007640002641040325, -0.007537155816910224, 0.003928270007998072, 0.003627032103439176, -0.00699372042156763, -0.00712140651084793, -0.004307288441415126, -0.004372223061513428, -0.007496467460938926], time=[0.0, 0.5, 1.0, 1.5, 2.0, 2.5, 3.0, 3.5, 4.0, 4.5, 5.0, 5.5, 6.0, 6.5, 7.0, 7.5, 8.0, 8.5, 9.0, 9.5, 10.0, 10.5, 11.0, 11.5, 12.0, 12.5, 13.0, 13.5, 14.0, 14.5, 15.0], time_unit='min', reaction_volume=None, volume_unit=None, init_conditions=[InitCondition(id='initcondition23408', species='b0', init_conc=100.0, conc_unit='mM', was_blanked=True)], x_position=0, y_position=4, wavelength=340),\n",
       " Well(id='F1', absorption=[0.010643721228044273, 0.010782461654825971, 0.011119246462081872, 0.011742939908053272, 0.009868830046589075, 0.010297302104532273, 0.010065874691846874, 0.009839328640461276, 0.009673777284660276, 0.009647618333033577, 0.009879298769206374, 0.010802489706975976, 0.009767962558944271, 0.009482140026405975, 0.00958008796064147, 0.01063800092476757, 0.009507813562180271, 0.01015062186046007, 0.010742885124846772, 0.010509314016326175, 0.00954252279189647, 0.009288211238677874, 0.009379936367322976, 0.009097219003086174, 0.010129195452486875, 0.010407344807584172, 0.010212050089292976, 0.012778834659273867, 0.010391146296026575, 0.015813138318898072, 0.009809353457822072], time=[0.0, 0.5, 1.0, 1.5, 2.0, 2.5, 3.0, 3.5, 4.0, 4.5, 5.0, 5.5, 6.0, 6.5, 7.0, 7.5, 8.0, 8.5, 9.0, 9.5, 10.0, 10.5, 11.0, 11.5, 12.0, 12.5, 13.0, 13.5, 14.0, 14.5, 15.0], time_unit='min', reaction_volume=None, volume_unit=None, init_conditions=[InitCondition(id='initcondition23428', species='b0', init_conc=100.0, conc_unit='mM', was_blanked=True)], x_position=0, y_position=5, wavelength=340),\n",
       " Well(id='A2', absorption=[0.03167504036421813, 0.027808682337446114, 0.02309070668715614, 0.023191015663831124, 0.022758560158466126, 0.025149521931318128, 0.024695349163787114, 0.025456279935605133, 0.02304579054539914, 0.02426386178330213, 0.021842169944226122, 0.02330673823121314, 0.021268874570941135, 0.021303189680853138, 0.021515881282272123, 0.02259258210465913, 0.021269487316985122, 0.021771003394554136, 0.02127193830980713, 0.021235787568304118, 0.020955874381442127, 0.02051340395088412, 0.02036540245587813, 0.02062352042611114, 0.02149564964451013, 0.021293997867690137, 0.021061203468522124, 0.020990164768060135, 0.021598043678254117, 0.023151012374274124, 0.02069327530419514], time=[0.0, 0.5, 1.0, 1.5, 2.0, 2.5, 3.0, 3.5, 4.0, 4.5, 5.0, 5.5, 6.0, 6.5, 7.0, 7.5, 8.0, 8.5, 9.0, 9.5, 10.0, 10.5, 11.0, 11.5, 12.0, 12.5, 13.0, 13.5, 14.0, 14.5, 15.0], time_unit='min', reaction_volume=None, volume_unit=None, init_conditions=[InitCondition(id='initcondition23330', species='b0', init_conc=100.0, conc_unit='mM', was_blanked=True), InitCondition(id='initcondition23448', species='s0', init_conc=5.0, conc_unit='mM', was_blanked=False), InitCondition(id='initcondition23558', species='p0', init_conc=4.0, conc_unit='nM', was_blanked=True)], x_position=1, y_position=0, wavelength=340),\n",
       " Well(id='B2', absorption=[0.033298547172047124, 0.026069207619745113, 0.026637092005616134, 0.027424430146522114, 0.037539256343094116, 0.03661212292708012, 0.03533302170898313, 0.034068404801953125, 0.032059304555752136, 0.03202161655967113, 0.030045074796682128, 0.030854907927437128, 0.029685702532195116, 0.028657978118336133, 0.035036919157030125, 0.029071396263802132, 0.02952829740536013, 0.029008391613909126, 0.029279813389758116, 0.029515807378184114, 0.02850966754525512, 0.02853521323494114, 0.02841933508512713, 0.02878576523365413, 0.028729658943093137, 0.028889892779893137, 0.029032719058808124, 0.02907202011791714, 0.029928168053521123, 0.030327781554894115, 0.029054552541458126], time=[0.0, 0.5, 1.0, 1.5, 2.0, 2.5, 3.0, 3.5, 4.0, 4.5, 5.0, 5.5, 6.0, 6.5, 7.0, 7.5, 8.0, 8.5, 9.0, 9.5, 10.0, 10.5, 11.0, 11.5, 12.0, 12.5, 13.0, 13.5, 14.0, 14.5, 15.0], time_unit='min', reaction_volume=None, volume_unit=None, init_conditions=[InitCondition(id='initcondition23350', species='b0', init_conc=100.0, conc_unit='mM', was_blanked=True), InitCondition(id='initcondition23466', species='s0', init_conc=5.0, conc_unit='mM', was_blanked=False), InitCondition(id='initcondition23578', species='p0', init_conc=4.0, conc_unit='nM', was_blanked=True)], x_position=1, y_position=1, wavelength=340),\n",
       " Well(id='C2', absorption=[0.06304763847272112, 0.05701079320615314, 0.05372070290740112, 0.055716041681811115, 0.05907080466128513, 0.05876742511731413, 0.05871064852832912, 0.056992165008141124, 0.05854770754342513, 0.05709130282173512, 0.05660647478111512, 0.05622444728063612, 0.05553300213323613, 0.055094949039443133, 0.05663505730379713, 0.055253286381929126, 0.05613214670028914, 0.05568353989734513, 0.05730695580496513, 0.05714387500524713, 0.05640445663531414, 0.054896942986855116, 0.055611248731780125, 0.05607173032503414, 0.058051248158351124, 0.05713721994666514, 0.05731028462226513, 0.057554023366321136, 0.058263375066787124, 0.058479610984614114, 0.058040577843586114], time=[0.0, 0.5, 1.0, 1.5, 2.0, 2.5, 3.0, 3.5, 4.0, 4.5, 5.0, 5.5, 6.0, 6.5, 7.0, 7.5, 8.0, 8.5, 9.0, 9.5, 10.0, 10.5, 11.0, 11.5, 12.0, 12.5, 13.0, 13.5, 14.0, 14.5, 15.0], time_unit='min', reaction_volume=None, volume_unit=None, init_conditions=[InitCondition(id='initcondition23370', species='b0', init_conc=100.0, conc_unit='mM', was_blanked=True), InitCondition(id='initcondition23484', species='s0', init_conc=5.0, conc_unit='mM', was_blanked=False), InitCondition(id='initcondition23598', species='p0', init_conc=4.0, conc_unit='nM', was_blanked=True)], x_position=1, y_position=2, wavelength=340),\n",
       " Well(id='D2', absorption=[0.08928977792131557, 0.08876732571538556, 0.08803694690943256, 0.08834525527192658, 0.08823467220259057, 0.08870969462571557, 0.08771576402274855, 0.08750632586604457, 0.08628812525857657, 0.08622912024573157, 0.08558852431741956, 0.08681896334587358, 0.08606633067903957, 0.08599658239699856, 0.08612077614684457, 0.08543843274833057, 0.08600168555001755, 0.08608958259586758, 0.08599658239699856, 0.08598467527314357, 0.08505296349436656, 0.08475885593136356, 0.08485837773341257, 0.08483179865651758, 0.08637721532227757, 0.08585485210837857, 0.08514236641335657, 0.08511859928450258, 0.08641921315518356, 0.08599998449234855, 0.08525839130891458], time=[0.0, 0.5, 1.0, 1.5, 2.0, 2.5, 3.0, 3.5, 4.0, 4.5, 5.0, 5.5, 6.0, 6.5, 7.0, 7.5, 8.0, 8.5, 9.0, 9.5, 10.0, 10.5, 11.0, 11.5, 12.0, 12.5, 13.0, 13.5, 14.0, 14.5, 15.0], time_unit='min', reaction_volume=None, volume_unit=None, init_conditions=[InitCondition(id='initcondition23390', species='b0', init_conc=100.0, conc_unit='mM', was_blanked=True), InitCondition(id='initcondition23502', species='s0', init_conc=5.0, conc_unit='mM', was_blanked=False)], x_position=1, y_position=3, wavelength=340),\n",
       " Well(id='E2', absorption=[0.08400639536747656, 0.08432710501431656, 0.08417857797112857, 0.08407074415499957, 0.08449037393703657, 0.08474132888507058, 0.08451806229784256, 0.08393697710411158, 0.08449941484034557, 0.08486516414138956, 0.08456948822316757, 0.08433727222074355, 0.08356467825177458, 0.08439093642041856, 0.08474811346424158, 0.08411082585019555, 0.08470853824647856, 0.08456383672475457, 0.08381961211149658, 0.08374740326217955, 0.08358948824851456, 0.08401937724985256, 0.08360020209436755, 0.08326819571342156, 0.08418874170096458, 0.08377955728260958, 0.08402671500719958, 0.08382751068282857, 0.08472436790083057, 0.08459605125086556, 0.08331440210972157], time=[0.0, 0.5, 1.0, 1.5, 2.0, 2.5, 3.0, 3.5, 4.0, 4.5, 5.0, 5.5, 6.0, 6.5, 7.0, 7.5, 8.0, 8.5, 9.0, 9.5, 10.0, 10.5, 11.0, 11.5, 12.0, 12.5, 13.0, 13.5, 14.0, 14.5, 15.0], time_unit='min', reaction_volume=None, volume_unit=None, init_conditions=[InitCondition(id='initcondition23410', species='b0', init_conc=100.0, conc_unit='mM', was_blanked=True), InitCondition(id='initcondition23520', species='s0', init_conc=5.0, conc_unit='mM', was_blanked=False)], x_position=1, y_position=4, wavelength=340),\n",
       " Well(id='F2', absorption=[0.07937638169038558, 0.07944563326293358, 0.07946015515450255, 0.07970710163413558, 0.07982503738352656, 0.08017512064632756, 0.08008673434485256, 0.07966351263900956, 0.07997040511552855, 0.08001738047651658, 0.08031333021906356, 0.08016225316725956, 0.07933282587445156, 0.07988429681485656, 0.07980100048544655, 0.07969033611826457, 0.08001793973761057, 0.08018239373792357, 0.07971939675712858, 0.07957355431486557, 0.07923846992279857, 0.07914971587602657, 0.07909669538344657, 0.07896779886917657, 0.07982615541116456, 0.07949534482877357, 0.07950651675023457, 0.07935069439870457, 0.08033123913139456, 0.07989659695544057, 0.07916813503570358], time=[0.0, 0.5, 1.0, 1.5, 2.0, 2.5, 3.0, 3.5, 4.0, 4.5, 5.0, 5.5, 6.0, 6.5, 7.0, 7.5, 8.0, 8.5, 9.0, 9.5, 10.0, 10.5, 11.0, 11.5, 12.0, 12.5, 13.0, 13.5, 14.0, 14.5, 15.0], time_unit='min', reaction_volume=None, volume_unit=None, init_conditions=[InitCondition(id='initcondition23430', species='b0', init_conc=100.0, conc_unit='mM', was_blanked=True), InitCondition(id='initcondition23538', species='s0', init_conc=5.0, conc_unit='mM', was_blanked=False)], x_position=1, y_position=5, wavelength=340)]"
      ]
     },
     "execution_count": 49,
     "metadata": {},
     "output_type": "execute_result"
    }
   ],
   "source": [
    "plate.get_wells(wavelength=340, columns=[1, 2])"
   ]
  },
  {
   "cell_type": "code",
   "execution_count": null,
   "metadata": {},
   "outputs": [
    {
     "data": {
      "text/plain": [
       "[Well(id='A2', absorption=[0.03167504036421813, 0.027808682337446114, 0.02309070668715614, 0.023191015663831124, 0.022758560158466126, 0.025149521931318128, 0.024695349163787114, 0.025456279935605133, 0.02304579054539914, 0.02426386178330213, 0.021842169944226122, 0.02330673823121314, 0.021268874570941135, 0.021303189680853138, 0.021515881282272123, 0.02259258210465913, 0.021269487316985122, 0.021771003394554136, 0.02127193830980713, 0.021235787568304118, 0.020955874381442127, 0.02051340395088412, 0.02036540245587813, 0.02062352042611114, 0.02149564964451013, 0.021293997867690137, 0.021061203468522124, 0.020990164768060135, 0.021598043678254117, 0.023151012374274124, 0.02069327530419514], time=[0.0, 0.5, 1.0, 1.5, 2.0, 2.5, 3.0, 3.5, 4.0, 4.5, 5.0, 5.5, 6.0, 6.5, 7.0, 7.5, 8.0, 8.5, 9.0, 9.5, 10.0, 10.5, 11.0, 11.5, 12.0, 12.5, 13.0, 13.5, 14.0, 14.5, 15.0], time_unit='min', reaction_volume=None, volume_unit=None, init_conditions=[InitCondition(id='initcondition23330', species='b0', init_conc=100.0, conc_unit='mM', was_blanked=True), InitCondition(id='initcondition23448', species='s0', init_conc=5.0, conc_unit='mM', was_blanked=False), InitCondition(id='initcondition23558', species='p0', init_conc=4.0, conc_unit='nM', was_blanked=True)], x_position=1, y_position=0, wavelength=340),\n",
       " Well(id='B2', absorption=[0.033298547172047124, 0.026069207619745113, 0.026637092005616134, 0.027424430146522114, 0.037539256343094116, 0.03661212292708012, 0.03533302170898313, 0.034068404801953125, 0.032059304555752136, 0.03202161655967113, 0.030045074796682128, 0.030854907927437128, 0.029685702532195116, 0.028657978118336133, 0.035036919157030125, 0.029071396263802132, 0.02952829740536013, 0.029008391613909126, 0.029279813389758116, 0.029515807378184114, 0.02850966754525512, 0.02853521323494114, 0.02841933508512713, 0.02878576523365413, 0.028729658943093137, 0.028889892779893137, 0.029032719058808124, 0.02907202011791714, 0.029928168053521123, 0.030327781554894115, 0.029054552541458126], time=[0.0, 0.5, 1.0, 1.5, 2.0, 2.5, 3.0, 3.5, 4.0, 4.5, 5.0, 5.5, 6.0, 6.5, 7.0, 7.5, 8.0, 8.5, 9.0, 9.5, 10.0, 10.5, 11.0, 11.5, 12.0, 12.5, 13.0, 13.5, 14.0, 14.5, 15.0], time_unit='min', reaction_volume=None, volume_unit=None, init_conditions=[InitCondition(id='initcondition23350', species='b0', init_conc=100.0, conc_unit='mM', was_blanked=True), InitCondition(id='initcondition23466', species='s0', init_conc=5.0, conc_unit='mM', was_blanked=False), InitCondition(id='initcondition23578', species='p0', init_conc=4.0, conc_unit='nM', was_blanked=True)], x_position=1, y_position=1, wavelength=340),\n",
       " Well(id='C2', absorption=[0.06304763847272112, 0.05701079320615314, 0.05372070290740112, 0.055716041681811115, 0.05907080466128513, 0.05876742511731413, 0.05871064852832912, 0.056992165008141124, 0.05854770754342513, 0.05709130282173512, 0.05660647478111512, 0.05622444728063612, 0.05553300213323613, 0.055094949039443133, 0.05663505730379713, 0.055253286381929126, 0.05613214670028914, 0.05568353989734513, 0.05730695580496513, 0.05714387500524713, 0.05640445663531414, 0.054896942986855116, 0.055611248731780125, 0.05607173032503414, 0.058051248158351124, 0.05713721994666514, 0.05731028462226513, 0.057554023366321136, 0.058263375066787124, 0.058479610984614114, 0.058040577843586114], time=[0.0, 0.5, 1.0, 1.5, 2.0, 2.5, 3.0, 3.5, 4.0, 4.5, 5.0, 5.5, 6.0, 6.5, 7.0, 7.5, 8.0, 8.5, 9.0, 9.5, 10.0, 10.5, 11.0, 11.5, 12.0, 12.5, 13.0, 13.5, 14.0, 14.5, 15.0], time_unit='min', reaction_volume=None, volume_unit=None, init_conditions=[InitCondition(id='initcondition23370', species='b0', init_conc=100.0, conc_unit='mM', was_blanked=True), InitCondition(id='initcondition23484', species='s0', init_conc=5.0, conc_unit='mM', was_blanked=False), InitCondition(id='initcondition23598', species='p0', init_conc=4.0, conc_unit='nM', was_blanked=True)], x_position=1, y_position=2, wavelength=340),\n",
       " Well(id='D2', absorption=[0.08928977792131557, 0.08876732571538556, 0.08803694690943256, 0.08834525527192658, 0.08823467220259057, 0.08870969462571557, 0.08771576402274855, 0.08750632586604457, 0.08628812525857657, 0.08622912024573157, 0.08558852431741956, 0.08681896334587358, 0.08606633067903957, 0.08599658239699856, 0.08612077614684457, 0.08543843274833057, 0.08600168555001755, 0.08608958259586758, 0.08599658239699856, 0.08598467527314357, 0.08505296349436656, 0.08475885593136356, 0.08485837773341257, 0.08483179865651758, 0.08637721532227757, 0.08585485210837857, 0.08514236641335657, 0.08511859928450258, 0.08641921315518356, 0.08599998449234855, 0.08525839130891458], time=[0.0, 0.5, 1.0, 1.5, 2.0, 2.5, 3.0, 3.5, 4.0, 4.5, 5.0, 5.5, 6.0, 6.5, 7.0, 7.5, 8.0, 8.5, 9.0, 9.5, 10.0, 10.5, 11.0, 11.5, 12.0, 12.5, 13.0, 13.5, 14.0, 14.5, 15.0], time_unit='min', reaction_volume=None, volume_unit=None, init_conditions=[InitCondition(id='initcondition23390', species='b0', init_conc=100.0, conc_unit='mM', was_blanked=True), InitCondition(id='initcondition23502', species='s0', init_conc=5.0, conc_unit='mM', was_blanked=False)], x_position=1, y_position=3, wavelength=340),\n",
       " Well(id='E2', absorption=[0.08400639536747656, 0.08432710501431656, 0.08417857797112857, 0.08407074415499957, 0.08449037393703657, 0.08474132888507058, 0.08451806229784256, 0.08393697710411158, 0.08449941484034557, 0.08486516414138956, 0.08456948822316757, 0.08433727222074355, 0.08356467825177458, 0.08439093642041856, 0.08474811346424158, 0.08411082585019555, 0.08470853824647856, 0.08456383672475457, 0.08381961211149658, 0.08374740326217955, 0.08358948824851456, 0.08401937724985256, 0.08360020209436755, 0.08326819571342156, 0.08418874170096458, 0.08377955728260958, 0.08402671500719958, 0.08382751068282857, 0.08472436790083057, 0.08459605125086556, 0.08331440210972157], time=[0.0, 0.5, 1.0, 1.5, 2.0, 2.5, 3.0, 3.5, 4.0, 4.5, 5.0, 5.5, 6.0, 6.5, 7.0, 7.5, 8.0, 8.5, 9.0, 9.5, 10.0, 10.5, 11.0, 11.5, 12.0, 12.5, 13.0, 13.5, 14.0, 14.5, 15.0], time_unit='min', reaction_volume=None, volume_unit=None, init_conditions=[InitCondition(id='initcondition23410', species='b0', init_conc=100.0, conc_unit='mM', was_blanked=True), InitCondition(id='initcondition23520', species='s0', init_conc=5.0, conc_unit='mM', was_blanked=False)], x_position=1, y_position=4, wavelength=340),\n",
       " Well(id='F2', absorption=[0.07937638169038558, 0.07944563326293358, 0.07946015515450255, 0.07970710163413558, 0.07982503738352656, 0.08017512064632756, 0.08008673434485256, 0.07966351263900956, 0.07997040511552855, 0.08001738047651658, 0.08031333021906356, 0.08016225316725956, 0.07933282587445156, 0.07988429681485656, 0.07980100048544655, 0.07969033611826457, 0.08001793973761057, 0.08018239373792357, 0.07971939675712858, 0.07957355431486557, 0.07923846992279857, 0.07914971587602657, 0.07909669538344657, 0.07896779886917657, 0.07982615541116456, 0.07949534482877357, 0.07950651675023457, 0.07935069439870457, 0.08033123913139456, 0.07989659695544057, 0.07916813503570358], time=[0.0, 0.5, 1.0, 1.5, 2.0, 2.5, 3.0, 3.5, 4.0, 4.5, 5.0, 5.5, 6.0, 6.5, 7.0, 7.5, 8.0, 8.5, 9.0, 9.5, 10.0, 10.5, 11.0, 11.5, 12.0, 12.5, 13.0, 13.5, 14.0, 14.5, 15.0], time_unit='min', reaction_volume=None, volume_unit=None, init_conditions=[InitCondition(id='initcondition23430', species='b0', init_conc=100.0, conc_unit='mM', was_blanked=True), InitCondition(id='initcondition23538', species='s0', init_conc=5.0, conc_unit='mM', was_blanked=False)], x_position=1, y_position=5, wavelength=340)]"
      ]
     },
     "execution_count": 44,
     "metadata": {},
     "output_type": "execute_result"
    }
   ],
   "source": [
    "plate._get_wells_by_column_id(2, 340)"
   ]
  }
 ],
 "metadata": {
  "kernelspec": {
   "display_name": "sdrdm_example",
   "language": "python",
   "name": "python3"
  },
  "language_info": {
   "codemirror_mode": {
    "name": "ipython",
    "version": 3
   },
   "file_extension": ".py",
   "mimetype": "text/x-python",
   "name": "python",
   "nbconvert_exporter": "python",
   "pygments_lexer": "ipython3",
   "version": "3.11.3"
  },
  "orig_nbformat": 4
 },
 "nbformat": 4,
 "nbformat_minor": 2
}
