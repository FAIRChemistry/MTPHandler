{
 "cells": [
  {
   "cell_type": "code",
   "execution_count": 1,
   "metadata": {},
   "outputs": [],
   "source": [
    "import numpy as np\n",
    "\n",
    "%reload_ext autoreload\n",
    "%autoreload 2\n",
    "\n",
    "from MTPHandler import Plate"
   ]
  },
  {
   "cell_type": "code",
   "execution_count": 2,
   "metadata": {},
   "outputs": [],
   "source": [
    "path = \"/Users/max/Documents/enzymeml/alaric/EnzymeML_SLAC_5xConcentration_pH2.0-3.5/ABTS_EnzymeML_340nm_420nm_5x_35deg_pH3.5.txt\"\n",
    "time = np.linspace(0, 15, 31)\n",
    "time_unit = \"min\"\n",
    "\n",
    "# Load plate data\n",
    "plate = Plate.from_file(path, time, time_unit)\n",
    "\n",
    "# Define species\n",
    "buffer = plate.add_reactant(id=\"s1\", name=\"buffer\", constant=True)\n",
    "\n",
    "abts = plate.add_reactant(id=\"s0\", name=\"ABTS\", constant=False)\n",
    "\n",
    "abts_radical = plate.add_reactant(\n",
    "    id=\"s2\", name=\"ABTS_radical\", constant=False,)\n",
    "\n",
    "slac = plate.add_protein(id=\"p0\", name=\"SLAC\",\n",
    "                         constant=True, sequence=\"MSSKSKPKDVKV\")"
   ]
  },
  {
   "cell_type": "code",
   "execution_count": 26,
   "metadata": {},
   "outputs": [],
   "source": [
    "# Define well conditions for each species\n",
    "# Define buffer concentration\n",
    "plate.assign_species(\n",
    "    to=\"all\",\n",
    "    species=buffer,\n",
    "    init_conc=100,\n",
    "    conc_unit=\"umol / l\"\n",
    ")\n",
    "\n",
    "# Define substrate concentrations\n",
    "plate.assign_species(\n",
    "    to=\"rows\",\n",
    "    species=abts,\n",
    "    init_conc=[0, 5, 10, 15, 25, 50, 75, 100, 150, 200],\n",
    "    conc_unit=\"umol / l\",\n",
    "    ids=[]\n",
    ")\n",
    "\n",
    "# Define enzyme concentrations\n",
    "plate.assign_species(\n",
    "    to=\"rows\",\n",
    "    ids=[\"A\", \"B\", \"C\"],\n",
    "    species=slac,\n",
    "    init_conc=4,\n",
    "    conc_unit=\"umol / l\"\n",
    ")"
   ]
  },
  {
   "cell_type": "code",
   "execution_count": 24,
   "metadata": {},
   "outputs": [
    {
     "name": "stdout",
     "output_type": "stream",
     "text": [
      "Blanked 60 wells containing buffer.\n",
      "Blanked 30 wells containing SLAC.\n"
     ]
    }
   ],
   "source": [
    "plate.blank_species(buffer, 340)\n",
    "plate.blank_species(slac, 340)"
   ]
  },
  {
   "cell_type": "markdown",
   "metadata": {},
   "source": []
  },
  {
   "cell_type": "markdown",
   "metadata": {},
   "source": [
    "### Create `EnzymeMLDocument` based on a `Plate`"
   ]
  },
  {
   "cell_type": "code",
   "execution_count": 25,
   "metadata": {},
   "outputs": [
    {
     "ename": "NameError",
     "evalue": "name 'create_enzymeml' is not defined",
     "output_type": "error",
     "traceback": [
      "\u001b[0;31m---------------------------------------------------------------------------\u001b[0m",
      "\u001b[0;31mNameError\u001b[0m                                 Traceback (most recent call last)",
      "\u001b[1;32m/Users/max/Documents/GitHub/MTPHandler/test_to_enzymeml.ipynb Cell 9\u001b[0m line \u001b[0;36m1\n\u001b[0;32m----> <a href='vscode-notebook-cell:/Users/max/Documents/GitHub/MTPHandler/test_to_enzymeml.ipynb#X21sZmlsZQ%3D%3D?line=0'>1</a>\u001b[0m enzymeml_document \u001b[39m=\u001b[39m create_enzymeml(\n\u001b[1;32m      <a href='vscode-notebook-cell:/Users/max/Documents/GitHub/MTPHandler/test_to_enzymeml.ipynb#X21sZmlsZQ%3D%3D?line=1'>2</a>\u001b[0m     name\u001b[39m=\u001b[39m\u001b[39m\"\u001b[39m\u001b[39mSLAC reaction\u001b[39m\u001b[39m\"\u001b[39m,\n\u001b[1;32m      <a href='vscode-notebook-cell:/Users/max/Documents/GitHub/MTPHandler/test_to_enzymeml.ipynb#X21sZmlsZQ%3D%3D?line=2'>3</a>\u001b[0m     plate\u001b[39m=\u001b[39mplate,\n\u001b[1;32m      <a href='vscode-notebook-cell:/Users/max/Documents/GitHub/MTPHandler/test_to_enzymeml.ipynb#X21sZmlsZQ%3D%3D?line=3'>4</a>\u001b[0m     reactant\u001b[39m=\u001b[39mabts,\n\u001b[1;32m      <a href='vscode-notebook-cell:/Users/max/Documents/GitHub/MTPHandler/test_to_enzymeml.ipynb#X21sZmlsZQ%3D%3D?line=4'>5</a>\u001b[0m     protein\u001b[39m=\u001b[39mslac,\n\u001b[1;32m      <a href='vscode-notebook-cell:/Users/max/Documents/GitHub/MTPHandler/test_to_enzymeml.ipynb#X21sZmlsZQ%3D%3D?line=5'>6</a>\u001b[0m     wavelength\u001b[39m=\u001b[39m\u001b[39m340\u001b[39m,\n\u001b[1;32m      <a href='vscode-notebook-cell:/Users/max/Documents/GitHub/MTPHandler/test_to_enzymeml.ipynb#X21sZmlsZQ%3D%3D?line=6'>7</a>\u001b[0m )\n\u001b[1;32m      <a href='vscode-notebook-cell:/Users/max/Documents/GitHub/MTPHandler/test_to_enzymeml.ipynb#X21sZmlsZQ%3D%3D?line=8'>9</a>\u001b[0m \u001b[39mprint\u001b[39m(enzymeml_document)\n",
      "\u001b[0;31mNameError\u001b[0m: name 'create_enzymeml' is not defined"
     ]
    }
   ],
   "source": [
    "enzymeml_document = create_enzymeml(\n",
    "    name=\"SLAC reaction\",\n",
    "    plate=plate,\n",
    "    reactant=abts,\n",
    "    protein=slac,\n",
    "    wavelength=340,\n",
    ")\n",
    "\n",
    "print(enzymeml_document)"
   ]
  },
  {
   "cell_type": "code",
   "execution_count": null,
   "metadata": {},
   "outputs": [],
   "source": [
    "a = None\n",
    "\n",
    "if not a:\n",
    "    print(\"a is None\")"
   ]
  }
 ],
 "metadata": {
  "kernelspec": {
   "display_name": "sdrdm_example",
   "language": "python",
   "name": "python3"
  },
  "language_info": {
   "codemirror_mode": {
    "name": "ipython",
    "version": 3
   },
   "file_extension": ".py",
   "mimetype": "text/x-python",
   "name": "python",
   "nbconvert_exporter": "python",
   "pygments_lexer": "ipython3",
   "version": "3.11.3"
  },
  "orig_nbformat": 4
 },
 "nbformat": 4,
 "nbformat_minor": 2
}
