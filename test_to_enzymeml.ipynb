{
 "cells": [
  {
   "cell_type": "code",
   "execution_count": 1,
   "metadata": {},
   "outputs": [
    {
     "ename": "ImportError",
     "evalue": "cannot import name 'calibration' from 'CaliPytion.core' (/Users/max/code/CaliPytion/CaliPytion/core/__init__.py)",
     "output_type": "error",
     "traceback": [
      "\u001b[0;31m---------------------------------------------------------------------------\u001b[0m",
      "\u001b[0;31mImportError\u001b[0m                               Traceback (most recent call last)",
      "\u001b[1;32m/Users/max/Documents/GitHub/MTPHandler/test_to_enzymeml.ipynb Cell 1\u001b[0m line \u001b[0;36m6\n\u001b[1;32m      <a href='vscode-notebook-cell:/Users/max/Documents/GitHub/MTPHandler/test_to_enzymeml.ipynb#W0sZmlsZQ%3D%3D?line=2'>3</a>\u001b[0m get_ipython()\u001b[39m.\u001b[39mrun_line_magic(\u001b[39m'\u001b[39m\u001b[39mreload_ext\u001b[39m\u001b[39m'\u001b[39m, \u001b[39m'\u001b[39m\u001b[39mautoreload\u001b[39m\u001b[39m'\u001b[39m)\n\u001b[1;32m      <a href='vscode-notebook-cell:/Users/max/Documents/GitHub/MTPHandler/test_to_enzymeml.ipynb#W0sZmlsZQ%3D%3D?line=3'>4</a>\u001b[0m get_ipython()\u001b[39m.\u001b[39mrun_line_magic(\u001b[39m'\u001b[39m\u001b[39mautoreload\u001b[39m\u001b[39m'\u001b[39m, \u001b[39m'\u001b[39m\u001b[39m2\u001b[39m\u001b[39m'\u001b[39m)\n\u001b[0;32m----> <a href='vscode-notebook-cell:/Users/max/Documents/GitHub/MTPHandler/test_to_enzymeml.ipynb#W0sZmlsZQ%3D%3D?line=5'>6</a>\u001b[0m \u001b[39mfrom\u001b[39;00m \u001b[39mMTPHandler\u001b[39;00m \u001b[39mimport\u001b[39;00m Plate, create_enzymeml\n",
      "File \u001b[0;32m~/Documents/GitHub/MTPHandler/MTPHandler/__init__.py:2\u001b[0m\n\u001b[1;32m      1\u001b[0m \u001b[39mfrom\u001b[39;00m \u001b[39m.\u001b[39;00m\u001b[39mmodified\u001b[39;00m \u001b[39mimport\u001b[39;00m Plate\n\u001b[0;32m----> 2\u001b[0m \u001b[39mfrom\u001b[39;00m \u001b[39m.\u001b[39;00m\u001b[39mioutils\u001b[39;00m \u001b[39mimport\u001b[39;00m create_enzymeml, create_standard_curve\n\u001b[1;32m      4\u001b[0m __URL__ \u001b[39m=\u001b[39m \u001b[39m\"\u001b[39m\u001b[39m\"\u001b[39m\n\u001b[1;32m      5\u001b[0m __COMMIT__ \u001b[39m=\u001b[39m \u001b[39m\"\u001b[39m\u001b[39m\"\u001b[39m\n",
      "File \u001b[0;32m~/Documents/GitHub/MTPHandler/MTPHandler/ioutils/__init__.py:2\u001b[0m\n\u001b[1;32m      1\u001b[0m \u001b[39mfrom\u001b[39;00m \u001b[39m.\u001b[39;00m\u001b[39mcreateenzymeml\u001b[39;00m \u001b[39mimport\u001b[39;00m create_enzymeml\n\u001b[0;32m----> 2\u001b[0m \u001b[39mfrom\u001b[39;00m \u001b[39m.\u001b[39;00m\u001b[39mstandardmapper\u001b[39;00m \u001b[39mimport\u001b[39;00m create_standard_curve\n",
      "File \u001b[0;32m~/Documents/GitHub/MTPHandler/MTPHandler/ioutils/standardmapper.py:4\u001b[0m\n\u001b[1;32m      1\u001b[0m \u001b[39mfrom\u001b[39;00m \u001b[39mtyping\u001b[39;00m \u001b[39mimport\u001b[39;00m List\n\u001b[1;32m      2\u001b[0m \u001b[39mfrom\u001b[39;00m \u001b[39mcollections\u001b[39;00m \u001b[39mimport\u001b[39;00m defaultdict\n\u001b[0;32m----> 4\u001b[0m \u001b[39mfrom\u001b[39;00m \u001b[39mCaliPytion\u001b[39;00m\u001b[39m.\u001b[39;00m\u001b[39mtools\u001b[39;00m\u001b[39m.\u001b[39;00m\u001b[39mstandardcurve\u001b[39;00m \u001b[39mimport\u001b[39;00m StandardCurve\n\u001b[1;32m      5\u001b[0m \u001b[39mfrom\u001b[39;00m \u001b[39mCaliPytion\u001b[39;00m\u001b[39m.\u001b[39;00m\u001b[39mcore\u001b[39;00m\u001b[39m.\u001b[39;00m\u001b[39manalyte\u001b[39;00m \u001b[39mimport\u001b[39;00m Analyte\n\u001b[1;32m      6\u001b[0m \u001b[39mfrom\u001b[39;00m \u001b[39mCaliPytion\u001b[39;00m\u001b[39m.\u001b[39;00m\u001b[39mcore\u001b[39;00m\u001b[39m.\u001b[39;00m\u001b[39mstandard\u001b[39;00m \u001b[39mimport\u001b[39;00m Standard\n",
      "File \u001b[0;32m~/code/CaliPytion/CaliPytion/tools/__init__.py:2\u001b[0m\n\u001b[1;32m      1\u001b[0m \u001b[39mfrom\u001b[39;00m \u001b[39m.\u001b[39;00m\u001b[39mcalibrationmodel\u001b[39;00m \u001b[39mimport\u001b[39;00m CalibrationModel\n\u001b[0;32m----> 2\u001b[0m \u001b[39mfrom\u001b[39;00m \u001b[39m.\u001b[39;00m\u001b[39mstandardcurve\u001b[39;00m \u001b[39mimport\u001b[39;00m StandardCurve\n",
      "File \u001b[0;32m~/code/CaliPytion/CaliPytion/tools/standardcurve.py:11\u001b[0m\n\u001b[1;32m      9\u001b[0m \u001b[39mfrom\u001b[39;00m \u001b[39mplotly\u001b[39;00m\u001b[39m.\u001b[39;00m\u001b[39msubplots\u001b[39;00m \u001b[39mimport\u001b[39;00m make_subplots\n\u001b[1;32m     10\u001b[0m \u001b[39mfrom\u001b[39;00m \u001b[39mpyenzyme\u001b[39;00m \u001b[39mimport\u001b[39;00m EnzymeMLDocument\n\u001b[0;32m---> 11\u001b[0m \u001b[39mfrom\u001b[39;00m \u001b[39mCaliPytion\u001b[39;00m\u001b[39m.\u001b[39;00m\u001b[39mcore\u001b[39;00m \u001b[39mimport\u001b[39;00m calibration\n\u001b[1;32m     12\u001b[0m \u001b[39mfrom\u001b[39;00m \u001b[39mCaliPytion\u001b[39;00m\u001b[39m.\u001b[39;00m\u001b[39mcore\u001b[39;00m\u001b[39m.\u001b[39;00m\u001b[39manalyte\u001b[39;00m \u001b[39mimport\u001b[39;00m Analyte\n\u001b[1;32m     14\u001b[0m \u001b[39mfrom\u001b[39;00m \u001b[39mCaliPytion\u001b[39;00m\u001b[39m.\u001b[39;00m\u001b[39mcore\u001b[39;00m\u001b[39m.\u001b[39;00m\u001b[39mcalibration\u001b[39;00m \u001b[39mimport\u001b[39;00m Calibration\n",
      "\u001b[0;31mImportError\u001b[0m: cannot import name 'calibration' from 'CaliPytion.core' (/Users/max/code/CaliPytion/CaliPytion/core/__init__.py)"
     ]
    }
   ],
   "source": [
    "import numpy as np\n",
    "\n",
    "%reload_ext autoreload\n",
    "%autoreload 2\n",
    "\n",
    "from MTPHandler import Plate, create_enzymeml"
   ]
  },
  {
   "cell_type": "code",
   "execution_count": null,
   "metadata": {},
   "outputs": [],
   "source": [
    "path = \"/Users/max/Documents/enzymeml/alaric/EnzymeML_SLAC_5xConcentration_pH2.0-3.5/ABTS_EnzymeML_340nm_420nm_5x_35deg_pH3.5.txt\"\n",
    "time = np.linspace(0, 15, 31)\n",
    "time_unit = \"min\"\n",
    "\n",
    "# Load plate data\n",
    "plate = Plate.from_file(path, time, time_unit)\n",
    "\n",
    "# Define species\n",
    "buffer = plate.add_reactant(id=\"s1\", name=\"buffer\", constant=True)\n",
    "abts = plate.add_reactant(id=\"s0\", name=\"ABTS\", constant=False,\n",
    "                          inchi=\"InChI=1S/C18H18N4O6S4/c1-3-21-13-7-5-11(31(23,24)25)9-15(13)29-17(21)19-20-18-22(4-2)14-8-6-12(32(26,27)28)10-16(14)30-18/h5-10H,3-4H2,1-2H3,(H,23,24,25)(H,26,27,28)/b19-17-,20-18+\")\n",
    "slac = plate.add_protein(id=\"p0\", name=\"SLAC\",\n",
    "                         constant=True, sequence=\"MSSKSKPKDVKV\")\n",
    "\n",
    "# Define well conditions for each species\n",
    "# Define buffer concentration\n",
    "plate.assign_species_conditions_to_rows(\n",
    "    row_ids=[\"A\", \"B\", \"C\", \"D\", \"E\", \"F\"],\n",
    "    species=buffer,\n",
    "    init_concs=100,\n",
    "    conc_unit=\"umol / l\"\n",
    ")\n",
    "\n",
    "# Define substrate concentrations\n",
    "plate.assign_species_conditions_to_rows(\n",
    "    row_ids=[\"A\", \"B\", \"C\", \"D\", \"E\", \"F\"],\n",
    "    species=abts,\n",
    "    init_concs=[0, 5, 10, 15, 25, 50, 75, 100, 150, 200],\n",
    "    conc_unit=\"umol / l\"\n",
    ")\n",
    "\n",
    "# Define enzyme concentrations\n",
    "plate.assign_species_conditions_to_rows(\n",
    "    row_ids=[\"A\", \"B\", \"C\"],\n",
    "    species=slac,\n",
    "    init_concs=4,\n",
    "    conc_unit=\"umol / l\"\n",
    ")\n",
    "\n",
    "# Blank data\n",
    "plate.blank_species(buffer, 340)\n",
    "plate.blank_species(slac, 340)"
   ]
  },
  {
   "cell_type": "markdown",
   "metadata": {},
   "source": []
  },
  {
   "cell_type": "markdown",
   "metadata": {},
   "source": [
    "### Create `EnzymeMLDocument` based on a `Plate`"
   ]
  },
  {
   "cell_type": "code",
   "execution_count": 2,
   "metadata": {},
   "outputs": [
    {
     "ename": "NameError",
     "evalue": "name 'create_enzymeml' is not defined",
     "output_type": "error",
     "traceback": [
      "\u001b[0;31m---------------------------------------------------------------------------\u001b[0m",
      "\u001b[0;31mNameError\u001b[0m                                 Traceback (most recent call last)",
      "\u001b[1;32m/Users/max/Documents/GitHub/MTPHandler/test_to_enzymeml.ipynb Cell 5\u001b[0m line \u001b[0;36m1\n\u001b[0;32m----> <a href='vscode-notebook-cell:/Users/max/Documents/GitHub/MTPHandler/test_to_enzymeml.ipynb#W4sZmlsZQ%3D%3D?line=0'>1</a>\u001b[0m enzymeml_document \u001b[39m=\u001b[39m create_enzymeml(\n\u001b[1;32m      <a href='vscode-notebook-cell:/Users/max/Documents/GitHub/MTPHandler/test_to_enzymeml.ipynb#W4sZmlsZQ%3D%3D?line=1'>2</a>\u001b[0m     name\u001b[39m=\u001b[39m\u001b[39m\"\u001b[39m\u001b[39mSLAC reaction\u001b[39m\u001b[39m\"\u001b[39m,\n\u001b[1;32m      <a href='vscode-notebook-cell:/Users/max/Documents/GitHub/MTPHandler/test_to_enzymeml.ipynb#W4sZmlsZQ%3D%3D?line=2'>3</a>\u001b[0m     plate\u001b[39m=\u001b[39mplate,\n\u001b[1;32m      <a href='vscode-notebook-cell:/Users/max/Documents/GitHub/MTPHandler/test_to_enzymeml.ipynb#W4sZmlsZQ%3D%3D?line=3'>4</a>\u001b[0m     reactant\u001b[39m=\u001b[39mabts,\n\u001b[1;32m      <a href='vscode-notebook-cell:/Users/max/Documents/GitHub/MTPHandler/test_to_enzymeml.ipynb#W4sZmlsZQ%3D%3D?line=4'>5</a>\u001b[0m     protein\u001b[39m=\u001b[39mslac,\n\u001b[1;32m      <a href='vscode-notebook-cell:/Users/max/Documents/GitHub/MTPHandler/test_to_enzymeml.ipynb#W4sZmlsZQ%3D%3D?line=5'>6</a>\u001b[0m     wavelength\u001b[39m=\u001b[39m\u001b[39m340\u001b[39m,\n\u001b[1;32m      <a href='vscode-notebook-cell:/Users/max/Documents/GitHub/MTPHandler/test_to_enzymeml.ipynb#W4sZmlsZQ%3D%3D?line=6'>7</a>\u001b[0m )\n\u001b[1;32m      <a href='vscode-notebook-cell:/Users/max/Documents/GitHub/MTPHandler/test_to_enzymeml.ipynb#W4sZmlsZQ%3D%3D?line=8'>9</a>\u001b[0m \u001b[39mprint\u001b[39m(enzymeml_document)\n",
      "\u001b[0;31mNameError\u001b[0m: name 'create_enzymeml' is not defined"
     ]
    }
   ],
   "source": [
    "enzymeml_document = create_enzymeml(\n",
    "    name=\"SLAC reaction\",\n",
    "    plate=plate,\n",
    "    reactant=abts,\n",
    "    protein=slac,\n",
    "    wavelength=340,\n",
    ")\n",
    "\n",
    "print(enzymeml_document)"
   ]
  },
  {
   "cell_type": "code",
   "execution_count": null,
   "metadata": {},
   "outputs": [],
   "source": []
  }
 ],
 "metadata": {
  "kernelspec": {
   "display_name": "sdrdm_example",
   "language": "python",
   "name": "python3"
  },
  "language_info": {
   "codemirror_mode": {
    "name": "ipython",
    "version": 3
   },
   "file_extension": ".py",
   "mimetype": "text/x-python",
   "name": "python",
   "nbconvert_exporter": "python",
   "pygments_lexer": "ipython3",
   "version": "3.11.3"
  },
  "orig_nbformat": 4
 },
 "nbformat": 4,
 "nbformat_minor": 2
}
